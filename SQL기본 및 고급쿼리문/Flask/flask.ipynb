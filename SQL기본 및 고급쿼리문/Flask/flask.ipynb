{
 "cells": [
  {
   "cell_type": "code",
   "execution_count": 2,
   "id": "080dc7d9",
   "metadata": {},
   "outputs": [
    {
     "name": "stdout",
     "output_type": "stream",
     "text": [
      " * Serving Flask app '__main__'\n",
      " * Debug mode: off\n"
     ]
    },
    {
     "name": "stderr",
     "output_type": "stream",
     "text": [
      "WARNING: This is a development server. Do not use it in a production deployment. Use a production WSGI server instead.\n",
      " * Running on http://127.0.0.1:5000\n",
      "Press CTRL+C to quit\n",
      "127.0.0.1 - - [09/May/2025 14:13:21] \"GET / HTTP/1.1\" 200 -\n",
      "127.0.0.1 - - [09/May/2025 14:13:21] \"GET /favicon.ico HTTP/1.1\" 404 -\n"
     ]
    }
   ],
   "source": [
    "from flask import Flask\n",
    "app = Flask(__name__)\n",
    "\n",
    "@app.route('/')\n",
    "def hello_world():\n",
    "    return 'Hello, World!' \n",
    "\n",
    "if __name__ == '__main__':\n",
    "    app.run()"
   ]
  },
  {
   "cell_type": "code",
   "execution_count": null,
   "id": "b6857081",
   "metadata": {},
   "outputs": [],
   "source": [
    "import psycopg2\n",
    "\n",
    "# 데이터베이스 연결 설정\n",
    "conn = psycopg2.connect(\n",
    "    dbname=\"postgres\",\n",
    "    user=\"postgres\",\n",
    "    password=\"\",\n",
    "    host=\"localhost\",\n",
    "    port=\"5432\"\n",
    ")\n",
    "\n",
    "# 커서 생성\n",
    "cur = conn.cursor()\n",
    "\n",
    "# board 스키마 생성\n",
    "cur.execute(\"\"\"\n",
    "CREATE SCHEMA IF NOT EXISTS board;\n",
    "\"\"\")\n",
    "\n",
    "# 게시글 테이블 생성\n",
    "cur.execute(\"\"\"\n",
    "CREATE TABLE IF NOT EXISTS board.posts (\n",
    "    id SERIAL PRIMARY KEY,\n",
    "    title VARCHAR(255) NOT NULL,\n",
    "    content TEXT NOT NULL,\n",
    "    author VARCHAR(100) NOT NULL,\n",
    "    created_at TIMESTAMP DEFAULT CURRENT_TIMESTAMP,\n",
    "    updated_at TIMESTAMP DEFAULT CURRENT_TIMESTAMP,\n",
    "    view_count INTEGER DEFAULT 0,\n",
    "    like_count INTEGER DEFAULT 0\n",
    ");\n",
    "\"\"\")\n",
    "\n",
    "# 댓글 테이블 생성\n",
    "cur.execute(\"\"\"\n",
    "CREATE TABLE IF NOT EXISTS board.comments (\n",
    "    id SERIAL PRIMARY KEY,\n",
    "    post_id INTEGER REFERENCES board.posts(id) ON DELETE CASCADE,\n",
    "    author VARCHAR(100) NOT NULL,\n",
    "    content TEXT NOT NULL,\n",
    "    created_at TIMESTAMP DEFAULT CURRENT_TIMESTAMP\n",
    ");\n",
    "\"\"\")\n",
    "\n",
    "# 좋아요 테이블 생성\n",
    "cur.execute(\"\"\"\n",
    "CREATE TABLE IF NOT EXISTS board.likes (\n",
    "    id SERIAL PRIMARY KEY,\n",
    "    post_id INTEGER REFERENCES board.posts(id) ON DELETE CASCADE,\n",
    "    user_ip VARCHAR(45) NOT NULL,\n",
    "    created_at TIMESTAMP DEFAULT CURRENT_TIMESTAMP,\n",
    "    UNIQUE(post_id, user_ip)\n",
    ");\n",
    "\"\"\")\n",
    "\n",
    "# 변경사항 저장 및 연결 종료\n",
    "conn.commit()\n",
    "cur.close()\n",
    "conn.close()"
   ]
  }
 ],
 "metadata": {
  "kernelspec": {
   "display_name": "z_venv",
   "language": "python",
   "name": "python3"
  },
  "language_info": {
   "codemirror_mode": {
    "name": "ipython",
    "version": 3
   },
   "file_extension": ".py",
   "mimetype": "text/x-python",
   "name": "python",
   "nbconvert_exporter": "python",
   "pygments_lexer": "ipython3",
   "version": "3.13.3"
  }
 },
 "nbformat": 4,
 "nbformat_minor": 5
}
