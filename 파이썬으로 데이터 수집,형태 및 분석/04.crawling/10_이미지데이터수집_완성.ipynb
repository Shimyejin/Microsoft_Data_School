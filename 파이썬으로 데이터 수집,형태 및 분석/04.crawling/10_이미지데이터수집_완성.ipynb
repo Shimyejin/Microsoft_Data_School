{
 "cells": [
  {
   "cell_type": "markdown",
   "id": "2dfbbb06",
   "metadata": {},
   "source": [
    "#### 웹의 이미지를 저장하려면\n",
    "* 이미지 url을 찾는다.(img태그의 src속성값)\n",
    "* 이미지 url을 이용하여 요청하고 응답받는다.\n",
    "* 응답객체의 content를 이미지 객체로 변환한다.(pillow 라이브러리)\n",
    "* 파일을 저장한다."
   ]
  },
  {
   "cell_type": "markdown",
   "id": "8b2b4375",
   "metadata": {},
   "source": [
    "https://www.moviechart.co.kr/rank/realtime/index/image/"
   ]
  },
  {
   "cell_type": "code",
   "execution_count": 70,
   "id": "b83ff71a",
   "metadata": {},
   "outputs": [],
   "source": [
    "import requests\n",
    "from bs4 import BeautifulSoup\n",
    "\n",
    "from io import BytesIO \n",
    "from PIL import Image\n",
    "import re\n",
    "import os"
   ]
  },
  {
   "cell_type": "code",
   "execution_count": 71,
   "id": "414cf657",
   "metadata": {},
   "outputs": [],
   "source": [
    "# --------------------------------\n",
    "# 이미지 저장 파일 경로\n",
    "# --------------------------------\n",
    "image_dir = 'images/'\n",
    "if not os.path.exists(image_dir):\n",
    "    os.makedirs(image_dir)\n",
    "\n",
    "# --------------------------------\n",
    "# 정규표현식(특수문자 제거)\n",
    "# --------------------------------\n",
    "pattern = r'[\\\\/:*?\"<>|]'\n"
   ]
  },
  {
   "cell_type": "code",
   "execution_count": null,
   "id": "b08298d4",
   "metadata": {},
   "outputs": [],
   "source": [
    "# --------------------------------\n",
    "# 페이지 요청 및 응답\n",
    "# --------------------------------\n",
    "url = \"https://www.moviechart.co.kr/rank/realtime/index/image\"\n",
    "response = requests.get(url)\n",
    "\n",
    "# --------------------------------\n",
    "# 구문분석 및 데이터 수집\n",
    "# --------------------------------\n",
    "soup = BeautifulSoup(response.text, 'html.parser')\n",
    "movies = soup.select(\".movieBox-item\")\n",
    "\n",
    "for movie in movies:\n",
    "    # -----------------------\n",
    "    # 영화제목 수집\n",
    "    # -----------------------\n",
    "    movie_title = movie.select_one(\".movie-title a\").text\n",
    "\n",
    "    # -----------------------\n",
    "    # 이미지 url을 찾는다.\n",
    "    # -----------------------\n",
    "    image_src = movie.select_one(\"img\").attrs['src'].split('=')[-1]\n",
    "    \n",
    "    # -----------------------\n",
    "    # 이미지 요청하고 응답받는다.\n",
    "    # -----------------------\n",
    "    image_response = requests.get(image_src)\n",
    "\n",
    "    # -----------------------\n",
    "    # 이미지 응답 객체의 content를 이미지 객체로 변환한다.\n",
    "    # -----------------------\n",
    "    img = Image.open(BytesIO(image_response.content))\n",
    "\n",
    "    # -----------------------\n",
    "    # 이미지 파일명 생성 (영화제목에서 특수문자 제거)\n",
    "    # -----------------------\n",
    "    image_filename = re.sub(pattern, '', movie_title)+'.jpg'\n",
    "\n",
    "    # -----------------------\n",
    "    # 이미지를 저장한다.\n",
    "    # -----------------------    \n",
    "    img.save(image_dir+image_filename)\n",
    "    print(image_filename)\n"
   ]
  }
 ],
 "metadata": {
  "kernelspec": {
   "display_name": ".venv",
   "language": "python",
   "name": "python3"
  },
  "language_info": {
   "codemirror_mode": {
    "name": "ipython",
    "version": 3
   },
   "file_extension": ".py",
   "mimetype": "text/x-python",
   "name": "python",
   "nbconvert_exporter": "python",
   "pygments_lexer": "ipython3",
   "version": "3.13.1"
  }
 },
 "nbformat": 4,
 "nbformat_minor": 5
}
