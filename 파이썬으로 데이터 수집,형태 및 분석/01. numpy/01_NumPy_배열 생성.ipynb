{
  "cells": [
    {
      "cell_type": "markdown",
      "metadata": {},
      "source": [
        "## Numpy 설치\n",
        "* pip 업그레이드\n",
        "    * `python -m pip install --upgrade pip`\n",
        "* numpy 설치\n",
        "    * `pip install numpy`"
      ]
    },
    {
      "cell_type": "markdown",
      "metadata": {
        "id": "dlbIJB7Gtz8n"
      },
      "source": [
        "## Numpy import\n"
      ]
    },
    {
      "cell_type": "code",
      "execution_count": 1,
      "metadata": {
        "id": "Yo6QwehtXlOp"
      },
      "outputs": [],
      "source": [
        "# --------------------------\n",
        "# np를 별칭으로 사용하여 import\n",
        "# --------------------------\n",
        "\n",
        "import numpy as np"
      ]
    },
    {
      "cell_type": "markdown",
      "metadata": {
        "id": "am6aoR_dXw_C"
      },
      "source": [
        "## 배열 생성\n",
        "* `np.array()` \n",
        "    * 배열 형태의 객체를 이용하여 생성\n",
        "* `np.arange()` \n",
        "    * 특정 범위, 특정 간격의 숫자로 이루어진 배열 생성\n",
        "* `np.zeros()` \n",
        "    * 0으로 초기화 된 배열 생성\n",
        "* `np.ones()` \n",
        "    * 1로 초기화 된 배열 생성\n",
        "* `np.full()` \n",
        "    * 특정 값으로 초기화 된 배열 생성\n",
        "* `np.eye()` \n",
        "    * 단위행렬 생성\n",
        "* `np.tri()` \n",
        "    * 삼각행렬 생성\n",
        "* `np.linspace()` \n",
        "    * 특정 범위에서 균등 간격으로 지정한 크기의 배열 생성\n"
      ]
    },
    {
      "cell_type": "markdown",
      "metadata": {},
      "source": [
        "#### `np.array()`\n",
        "* `np.array(object)` \n",
        "    * 배열 형태의 object를 이용하여 생성 \n",
        "        * ndarray 리턴"
      ]
    },
    {
      "cell_type": "code",
      "execution_count": 4,
      "metadata": {
        "colab": {
          "base_uri": "https://localhost:8080/"
        },
        "id": "UYzqCXB_Xz_s",
        "outputId": "af16d25e-fd8b-4140-ed37-e0b6a537ce9b"
      },
      "outputs": [
        {
          "data": {
            "text/plain": [
              "numpy.ndarray"
            ]
          },
          "execution_count": 4,
          "metadata": {},
          "output_type": "execute_result"
        }
      ],
      "source": [
        "# -------------------------------\n",
        "# 리스트 [1,2,3]을 numpy배열로 생성하고 type 확인\n",
        "# -------------------------------\n",
        "\n",
        "mylist = [1,2,3]\n",
        "mylist = np.array(mylist)\n",
        "type(mylist)"
      ]
    },
    {
      "cell_type": "code",
      "execution_count": null,
      "metadata": {},
      "outputs": [
        {
          "name": "stdout",
          "output_type": "stream",
          "text": [
            "[1 2 3]\n"
          ]
        }
      ],
      "source": [
        "# -------------------------------\n",
        "# 튜플 (1,2,3)을 numpy배열로 생성하고 type 확인\n",
        "# -------------------------------\n",
        "\n",
        "mytuple = (1,2,3)\n",
        "mytuple = np.array(mytuple)\n",
        "type(mytuple)"
      ]
    },
    {
      "cell_type": "code",
      "execution_count": 7,
      "metadata": {},
      "outputs": [
        {
          "data": {
            "text/plain": [
              "numpy.ndarray"
            ]
          },
          "execution_count": 7,
          "metadata": {},
          "output_type": "execute_result"
        }
      ],
      "source": [
        "# -------------------------------\n",
        "# 중첩리스트를 사용하여 2차원 배열 생성하고 type 확인\n",
        "# -------------------------------\n",
        "\n",
        "list_2d = [[1,2,3], [4,5,6]]\n",
        "list_2d = np.array(list_2d)\n",
        "type(list_2d)"
      ]
    },
    {
      "cell_type": "code",
      "execution_count": 8,
      "metadata": {},
      "outputs": [
        {
          "data": {
            "text/plain": [
              "numpy.ndarray"
            ]
          },
          "execution_count": 8,
          "metadata": {},
          "output_type": "execute_result"
        }
      ],
      "source": [
        "# -------------------------------\n",
        "# 중첩리스트를 사용하여 3차원 배열 생성하고 type 확인\n",
        "# -------------------------------\n",
        "\n",
        "list_3d = [[[1,2,3], [4,5,6]], \n",
        "           [[1,2,3], [4,5,6]]]\n",
        "list_3d = np.array(list_3d)\n",
        "type(list_3d)"
      ]
    },
    {
      "cell_type": "markdown",
      "metadata": {},
      "source": [
        "#### `np.arange()`\n",
        "* 지정한 범위, 지정한 간격의 숫자로 이루어진 배열 생성\n",
        "    * `np.arange(stop)`  \n",
        "        * 0부터 10미만 1 간격\n",
        "    * `np.arange(start, stop)` \n",
        "        * start부터 stop미만 1 간격\n",
        "    * `np.arange(start, stop, step)` \n",
        "        * start부터 stop 미만 step 간격\n",
        "* 소수점 가능"
      ]
    },
    {
      "cell_type": "code",
      "execution_count": 10,
      "metadata": {},
      "outputs": [
        {
          "data": {
            "text/plain": [
              "array([0, 1, 2, 3, 4, 5, 6, 7, 8, 9])"
            ]
          },
          "execution_count": 10,
          "metadata": {},
          "output_type": "execute_result"
        }
      ],
      "source": [
        "# -------------------------------\n",
        "# 0부터 10 미만 정수 배열 생성\n",
        "# [0, 1, 2, 3, 4, 5, 6, 7, 8, 9]\n",
        "# -------------------------------\n",
        "\n",
        "np.arange(10)"
      ]
    },
    {
      "cell_type": "code",
      "execution_count": 11,
      "metadata": {},
      "outputs": [
        {
          "data": {
            "text/plain": [
              "array([ 1,  2,  3,  4,  5,  6,  7,  8,  9, 10])"
            ]
          },
          "execution_count": 11,
          "metadata": {},
          "output_type": "execute_result"
        }
      ],
      "source": [
        "# -------------------------------\n",
        "# 0부터 11 미만 정수 배열 생성\n",
        "# [ 1,  2,  3,  4,  5,  6,  7,  8,  9, 10]\n",
        "# -------------------------------\n",
        "\n",
        "np.arange(1, 11)"
      ]
    },
    {
      "cell_type": "code",
      "execution_count": 12,
      "metadata": {},
      "outputs": [
        {
          "data": {
            "text/plain": [
              "array([1, 3, 5, 7, 9])"
            ]
          },
          "execution_count": 12,
          "metadata": {},
          "output_type": "execute_result"
        }
      ],
      "source": [
        "# -------------------------------\n",
        "# 0부터 11 미만 정수 배열 생성\n",
        "# [1, 3, 5, 7, 9]]\n",
        "# -------------------------------\n",
        "\n",
        "np.arange(1, 11, 2)"
      ]
    },
    {
      "cell_type": "code",
      "execution_count": 13,
      "metadata": {},
      "outputs": [
        {
          "data": {
            "text/plain": [
              "array([0. , 0.1, 0.2, 0.3, 0.4, 0.5, 0.6, 0.7, 0.8, 0.9])"
            ]
          },
          "execution_count": 13,
          "metadata": {},
          "output_type": "execute_result"
        }
      ],
      "source": [
        "# -------------------------------\n",
        "# 0부터 1 미만 0.1 간격 배열 생성\n",
        "# [0. , 0.1, 0.2, 0.3, 0.4, 0.5, 0.6, 0.7, 0.8, 0.9]\n",
        "# -------------------------------\n",
        "\n",
        "np.arange(0, 1, 0.1)"
      ]
    },
    {
      "cell_type": "markdown",
      "metadata": {},
      "source": [
        "#### `np.zeros()`\n",
        "* `np.zeros(shape)` \n",
        "    * 0으로 초기화된 배열 생성\n",
        "    * 요소는 실수형으로 만들어짐"
      ]
    },
    {
      "cell_type": "code",
      "execution_count": 14,
      "metadata": {},
      "outputs": [
        {
          "data": {
            "text/plain": [
              "array([0., 0., 0., 0., 0., 0., 0., 0., 0., 0.])"
            ]
          },
          "execution_count": 14,
          "metadata": {},
          "output_type": "execute_result"
        }
      ],
      "source": [
        "# -------------------------------\n",
        "# 10개의 0으로 초기화된 배열 생성\n",
        "# -------------------------------\n",
        "\n",
        "np.zeros(10)"
      ]
    },
    {
      "cell_type": "code",
      "execution_count": 15,
      "metadata": {},
      "outputs": [
        {
          "data": {
            "text/plain": [
              "array([[0., 0., 0.],\n",
              "       [0., 0., 0.]])"
            ]
          },
          "execution_count": 15,
          "metadata": {},
          "output_type": "execute_result"
        }
      ],
      "source": [
        "# -------------------------------\n",
        "# 0으로 초기화된 2행 3열의 배열 생성\n",
        "# -------------------------------\n",
        "\n",
        "np.zeros((2, 3))"
      ]
    },
    {
      "cell_type": "markdown",
      "metadata": {},
      "source": [
        "#### np.ones()\n",
        "- `np.ones(shape)` \n",
        "    * 1로 초기화 된 배열 생성\n",
        "    * 요소는 실수형으로 만들어짐"
      ]
    },
    {
      "cell_type": "code",
      "execution_count": 16,
      "metadata": {},
      "outputs": [
        {
          "data": {
            "text/plain": [
              "array([1., 1., 1., 1., 1., 1., 1., 1., 1., 1.])"
            ]
          },
          "execution_count": 16,
          "metadata": {},
          "output_type": "execute_result"
        }
      ],
      "source": [
        "# -------------------------------\n",
        "# 10개의 1로 초기화 된 배열 생성\n",
        "# -------------------------------\n",
        "\n",
        "np.ones(10)"
      ]
    },
    {
      "cell_type": "code",
      "execution_count": 17,
      "metadata": {},
      "outputs": [
        {
          "data": {
            "text/plain": [
              "array([[1., 1., 1.],\n",
              "       [1., 1., 1.]])"
            ]
          },
          "execution_count": 17,
          "metadata": {},
          "output_type": "execute_result"
        }
      ],
      "source": [
        "# -------------------------------\n",
        "# 1로 초기화된 2행 3열의 배열 생성\n",
        "# [0., 0., 0., 0., 0., 0., 0., 0., 0., 0.]\n",
        "# -------------------------------\n",
        "\n",
        "np.ones((2, 3))"
      ]
    },
    {
      "cell_type": "markdown",
      "metadata": {},
      "source": [
        "#### `np.full()`\n",
        "- `np.full(shape, fill_value)` \n",
        "    * 특정 값으로 채워진 배열 생성"
      ]
    },
    {
      "cell_type": "code",
      "execution_count": 18,
      "metadata": {},
      "outputs": [
        {
          "data": {
            "text/plain": [
              "array([[5, 5],\n",
              "       [5, 5],\n",
              "       [5, 5]])"
            ]
          },
          "execution_count": 18,
          "metadata": {},
          "output_type": "execute_result"
        }
      ],
      "source": [
        "# -------------------------------\n",
        "# 5로 초기화 된 3x2 배열 생성\n",
        "# -------------------------------\n",
        "\n",
        "np.full((3,2), 5)"
      ]
    },
    {
      "cell_type": "markdown",
      "metadata": {},
      "source": [
        "#### `np.eye()`\n",
        "- `np.eye(n)` \n",
        "    * nxn 단위행렬(identity matrix) 생성"
      ]
    },
    {
      "cell_type": "code",
      "execution_count": 19,
      "metadata": {},
      "outputs": [
        {
          "data": {
            "text/plain": [
              "array([[1., 0., 0.],\n",
              "       [0., 1., 0.],\n",
              "       [0., 0., 1.]])"
            ]
          },
          "execution_count": 19,
          "metadata": {},
          "output_type": "execute_result"
        }
      ],
      "source": [
        "# -------------------------------\n",
        "# 3x3 단위행렬 생성\n",
        "# -------------------------------\n",
        "\n",
        "np.eye(3)"
      ]
    },
    {
      "cell_type": "markdown",
      "metadata": {},
      "source": [
        "#### `np.tri()`\n",
        "* `np.tri(n)` \n",
        "    * nxn 삼각행렬"
      ]
    },
    {
      "cell_type": "code",
      "execution_count": 20,
      "metadata": {},
      "outputs": [
        {
          "data": {
            "text/plain": [
              "array([[1., 0., 0.],\n",
              "       [1., 1., 0.],\n",
              "       [1., 1., 1.]])"
            ]
          },
          "execution_count": 20,
          "metadata": {},
          "output_type": "execute_result"
        }
      ],
      "source": [
        "# -------------------------------\n",
        "# 3x3 삼각행렬 생성\n",
        "# -------------------------------\n",
        "\n",
        "np.tri(3)"
      ]
    },
    {
      "cell_type": "markdown",
      "metadata": {},
      "source": [
        "#### `np.linspace()`\n",
        "* `np.linspace(start, end, num)` \n",
        "    * start부터 end 사이 num개의 원소를 균등 간격으로 생성 "
      ]
    },
    {
      "cell_type": "code",
      "execution_count": 21,
      "metadata": {},
      "outputs": [
        {
          "data": {
            "text/plain": [
              "array([ 0. ,  2.5,  5. ,  7.5, 10. ])"
            ]
          },
          "execution_count": 21,
          "metadata": {},
          "output_type": "execute_result"
        }
      ],
      "source": [
        "# -------------------------------\n",
        "# 0부터 10 사이 균등 간격 5개의 숫자배열 생성\n",
        "# [ 0. ,  2.5,  5. ,  7.5, 10. ]\n",
        "# -------------------------------\n",
        "\n",
        "np.linspace(0, 10, 5)"
      ]
    },
    {
      "cell_type": "markdown",
      "metadata": {},
      "source": [
        "## 랜덤수 생성\n",
        "* `np.random.random()` \n",
        "    * 0~1 사이의 랜덤 수 \n",
        "* `np.random.randint()` \n",
        "    * 지정한 범위의 랜덤 정수\n",
        "* `np.random.normal()` \n",
        "    * 정규분포를 고려한 랜덤 수\n",
        "* `np.random.randn()` \n",
        "    * 표준정규분포를 고려한 랜덤 수\n",
        "* `np.random.rand()` \n",
        "    * 균등분포를 고려한 랜덤 수\n",
        "* `np.random.seed()` \n",
        "    * 동일 셀 내에서 seed 적용하여 일관성 있는 랜덤 값 생성\n"
      ]
    },
    {
      "cell_type": "markdown",
      "metadata": {},
      "source": [
        "#### `np.random.random()`\n",
        "* `np.random.random()` \n",
        "    * 0~1 미만의 랜덤정수\n",
        "* `np.random.random(shape)`\n",
        "    * 랜덤 정수 배열"
      ]
    },
    {
      "cell_type": "code",
      "execution_count": 22,
      "metadata": {},
      "outputs": [
        {
          "data": {
            "text/plain": [
              "0.8944878003534957"
            ]
          },
          "execution_count": 22,
          "metadata": {},
          "output_type": "execute_result"
        }
      ],
      "source": [
        "# -------------------------------\n",
        "# 0~1 미만의 랜덤 정수\n",
        "# -------------------------------\n",
        "\n",
        "np.random.random()"
      ]
    },
    {
      "cell_type": "code",
      "execution_count": 23,
      "metadata": {},
      "outputs": [
        {
          "data": {
            "text/plain": [
              "array([0.39264606, 0.9627215 , 0.64168142])"
            ]
          },
          "execution_count": 23,
          "metadata": {},
          "output_type": "execute_result"
        }
      ],
      "source": [
        "# -------------------------------\n",
        "# 0~1 미만의 랜덤 정수 배열 (요소갯수 3개)\n",
        "# -------------------------------\n",
        "\n",
        "np.random.random(3)"
      ]
    },
    {
      "cell_type": "code",
      "execution_count": 27,
      "metadata": {
        "colab": {
          "base_uri": "https://localhost:8080/"
        },
        "id": "zP4nYnkVekii",
        "outputId": "0977ca67-05af-4cbb-d66a-0b5c921989ee"
      },
      "outputs": [
        {
          "data": {
            "text/plain": [
              "array([[0.71213045, 0.71104131, 0.5756774 , 0.8226298 ],\n",
              "       [0.15324213, 0.13736914, 0.40950113, 0.03398476],\n",
              "       [0.29307503, 0.97031489, 0.88717926, 0.57992445]])"
            ]
          },
          "execution_count": 27,
          "metadata": {},
          "output_type": "execute_result"
        }
      ],
      "source": [
        "# -------------------------------\n",
        "# 0~1 미만의 랜덤 정수 배열 3행 4열\n",
        "# -------------------------------\n",
        "\n",
        "np.random.random((3, 4))"
      ]
    },
    {
      "cell_type": "markdown",
      "metadata": {},
      "source": [
        "#### `np.random.randint()`\n",
        "*  `np.random.randint(low)` \n",
        "    * 0부터 low 미만의 랜덤 정수\n",
        "*  `np.random.randint(low, high)` \n",
        "    * low부터 high 미만의 랜덤 정수\n",
        "*  `np.random.randint(low, high, shape)` \n",
        "    * low부터 high 미만의 랜덤 정수 배열"
      ]
    },
    {
      "cell_type": "code",
      "execution_count": 28,
      "metadata": {},
      "outputs": [
        {
          "data": {
            "text/plain": [
              "0"
            ]
          },
          "execution_count": 28,
          "metadata": {},
          "output_type": "execute_result"
        }
      ],
      "source": [
        "# -------------------------------\n",
        "# 0 또는 1 랜덤 추출\n",
        "# -------------------------------\n",
        "\n",
        "np.random.randint(0, 2)"
      ]
    },
    {
      "cell_type": "code",
      "execution_count": 29,
      "metadata": {},
      "outputs": [
        {
          "data": {
            "text/plain": [
              "4"
            ]
          },
          "execution_count": 29,
          "metadata": {},
          "output_type": "execute_result"
        }
      ],
      "source": [
        "# -------------------------------\n",
        "# 주사위 던지기\n",
        "# 1부터 6까지 랜덤정수 \n",
        "# -------------------------------\n",
        "\n",
        "np.random.randint(1, 7)"
      ]
    },
    {
      "cell_type": "code",
      "execution_count": 30,
      "metadata": {},
      "outputs": [
        {
          "data": {
            "text/plain": [
              "array([40, 10, 30, 22, 27, 15], dtype=int32)"
            ]
          },
          "execution_count": 30,
          "metadata": {},
          "output_type": "execute_result"
        }
      ],
      "source": [
        "# -------------------------------\n",
        "# 로또번호 생성\n",
        "# 1부터 45까지 랜덤정수 6개\n",
        "# -------------------------------\n",
        "\n",
        "np.random.randint(1, 46, 6)"
      ]
    },
    {
      "cell_type": "markdown",
      "metadata": {},
      "source": [
        "#### `np.random.normal()`\n",
        "- `np.random.normal(평균, 표준편차, 배열크기)`\n",
        "    - 정규분포를 고려한 랜덤한 수의 배열 생성"
      ]
    },
    {
      "cell_type": "code",
      "execution_count": 31,
      "metadata": {},
      "outputs": [],
      "source": [
        "# -------------------------------\n",
        "# 히스토그램 함수 정의\n",
        "# \n",
        "# 사용법\n",
        "# draw_histplot(배열)\n",
        "# -------------------------------\n",
        "\n",
        "import seaborn as sns\n",
        "import matplotlib.pyplot as plt\n",
        "\n",
        "def draw_histplot(data): \n",
        "    plt.figure(figsize=(4,3))\n",
        "    sns.histplot(data, kde=True);"
      ]
    },
    {
      "cell_type": "code",
      "execution_count": 32,
      "metadata": {},
      "outputs": [
        {
          "name": "stdout",
          "output_type": "stream",
          "text": [
            "10.130125174459524 10.35531063139581\n"
          ]
        },
        {
          "data": {
            "image/png": "[encoded data removed]",
            "text/plain": [
              "<Figure size 400x300 with 1 Axes>"
            ]
          },
          "metadata": {},
          "output_type": "display_data"
        }
      ],
      "source": [
        "# -------------------------------\n",
        "# 평균이 1이고 표준편차가 10인 100개 랜덤 수의 배열 생성\n",
        "# 평균, 표준편차 출력\n",
        "# 배열의 히스토그램 출력\n",
        "# -------------------------------\n",
        "\n",
        "import numpy as np\n",
        "\n",
        "data = np.random.normal(loc=10, scale=10, size=100)\n",
        "print(np.mean(data), np.std(data))\n",
        "draw_histplot(data)"
      ]
    },
    {
      "cell_type": "code",
      "execution_count": 33,
      "metadata": {
        "colab": {
          "base_uri": "https://localhost:8080/"
        },
        "id": "2-FK3dYefCR_",
        "outputId": "d8acecc2-50ae-42d5-d6d7-f094b8ce7456"
      },
      "outputs": [
        {
          "name": "stdout",
          "output_type": "stream",
          "text": [
            "9.990478353872394 9.998046137554836\n"
          ]
        },
        {
          "data": {
            "image/png": "[encoded data removed]",
            "text/plain": [
              "<Figure size 400x300 with 1 Axes>"
            ]
          },
          "metadata": {},
          "output_type": "display_data"
        }
      ],
      "source": [
        "# -------------------------------\n",
        "# 평균이 1이고 표준편차가 10인 100만개 랜덤 수의 배열 생성\n",
        "# 평균, 표준편차 출력\n",
        "# 배열의 히스토그램 출력\n",
        "# -------------------------------\n",
        "\n",
        "data = np.random.normal(loc=10, scale=10, size=1000000)\n",
        "print(np.mean(data), np.std(data))\n",
        "draw_histplot(data)"
      ]
    },
    {
      "cell_type": "markdown",
      "metadata": {},
      "source": [
        "#### `np.random.randn()`\n",
        "- `np.random.randn(배열의크기)`\n",
        "    - 표준정규분포(평균:0, 표준편차:1)를 따르는 난수 생성"
      ]
    },
    {
      "cell_type": "code",
      "execution_count": 34,
      "metadata": {},
      "outputs": [
        {
          "name": "stdout",
          "output_type": "stream",
          "text": [
            "-0.03552714595801346 1.0097461990599232\n"
          ]
        },
        {
          "data": {
            "image/png": "[encoded data removed]",
            "text/plain": [
              "<Figure size 400x300 with 1 Axes>"
            ]
          },
          "metadata": {},
          "output_type": "display_data"
        }
      ],
      "source": [
        "# -------------------------------\n",
        "# 표준정규분포(평균:0, 표준편차:1)를 따르는 100개의 난수 생성\n",
        "# 평균, 표준편차 출력\n",
        "# 배열의 히스토그램 출력\n",
        "# -------------------------------\n",
        "\n",
        "data = np.random.randn(100)\n",
        "print(np.mean(data), np.std(data))\n",
        "draw_histplot(data)"
      ]
    },
    {
      "cell_type": "code",
      "execution_count": 35,
      "metadata": {},
      "outputs": [
        {
          "name": "stdout",
          "output_type": "stream",
          "text": [
            "0.00019937707979624281 1.0004253512252386\n"
          ]
        },
        {
          "data": {
            "image/png": "[encoded data removed]",
            "text/plain": [
              "<Figure size 400x300 with 1 Axes>"
            ]
          },
          "metadata": {},
          "output_type": "display_data"
        }
      ],
      "source": [
        "# -------------------------------\n",
        "# 표준정규분포(평균:0, 표준편차:1)를 따르는 100만개의 난수 생성\n",
        "# 평균, 표준편차 출력\n",
        "# 배열의 히스토그램 출력\n",
        "# -------------------------------\n",
        "\n",
        "data = np.random.randn(1000000)\n",
        "print(np.mean(data), np.std(data))\n",
        "draw_histplot(data)"
      ]
    },
    {
      "cell_type": "markdown",
      "metadata": {},
      "source": [
        "#### `np.random.rand()`\n",
        "- `np.random.rand(배열의크기)`\n",
        "    - 균등분포를 고려한 0~1 사이 랜덤 수의 배열 생성"
      ]
    },
    {
      "cell_type": "code",
      "execution_count": 36,
      "metadata": {
        "colab": {
          "base_uri": "https://localhost:8080/",
          "height": 430
        },
        "id": "LM19oYG6fFnM",
        "outputId": "c4d2186e-3314-4e88-ee76-d55a93da4504"
      },
      "outputs": [
        {
          "name": "stdout",
          "output_type": "stream",
          "text": [
            "0.49386711811833434 0.2979917357443582\n"
          ]
        },
        {
          "data": {
            "image/png": "[encoded data removed]",
            "text/plain": [
              "<Figure size 400x300 with 1 Axes>"
            ]
          },
          "metadata": {},
          "output_type": "display_data"
        }
      ],
      "source": [
        "# -------------------------------\n",
        "# 균등분포를 고려한 100개의 난수 생성\n",
        "# -------------------------------\n",
        "\n",
        "data = np.random.rand(100)\n",
        "print(np.mean(data), np.std(data))\n",
        "draw_histplot(data)"
      ]
    },
    {
      "cell_type": "code",
      "execution_count": 37,
      "metadata": {},
      "outputs": [
        {
          "name": "stdout",
          "output_type": "stream",
          "text": [
            "0.500106940443743 0.2888794712712518\n"
          ]
        },
        {
          "data": {
            "image/png": "[encoded data removed]",
            "text/plain": [
              "<Figure size 400x300 with 1 Axes>"
            ]
          },
          "metadata": {},
          "output_type": "display_data"
        }
      ],
      "source": [
        "# -------------------------------\n",
        "# 균등분포를 고려한 100만개의 난수 생성\n",
        "# -------------------------------\n",
        "\n",
        "data = np.random.rand(1000000)\n",
        "print(np.mean(data), np.std(data))\n",
        "draw_histplot(data)"
      ]
    },
    {
      "cell_type": "markdown",
      "metadata": {},
      "source": [
        "#### `np.random.seed()`\n",
        "`np.random.seed(seed)`\n",
        "* 동일한 셀 내에서 randomseed 적용\n",
        "* 일관성 있는 값 생성"
      ]
    },
    {
      "cell_type": "code",
      "execution_count": 38,
      "metadata": {},
      "outputs": [
        {
          "data": {
            "text/plain": [
              "0.771320643266746"
            ]
          },
          "execution_count": 38,
          "metadata": {},
          "output_type": "execute_result"
        }
      ],
      "source": [
        "# -------------------------------\n",
        "# randomseed를 10으로 설정\n",
        "# 0~1 사이의 랜덤수 생성\n",
        "# -------------------------------\n",
        "\n",
        "np.random.seed(10)\n",
        "np.random.random()"
      ]
    },
    {
      "cell_type": "code",
      "execution_count": 39,
      "metadata": {},
      "outputs": [
        {
          "data": {
            "text/plain": [
              "array([10,  5,  1,  2, 10], dtype=int32)"
            ]
          },
          "execution_count": 39,
          "metadata": {},
          "output_type": "execute_result"
        }
      ],
      "source": [
        "# -------------------------------\n",
        "# randomseed를 10으로 설정\n",
        "# 1~10 사이의 랜덤정수 5개 배열 생성\n",
        "# -------------------------------\n",
        "\n",
        "np.random.seed(10)\n",
        "np.random.randint(1, 11, 5)"
      ]
    },
    {
      "cell_type": "markdown",
      "metadata": {},
      "source": [
        "## 배열의 자료형\n",
        "* NumPy 배열의 자료형은 한가지로 통일된다.\n",
        "* 배열의 자료형 확인\n",
        "  * **`배열객체.dtype`**\n",
        "* 자료형을 지정하여 배열 생성\n",
        "  * **`np.array(데이터, dtype=자료형)`**\n",
        "* 배열의 자료형 변경\n",
        "  * **`배열객체.astype(자료형)`**"
      ]
    },
    {
      "cell_type": "code",
      "execution_count": 44,
      "metadata": {},
      "outputs": [
        {
          "name": "stdout",
          "output_type": "stream",
          "text": [
            "float64\n"
          ]
        }
      ],
      "source": [
        "# -------------------\n",
        "# 정수와 실수가 혼합된 리스트를 이용하여 배열 생성\n",
        "# 배열의 dtype 출력\n",
        "# -------------------\n",
        "\n",
        "data = np.array([1, 2, 3.0])\n",
        "print(data.dtype)"
      ]
    },
    {
      "cell_type": "code",
      "execution_count": 46,
      "metadata": {},
      "outputs": [
        {
          "data": {
            "text/plain": [
              "dtype('<U21')"
            ]
          },
          "execution_count": 46,
          "metadata": {},
          "output_type": "execute_result"
        }
      ],
      "source": [
        "# -------------------\n",
        "# 정수와 문자열이 혼합된 리스트를 이용하여 배열 생성\n",
        "# 배열의 dtype 출력\n",
        "# -------------------\n",
        "\n",
        "data = np.array([1,2,'3'])\n",
        "\n",
        "data.dtype"
      ]
    },
    {
      "cell_type": "code",
      "execution_count": 47,
      "metadata": {},
      "outputs": [
        {
          "data": {
            "text/plain": [
              "dtype('<U1')"
            ]
          },
          "execution_count": 47,
          "metadata": {},
          "output_type": "execute_result"
        }
      ],
      "source": [
        "# -------------------\n",
        "# 배열의 dype을 str로 지정하여 배열 생성\n",
        "# 배열의 dtype 출력\n",
        "# ------------------\n",
        "\n",
        "data = np.array([1, 2, 3], dtype = str)\n",
        "data.dtype"
      ]
    },
    {
      "cell_type": "code",
      "execution_count": 48,
      "metadata": {},
      "outputs": [
        {
          "data": {
            "text/plain": [
              "dtype('int64')"
            ]
          },
          "execution_count": 48,
          "metadata": {},
          "output_type": "execute_result"
        }
      ],
      "source": [
        "# -------------------\n",
        "# 배열의 dype을 int 지정하여 배열 생성\n",
        "# 배열의 dtype 출력\n",
        "# ------------------\n",
        "\n",
        "data = np.array(['1', '2', '3'], dtype=int)\n",
        "data.dtype"
      ]
    },
    {
      "cell_type": "code",
      "execution_count": 49,
      "metadata": {},
      "outputs": [
        {
          "data": {
            "text/plain": [
              "dtype('uint8')"
            ]
          },
          "execution_count": 49,
          "metadata": {},
          "output_type": "execute_result"
        }
      ],
      "source": [
        "# -------------------\n",
        "# 배열의 dype을 uint8로 지정하여 배열 생성\n",
        "# 배열의 dtype 출력\n",
        "# ------------------\n",
        "\n",
        "data = np.array([1, 2, 3], dtype=np.uint8)\n",
        "data.dtype"
      ]
    },
    {
      "cell_type": "code",
      "execution_count": 52,
      "metadata": {},
      "outputs": [
        {
          "name": "stdout",
          "output_type": "stream",
          "text": [
            "uint8\n"
          ]
        }
      ],
      "source": [
        "# -------------------\n",
        "# 배열의 dype을 uint8로 지정하여 배열 생성\n",
        "# 배열의 dtype 출력\n",
        "# ------------------\n",
        "\n",
        "data = np.array([100, 200], dtype=np.uint8)\n",
        "print(data.dtype)"
      ]
    },
    {
      "cell_type": "code",
      "execution_count": 54,
      "metadata": {},
      "outputs": [
        {
          "data": {
            "text/plain": [
              "dtype('uint8')"
            ]
          },
          "execution_count": 54,
          "metadata": {},
          "output_type": "execute_result"
        }
      ],
      "source": [
        "# -------------------\n",
        "# 배열의 dype을 uint8로 지정하여 배열 생성\n",
        "# 배열의 dtype 출력\n",
        "# ------------------\n",
        "\n",
        "data = np.array([1, 2, 3, 4], dtype = np.uint8)\n",
        "data.dtype\n"
      ]
    },
    {
      "cell_type": "code",
      "execution_count": 55,
      "metadata": {},
      "outputs": [
        {
          "data": {
            "text/plain": [
              "dtype('float64')"
            ]
          },
          "execution_count": 55,
          "metadata": {},
          "output_type": "execute_result"
        }
      ],
      "source": [
        "# -------------------\n",
        "# dtype int인 배열 생성\n",
        "# 배열의 dtype을 float로 변경\n",
        "# -------------------\n",
        "\n",
        "data = np.array([1, 2, 3]).astype(float)\n",
        "data.dtype"
      ]
    },
    {
      "cell_type": "code",
      "execution_count": 56,
      "metadata": {},
      "outputs": [
        {
          "data": {
            "text/plain": [
              "dtype('int64')"
            ]
          },
          "execution_count": 56,
          "metadata": {},
          "output_type": "execute_result"
        }
      ],
      "source": [
        "# -------------------\n",
        "# dtype float인 배열 생성\n",
        "# 배열의 dtype을 int로 변경\n",
        "# -------------------\n",
        "\n",
        "data = np.array([1.5, 2.5, 3.5]).astype(int)\n",
        "data.dtype"
      ]
    },
    {
      "cell_type": "markdown",
      "metadata": {},
      "source": [
        "# 배열의 구조 확인\n",
        "* `배열객체.shape` : 배열의 형태\n",
        "* `배열객체.ndim` : 배열의 차원수\n",
        "* `배열객체.size` : 배열 전체 요소의 갯수"
      ]
    },
    {
      "cell_type": "code",
      "execution_count": 57,
      "metadata": {},
      "outputs": [
        {
          "name": "stdout",
          "output_type": "stream",
          "text": [
            "[1 2 3]\n",
            "shape: (3,)\n",
            "ndim: 1\n",
            "size: 3\n"
          ]
        }
      ],
      "source": [
        "list_1d = [1,2,3]\n",
        "arr_1d = np.array(list_1d)\n",
        "print(arr_1d)\n",
        "\n",
        "print('shape:', arr_1d.shape)\n",
        "print('ndim:', arr_1d.ndim)\n",
        "print('size:', arr_1d.size)"
      ]
    },
    {
      "cell_type": "code",
      "execution_count": 58,
      "metadata": {},
      "outputs": [
        {
          "name": "stdout",
          "output_type": "stream",
          "text": [
            "[[1 2 3]\n",
            " [4 5 6]]\n",
            "shape: (2, 3)\n",
            "ndim: 2\n",
            "size: 6\n"
          ]
        }
      ],
      "source": [
        "list_2d = [[1,2,3],[4,5,6]]\n",
        "arr_2d = np.array(list_2d)\n",
        "\n",
        "print(arr_2d)\n",
        "print('shape:', arr_2d.shape)\n",
        "print('ndim:', arr_2d.ndim)\n",
        "print('size:', arr_2d.size)"
      ]
    },
    {
      "cell_type": "code",
      "execution_count": 59,
      "metadata": {},
      "outputs": [
        {
          "name": "stdout",
          "output_type": "stream",
          "text": [
            "[[[ 1  2  3]\n",
            "  [ 4  5  6]]\n",
            "\n",
            " [[ 7  8  9]\n",
            "  [10 11 12]]\n",
            "\n",
            " [[13 14 15]\n",
            "  [16 17 18]]]\n",
            "shape: (3, 2, 3)\n",
            "ndim: 3\n",
            "size: 18\n"
          ]
        }
      ],
      "source": [
        "list_3d = [[[1,2,3],[4,5,6]], \n",
        "           [[7,8,9],[10,11,12]],\n",
        "           [[13,14,15],[16,17,18]]]\n",
        "arr_3d = np.array(list_3d)\n",
        "\n",
        "print(arr_3d)\n",
        "print('shape:', arr_3d.shape)\n",
        "print('ndim:', arr_3d.ndim)\n",
        "print('size:', arr_3d.size)"
      ]
    }
  ],
  "metadata": {
    "colab": {
      "provenance": [],
      "toc_visible": true
    },
    "kernelspec": {
      "display_name": "z_venv",
      "language": "python",
      "name": "python3"
    },
    "language_info": {
      "codemirror_mode": {
        "name": "ipython",
        "version": 3
      },
      "file_extension": ".py",
      "mimetype": "text/x-python",
      "name": "python",
      "nbconvert_exporter": "python",
      "pygments_lexer": "ipython3",
      "version": "3.13.3"
    }
  },
  "nbformat": 4,
  "nbformat_minor": 0
}
