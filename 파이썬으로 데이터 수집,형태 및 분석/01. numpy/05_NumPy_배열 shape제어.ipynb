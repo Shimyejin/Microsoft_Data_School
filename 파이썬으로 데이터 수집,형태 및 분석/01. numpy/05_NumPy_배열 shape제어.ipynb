{
  "cells": [
    {
      "cell_type": "code",
      "execution_count": 1,
      "metadata": {
        "id": "Yo6QwehtXlOp"
      },
      "outputs": [],
      "source": [
        "import numpy as np"
      ]
    },
    {
      "cell_type": "markdown",
      "metadata": {},
      "source": [
        "## 배열의 shape 제어"
      ]
    },
    {
      "cell_type": "markdown",
      "metadata": {
        "id": "4aea3nl8VPoO"
      },
      "source": [
        "#### `배열객체.reshape()`\n",
        "* `배열객체.reshape(shape)`\n",
        "* size의 갯수만 맞다면 자유롭게 shape를 변경할 수 있다.\n",
        "* -1을 적으면 배열의 size에 맞게 자동으로 갯수가 지정된다."
      ]
    },
    {
      "cell_type": "code",
      "execution_count": 2,
      "metadata": {
        "colab": {
          "base_uri": "https://localhost:8080/"
        },
        "id": "yIpx5SHwW-Kq",
        "outputId": "5973a096-69bd-44da-c539-5d33a4e9a686"
      },
      "outputs": [
        {
          "name": "stdout",
          "output_type": "stream",
          "text": [
            "arr>>> [1 2 3 4 5 6] \n",
            "\n",
            "--- 3행 2열로 reshape ---\n",
            "[[1 2]\n",
            " [3 4]\n",
            " [5 6]]\n",
            "--- 2행 3열로 reshape ---\n",
            "[[1 2 3]\n",
            " [4 5 6]]\n",
            "--- 6행 1열로 reshape ---\n",
            "[[1]\n",
            " [2]\n",
            " [3]\n",
            " [4]\n",
            " [5]\n",
            " [6]]\n"
          ]
        }
      ],
      "source": [
        "arr = np.arange(1, 7)\n",
        "print('arr>>>', arr, '\\n')\n",
        "\n",
        "print('--- 3행 2열로 reshape ---')\n",
        "print(arr.reshape(3, 2))\n",
        "\n",
        "print('--- 2행 3열로 reshape ---')\n",
        "print(arr.reshape(2, 3))\n",
        "\n",
        "print('--- 6행 1열로 reshape ---')\n",
        "print(arr.reshape(6, 1))"
      ]
    },
    {
      "cell_type": "markdown",
      "metadata": {
        "id": "EwQQWaGsbQ5s"
      },
      "source": [
        "#### `배열객체.flatten()`\n",
        "* `배열객체.flatten()`\n",
        "  * 다차원의 배열을 1차원으로 변경"
      ]
    },
    {
      "cell_type": "code",
      "execution_count": 3,
      "metadata": {
        "colab": {
          "base_uri": "https://localhost:8080/"
        },
        "id": "hbEoaGSUbZpm",
        "outputId": "0ecfc1cd-d38e-468a-ff50-d61c193c0adf"
      },
      "outputs": [
        {
          "name": "stdout",
          "output_type": "stream",
          "text": [
            "[[1 2]\n",
            " [3 4]\n",
            " [5 6]]\n",
            "----- flatten -----\n",
            "[1 2 3 4 5 6]\n"
          ]
        }
      ],
      "source": [
        "arr = np.array([[1, 2], [3, 4], [5, 6]])\n",
        "print(arr)\n",
        "\n",
        "print('----- flatten -----')\n",
        "print(arr.flatten())"
      ]
    },
    {
      "cell_type": "markdown",
      "metadata": {
        "id": "qC-VnpUc4NTM"
      },
      "source": [
        "#### `배열객체.transpose()`"
      ]
    },
    {
      "cell_type": "code",
      "execution_count": 4,
      "metadata": {
        "colab": {
          "base_uri": "https://localhost:8080/"
        },
        "id": "D3JjCwbM4ULb",
        "outputId": "d1651622-386e-4e7a-e9c4-0d657d3161d3"
      },
      "outputs": [
        {
          "name": "stdout",
          "output_type": "stream",
          "text": [
            "[[1 2 3]\n",
            " [4 5 6]]\n",
            "----- 배열 전치 -----\n",
            "[[1 4]\n",
            " [2 5]\n",
            " [3 6]]\n"
          ]
        }
      ],
      "source": [
        "arr = np.array([[1, 2, 3], [4, 5, 6]])\n",
        "print(arr)\n",
        "\n",
        "print('----- 배열 전치 -----')\n",
        "print(arr.transpose())"
      ]
    },
    {
      "cell_type": "markdown",
      "metadata": {
        "id": "3sdkF6t79EYR"
      },
      "source": [
        "## 배열 연결\n",
        "#### `np.concatenate()`\n",
        "* `np.concatenate(연결할 배열 리스트, axis=축)`"
      ]
    },
    {
      "cell_type": "code",
      "execution_count": 5,
      "metadata": {
        "colab": {
          "base_uri": "https://localhost:8080/"
        },
        "id": "CwpNr1Ox9K3G",
        "outputId": "489ece7c-9c0f-47ef-fe85-b36830b02b82"
      },
      "outputs": [
        {
          "name": "stdout",
          "output_type": "stream",
          "text": [
            "-- arr1 --\n",
            " [[1 2]\n",
            " [3 4]] \n",
            "\n",
            "-- arr2 --\n",
            " [[5 6]\n",
            " [7 8]] \n",
            "\n",
            "-- arr3 --\n",
            " [[ 9 10]\n",
            " [11 12]] \n",
            "\n",
            "----- 행 방향으로 concatenate -----\n",
            "[[ 1  2]\n",
            " [ 3  4]\n",
            " [ 5  6]\n",
            " [ 7  8]\n",
            " [ 9 10]\n",
            " [11 12]]\n",
            "----- 열 방향으로 concatenate -----\n",
            "[[ 1  2  5  6  9 10]\n",
            " [ 3  4  7  8 11 12]]\n"
          ]
        }
      ],
      "source": [
        "arr1 = np.arange(1,5).reshape(2,2)\n",
        "arr2 = np.arange(5,9).reshape(2,2)\n",
        "arr3 = np.arange(9,13).reshape(2,2)\n",
        "\n",
        "print('-- arr1 --\\n', arr1, '\\n')\n",
        "print('-- arr2 --\\n', arr2, '\\n')\n",
        "print('-- arr3 --\\n', arr3, '\\n')\n",
        "\n",
        "\n",
        "print('----- 행 방향으로 concatenate -----')\n",
        "print(np.concatenate([arr1, arr2, arr3], axis=0))\n",
        "\n",
        "\n",
        "print('----- 열 방향으로 concatenate -----')\n",
        "print(np.concatenate([arr1, arr2, arr3], axis=1))"
      ]
    },
    {
      "cell_type": "markdown",
      "metadata": {},
      "source": [
        "#### `np.vstack()`\n",
        "* `np.vstack(연결할 배열리스트)` \n",
        "    * 수직방향(vertical) 연결\n",
        "    * concatenate, axis=0과 동일\n"
      ]
    },
    {
      "cell_type": "code",
      "execution_count": 6,
      "metadata": {
        "colab": {
          "base_uri": "https://localhost:8080/"
        },
        "id": "7cE2XaCM_GEd",
        "outputId": "684ccdcb-c725-4ce9-8667-0c6f956138ac"
      },
      "outputs": [
        {
          "name": "stdout",
          "output_type": "stream",
          "text": [
            "-- arr1 --\n",
            " [[1 2]\n",
            " [3 4]] \n",
            "\n",
            "-- arr2 --\n",
            " [[5 6]\n",
            " [7 8]] \n",
            "\n",
            "-- arr3 --\n",
            " [[ 9 10]\n",
            " [11 12]] \n",
            "\n",
            "----- 수직방향 연결 -----\n",
            "[[ 1  2]\n",
            " [ 3  4]\n",
            " [ 5  6]\n",
            " [ 7  8]\n",
            " [ 9 10]\n",
            " [11 12]]\n"
          ]
        }
      ],
      "source": [
        "arr1 = np.arange(1,5).reshape(2,2)\n",
        "arr2 = np.arange(5,9).reshape(2,2)\n",
        "arr3 = np.arange(9,13).reshape(2,2)\n",
        "print('-- arr1 --\\n', arr1, '\\n')\n",
        "print('-- arr2 --\\n', arr2, '\\n')\n",
        "print('-- arr3 --\\n', arr3, '\\n')\n",
        "\n",
        "print('----- 수직방향 연결 -----')\n",
        "print(np.vstack([arr1, arr2, arr3]))"
      ]
    },
    {
      "cell_type": "markdown",
      "metadata": {},
      "source": [
        "#### `np.hstack()` \n",
        "* `np.hstack(연결할 배열리스트)`\n",
        "    * 수평방향(horizontal) 연결 \n",
        "    * concatenate, axis=1과 동일"
      ]
    },
    {
      "cell_type": "code",
      "execution_count": 7,
      "metadata": {
        "colab": {
          "base_uri": "https://localhost:8080/"
        },
        "id": "OH72Y_jZ_IsO",
        "outputId": "58720c3f-cbdc-43a5-89e7-e98a1e5c92d3"
      },
      "outputs": [
        {
          "name": "stdout",
          "output_type": "stream",
          "text": [
            "-- arr1 --\n",
            " [[1 2]\n",
            " [3 4]] \n",
            "\n",
            "-- arr2 --\n",
            " [[5 6]\n",
            " [7 8]] \n",
            "\n",
            "-- arr3 --\n",
            " [[ 9 10]\n",
            " [11 12]] \n",
            "\n",
            "----- 수평방향 연결 -----\n",
            "[[ 1  2  5  6  9 10]\n",
            " [ 3  4  7  8 11 12]]\n"
          ]
        }
      ],
      "source": [
        "arr1 = np.arange(1,5).reshape(2,2)\n",
        "arr2 = np.arange(5,9).reshape(2,2)\n",
        "arr3 = np.arange(9,13).reshape(2,2)\n",
        "\n",
        "print('-- arr1 --\\n', arr1, '\\n')\n",
        "print('-- arr2 --\\n', arr2, '\\n')\n",
        "print('-- arr3 --\\n', arr3, '\\n')\n",
        "\n",
        "print('----- 수평방향 연결 -----')\n",
        "print(np.hstack([arr1, arr2, arr3]))"
      ]
    }
  ],
  "metadata": {
    "colab": {
      "provenance": [],
      "toc_visible": true
    },
    "kernelspec": {
      "display_name": "z_venv",
      "language": "python",
      "name": "python3"
    },
    "language_info": {
      "codemirror_mode": {
        "name": "ipython",
        "version": 3
      },
      "file_extension": ".py",
      "mimetype": "text/x-python",
      "name": "python",
      "nbconvert_exporter": "python",
      "pygments_lexer": "ipython3",
      "version": "3.13.3"
    }
  },
  "nbformat": 4,
  "nbformat_minor": 0
}
