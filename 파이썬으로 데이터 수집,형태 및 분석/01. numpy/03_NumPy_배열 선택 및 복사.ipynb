{
  "cells": [
    {
      "cell_type": "code",
      "execution_count": 2,
      "metadata": {
        "id": "Yo6QwehtXlOp"
      },
      "outputs": [],
      "source": [
        "import numpy as np"
      ]
    },
    {
      "cell_type": "markdown",
      "metadata": {
        "id": "btTnbi10dX-o"
      },
      "source": [
        "## indexing & slicing"
      ]
    },
    {
      "cell_type": "markdown",
      "metadata": {
        "id": "lCXD07CWdbuu"
      },
      "source": [
        "* 1차원 배열의 indexing & slicing : **`[]`**\n",
        "* 2차원 배열의 indexing & slicing : **`[,]`**\n",
        "* 3차원 배열의 indexing & slicing : **`[,,]`**"
      ]
    },
    {
      "cell_type": "code",
      "execution_count": 3,
      "metadata": {},
      "outputs": [
        {
          "name": "stdout",
          "output_type": "stream",
          "text": [
            "arr>>> [1 2 3 4 5] \n",
            "\n",
            "1\n",
            "2\n",
            "3\n",
            "4\n",
            "5\n"
          ]
        }
      ],
      "source": [
        "arr = np.array([1,2,3,4,5])\n",
        "print('arr>>>', arr, '\\n')\n",
        "\n",
        "# ----------------------------\n",
        "# 인덱싱\n",
        "# ----------------------------\n",
        "print(arr[0])   # 1\n",
        "print(arr[1])   # 2\n",
        "print(arr[2])   # 3\n",
        "print(arr[3])   # 4\n",
        "print(arr[4])   # 5"
      ]
    },
    {
      "cell_type": "code",
      "execution_count": 4,
      "metadata": {},
      "outputs": [
        {
          "name": "stdout",
          "output_type": "stream",
          "text": [
            "arr>>>\n",
            " [1 2 3 4 5] \n",
            "\n",
            "5\n",
            "4\n",
            "3\n",
            "2\n",
            "1\n"
          ]
        }
      ],
      "source": [
        "arr = np.array([1, 2, 3, 4, 5])\n",
        "print('arr>>>\\n', arr, '\\n')\n",
        "\n",
        "# ----------------------------\n",
        "# 마이너스 인덱싱\n",
        "# ----------------------------\n",
        "\n",
        "print(arr[-1])  # 5\n",
        "print(arr[-2])  # 4\n",
        "print(arr[-3])  # 3\n",
        "print(arr[-4])  # 2\n",
        "print(arr[-5])  # 1"
      ]
    },
    {
      "cell_type": "code",
      "execution_count": 5,
      "metadata": {},
      "outputs": [
        {
          "name": "stdout",
          "output_type": "stream",
          "text": [
            "arr>>>\n",
            " [1 2 3 4 5] \n",
            "\n",
            "[1 2 3 4 5]\n",
            "[2 3]\n",
            "[1 2 3]\n",
            "[4 5]\n"
          ]
        }
      ],
      "source": [
        "arr = np.array([1, 2, 3, 4, 5])\n",
        "print('arr>>>\\n', arr, '\\n')\n",
        "\n",
        "# ----------------------------\n",
        "# 슬라이싱\n",
        "# ----------------------------\n",
        "\n",
        "print(arr[:])       # [1 2 3 4 5]\n",
        "print(arr[1:3])     # [2 3]\n",
        "print(arr[:3])      # [1 2 3]\n",
        "print(arr[3:])      # [4 5]"
      ]
    },
    {
      "cell_type": "code",
      "execution_count": 7,
      "metadata": {
        "colab": {
          "base_uri": "https://localhost:8080/"
        },
        "id": "IRwRKZF1ddtB",
        "outputId": "4981e4bb-69ea-4f43-af24-dbc264a725b3"
      },
      "outputs": [
        {
          "name": "stdout",
          "output_type": "stream",
          "text": [
            "arr_2d>>>\n",
            " [[1 2 3]\n",
            " [4 5 6]]\n"
          ]
        }
      ],
      "source": [
        "# -----------------------------\n",
        "# 2차원 배열의 인덱싱과 슬라이싱\n",
        "# -----------------------------\n",
        "\n",
        "arr_2d = np.array([[1,2,3],\n",
        "                [4,5,6]])\n",
        "print('arr_2d>>>\\n', arr_2d)"
      ]
    },
    {
      "cell_type": "markdown",
      "metadata": {
        "id": "8caUhFwkTQ4M"
      },
      "source": [
        "![image.png](data:image/png;base64,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)"
      ]
    },
    {
      "cell_type": "code",
      "execution_count": 8,
      "metadata": {
        "colab": {
          "base_uri": "https://localhost:8080/"
        },
        "id": "QmtIqf1Ebpwb",
        "outputId": "30407d94-8abe-4879-e9fa-1d48fc4389c1"
      },
      "outputs": [
        {
          "name": "stdout",
          "output_type": "stream",
          "text": [
            "6\n"
          ]
        }
      ],
      "source": [
        "# 6\n",
        "print(arr_2d[1, 2])"
      ]
    },
    {
      "cell_type": "markdown",
      "metadata": {
        "id": "Wo_NbwN6TMoX"
      },
      "source": [
        "![image.png](data:image/png;base64,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)"
      ]
    },
    {
      "cell_type": "code",
      "execution_count": 9,
      "metadata": {
        "colab": {
          "base_uri": "https://localhost:8080/"
        },
        "id": "rGDZDCs_QvcK",
        "outputId": "4500469a-0036-434a-841b-b2024bf5fd3f"
      },
      "outputs": [
        {
          "name": "stdout",
          "output_type": "stream",
          "text": [
            "[4 6]\n"
          ]
        }
      ],
      "source": [
        "# [4,6] \n",
        "print(arr_2d[1, [0, 2]])"
      ]
    },
    {
      "cell_type": "markdown",
      "metadata": {
        "id": "CWlRc7FHT9sP"
      },
      "source": [
        "![image.png](data:image/png;base64,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)"
      ]
    },
    {
      "cell_type": "code",
      "execution_count": 10,
      "metadata": {
        "colab": {
          "base_uri": "https://localhost:8080/"
        },
        "id": "JzlIvNP8UDTH",
        "outputId": "5cbf57f2-9a9d-46f1-83d7-ddb8d3db0b05"
      },
      "outputs": [
        {
          "name": "stdout",
          "output_type": "stream",
          "text": [
            "[4 5 6]\n"
          ]
        }
      ],
      "source": [
        "# [4,5,6]\n",
        "print(arr_2d[1, :])"
      ]
    },
    {
      "cell_type": "markdown",
      "metadata": {
        "id": "zg-n-mmgUYbB"
      },
      "source": [
        "![image.png](data:image/png;base64,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)"
      ]
    },
    {
      "cell_type": "code",
      "execution_count": 11,
      "metadata": {
        "colab": {
          "base_uri": "https://localhost:8080/"
        },
        "id": "BVMqPUzyUh5h",
        "outputId": "152c0b9b-e63b-45ca-d3b3-0f92d3a9b281"
      },
      "outputs": [
        {
          "name": "stdout",
          "output_type": "stream",
          "text": [
            "[2 5]\n"
          ]
        }
      ],
      "source": [
        "# [2, 5]\n",
        "print(arr_2d[:, 1])"
      ]
    },
    {
      "cell_type": "code",
      "execution_count": 12,
      "metadata": {
        "colab": {
          "base_uri": "https://localhost:8080/"
        },
        "id": "xV1iYHjlPtdb",
        "outputId": "dab2ad15-13c8-4033-fa7f-0d6952a609c1"
      },
      "outputs": [
        {
          "name": "stdout",
          "output_type": "stream",
          "text": [
            "arr_3d>>>\n",
            " [[[ 1  2  3]\n",
            "  [ 4  5  6]]\n",
            "\n",
            " [[ 7  8  9]\n",
            "  [10 11 12]]\n",
            "\n",
            " [[13 14 15]\n",
            "  [16 17 18]]]\n"
          ]
        }
      ],
      "source": [
        "# -----------------------------\n",
        "# 3차원 배열\n",
        "# -----------------------------\n",
        "\n",
        "arr_3d = np.array([[[1,2,3],[4,5,6]],\n",
        "                [[7,8,9],[10,11,12]],\n",
        "                 [[13,14,15],[16,17,18]]])\n",
        "print('arr_3d>>>\\n', arr_3d)"
      ]
    },
    {
      "cell_type": "markdown",
      "metadata": {
        "id": "aiFeISwmWYZe"
      },
      "source": [
        "![image.png](data:image/png;base64,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)"
      ]
    },
    {
      "cell_type": "code",
      "execution_count": 13,
      "metadata": {
        "colab": {
          "base_uri": "https://localhost:8080/"
        },
        "id": "en9l32gkeAj0",
        "outputId": "80f75843-20ff-40ce-a69f-93dec5f5693d"
      },
      "outputs": [
        {
          "name": "stdout",
          "output_type": "stream",
          "text": [
            "8\n"
          ]
        }
      ],
      "source": [
        "# 8\n",
        "print(arr_3d[1, 0, 1])"
      ]
    },
    {
      "cell_type": "markdown",
      "metadata": {
        "id": "cOS-weXwWrLI"
      },
      "source": [
        "![image.png](data:image/png;base64,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)"
      ]
    },
    {
      "cell_type": "code",
      "execution_count": 21,
      "metadata": {
        "colab": {
          "base_uri": "https://localhost:8080/"
        },
        "id": "qXhnqGvvXQI0",
        "outputId": "0a753a11-eac2-48d6-9a74-beab479f3fb9"
      },
      "outputs": [
        {
          "name": "stdout",
          "output_type": "stream",
          "text": [
            "[np.int64(1), np.int64(3)]\n",
            "[1, 3]\n"
          ]
        }
      ],
      "source": [
        "# [1,3] \n",
        "print([arr_3d[0, 0, 0], arr_3d[0, 0, 2]])\n",
        "print([int(arr_3d[0, 0, 0]), int(arr_3d[0, 0, 2])])"
      ]
    },
    {
      "cell_type": "markdown",
      "metadata": {
        "id": "CIi4ceVNXue6"
      },
      "source": [
        "![image.png](data:image/png;base64,iVBORw0KGgoAAAANSUhEUgAAAUYAAAEMCAYAAAC4FB/6AAAgAElEQVR4Ae2dTWgdVdjHUytVa+sHNdqFiIof1ApCUTeCAanWjYoIQdz5gUTEhaCCBEoRoW6yUgQhCze6ydJVFuaFSAuBWFOLgUAXMXTTTbqRLjPv+7/zPtOnp3PunTv3fM78F5c58z3nOc/zO//nnLn3Tu3t7RX80Ab0AfoAfeCGD0zRGDeMQVvQFvQB+gB8gGCkYmbGQB+gDxg+QDAaBqFioGKgD9AHCEaCkWqBPkAfMHyAYDQMQrVAtUAfoA8QjAQj1QJ9gD5g+ADBaBiEaoFqgT5AHyAYCUaqBfoAfcDwAYLRMAjVAtUCfYA+QDASjFQL9AH6gOEDBKNhEKqFMGrh2rVrxcWLF4vV1dViZWVlsMQ6tvepDba3t4vNzc3i8uXLvaj3lStXigsXLlTtjrZfX19Prv4EI8EYPCCvXr16U2AgOOQDUGJ/H+AIIEq9AYcu1/n69euDjlDqW7cEMFOxAcFIMAZ1RgTI+fPnB0BYW1urFCKUIgIDAQM44rhUgsT1c0Alahugzl0Ho3QCqDfUsWQGaGfZBzukopwJRoIxKIDg+AgABEgd/ABL7EewuAZSKtcDBAF/2AKpZV/AOKxNMYwCO6SiGglGgjEogAAFBIBNGQg4AchUQOb6OQBDuWZfwFjXCYoNsISKTqmDIBgJxipItaP6KsP58ZFUyrwPAkiOGRVM5rk5rvcFjKPahmAkiIKCaJRDhtyPSRVAD2nksPtKOq2V1bDjc95HMJZvQVy6dGngG1im0J5UjAR1MEdsCgFJt6EiUggSn8/Q1CY+nyH2tZE9oLPEx5ZJhH5GgpFgDAafphAQMA4brA8dKL7u19Qmvu6fwnVTbG+CkWAMBsam40gpBoovgPQdjJJCpzIbLe1MMBKMwcDYFAIEY5hvHwkEYi2lo8SYcmoTbQRjB8GIV14ELjLZgR4ZYIoVBLjvuGC0vdITsw6u793UJq7vG/t68u0njCum+E0ngrFDYMTAtczoyisv5nJraysaHAUCo95RFKjHBnkIeIhNUOcQ90vhHjLZAt9MEYqwEcHYITAKULBEmiLpCRxRvm4HZ4w186ffURwWoALzWM857Nlc7+sbGOED0nmnnBEQjB0CI+A37BUX+X5uTNUoQWF7TgEFntU1hFK8ntS3D4pRQzGmDzbxA4KxQ2AUhWhreJkBjPkaDO4NRWgDgajeVF70tdnS1fY+gVG+D42lK/v5ug7B2CEwjnKSFMAIeGPAHXCEwpV0Waf7Kb3oO8qmk+7vCxgFimjzSW0W4nyCsUdgHJXGhnA43ANptMBRxhP1MuWxJ9c26gMYpY66jYeVXdu4zfUIxp6AETCCM46aEW7jRG3OwWwkVIQAEkuoiVRnKdvUsck5UMoYXuhyZ0Aw9gQyTRw+pWN0+gonTenZ+Cz9eJk7t3amYuwBzCWFTn0mMLfg4fN2F+oEY8fBKBMuOcwEEjTdBU1ubUswdhiMGLeSccVRr/Lk5rh8XkLUpw8QjB0Fo0y22P5bxadT8dqEVu4+QDB2EIyY2cUsLz59m+XNPSD5/Gl0KgRjx8AoUEQKTSimEWSEXX7tQDB2CIwYR5QZ6C6/F0fQ5Aea3NqMYOwIGDUU+VoOwZEbiFJ7XoKxI2CUH2cY9lUr2Wf7AYfUnJPPQ8DH8gGCkWDkN2E64gOxINLF+xKMDAqCkT5AHzB8gGA0DNLF3g91+uGHH4rTp08X3377ba8/X3zxRfHll1/22gbwga+//rr49NNPe2+Hb775pjh79uwtHQPB2BMwHj16tLjvvvuKJ598stefw4cPF/j03Q733HNPcfDgwd7b4f777y+OHDlCMHZVEY6q18svv1x89tlntzjAqPO6tv/tt98u3nvvvd7b4cMPPyxef/313tsB2cMLL7xwix2oGHuiGAnGcoaXYCztQDCWdiAYewJAm8IjGAlG7RsEI8F4i0zWDtKXMsFIMGpfJxgJRoJxb68gGAlGgrH0AW0HptJMpTn5srdXcIyxhAMVIxUjFSMVY+UDBCPBSMXYc5WoHYCpdAkEgpFg1HHBVLrnkCQYCUYNBKbSpT8QjAQjxxg5xlgNKRCMBGPlDLrH7FuZipGKUfs8wUgwEoycfKl8gGOMJRAIRoKxCgrdY/atTMVIxah9nmAkGAlGKsbKB6gYqRh1B8HJF06+cPKFky9VB0HFSMVYOYPuKfpWZirNVFr7PMFIMBKMTKUrH2AqzVRadxBMpZlKM5VmKl11EFSMVIyVM+ieom9lptJMpbXPE4wEI8HIVLryAabSTKV1B8FUmql0kFR6aWmpmJ6eLqampoqtra0KSNoZUd7d3S1w7Ozs7OBYHI/P3NxcsbGxYT3PvM6466HA2NQO5vPDLjMzM5VNlpeXvdgilGJsage0u/hA3RI+ZdrKxTrBSDB6BePOzs4tkLMBDsEv8EQQAI4mIH0BwTcYx7FDXWAvLi7eBAis1x036TbfYBzXDmb7m3AkGHsOsEkd3na+zzFGrQq0g9vACCV5/PjxwoSfVksIBKzb6tN2u08wjmsHsw6ACYAA24hqzBGMbewgfmPzGdNWrtapGHsOXF9ghCNLMJ87d24AMunt2zg5rjHJ+aMCxhcYXdhB4AAbSDk3MLa1g9S3jc+MavNh+wlGgtFLKg2Vg+DV6m4SsElg4Ro+gsQXGCe1g3QIAAQCWUCRGxjb2kHq66PNCcaew2+YA/hSjHX3nASMAAHOzzGVNm3R1A7oVJA+43iABdcRUOQGRtMGWG9iB6kvwUiIOR8/q3NK2ZYDGDHmKJMyGKeSZ3e59KUY656xCRBwnnQGGoICCr2t7h5tt/mefNHP1cQOUl+MraKMD2aq4QfSWehruiozle45iFME4/z8fBUEAkQEhoxVunJ+fZ3UwIigBzigGPVwhICib2AUiJpLX3YgGAlGL2OMGjpSFqcelRZJ+ijHyxJKYdg7kHKfNsvUwCgANDsD2e4LCKkpRnQQpjLUk1DwDdNGbdrfPIdgJBiTA6N2UqglpNICSyhIH3BMCYwIdAQ8IKhtgXLfwGjWX6+LLeAberuLMsHoAIxXr14tNjc3Bx8XjRLyGimm0nX1ByAlra4DRt0542xLBYx1Ey66HgKDvihGXXezjA5Tsglz36TrBOOEYNze3i5WV1eLlZWVwWfSBgl9fi5ghF0WFha8BUIqYMQwA4IdnQAgaH6kc4BKwj6Mx7r0mdRS6WF1E1vBXsOOa7OPYGwJRqjE9fX1AQzX1tYIxgZ2lN591BijzZGhkuQatmPabk8NjFLPUUvXaWROYKRibBB0bQOi7XlInaESsbx+/TrB2KCNJMjbglHSSMxQt20323mpgNH2fLJdbMBU+sZ4KyblxD6ullSMDQK6zthQjACi7GMqXf5sldijbjkKjEgL8ambXNFqEUqh7vqTbCMYw//sWFN/MGelMQ4LP5Hz6/xlEl/AuQRjSzCahicYbwYjnNccHxNH1i/rauWj4afH2GRcDee7HlOTdvQFxjZ2kGeqW+aqGNvYQcNP+4z4EfzCRycJuxOMBKOX13XkBWVxYtvSTIPg6Ngmr+fgPJSxrW0KXgcYc5svMLa1g/l8sg47wCa+vgHka4yxjR0AU9QTnYHuHAFJTMSZSlJs5GJJMBKMXsDowjlDXsMXGEPWwcW9fIHRxbOFvAbBSDASjPwzrGrMlmAsh4QIRoKRYCQYCUaDAwSjYZC2cp2TLzdPvrS1Y6zzmEqHn5WO1dZN7kswEoxUjFSMVIwGBwhGwyBNepO6Y6gYqRjr/CK3bRxj5Bhj1Uu6cF6CkWB04Uexr0EwEowE495eEfJHJGIH/bD7c4yxBALBSDASjARj5QMEI8GoO06OMXKMkZMvnHypOggqRirGyhl0T9G2/D9TUwU/tAF9oLkPtI21EOdRMTpSjAyI5gFBW9FW8IEQgGt7D4KRYKTSpdqP4gNtoRXiPIKRYIwSFFSNVI0hANf2HgQjwUgwUjFG8YG20ApxHsFIMEYJCipGKsYQgGt7D4LRMxjbNkyu5/3777+DH1L18SfoOdnkv//+G9jht99+S3qSIYRNbZ1giHu3vQfBSDA6DVyCsXwPjmAs7QAwEYyOINOW8jHPy7HxfdiLYCQYTb+yxcbJkyeLVD9PPPFE8dhjj90iGqbMynH9Rg9YZwtb49cd2+VtBCPBaPq3LTY+/vjjItXPc889Vzz66KMEo9mY467bGn/c6+R+PMFIMJo+nGNscIzRUfqfY+ObDuxinWAkGE0/yjE2CEaC8ZZ0wXTscdYJRoLR9BeC0RFkTMPmsJ5j4/uwK8FIMJp+lWNsUDE6gnmOjW86sIt1gpFgNP0ox9ggGAlGptKOfEADge8xlh0EbEIwenAw7Wwpl3NsfB/2pGKkYjT9KsfYoGJ0BPMcG990YBfrBCPBaPpRjrFBMBKMTKUd+YAGAlNpptJOA0s7V07lHHtFH/alYqRiNP0qx9igYnSkFnJsfNOBXawTjASj6Uc5xgbBSDA6VfwEI8FIMDqCimnIHNdz7BV92JlgJBhNv8oxNqgYHcE9x8Y3HdjFOsFIMJp+lGNsEIwEI1NpRz6ggcBZ6bKDgE0IRg8Opp0t5XKMxj9+/Pjg5/OnpqZGLnd2dpwC0NYWMRXjxsZGMTc3V0xPT1f2mJmZKRYXF4vd3d0g9Re7xASjzQ7Ly8tBbSC2iBEbcu+2SypGRzCP0fjjgHFraytIUMQC48LCQgVD2GV2drYAFKXTQDkkHGOBEfCTOosdtJ/Mz88H8QMNpBixoe/fpkwwZgzGUQ0OpYQgQWCMOtbV/hhghEISGJiqCPtEQS4tLQWzQwwwajuYddXADP1HZQSjI8i4CtKQ10mx8UUpmLDwaZcYYJQOACqxrm6iJm37686ZdFsMMGIYAR2ErZ5Qi9iP4yat3zjnpxgbo56fitERzFNrfFEIUEshU8iUwRgSCDHAKB0hOoq6wNeKsm6/r2222BAlP2qYB+PjgLrUT7IgbPM1dk4wdhSM4kRQS74cvu66McAonQACxgwydAoSgCFTyBhgRP3xsYERtpBjAMm69vOxzQbGJs+CNpPj0I5Qw/jobWabu6gDwdhBMGpl4KtHtTlfDDDiWSRYEDwydICAkQmY0JMOMcAoNhjWGQpQcgCj7tTM9oNfS9v6yAQIxg6CUQLEdCYbzFxujwVGBJGMJSL4RTEDlDYF5bLe5rVigFHGWlFnE3ywj+yHfcz95vO7XG+rGHUHX/c8Wk3W7Z9kG8HYMTBCJcVQBeKEscCI+yP4RUWIDQDIkCm02CEGGM36wxboJE2bdA2M6AjE7q6WBGPHwAiVCMdHMLhyknGuEwuMSJ8RIKg7bAAYinLGNqRbAMc4dZnk2BhgxPOKMhTFjLqjDJtoBZaDYkS6jOfHx3z9CHWV9h02dNC2DQnGDoFRO5KMs7V1jLbnxQCjpFQAo6kOAQABpo+xKJudYoHR9jzYDmgKaEKOPbdNpfHMOv1HGXXAB22JukAAYH1YvdvsIxg7BEZxIiiENs7g4pwYYBR1VKcqUCetlHzMYNbZLUUw6g6k7pl9bZsEjHgmtKt0blhKGSrYBxRxz+hgvHbtWnHx4sVidXW1WFlZGSyxju2+GsrHdW2N7+NeddeEg4jDAJB1x4TYFhqMTcdURSmFSiFTBKMMs2AZwhfkHrbYGKdN5NnlHPi6Tz+PCsarV69WQAQU9QegxH4xbupLW+OHem70quI0vnrRJnUJDUY9fGCm0fK8sIfYpq9g1Ko5ZBqNNrDFRpM2QccnGQHGFNHGGpJIpX1kAdHAeP369eL8+fMDGK6trVUKEUrxwoULlXrEceLgKS9tjR/qmcV5QqsBs36hwYj7S90RJGbQA4oySI/jzOf1tR5DMQIQdZDQE1M+JipG2dAWG6PAiLa0ZUHYh/bGNdCursVANDBevnx5AD/AsQ5+gCUU5ObmZjBnHtXAw/bbGn/YOa72wfHFyUwwuLpH0+vEACNgIAEEOyBgAEMBIrZhfx00mtZr3ONigFHGmFFXqb+2S6xO0xYb4rM2FS/K0DZpBhhK/Wzjy+O2mxwfDYzr6+sD8AGQ8jB6KeAEIPX2VMu2xg/xvAIALEPcb9g9YoARz4MOAWpIVIQEHdax3bWiGGYD7IsBRtQRMBEFDRugjG02+Iyqh4v9ttiQNrI9m0Bv2Fii+P6wY9rUIRoYZTzRNskCFSnH1CnKNpX1eY6t8X3eM8VrxwJjaraIAcbUbCDPY4uNUWAUwA9L/6Uj7AQYMakC6GGCRYxXt5R0+sqVK0OPqzs39DZb44d+jtj3Ixj5ny+mD9piYxQYJZWGcqxTlQCmXMP1EFIUxQjQAYxIp00j6nVJt7e3t4cep8+JVbY1fqzniXVfgpFgNH3PFhsCNT0mrJUfhgZEEeJYKMi6sVMfX2bIAow5TMDYGt90kq6vE4wEo+njttgQMOqlOdECOGJiRcYS5VgZO/U1oRYFjFCA4yhGgvHGP66ZTpfaOsFIMJo+aQOjeVxK61HAOG4qTTASjCkFTZNn4eTLDZ8lGBt+73hcMNpe6WnioKGOybHxfdiGipGK0fSrHGMjqmIc9Y6iTL5wVvpG72s6XWrrBCPBaPokwdhQMep3FE0j6nV5j9H2rqM+NnY5x8b3YTOCkWA0/SrH2IiiGGE4eUfR9iqOpNv4yqBp6BTXc2x8H3YkGAlG069yjI1oYMSEyrCZaUmjL126RDA2VOKmQ8ZYJxgJRtPvCMYxAhjptPwGI35NR9Jl89d1ZLtp7NTWc2x8HzYkGAlG069yjI1oihHGQxotcJTxRL3MYTZanCDHxpdnd7kkGAlG059yjI2oYIQB8b1p8xe8oSD/+OOP4p9//snmY2v8SesAZT3pNUKe//vvvw++v/rLL784fe6//vrL6fV82+TPP/8c2OHHH390+ty4rgme1NdtsZHyc0cHY51xnn766erL4fIVoNSXtsaf9LkPHDiQnS0mrTPPL/8Zr84O+/btIxjHGLKr40uTbUmC8aOPPipeeuml4u+//87mYwPjJHX44IMPihMnTmRjg0nqOuzczz//vHj44Yd7b4czZ84Uhw8fJhj7DMZTp05l5QA2MDbpnWzHfPXVV8Xzzz+flR1sdZlk+9mzZ4vHH3+893b46aefinvvvTc7O/iIjUn8qcm5ySrGroDR5hTcPmX9kyTaph+2aQKoWMcQjI5kOYO5H8HMdnbXzrGg1+S+BCPBSOX2f3+gReCFt0ETQMU6hmAkGAkFgjGKD8SCXpP7EowEY5SgoEILr9BSs3kTQMU6hmAkGAlGKsYoPhALek3uSzA6AmMTY497DF/XKb9ex9d1Sjvk+rrOnXfeWdx2223F/v37s/ngRfpDhw7d8mrU1LhB7PJ4vOCd2+s6Lusv1yIYCUbxBSxzBuMnn3xS/Prrr1l98PVWbX+UCcYElCTBSDDqwMwZjD///PMtkNF1y6VMMBKMyTgyU+n8U2mC0QFQmEqXgUDFSMWolRQVY+kP2iahy1SMDgA/aaMRjASj9iGCMQMw4j9Z8LuJ8sOy+G8W/F0Bfj9QN2abMhVj6QAEI8Go44dgTByM+GVtAaK5xJ9cTQpHgpFg1EDgGGPpDwRjwmDEL24LDPHL2wJBKEj55z/8kZV27HHLBCPBqH2GYCQYtT/ELFvHGAFDgBFptPmA+OMq+Q8XgNLc33SdYCQYta8QjASj9oeYZSsYRS3a/r1PwDnJ354SjASjdn6CkWDU/hCzXAtGqECAERMttofDP//hGKTVtmNGbScYCUbtIwQjwaj9IWa5FoxbW1vWNFoeFmOOoipl27jL2GDc3d0tFhYWBn9CNT093Rrw49bbPD7WrPTGxkYxPz9fHD9+vPojrpmZmWJxcbGAbczn9L0eC4x1doBNYtmBky9lB+Hb34ZdvxaMeB0H0MNy2MkCRpmYGXZs3b6YYEQwaCDgn9rqnjHEthhglA6h7h/qsA2ADA3HGGAE/MQG8IfZ2dmb/CKGHQjGjoCx7QRMDDBqlYiAQCBIYISAYN09YoBxbm6uwOfcuXMVAHd2dgbbxB6ARt3z+toWA4ywAVQz6q7rtby8XPlFaDsQjImCERMq4yjGnMAoCgFAxJABlKOAQAdGyHIMMA6rnyhpqKVhx7neFwOMw+qA+kvnOew41/sIxkTBOG4qnRMYoZCgBsSZCcZbnTCWik4NjGIHLMVfQizrwKgznVHj4VC/GCoRsAPu6OzqlLHL+uD3GDv9IxLjgtH2Ss8oo8dIpc1nIhjtYAwNhJTACBABQIBK7FR6nPFwdPySAdUtUSdkSmYcuFjvDRhHvaMoky9tjUowllBKLZUWIEBhtG3bNuelAkY91gqlFXoSShSjVomAnChYlG32XVpaGihFZEUyborryBCSXMd2/iTbOw9GeUdx2Ff+mrzrOMrIBGN6YNSTDhJYo9rR1f5YYIQiA3TwkfQTnQM6htBQhC0FjAIzPJeL8XDUR1Skj3p1Hoz6HUXbqziSbuMbMG0Dg2BMC4wIFlGLGKNq265tz4sFRt0ZCDiwhFoMnUZrMLoeDxfQom7oDNq2k+28zoMRFYdatM1MA5byXWmoS5uhRm0nGNMCo6glLH0oilH+EAuM5nNBnWl1FXpIQRSj+VyTjodrMJrXdrHeCzBKqixwFOWI7fLrOpN8HRANQTCmA0YBARRj6BRagjIVMMrzaJD4UFhyH3PpC4x4Z1OUsHlPF+u9ACMMJemyTLLoJRQjfppsEoMSjGmAUUPR14xlEz9JDYxQzZJah0ypfYARnZ3URb+u1qRdmh7TGzDCIEiVzV/w1r/P2NRodccRjPHBmAoU4R+pgRHPJDDJHYwyo41hkrpYdLGtV2B0YTDbNQjGuGBMCYrwkdTAqMf0MBFi82PX210rRvlePIZJfGYEBKOjP5AiGOOBUWZifQfLONAIDUakl5h5hi3MySYARCajcMw49Zj0WJdglHaG8vUNd4IxYzBCBcg7a/q9NTiO3u7biXTwxHjBW1LEUUuoSv2sPsuhwahfT4IdAELTJ2J0HK7AqKGIss+2w7UJxozBqJ1lGBTwDQLfjiTXjwFGBPyw+su+LoMR9odqRKoJIEqdscQ6xhVNJSlt5nPpAozaz0NAEfYgGDMGo0+HbnvtGGBs+6w+zwutGH3WZZJrTwrGGFBEfQlGgtGpmiQYy7FWgrG0wyRgxNioZAOhlKJ0AgQjwUgwOvIBCSosCcabwdhmPNwcEtDDA7rsY0KJYHQUFCnMSuvAjFWmYqRi1L4nilGnxBpqZlmPh8u3W8xjzHWCsfQ5bXddrv3PF32AzzLBWDYOwUgw6jgTMOptOZSpGKkYmUo78gEd8Eylyw6CYByu5rTP+CpTMXoI8HEbi4qRilH7DMFIMBanTp1yqr60g+VSJhgJRu2rBCPBSDDu7RUEI8FIMMaHoW4DptJMpZNR7BxjLOFAxRgfkgQjwUgwJuADWq0QjAQjU2mm0hWYqRipGHUHEbNMxZiAWuAYYwkEgpFgjAlDfW+CkWCsFJt2jBhlgpFgjOF3dfckGAlGgjEBH9DByTHGsoPQNgldJhgTCAqm0kyldeATjAQjJ184+VIpVqbSTKV1BxGzTMVIxViBKaYj4t4EI8EY2wfl/lHB+P777xfHjh0rvv/++15/Xn311eKRRx7ptQ3gA2+99VbxwAMP9N4O7733XnHw4MFkOiyBxaglf13Hkcp68803i0OHDhUPPvhgrz8Igttvv73XNoAPwBf279/fezscOXKkuOuuuwhGR5wZBfS6/VEVI3+PsUydOPlS2oGpNFPpOkjF2EYwRuyVpMEJRoJRfAFLzkqX/qBtErpMMBKMyaRsVIxUjKEBaLsfwUgwEowJ+IAOUChGjLXif1ly+uzbt684c+ZMMv6kbTpumWBMICiYSjOV1oELMN5xxx3F6dOns/qcPHmyE1BEWxCMBGMyzsxUOu9UWsM99zLBSDASjAn4gAZJrpMvug65lwnGBIKCqTRTaQ0SgrH0B22T0GWCkWCkYkzAB3TgE4wEI39Egj8iUYGZY4wcY9QdRMwyFWMCaoGpNFNpDQEqRipGKkYqRipGo3MmGAlGgpFgJBgJxsoHtHKOWWYqbThljMZgKs1UWvsdFSMVIxUjFWOlFjj5UgKBYCQYCUaCkWA0shaCkWAkGAlGgpFgrHxADynELHOM0XDKGI3BMcZSITCVZiodI/7q7tkYjNvb28Xm5mZx+fJlZ3TnL3iXgUAwEow6OJlKl/6gbRK63AiMAOLKysrgs76+TjA6VpkEI8GoA59gTByMUInnz58fAHFtba2zYJyfny+mpqYGH5S1k4YoxwDj1tZWVWepu7lcWloKaovYqfTGxkaB9sePw4otUMa23d3dYLYgGBMHI9Th6urqIH2+cuVKJ8GIYJAgwHJ2djZYAAh0Y4DRrLe2gZT7BMbFxcXKD6anpwd+AF9AGfaAvaS9fC8JxsTBCBiKE3QVjKIO5ubmBgHQNzDGqK/4lLmMpRjRAQzrDKCuqRjjw8r0F5/rjcYY8QBdBKOohIWFhULKMUARUzHGqK/NoWOAEcATVRhaIdvsQMUYH8K9BePOzs4gIBAUCA6CMb4zxgCjqEVkDjZQhd5OMMb3xd6CUVLn5eXlQUAQjPGdMQYYoZiRRiNrCA1A2/0Ixvi+2EswysSDTiP7CkY90QB7ABDnzp2LAokYYJQ0Olad6+BIMBKMUb4SKBMuGFQXx+wrGGXSwVzOzMwU2j5iJ5/LGGCUeiNzgA+g3rIN0MSrOhh28Vlv89oEI8EYHIwCQDN1ku1aRZoO62s9xuQL6mK+ggIAwA6iogAJX3Wuu25MMAoM0WnCB/CRbbBHyE6CYCQYg4LRnHDRwdlHMOr667IMNQAMMgar9/sqxwQjxpxNZYh1UZAhO0yCkWAMCkZzwkUHOMF4szPKcAPsou3ksxwTjKZ6lnqiYxDlKNt8LwnGm6yG3v4AAAMdSURBVH3Rt73rrt+ryRdxcEmV9FJAgLRJtod6qTdWKl3nELINNoC9+g5GrZ7FNr6XBCPBGFQxChibLs3UyldApAhG6Si6DkZJlW0vdxOM8SHlK+6GXbdXinGYIZhK3wgADYOQkw4xUmlMwqGjhEKu8w/ZH3Iiiorxhi/WtUmIbQTj//+EWJ/ACCUMRVg3sQIoyqw0xmRDOKHcIwYYYQvJIEzVqMcX62wlz+16STASjEFT6WEO3DcwCgz0mKqkz6KgQo2xSrvEACPuLaoQ9YYNoB61LUL/FB3BmBEYr1271ulf8JbvzIZWSQjMGGOMUIYIeBljAxQASdQ/pDoSKGIZC4y4N775IhNO2hawk37GEGWCMSMw+nAI/rVB6QAxwOijPSe9ZkwwTvrsLs8nGAnGZFJpl4497rUIxjIQCMbSDgQjwUgwRkqlx4V3iOMJRoIxhJ81uUfjWekmFxv3GKbSZSBQMZZ2IBgJxnEZ4ut4gtHxP/61aSiCkWDUfsNUuvQHbZPQZYKRYAw+62pzcipGKkabb4TeTjASjARjAj6gA5+KkYqRky+cfKnATMVIxag7iJhlKsYE1ALHGEsgEIwEY0wY6nsTjARjpdi0Y8QoE4wEYwy/q7snwUgwEowJ+IAOTo4xlh2EtknoMsGYQFAwlWYqrQOfYCQYOfnCyZdKsTKVZiqtO4iYZSpGKsYKTDEdEfcmGAnG2D4o9ycYCUaCMQEfkIDEkqk0U2mm0kylKzBTMVIx6g4iZpmKMQG1wMmXEggEI8EYE4b63gQjwVgpNu0YMcoEI8EYw+/q7hkVjKdOnSoeeuih4p133un156mnniqOHj3aaxvAB5599tni7rvv7r0dTpw4URw4cCCZDqsOHF3fFhWM3333XfHiiy8W7777bq8/r732WvHKK6/02gbwgTfeeKN45plnem8HdBLHjh0jGCNmc1HB2PVeh/UrU0PagXbIzQcIxoi9Um7Owucl4PriAwQjwciUjT5AHzB8gGA0DNKXHpH1pPqjD9h9gGAkGKkW6AP0AcMHCEbDIOxF7b0obUPb9MUH/he3oF2W5I9kCAAAAABJRU5ErkJggg==)"
      ]
    },
    {
      "cell_type": "code",
      "execution_count": 16,
      "metadata": {
        "colab": {
          "base_uri": "https://localhost:8080/"
        },
        "id": "CnEBry8DXt-h",
        "outputId": "5a1b6e47-de1b-4e36-b43d-cc27e6de727d"
      },
      "outputs": [
        {
          "name": "stdout",
          "output_type": "stream",
          "text": [
            "[7 8 9]\n"
          ]
        }
      ],
      "source": [
        "# [7,8,9]\n",
        "print(arr_3d[1, 0])"
      ]
    },
    {
      "cell_type": "markdown",
      "metadata": {
        "id": "kRB8qk5uXTS0"
      },
      "source": [
        "![image.png](data:image/png;base64,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)"
      ]
    },
    {
      "cell_type": "code",
      "execution_count": 17,
      "metadata": {
        "colab": {
          "base_uri": "https://localhost:8080/"
        },
        "id": "W2fszrzuhaUa",
        "outputId": "c585d91e-cae7-44e7-f4b2-babcf1e277e0"
      },
      "outputs": [
        {
          "name": "stdout",
          "output_type": "stream",
          "text": [
            "[[13 14 15]\n",
            " [16 17 18]]\n"
          ]
        }
      ],
      "source": [
        "# [[13,14,15][16,17,18]]\n",
        "print(arr_3d[2])"
      ]
    },
    {
      "cell_type": "markdown",
      "metadata": {
        "id": "sNlRyO6GYyNL"
      },
      "source": [
        "![image.png](data:image/png;base64,iVBORw0KGgoAAAANSUhEUgAAAVgAAAELCAYAAACcdp4ZAAAgAElEQVR4Ae2dPYge1ffHVw3RKMbCpBGshERdMEIwogiLVqKF3TaCiCCsL40BEYyCpDBVFIQ0mk5SSAq7hDT5QSSB1bBsiAQWIoSYxma1Wqyc///7PJzds3fuzDMv9/W532KYO3fmmbnn3HM+99wz93mehf/++6/iRh3QBmgDtAH3NrBApbpXKnVKndIGaAOwAQKWETxnMLQB2oAnGyBgPSmWEQwjGNoAbYCAJWAZvdAGaAOebICA9aRYRi+MXmgDtAECloBl9EIboA14sgEC1pNiGb24jV5u375dra6uVpcvX55sKKOuJD1vbW1Vt27dmmx///333Msu8up+v3btWnXjxo0qF/kJWAI2eUeFQwlYzT3OlQDZv/76a9cAc+/evbmWG/JduXKlsd9xLgcdELAEbNKOurGxse1kKAtMEb2KAyKqk/p52yOKkwEG8iKCwyCTA1zG9IUMpJBdy4qyRLTQxZhnhPgsAUvAJm2kAhQNV3GMO3fuTGAD8ABEUj9PewAFsFlbW5tMi69fv14EYAFRRO22vkR6QADcdI3tczHqCFgC1mrEMYzRfKbApS1SEQADtubn5+EYMNH5xlIAO2vAlChWR7cp9jcBS8AmCyZM/RGptOVZb968ObkG+xQdzHWbSgHsLL0RsARXEQ4/yxHGnMe0GIC1pQfkvpImAHikbp73BOx/k3SQpAhmRbqxbYERLAeCZMHUBSaSRkBEE9uZQjy/i05CtCPmM3KatRCwBGyyYOoCEwEsIpqYTh/q2V10EqotMZ4j/Z3Li00CloBNFkxd8mzicASs2y92xIDnrGfiZZ8szUt99YDIQsASsMkCtku0RsDOP1gFVjLg5vQNPgKWgJ0LwLYt5RIHnYd9l0FnHuQ0ZZAvW7StKDE/k8IxAVs4YPEWFsuhJDrAVBuwgiHr9ZcxjFVg0rbGVSJYXBujjaGfKTqB3KGfHet58lILq0pitWHocwnYggELJ5Wclix70Xuci+nI4lhtX4XtslZ2qHOk+LnSAIt0AGwSAUDqS7Js9kLAFgxYgSmiVQ1SlCWijTn1ljWuaIvNeFEnwMkpL9ckS5d6kVf3V5fP5XiNwBU2mCNcoXMCtmDAAlxNb2ORHhAAN13j22nhVBJh24CCOmljrg7YV4elABY2h77HFsv++vaN7XoCtmDAzoKSRLE2uNmMyUedpADgaDpKRVngW8rXZKHfEgArcMXgmTNc0V8EbMGAnQXEFACroSLRqt6jjbMGilly5nS+BMCKjLqfm8pt+fkU+pWAJWCt+U1AS4w6BYDh9wgE+GgXyqk7lw8HR+QOuWOv8PAhm9yTgCWUrFASA5mHvbzBL2n6PQ/9RhnS+uIFI1gOFrXBQl4eIceZQvRKaKQFDfZH9/4gYAnYXYDN8fvedPjuDk9dhdUVAUvA7gKs5Dn1G3s6ZVinpL7nR98ELAG7Ddhcv+9NIM0PkOatLwlYAnYCWHmpleP3vefNKSnP/AwYBCwBO1nAL0uf+FJrfpyboI7flwRs4YBFrhVwzfn73gRJfJCwD+x9QMAWDFj5SmLu3/emc9udm3qJrxcCtlDAClwRveb+fW+CJD5I2Af2PiBgCwXsPH0dkc5td27qJb5eCFgCdvs3BxDN2rYSv/NPOMWH0zz0AQFbKGDnwXgpAyGYug0QsATs9hcNtLG+8MIL1aefflr89tFHHxWvA9gB7WHqCy+++KLVX7Tv6DIBS8DWDOa3336rFhYWqiNHjlTHjh0rdoP80MPi4mKxOkD/Hz16dKKHw4cPF60H6OK+++6rvvnmm5rPaKjqMgFLwNaMRQBb+u8R/PHHHxOw/PrrrzUdaSea9zJ+AAgDzcWLF4vWA/p5z5491blz5zrrgYAlYGvGQsBOc5sE7FQPBOxOrpuAJTBrwOwbYRGwBKy2GQKWgB0NFW1QpZcJWAJW+wABS8ASsA4jdwKWgCVgd6CqdcEUgUPQaMWWVCZgCVht74xgd2BLwBKwo6N5ApaAJWB3oKp1QcASsASsIxvgKoIpZBjB7sCWgHXkXHrUKq3MCJYRrLZ5ApaAHR21aYMqvUzAErDaBwhYApaAdRi5E7AELAG7A1WtC6YIHIJGK7akMgFLwGp7ZwS7A1sCloAdHc0TsAQsAbsDVa0LApaAJWAd2QBXEUwhwwh2B7YErCPn0qNWaWVGsIxgtc0TsATs6KhNG1TpZQKWgNU+QMASsASsw8idgCVgCdgdqGpdMEXgEDRasSWVCVgCVts7I9gd2BKwBOzoaJ6AJWAJ2B2oal0QsARsNoC9e/dutby8PPk7kpWVldZ2r6+vVydOnJj8Pxb+vkT+K+vs2bPV5uZm62e1g/Qph1pF0EcPZvsvXbo00YXowzzv4jhUBIt+PH369ESegwcPtvYpzosd2Paz7GmoXghYArbVMLsYVogI9vz585V2EoC2qW2AqDgR/oAQ12IvdUtLS14gGwKwffRg6gdA0jqEPsxrXByHACwGUN2ns2SRvm/aE7AEoRdncOFQPgGrozXAAXCEk7QBFs6C6BWf1fLp6A0Q1udclH0CdogeTJmgE+gO+hHQmNe4OPYJWB21ih10kaXLNS5kN+/BCJbgHg0an4CVlADgAOeS6LQNsKaR6+MugNbX9yn7BOxYPSDiA2Qgv5Rx3Ee+rtf6BKzu/42Njc6yELAEnRdj7+oUY67zCVhMiQEEaZ92MKnrsxdQDQV027N8AnasHmRggS5zBuzVq1crzESkH7rKQsASsNtGI8aTy94nYE0djAGszkHiPua9xx77BKzZtj56AJwBGMwCcJ+uUDKf2fXYZwRrtqGrLAQsAevc4U1j9HWcA2CRw5TcI16OALau9ZEiYGVQQf5aZO4KpaH6SRmwmLnIhgEH0bDoZai8bZ9jDpZgHw2aFAELiIgjyfQYkJFcbptTDD2XImAhL6I3RLEiV8mAlUhW72EXSD2IflzuCVgCdrRhpQhYvWJAOxOiVx/pAThlaoAVkGKA0dCQeuhF17sqpxjB4oWYjlRRho3IUi9A1lx14kIfBCwBO9rJUgSs6RxwMInmABaUzWvGHqcGWIncAVQtW4mA1fLrMkALuPqyCQKWgN3lfNr4upZzAKzIIi+H4FAmeOSaofuUAGu+2NIyEbC7v9YqA6+PlSUEbEKARZR169at6t69e6Ohpx3KdzknwCJiAVyxuU4VpARYwAIyIoqVXLTsJbLFealzOdikmCJo8wEZdKGLtuuGnCNgEwDs1tZWtba2Vl2+fHmyAbJDOjPWZ3ICLHRUEmBF1ll7vbZ0rB3lBlhGsAlAcKzRNX0eML1y5coErKurqwTsjL4eG23o6bHrN8cpRbBN9oZ6rYO264aeywmwOgerV1oMld38HCPYGQ5tKsz1MaJWgBVpAcAWx4xgd+fItM5nARZvgvFm2La+ESkYmR7jGn1fF2UCdtpvqQEWfQ67AUx1P8NWtD2Y5/W1Q8sEbGTA6nwrAVsHK6IKyRNir5fV6HpZYqMjEkyL4UC4ThwJdXhrDNgOdZqmz/kEbF89NLUR9TlHsGi77nfdr7pez07EZtD3co3+HM77sAfomoCNDFjtCARsHbCSH5uVQ9QOAtjid0LhTPpzOLZFMroPxpR9AnaIHppkga5koGm6Zky9zwi2aX2z7meU9XS/zR5wnY/IVfRHwBKwoyO5kC+5xHBT3PsEbIryNrXJJ2CbnplqPQFLwBKwjmyAgA2fg00VrNIuAtaRc4lCx+yZIqinCMboM/RnCVgC1rQ5ApaAZQTryAYIWAKWgHXkTKYiXRwzgmUE68KOYt+DOdgdO2YEmxBwCdgdw4wNiSHPZwTLCNa0GwKWgGWKwJENELAELAHryJlMRbo4ZgTLCNaFHcW+B1MEO3bMCDYh4BKwO4YZGxJDns8IlhGsaTcELAHLFIEjGyBgCVgC1pEzmYp0ccwIlhGsCzuKfQ+mCHbsmBFsQsAlYHcMMzYkhjyfESwjWNNuCNiEACs/Wah/YcvssBSP+VsEU7AQsASs6Z8EbEKANTsnl2MCloDVtsoUwdQeoBMCNjHA/vvvv5Of2vvhhx+qXLYvv/xy8vN3X3/9tdM2f//9907v51ufp06dmujhiy++cNruzz77zOn9fOvhu+++m+jhk08+cdruzz//fPQLWT0QhCgTsIkB9plnnpmMevv3769K3vbu3Vvt27evaB2g/x988MHq/vvvL14PDz30UPXAAw8QsCFGhXl+xrvvvlu9+eab2RmS6z45fvx49dJLLxWvh5MnT1aHDh0qXg9nzpypDhw4kJ0eGMEmFsESsNP8FQE71QMBO9UDAZsYqFxHVKHuR8ASsNrWCFgCNruwXRtwamUCloDVNknA7gAW0+2jR49mtSGH/tNPP3Vm5ILufJanne9SDwQsAavtiYDdASxeemJFRU4bXlCeO3eOgNVGHbNMwBKw2v4I2B3A8iUX87CdRyrtRLpMwBKw2h4IWAJ2NFS0QZVeJmAJWO0DBCwBS8A6jNwJWAKWgJ3agNYDl2k5hIxWbGllApaA1TbPCJYRLCNYh4MLAUvAErCMYAlVh1DVDkXAErDaHhjBMoIlbB3CloAlYAlYRrCEqkOoaociYAlYbQ+MYBnBErYOYUvAErAELCNYQtUhVLVDEbAErLYHRrCMYAlbh7AlYAlYApYRLKHqEKraoQhYAlbbAyNYRrCErUPYErAELAHLCJZQdQhV7VAELAGr7YERLCNYwtYhbEMD9tKlS5N/AF1YWJi5P3HiRLC+jvmXMdDJ8vLyLn3gGPUafiHKsQC7ublZnT17tlpaWtrWw8GDByvYwN27d4Prgb9F4BAyIQw31WekDNiVlZVgjhULsBooKAOsi4uL25AJOcjARmMAFnDVeoAO9IAD0G5sbASzBeiBgCVgnRhcaMDOGmjgbHAoRLghI7gYgEXEBjltADl//vw2ZEPCJQZgBaaArI5WNXhxbpbtuDxPwBKwTgwuNcBKCgFRnEuHmXWvGIAVsAC0tvZJVNd03vaZsXWhAYvBQ9JF6+vrNT0AuHI+5EBDwBKwNWMc4lypAVamxyGhAr2lDFhEs0P6dshnQgNWBlRAtKm9swaips+NqbcBFhH16dOnt2cds+6PAQNpLpmRQUYMmrBt3GvW54ecxx818j+5EhocUgKsdjZfBthktDEAi/wqnA6DiikvnBPn4Jx62tzUflf1oQEL2EBObE0yCNQA2qZrXNebgEV/yOA/q71oi7QZ1+JzaLvMSFCHstnnLmQgYBOCKzo0JcBKpBL6xQ70EAOwcDCJbuBwMkW+evXqdn3IPDT0EBqwMpAAOk3AEQjHACzapGEpNor2NgFRy2T2H85Jn/uYmRCwBKzVMLVRhozYxEliABbPhqzaaSVKwh6glfaF2ocGrB5kMLCakIVdSOQXA7Aa7sgBaztt6hP9Gds1Amwf8hCwBKwVGshVISrwYXQ2IzfrYgEW7YDjSlQDHYgeQr7UEX2EBiyeq1ND0ANsAJtNJ9JO33tJEWCQ01GoS8D6WIZIwBKwNcDqN8UxojY4ayzASjQDmCDygTNLFAvQos43TPT9YwAWzwe4ZJDVgwym0aKjkIOvAFbrRtop7TPPybEeMMxBUkfsPmydgCVga8DQL3vESEPvYwBWwIEpsOmIeh2sj1xdk35jAbapPagXPYXMzY8BLNqMwQAgxsApETD6WNIdvmQhYAnYXYDVI7oYYpuz+ToXGrA6ajfhKjJKLg9OKnW+9ykCVqAUcqAZC1jYtQwMAK3MSmSm4qsf5wawt2/frlZXV6vLly9PNpRR50txvu4bexWBhoj5gsOXzLb7hgasjlBt7UFdl3xf02eH1qcGWD0QoTxUrr6fGwtYPA/2LIODpBV8v7ycC8DeuHFjG6wCWNnjXN/OjHl9bMBiRIfxYbSPqYfQgNV5uqaBBTk6ccxQukkNsDLV9jWlbtLrWMCif8W20Xb0pciCPkW+uanfm9rUpT57wGI6JzDVUztEr1euXJmcu3XrVlRYdOkIuSYmYDVkQkYnIrvehwasjszggKazwbZkWhkSLjEAC/iY8kM/8tILoAptH2MAKwMj2o2ytjPMSgS8XEVgyZdeu3ZtAlENV1HgnTt3JucA2q2trV2KlWtS28cEbAyANOk/NGDRDj3AIKpBhINNTytRNuHTJIOL+hiAlSgdspryA0Y2X3Mha9s9xgBW7LopZ6xTP65lyzqCvXfv3gSggGxT5wiAAduma1KqjwVYbWQox9ZJDMBCZsiOCFWcUmAD0DQ5qE9dxQCsOX2WwQbyhxxctF6HAhbAlD5ss+su1+j2dC1nDVhM/ZEeaMuz3rx5c3IN9l2VEvO6WICNKbPt2bEAa2tLzLoYgI0pb9OzhwJWp37M9IA8C4MGAWtJD6ytrU3g2RbWS5rg+vXrBKxFh2Jkqe0J2OlfpRCw7X8Zo2deTTYssxGkPMzcMeCK2QkAi+ua7jG0PusIFtBEBItUQZMCJI2AZVtN16RUzwiW/8ml7ZGA3Q1YABVAlE3nx6UOex2tIgCTF1kAqeSWcZ1Err5yy8UAFiDWhptqmYAlYLVtErC7AWu+iBRAmnszX47IFUsPNZAFtqj3lVvOGrDyxYIuESwBOzVU7bwpl5kimPYXAbsbsCnbrK1tWQO2T4qAgCVgbQ6Qeh0BS8BGm3r3AWzbUq6UnIwpgqlDMYKd6oGAJWCjA7Ztjau85OIqgqmhpjSYtLWFgCVgtX00LdPS16RYzjpFIGtc274K22WtbEodwwh2ChYCloDVfknARlhjKWtc25ZgSRohl1/WImAJWA0Wpgim9kDARgAsfl9AftDFtpJA0gN4wcXfIpgaqnbelMuMYBnBavskYCMAFh0gKQCAVkep+te0cvmaLORxHcH+7/8XVnOr60A7b8plRrCMYKO95BLHkDQAIlVzQ/ogl+iVgK2D0NfgILaT+p6AJWCjAxZOgq/DyRcPAFmUf/755+qXX37JanvjjTeql19+2VmbfQEq9/vmYhfvv/9+9eSTTzqzB8h94cKFJHy2z+DGFEGkFEFTJ/3555/b3zM2v0ZX0nHuIPTV/pJswCbrq6++mhVkCdjEAPvPP/9MAPvjjz9WgG2pmy9A5X7fUu0Bch86dKj66quvCNgAzMp6HWxT9Ip6AWyO06E2ufqeyx2EvtrfV4/zdP2zzz5LwAaAK2yGgA2k6FgO2gSoWO0J/dzS5bfpm4ANt2SRgCVgs5oq2oDRVkfA1mECwD733HPV22+/nc127Nixat++fdnZKgFLwGZntG1ANc8RsHbAPv3009Vbb72Vzfb8889XDz/8cHa2SsASsNkZrQnRtmMC1g5YvuSq66XNjoaeI2AJWAJ2zm3AhANzsGHgCr0TsHPuXKVHcKXLb8IVx7kC9vHHH5+sDsIKoVw2ApaAZQQ75zZgQjZXwNq+MJFD3ccff9zZxxbMzkr1mOtgp9Og0iO40uW3+WeugN2/f3918eLFrLZTp051hiv6ioDNLNopHTClyz9PgD1w4EAvWNlkT72OgCVgszJyArb+QifXCJaATQg+TBEwRYBohYAlYFOPWnX7GMEmNIjojmkqlw6Y0uW32QUj2PqgY9NTjDrngMU/D5i/46r/mWCokIxgGcHCdgjYOkwI2LpOhnLG9eecAvbGjRu1fyCQfyTAuTGNJ2AJWALWDhIC1q6XMbxx9VlngMU/EAhMUZYG6v/Savs7brm+aU/AErCwDUawdZgQsHWdNHEkdL0zwF67dm0CWA1XEUb+jht/ZDj0/7QIWAKWgLWDhIC160X4E3PvBLDyd9qAbJMwAmDAtumatnoCloCFfTCCrcOEgK3rpI0lIc85Aaz81XZbnhV/tY0UwtC/3CZgCVgC1g4SAtaul5AgbXqWE8Cura01pgfkwZImwF9yS12ffQqAvXv3brW8vDz5b7CVlZVBcvSR2XZtrAhuc3OzOn/+/Lb8+M74wYMHK+hhfX09mC5iyS99YdMDdBFaD9Ie7AnYOQcsoInoFKkC3fG6LGkELOHS9V3LsQELuAAo8mMUAG3Xtru8LgZgMLBo2UUHen/p0qUg+oghv/Qf4Kr1ABuQAVd0EUoP0ibsCVgCdgJfWWWgjaNrORZgddQK51paWppAtiTA4sXl4uJidfbs2Uq/xARMBDjYA0Bd+3PodTEBK3owIQq5xS5C6UHrj4Cdc8DKFwu6RLCArDaOruVYgJUI5cSJExOAADKIVkoCbFsfATYSvV29enVQ37bd3zwXE7BmW/QxZBc9hEyZoA0E7JwDtk+KIDfAIjWgHYaA3W3M0I2ABbrR0PFRThWwWg/aXnzowLynDbBoA2Yd6BvYsPkZfYxBEjlkmY3gMwggzEhdf2Zs+cyZMxV/7KXj9/T7ALZtKVdbp8WKYM02EbDNgA0BllQBK3YRO0WAdMXp06e3Bz3Asm3gk9SGDJLmHjM30wdcHBOwHeEKZQtg29a4yksuXDukgwjYKdhSAwyiI3FK5KuH9G2fz6QmP9qOSE+iv1nRYh9Zu14rEayOWhG9SgTbBlhcA4jqwRFlDV59rmubZl1HwPYArKxxbfsqbJe1sm2dQsCmCVhxYl+RjmkTKQAWsmIKjU3ACiCFyEGb+sCxABYDHdojQEX7UCfHts821WGwlIETEXHTdUPrCdgegJU1rm1LsCTKHfrLWgRseoCF44pTh4he4cwpAFYGFQGQ7JHH1KsshsKn7+cEsACh7ocxgEUbRC7cp2+bZl1PwPYALH5fAL8z0LQWVtIDOJ/7bxEIVHwY3SyjxPkUAIN26LfmPl+GmDpJRX5pF3KekF+giwgyNGQFsNIm2bsC7JAIWNrQtCdgewAWSpQUAECro1T9a1pDvyaL+zOCTSeCBUBkauxj+tjklKhPDbDSVoBWdBJ68PUBWPSxRLA+BlACtidgYWiSBkCkam5IHwyNXnFvAjYNwGq4hsq7CsSwTxWwaJt+e6/b7LvsA7DoWwAWkbmP9hOwAwCLjoADyhcPAFmU215+de08AjY+YGPDFbaSMmAlfQQwdbVrF9e5BixWDUj06uvFHQE7ELAuDMZ2DwI2LmBTgCvsImXASs4TKwpsNuyrziVg8ZJMUh0+ZygELAFrdRKJUkLn2cQ5YwBGf9fep9OJjG37GPJLeyA7Ngw2Uid7sQtEfj5ylvIc294VYHU/+x4kCFgCduJEWDgOmMqm3xZLHfZ6eYzNCVzVxQCMhodMHZv2vvUQQ37pO60HRHnS/xLxQScxBiAXgDXhimOR28eegCVgJwYGh2mCia63RTU+DDMGYPS3tbTMtvI8Axb9iegU611loIUOUE7x92AxAKB9GBjabDE0XNEWApaAbTXKNoP1eS4GYH3K0/fepctv09eYCDYGXCEDAUvAErCJ2QAck4CdvuzUoB0DWJmhIefqOy2g20zAJuZcqawi0EYSo1w6YEqX32ZzAljAUvLC2EtuGCkMqUcqQ+6hl2PZ0j26zvWLOwKWgN02RDHIFPalA6Z0+W02KIDVeWENR10GdOUeeG+gz7WVCdj6zEH02LZ38qeHbQ9wdY4RbNx1sK76cex9CNi6owtgx+o25OcZwTKC3R7pQxrerGeVDpjS5bfZBwFbH3RseopRxwg2sYFklhGUDpjS5bfZBwFLwI6OBpkiYIoAcCFg6zAhYOs6sQ1EMeoYwTKCHT34hTRcArYOEwK2rpOQNtn2LAKWgCVgM7MB06EJWAJ2tBMzRTA1otIjuNLlN+GKYwKWgCVgHUVJpQOmdPkJ2HRhausbpggcgc+mXB91pQOmdPltNsUINl3oErAE7OjZhc3pfdURsHWYELB1nfiyv773JWAJWAI2MxswnZyAJWBHOzFfck2NqPQIrnT5TbjimIAlYAlYR1FS6YApXX4CNl2Y2vqGKQJH4LMp10dd6YApXX6bTTGCTRe62QH2nXfeqU6ePFns1gSYUnRSuvy2fsZPEH711VejZ4k2ePuq469pJRjZ7d27t3rqqaeqw4cPF7s1AaYUnZQuv62fH3300er48eMEbILMyi6CvXDhQlaG5DoCaAKM6+eker/S5bf1C1METBGMhiJXEUyNqHTAlC4/AZsuTG19wwg2wWmFraOkrnTAlC6/2IHeM4JNF7oELAE7enahnd13mYCtwwSARR72iSeeyGZ77LHHqj179mRle0Nsm4AlYLMycgLWDtjXX3+9+vbbb7PaPvzww6xsj4DNDJZDOqx0wJQuv81mckwR2OSYxzpGsJlBuXTAlC6/DUIEbD2qt+kpRh0BS8BmNU0jYOswIWDrOokBU9szCVgCloDNzAZMRyZgCdjRTsx1sFMjKj2CK11+E644JmAJWALWUZRUOmBKl5+ATRemtr5hisAR+GzK9VFXOmBKl99mU4xg04UuAUvAjp5d2JzeVx0BW4cJAVvXiS/763tfApaAJWAzswHTyQlYAna0E/Ml19SISo/gSpffhCuOCVgCloB1FCWVDpjS5Sdg04WprW+YInAEPptyfdSVDpjS5bfZFCPYdKFLwBKwo2cXNqf3VUfA1mFCwNZ14sv++t7XG2A3NjaqW7duVffu3XPiwMzBTo2odMCULr/NwQnYggC7tbVVra2tVZcvX55sgKzNKPrWEbAELGyGgK3DhICt66QvX3xd7zSCBUyvXLkyAevq6upcAnZzc7NaWlqqFhYWJtulS5ecDCBdOzgWYFZWVrZlFtn1Hv9s2lWGMdfFkt9sM+zg/Pnz1fLy8i694Pjq1atBdCFtImALASyiVoAVaQHAFsfzFsGePXt2l0PhWAw9xD4WYEyQaLiiXBJgkf7SgyzK0I/UoRzCFuQZBGwhgNX51nkE7N27dydwXVxc3Ham0gC7vr4eFB4CEdnHGmDk+Yhc0f8YVABU2IScwx7nAWBd57tMwBYCWG1I8whYieIwBZQyARvWuGMDVmYwgCxgqm0+VpmADWuDffrZaQ5WP3jeAIAbEL8AAASQSURBVAuoImqR6R8BG8eoYwMWqRDYQejcu/Yts0zAxrFFsx9sxwRsh3WwelooU0ICNo5RxwQs0iOAK7ZUolc4NQEbxxZtQDXrCNgOgJVpoU4HlApYeaED+bGyAG/SZdAxjcvHcUzAQlbAFTrwIdvQexKwBOxog4y1Dla/2NJRS6mAlQjO3OvBZygounwuJmBloEXfI2WEAUZSBgLeGKkDApaAzRawAlJzbaPUhwKLwCcWYDDQmJGqftkHwJg6kja73MeSHzIIYPXgAjvAJisLcO7EiROj7b2PzghYAna0wcWIYAEMOAwcyDT40gBryq+PRReAjK73UU4BsIhabZGqpBBgMyGXsxGwBOxoxwsNWNuLLQ0MgUopEayW3SwDNhLVmedcH6cAWNuAK3JKJBvSLghYAjY7wMobY0QrcChzk9wbHArnQk0LYwJGIGLuRVeArHnO9XFM+SVF0AZYnIMeCNh0oefaJtvux1UEDasINDQkOmvbh5geoyNjAqbJkEqJYCVlhMG1SRcELMGqbYOAbQCsVpKtHMOR0I4UASu6wFt1m65c1sWUH2kjGWRtOVZ9PsQLP9ErUwTpQp2AJWBnQhHpD2zmKgIABfUCnRDfwY8JWABN5DV/hwC6QB10EWo2Q8CmC1bpGwKWgO0EWIGo/qKB1DW9VRcjc7mPDVgMMpJ/h/yI3iWCxzHOhRhotE4ZwaYLWm+AlZ8s1L+wpY2ibzn0KoJZ7ZPfR8XSnFnXujwfAzCIziAnQKLhAtiePn26Ftm6lNe8Vwz5zTZI5C4rBgBW6AIvtnDOvN73MQFbIGBdG1VqgHUtX9f7pQCYrm31cV3p8tt0SsASsKNHdQJ2akSlA6Z0+QnYdGFq6xtvKQLbw8bUEbAELOyHgK0DhhFsXSdjWOPyswTswJdcLjuhz71KB0zp8ttshYAlYJkicATy0gFTuvwEbLowtfUNI1hH4LMp10dd6YApXX6bTTGCTRe6BCwBO3p2YXN6X3UEbB0mBGxdJ77sr+99CVgCloDNzAZMJydgCdjRTsxVBFMjKj2CK11+E644JmAJWALWUZRUOmBKl5+ATRemtr5hisAR+GzK9VFXOmBKl99mU4xg04UuAUvAjp5d2JzeVx0BW4cJAVvXiS/763tfApaAJWAzswHTyQlYAna0E/Ml19SISo/gSpffhCuOCVgCloB1FCWVDpjS5Sdg04WprW+YInAEPptyfdSVDpjS5bfZFCPYdKFLwM4JYJvAU0q9DTyl1BGwBCxTBI5AXgow+8pZCkxtchKwBKwzwB45cqR67bXXit36gqeU60u2iUceeaR67733RvuYDd6sGwfvbFIE6Gj8B9IHH3xQ9FYKMPvKWbJdvPLKK9Xvv/9OwDqaJbocVLICrEvBc71XX/CUcn2u/cl2j4sQU9cfAZvgqNdmNKUAs6+cbTrjufmGWMr9S8BmBtiUjYltI8hoA7ttgIAlYJm7ow3QBjzZAAHrSbEcyXeP5NQH9VGiDRCwBCyjF9oAbcCTDRCwnhRb4mhNmRml0gZ22wABS8AyeqEN0AY82cD/Aacr0Kh/m63jAAAAAElFTkSuQmCC)"
      ]
    },
    {
      "cell_type": "code",
      "execution_count": 20,
      "metadata": {
        "colab": {
          "base_uri": "https://localhost:8080/"
        },
        "id": "vtGzjPeCY9K7",
        "outputId": "294e0645-697c-49a4-f0a4-aa0d8f761da4"
      },
      "outputs": [
        {
          "name": "stdout",
          "output_type": "stream",
          "text": [
            "[np.int64(2), np.int64(5)]\n",
            "[2, 5]\n"
          ]
        }
      ],
      "source": [
        "# [2,5]\n",
        "print([arr_3d[0, 0, 1], arr_3d[0, 1, 1]])\n",
        "print([int(arr_3d[0, 0, 1]), int(arr_3d[0, 1, 1])])"
      ]
    },
    {
      "cell_type": "markdown",
      "metadata": {
        "id": "yiMKvcQBZGaQ"
      },
      "source": [
        "![image.png](data:image/png;base64,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)"
      ]
    },
    {
      "cell_type": "code",
      "execution_count": 19,
      "metadata": {
        "colab": {
          "base_uri": "https://localhost:8080/"
        },
        "id": "edA17wodZMRO",
        "outputId": "ae8d082b-c97f-4be3-9ab4-98aafa808392"
      },
      "outputs": [
        {
          "name": "stdout",
          "output_type": "stream",
          "text": [
            "[[2 3]\n",
            " [5 6]]\n"
          ]
        }
      ],
      "source": [
        "# [[2,3][5,6]]\n",
        "print(arr_3d[0, :, 1:])"
      ]
    },
    {
      "cell_type": "markdown",
      "metadata": {
        "id": "-Qkk_7Z5igzF"
      },
      "source": [
        "## fancy indexing\n",
        "* 인덱스 배열을 이용하여 인덱싱"
      ]
    },
    {
      "cell_type": "code",
      "execution_count": 22,
      "metadata": {
        "colab": {
          "base_uri": "https://localhost:8080/"
        },
        "id": "9KnEEzcFkfv5",
        "outputId": "e9685a53-1d49-47bd-bd7f-1c0b91b91bea"
      },
      "outputs": [
        {
          "name": "stdout",
          "output_type": "stream",
          "text": [
            "arr>>>\n",
            " [100 101 102 103 104]\n",
            "--------------------\n",
            "0,2,4번 인덱싱 : [100 102 104]\n"
          ]
        }
      ],
      "source": [
        "arr = np.array([100, 101, 102, 103, 104])\n",
        "print('arr>>>\\n', arr)\n",
        "print('--------------------')\n",
        "print('0,2,4번 인덱싱 :', arr[[0, 2, 4]])"
      ]
    },
    {
      "cell_type": "markdown",
      "metadata": {
        "id": "OCvf8vq0idei"
      },
      "source": [
        "## boolean indexing\n",
        "* boolean 배열을 이용하여 인덱싱\n",
        "* 조건 필터링\n",
        "    * `arr[cond]`\n",
        "    * `arr.where(cond, x, y)` \n",
        "        * x:True일 때 값\n",
        "        * y:False일때 값"
      ]
    },
    {
      "cell_type": "code",
      "execution_count": 23,
      "metadata": {
        "colab": {
          "base_uri": "https://localhost:8080/"
        },
        "id": "PizsUsamagJo",
        "outputId": "68d372c1-0e0b-4d2c-e9fd-d4a3db5b342d"
      },
      "outputs": [
        {
          "name": "stdout",
          "output_type": "stream",
          "text": [
            "arr>>>\n",
            " [100 101 102 103 104] \n",
            "\n",
            "bool_index>>>\n",
            " [True, False, True, False, True] \n",
            "\n",
            "----- boolean indexing -----\n",
            "[100 102 104]\n"
          ]
        }
      ],
      "source": [
        "arr = np.array([100, 101, 102, 103, 104])\n",
        "bool_idx = [True, False, True, False, True]\n",
        "\n",
        "print('arr>>>\\n', arr, '\\n')\n",
        "print('bool_index>>>\\n', bool_idx, '\\n')\n",
        "\n",
        "print('----- boolean indexing -----')\n",
        "print(arr[bool_idx])"
      ]
    },
    {
      "cell_type": "code",
      "execution_count": 24,
      "metadata": {
        "colab": {
          "base_uri": "https://localhost:8080/"
        },
        "id": "eridgTBlaXFj",
        "outputId": "a0690984-23cf-49b4-9a99-389afdf97c7e"
      },
      "outputs": [
        {
          "name": "stdout",
          "output_type": "stream",
          "text": [
            "arr>>>\n",
            " [100 103 102 101 109]\n",
            "---------------\n",
            "bool_idx>>>\n",
            " [False  True False  True  True]\n",
            "----- boolean indexing -----\n",
            "[103 101 109]\n"
          ]
        }
      ],
      "source": [
        "# -----------------\n",
        "# 홀수만 선택하기\n",
        "# -----------------\n",
        "\n",
        "arr = np.array([100, 103, 102, 101, 109])\n",
        "print('arr>>>\\n', arr)\n",
        "print('---------------')\n",
        "\n",
        "# 홀수만 선택하기 위한 bool_index 생성\n",
        "cond = arr % 2 == 1\n",
        "print('bool_idx>>>\\n', cond)\n",
        "\n",
        "print('----- boolean indexing -----')\n",
        "print(arr[cond])"
      ]
    },
    {
      "cell_type": "code",
      "execution_count": 25,
      "metadata": {},
      "outputs": [
        {
          "name": "stdout",
          "output_type": "stream",
          "text": [
            "arr>>>\n",
            " [100 103 102 101 109]\n",
            "---------------\n",
            "['짝' '홀' '짝' '홀' '홀']\n"
          ]
        }
      ],
      "source": [
        "# -----------------\n",
        "# 홀수, 짝수 여부 배열 만들기 \n",
        "# ['짝' '홀' '짝' '홀' '홀']\n",
        "# -----------------\n",
        "\n",
        "arr = np.array([100, 103, 102, 101, 109])\n",
        "print('arr>>>\\n', arr)\n",
        "print('---------------')\n",
        "\n",
        "result = np.where(arr % 2 == 0, '짝', '홀')\n",
        "print(result)"
      ]
    },
    {
      "cell_type": "markdown",
      "metadata": {},
      "source": [
        "## 배열 복사\n",
        "* `배열객체.copy()`\n",
        "* 슬라이싱 된 배열은 원본 배열을 참조\n",
        "    * 슬라이싱 된 배열의 내용 수정 시 원본 배열이 수정됨\n",
        "    * copy하여 사용할 것을 권장."
      ]
    },
    {
      "cell_type": "code",
      "execution_count": 26,
      "metadata": {},
      "outputs": [
        {
          "name": "stdout",
          "output_type": "stream",
          "text": [
            "arr1: [1 2 3 4 5]\n",
            "arr2(arr1에서 슬라이싱): [1 2 3] \n",
            "\n",
            "--------arr2[0]을 100으로 수정하고 arr1, arr2 출력---------\n",
            "arr1: [100   2   3   4   5]\n",
            "arr2: [100   2   3]\n"
          ]
        }
      ],
      "source": [
        "# -----------------\n",
        "# 슬라이싱 된 배열 수정\n",
        "# -----------------\n",
        "\n",
        "arr1 = np.array([1, 2, 3, 4, 5])\n",
        "arr2 = arr1[:3]\n",
        "\n",
        "print('arr1:', arr1)\n",
        "print('arr2(arr1에서 슬라이싱):', arr2, '\\n')\n",
        "\n",
        "arr2[0] = 100  # arr2 수정 → arr1에도 반영됨\n",
        "\n",
        "print('--------arr2[0]을 100으로 수정하고 arr1, arr2 출력---------')\n",
        "print('arr1:', arr1)\n",
        "print('arr2:', arr2)"
      ]
    },
    {
      "cell_type": "code",
      "execution_count": 27,
      "metadata": {},
      "outputs": [
        {
          "name": "stdout",
          "output_type": "stream",
          "text": [
            "arr1: [1 2 3 4 5]\n",
            "arr2(arr1에서 슬라이싱한 copy본): [1 2 3] \n",
            "\n",
            "--------arr2[0]을 100으로 수정하고 arr1, arr2 출력---------\n",
            "arr1: [1 2 3 4 5]\n",
            "arr2: [100   2   3]\n"
          ]
        }
      ],
      "source": [
        "# -----------------\n",
        "# 슬라이싱 된 배열을 copy본으로 만들고 수정\n",
        "# -----------------\n",
        "\n",
        "arr1 = np.array([1, 2, 3, 4, 5])\n",
        "arr2 = arr1[:3].copy()\n",
        "\n",
        "print('arr1:', arr1)\n",
        "print('arr2(arr1에서 슬라이싱한 copy본):', arr2, '\\n')\n",
        "\n",
        "arr2[0] = 100  # arr2만 수정됨\n",
        "\n",
        "print('--------arr2[0]을 100으로 수정하고 arr1, arr2 출력---------')\n",
        "print('arr1:', arr1)\n",
        "print('arr2:', arr2)"
      ]
    }
  ],
  "metadata": {
    "colab": {
      "provenance": [],
      "toc_visible": true
    },
    "kernelspec": {
      "display_name": "z_venv",
      "language": "python",
      "name": "python3"
    },
    "language_info": {
      "codemirror_mode": {
        "name": "ipython",
        "version": 3
      },
      "file_extension": ".py",
      "mimetype": "text/x-python",
      "name": "python",
      "nbconvert_exporter": "python",
      "pygments_lexer": "ipython3",
      "version": "3.13.3"
    }
  },
  "nbformat": 4,
  "nbformat_minor": 0
}
