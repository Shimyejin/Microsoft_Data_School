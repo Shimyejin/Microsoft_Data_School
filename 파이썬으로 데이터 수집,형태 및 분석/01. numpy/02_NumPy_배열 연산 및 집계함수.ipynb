{
  "cells": [
    {
      "cell_type": "code",
      "execution_count": 2,
      "metadata": {
        "id": "Yo6QwehtXlOp"
      },
      "outputs": [],
      "source": [
        "import numpy as np"
      ]
    },
    {
      "cell_type": "markdown",
      "metadata": {
        "id": "OicOoIT_eYUs"
      },
      "source": [
        "## 배열 간 연산\n",
        "- 동일한 인덱스끼리 연산\n",
        "- 넘파이 배열 간 연산을 할 때 배열의 길이는 동일해야 한다."
      ]
    },
    {
      "cell_type": "code",
      "execution_count": 5,
      "metadata": {
        "colab": {
          "base_uri": "https://localhost:8080/"
        },
        "id": "ev-9OFkmeebR",
        "outputId": "19e5a158-ce17-481c-f847-8834ffc0a34e"
      },
      "outputs": [
        {
          "name": "stdout",
          "output_type": "stream",
          "text": [
            "[1 2 3]\n",
            "[4 5 6]\n"
          ]
        }
      ],
      "source": [
        "# --------------------------------------------------\n",
        "# 넘파이배열 간 연산 --> 동일한 인덱스끼리 연산\n",
        "# 배열의 길이가 다른 경우 배열간 연산을 할 수 없음.\n",
        "# --------------------------------------------------\n",
        "\n",
        "arr1 = np.array([1,2,3])\n",
        "arr2 = np.array([4,5,6])\n",
        "\n",
        "print(arr1)\n",
        "print(arr2)"
      ]
    },
    {
      "cell_type": "code",
      "execution_count": 6,
      "metadata": {},
      "outputs": [
        {
          "name": "stdout",
          "output_type": "stream",
          "text": [
            "arr1>>> [1 2 3]\n",
            "arr2>>> [4 5 6]\n",
            "----- arr1+arr2 -----\n"
          ]
        },
        {
          "data": {
            "text/plain": [
              "array([5, 7, 9])"
            ]
          },
          "execution_count": 6,
          "metadata": {},
          "output_type": "execute_result"
        }
      ],
      "source": [
        "# 배열 간 덧셈연산\n",
        "print('arr1>>>', arr1)\n",
        "print('arr2>>>', arr2)\n",
        "print('----- arr1+arr2 -----')\n",
        "arr1+arr2"
      ]
    },
    {
      "cell_type": "code",
      "execution_count": 7,
      "metadata": {},
      "outputs": [
        {
          "name": "stdout",
          "output_type": "stream",
          "text": [
            "arr1>>> [1 2 3]\n",
            "arr2>>> [4 5 6]\n",
            "----- arr1-arr2 -----\n"
          ]
        },
        {
          "data": {
            "text/plain": [
              "array([-3, -3, -3])"
            ]
          },
          "execution_count": 7,
          "metadata": {},
          "output_type": "execute_result"
        }
      ],
      "source": [
        "# 배열 간 뺄셈연산\n",
        "print('arr1>>>', arr1)\n",
        "print('arr2>>>', arr2)\n",
        "print('----- arr1-arr2 -----')\n",
        "arr1-arr2"
      ]
    },
    {
      "cell_type": "code",
      "execution_count": 8,
      "metadata": {},
      "outputs": [
        {
          "name": "stdout",
          "output_type": "stream",
          "text": [
            "arr1>>> [1 2 3]\n",
            "arr2>>> [4 5 6]\n",
            "----- arr1>arr2 -----\n"
          ]
        },
        {
          "data": {
            "text/plain": [
              "array([False, False, False])"
            ]
          },
          "execution_count": 8,
          "metadata": {},
          "output_type": "execute_result"
        }
      ],
      "source": [
        "# 배열 비교 연산\n",
        "print('arr1>>>', arr1)\n",
        "print('arr2>>>', arr2)\n",
        "print('----- arr1>arr2 -----')\n",
        "arr1>arr2"
      ]
    },
    {
      "cell_type": "markdown",
      "metadata": {
        "id": "nwTNX2XregJM"
      },
      "source": [
        "## 브로드캐스팅 연산\n",
        "* 서로 다른 모양의 배열끼리 연산     \n",
        "\n",
        "\n",
        "> **조건**   \n",
        "> * 배열과 스칼라 간 연산     \n",
        "> * 두 배열의 열의 갯수가 같고, 한 배열의 차원이 1차원일 때     \n",
        "> * 첫번째 배열의 행의 개수와 두번째 배열의 열의 >개수가 같을 때"
      ]
    },
    {
      "cell_type": "code",
      "execution_count": 9,
      "metadata": {
        "colab": {
          "base_uri": "https://localhost:8080/"
        },
        "id": "XzQ5xaVzffu3",
        "outputId": "4f0946f3-9ad4-49c3-d4c2-ab6cd82e5c76"
      },
      "outputs": [
        {
          "name": "stdout",
          "output_type": "stream",
          "text": [
            "arr>>>\n",
            " [[1 2 3]\n",
            " [4 5 6]]\n",
            "\n",
            "----- arr+1 -----\n",
            "\n",
            "[[2 3 4]\n",
            " [5 6 7]]\n"
          ]
        }
      ],
      "source": [
        "# --------------------------\n",
        "# 배열과 스칼라 간 연산\n",
        "# --------------------------\n",
        "\n",
        "arr = np.array([[1,2,3],[4,5,6]])\n",
        "print('arr>>>\\n', arr)\n",
        "print('\\n----- arr+1 -----\\n')\n",
        "print(arr+1)"
      ]
    },
    {
      "cell_type": "code",
      "execution_count": 10,
      "metadata": {
        "colab": {
          "base_uri": "https://localhost:8080/"
        },
        "id": "zTYmI7WhhaKE",
        "outputId": "09520ea6-b637-4995-bfd0-8732dc5b8d7c"
      },
      "outputs": [
        {
          "name": "stdout",
          "output_type": "stream",
          "text": [
            "arr1>>>\n",
            " [[1 2 3]\n",
            " [4 5 6]]\n",
            "\n",
            "arr2>>>\n",
            " [1 2 3] \n",
            "\n",
            "----arr1+arr2------\n",
            "[[2 4 6]\n",
            " [5 7 9]]\n"
          ]
        }
      ],
      "source": [
        "# --------------------------\n",
        "# 한 배열의 차원이 1차원일 때\n",
        "# --------------------------\n",
        "\n",
        "arr1 = np.array([[1,2,3],[4,5,6]])\n",
        "arr2 = np.array([1,2,3])\n",
        "\n",
        "print('arr1>>>\\n', arr1)\n",
        "print('\\narr2>>>\\n', arr2, '\\n')\n",
        "\n",
        "print('----arr1+arr2------')\n",
        "print(arr1 + arr2)"
      ]
    },
    {
      "cell_type": "code",
      "execution_count": 11,
      "metadata": {
        "colab": {
          "base_uri": "https://localhost:8080/"
        },
        "id": "kPgUYRFbhaS8",
        "outputId": "db7e81f4-0d37-4052-fa87-ffc240efb3d1"
      },
      "outputs": [
        {
          "name": "stdout",
          "output_type": "stream",
          "text": [
            "arr1>>>\n",
            " [[1]\n",
            " [2]\n",
            " [3]]\n",
            "\n",
            "arr2>>>\n",
            " [4 5 6] \n",
            "\n",
            "----arr1+arr2------\n",
            "[[5 6 7]\n",
            " [6 7 8]\n",
            " [7 8 9]]\n"
          ]
        }
      ],
      "source": [
        "# --------------------------\n",
        "# 첫번째 배열의 행의 개수와 두번째 배열의 열의 개수가 같을 때\n",
        "# --------------------------\n",
        "\n",
        "arr1 = np.array([[1],[2],[3]])\n",
        "arr2 = np.array([4,5,6])\n",
        "print('arr1>>>\\n', arr1)\n",
        "print('\\narr2>>>\\n', arr2, '\\n')\n",
        "\n",
        "print('----arr1+arr2------')\n",
        "print(arr1 + arr2)"
      ]
    },
    {
      "cell_type": "markdown",
      "metadata": {},
      "source": [
        "## ZeroDivision\n",
        "- 에러를 발생시키지 않고 경고만 표시한다."
      ]
    },
    {
      "cell_type": "code",
      "execution_count": null,
      "metadata": {},
      "outputs": [],
      "source": [
        "# 1/0 \n",
        "# --> ZeroDivisionError  "
      ]
    },
    {
      "cell_type": "code",
      "execution_count": 12,
      "metadata": {},
      "outputs": [
        {
          "name": "stdout",
          "output_type": "stream",
          "text": [
            "[inf 1.  0.5]\n",
            "[nan  0.  0.]\n"
          ]
        },
        {
          "name": "stderr",
          "output_type": "stream",
          "text": [
            "C:\\Users\\User\\AppData\\Local\\Temp\\ipykernel_6016\\4013972719.py:2: RuntimeWarning: divide by zero encountered in divide\n",
            "  print(1/arr)\n",
            "C:\\Users\\User\\AppData\\Local\\Temp\\ipykernel_6016\\4013972719.py:3: RuntimeWarning: invalid value encountered in divide\n",
            "  print(0/arr)\n"
          ]
        }
      ],
      "source": [
        "arr = np.array([0, 1, 2])\n",
        "print(1/arr)\n",
        "print(0/arr)"
      ]
    },
    {
      "cell_type": "markdown",
      "metadata": {
        "id": "ZyY-oO5RjneC"
      },
      "source": [
        "## 집계함수\n",
        "* 주요 집계함수\n",
        "    * `sum()` : 합계\n",
        "    * `mean()` : 평균\n",
        "    * `median()` : 중앙값\n",
        "    * `min()` : 최소값\n",
        "    * `max()` : 최대값\n",
        "    * `std()` : 표준편차\n",
        "    * `var()` : 분산\n",
        "    * `percentile()` : 백분위수\n",
        "    * `argmin()` : 최소값의 인덱스\n",
        "    * `argmax()` : 최대값의 인덱스\n",
        "    * `cumsum()` : 누적합계\n",
        "    * `cumrod()` : 누적곱\n",
        "    * `ptp()` : 최대값-최소값(범위값)\n",
        "    * `unique()` : 유일한 값(중복제거)\n",
        "* 함수의 형태와 배열의 메서드 형태로 사용할 수 있다.\n",
        "    * `np.집계함수(배열)`\n",
        "    * `배열.집계함수()`\n",
        "* 축 설정\n",
        "    * `axis=0` \n",
        "        * 행이 늘어나는 방향(열 방향)으로 집계\n",
        "        * 각 열에 대해 하나의 결과\n",
        "    * `axis=1` \n",
        "        * 열이 늘어나는 방향(행 방향)으로 집계 \n",
        "        * 각 행에 대해 하나의 결과"
      ]
    },
    {
      "cell_type": "code",
      "execution_count": 17,
      "metadata": {},
      "outputs": [
        {
          "name": "stdout",
          "output_type": "stream",
          "text": [
            "arr>>>\n",
            " [[1 2 3]\n",
            " [4 5 6]]\n",
            "----------\n",
            "전체 합계 : 21\n",
            "열별 합계(axis=0) : [5 7 9]\n",
            "행별 합계(axis=1) : [ 6 15]\n"
          ]
        }
      ],
      "source": [
        "# --------------------\n",
        "# 합계(sum)\n",
        "# --------------------\n",
        "\n",
        "arr = np.array([[1, 2, 3], [4, 5, 6]])\n",
        "print('arr>>>\\n', arr)\n",
        "print('----------')\n",
        "print('전체 합계 :', np.sum(arr))\n",
        "print('열별 합계(axis=0) :', np.sum(arr, axis=0))\n",
        "print('행별 합계(axis=1) :', np.sum(arr, axis=1))"
      ]
    },
    {
      "cell_type": "code",
      "execution_count": 18,
      "metadata": {},
      "outputs": [
        {
          "name": "stdout",
          "output_type": "stream",
          "text": [
            "arr>>>\n",
            " [[1 2 3]\n",
            " [4 5 6]]\n",
            "----------\n",
            "전체 평균 : 3.5\n",
            "열별 평균(axis=0) : [2.5 3.5 4.5]\n",
            "행별 평균(axis=1) : [2. 5.]\n"
          ]
        }
      ],
      "source": [
        "# --------------------\n",
        "# 평균(mean)\n",
        "# --------------------\n",
        "\n",
        "arr = np.array([[1, 2, 3], [4, 5, 6]])\n",
        "print('arr>>>\\n', arr)\n",
        "print('----------')\n",
        "print('전체 평균 :', np.mean(arr))\n",
        "print('열별 평균(axis=0) :', np.mean(arr, axis=0))\n",
        "print('행별 평균(axis=1) :', np.mean(arr, axis=1))"
      ]
    },
    {
      "cell_type": "code",
      "execution_count": 19,
      "metadata": {},
      "outputs": [
        {
          "name": "stdout",
          "output_type": "stream",
          "text": [
            "arr>>>\n",
            " [1 2 3 4 5 6]\n",
            "----------\n",
            "누적합계>>> \n",
            " [ 1  3  6 10 15 21]\n"
          ]
        }
      ],
      "source": [
        "# --------------------\n",
        "# 누적합계(cumsum)\n",
        "# --------------------\n",
        "\n",
        "arr = np.arange(1, 7)\n",
        "print('arr>>>\\n', arr)\n",
        "print('----------')\n",
        "print('누적합계>>> \\n', np.cumsum(arr))"
      ]
    },
    {
      "cell_type": "code",
      "execution_count": 20,
      "metadata": {},
      "outputs": [
        {
          "name": "stdout",
          "output_type": "stream",
          "text": [
            "[45 48 65 68 68 10 84 22 37 88]\n",
            "----------\n",
            "최소값의 인덱스: 5\n",
            "최소값: 10\n",
            "----------\n",
            "최대값의 인덱스: 9\n",
            "최대값: 88\n"
          ]
        }
      ],
      "source": [
        "# --------------------\n",
        "# 최소값의 인덱스(argmix)\n",
        "# 최대값의 인덱스(argmax)\n",
        "# --------------------\n",
        "\n",
        "np.random.seed(0)\n",
        "arr = np.random.randint(1, 100, 10)\n",
        "print(arr)\n",
        "print('----------')\n",
        "print('최소값의 인덱스:', np.argmin(arr))\n",
        "print('최소값:', np.min(arr))\n",
        "print('----------')\n",
        "print('최대값의 인덱스:', np.argmax(arr))\n",
        "print('최대값:', np.max(arr))"
      ]
    }
  ],
  "metadata": {
    "colab": {
      "provenance": [],
      "toc_visible": true
    },
    "kernelspec": {
      "display_name": "z_venv",
      "language": "python",
      "name": "python3"
    },
    "language_info": {
      "codemirror_mode": {
        "name": "ipython",
        "version": 3
      },
      "file_extension": ".py",
      "mimetype": "text/x-python",
      "name": "python",
      "nbconvert_exporter": "python",
      "pygments_lexer": "ipython3",
      "version": "3.13.3"
    }
  },
  "nbformat": 4,
  "nbformat_minor": 0
}
