{
 "cells": [
  {
   "cell_type": "markdown",
   "metadata": {
    "id": "cWwyjm596e4s"
   },
   "source": [
    "### pandas 패키지 import\n",
    "* 관용적으로 별칭 **`pd`** 를 사용하여 import"
   ]
  },
  {
   "cell_type": "code",
   "execution_count": 1,
   "metadata": {
    "id": "7pcoG_gl0_dK"
   },
   "outputs": [],
   "source": [
    "import pandas as pd"
   ]
  },
  {
   "cell_type": "markdown",
   "metadata": {
    "id": "3XlPrPQcFCvp"
   },
   "source": [
    "### Series 객체 생성     \n",
    "* **`pd.Series()`**\n",
    ">* 주요 파라미터\n",
    ">  * data\n",
    ">    * 시리즈에 저장할 데이터. \n",
    ">    * 리스트, 튜플, 넘파이배열, 딕셔너리, 스칼라(단일 값) 모두 가능\n",
    ">  * index\n",
    ">    * 데이터에 연결할 인덱스(라벨)\n",
    ">    * 생략하면 기본적으로 RangeIndex(0, 1, 2, ...)로 설정됨\n",
    ">  * dtype\n",
    ">    * 데이터 타입 지정 (예:'int', 'float', 'str', 'category' 등)\n",
    ">    * 생략하면 data에서 자동 추론\n",
    ">  * name \n",
    ">    * 시리즈의 이름\n",
    ">    * 데이터프레임으로 변환할 때 컬럼명이 됨\n"
   ]
  },
  {
   "cell_type": "code",
   "execution_count": 2,
   "metadata": {},
   "outputs": [
    {
     "name": "stdout",
     "output_type": "stream",
     "text": [
      "Series([], dtype: float64)\n"
     ]
    }
   ],
   "source": [
    "# ---------------\n",
    "# 빈 시리즈\n",
    "# ---------------\n",
    "\n",
    "s1 = pd.Series(dtype = 'float64')\n",
    "print(s1)"
   ]
  },
  {
   "cell_type": "code",
   "execution_count": 3,
   "metadata": {},
   "outputs": [
    {
     "name": "stdout",
     "output_type": "stream",
     "text": [
      "a    5\n",
      "b    5\n",
      "c    5\n",
      "dtype: int64\n"
     ]
    }
   ],
   "source": [
    "# ---------------\n",
    "# 스칼라로 생성\n",
    "# ---------------\n",
    "\n",
    "s2 = pd.Series(5, index=['a','b','c'])\n",
    "print(s2)"
   ]
  },
  {
   "cell_type": "code",
   "execution_count": 4,
   "metadata": {},
   "outputs": [
    {
     "data": {
      "text/plain": [
       "0    100\n",
       "1     50\n",
       "2     30\n",
       "3     10\n",
       "dtype: int64"
      ]
     },
     "execution_count": 4,
     "metadata": {},
     "output_type": "execute_result"
    }
   ],
   "source": [
    "# ---------------\n",
    "# 리스트로 생성\n",
    "# ---------------\n",
    "\n",
    "data = [100,50,30,10]\n",
    "s3 = pd.Series(data)\n",
    "s3"
   ]
  },
  {
   "cell_type": "code",
   "execution_count": 5,
   "metadata": {},
   "outputs": [
    {
     "name": "stdout",
     "output_type": "stream",
     "text": [
      "A     100\n",
      "B      50\n",
      "O      30\n",
      "AB     10\n",
      "Name: 혈액형별 수량, dtype: int64\n"
     ]
    }
   ],
   "source": [
    "# ---------------\n",
    "# 넘파이 배열로 생성\n",
    "# 인덱스라벨 지정\n",
    "# 시리즈 이름 지정\n",
    "# 시리즈 데이터 타입 지정 \n",
    "# ---------------\n",
    "\n",
    "data = pd.array([100,50,30,10])\n",
    "idx = ['A', 'B', 'O', 'AB']\n",
    "\n",
    "s = pd.Series(data, index=idx, name='혈액형별 수량', dtype='int64')\n",
    "print(s)"
   ]
  },
  {
   "cell_type": "code",
   "execution_count": 6,
   "metadata": {},
   "outputs": [
    {
     "name": "stdout",
     "output_type": "stream",
     "text": [
      "A     100\n",
      "B      50\n",
      "O      30\n",
      "AB     10\n",
      "Name: 혈액형별 수량, dtype: int64\n"
     ]
    }
   ],
   "source": [
    "# ---------------\n",
    "# 딕셔너리로 생성\n",
    "# ---------------\n",
    "\n",
    "data = {'A':100, \n",
    "        'B':50, \n",
    "        'O':30, \n",
    "        'AB':10}\n",
    "\n",
    "s = pd.Series(data, name='혈액형별 수량')\n",
    "print(s)"
   ]
  },
  {
   "cell_type": "markdown",
   "metadata": {},
   "source": [
    "### Series 객체의 주요 속성\n",
    "* `values` : 시리즈의 값(넘파이 배열)\n",
    "* `index` : 인덱스라벨 객체\n",
    "* `dtype` : 데이터의 타입\n",
    "* `name` : 시리즈의 이름\n",
    "* `shape` : 배열 형태"
   ]
  },
  {
   "cell_type": "code",
   "execution_count": 8,
   "metadata": {},
   "outputs": [
    {
     "name": "stdout",
     "output_type": "stream",
     "text": [
      "[100  50  30  10]\n"
     ]
    }
   ],
   "source": [
    "# ---------------\n",
    "# 시리즈의 값\n",
    "# ---------------\n",
    "\n",
    "s = pd.Series([100, 50, 30, 10], index=['A', 'B', 'O', 'AB'], name='혈액형별 수량')\n",
    "print(s.values)"
   ]
  },
  {
   "cell_type": "code",
   "execution_count": 9,
   "metadata": {},
   "outputs": [
    {
     "name": "stdout",
     "output_type": "stream",
     "text": [
      "Index(['A', 'B', 'O', 'AB'], dtype='object')\n"
     ]
    }
   ],
   "source": [
    "# --------------------\n",
    "# 시리즈의 인덱스라벨\n",
    "# --------------------\n",
    "\n",
    "print(s.index)"
   ]
  },
  {
   "cell_type": "code",
   "execution_count": 10,
   "metadata": {},
   "outputs": [
    {
     "name": "stdout",
     "output_type": "stream",
     "text": [
      "int64\n"
     ]
    }
   ],
   "source": [
    "# --------------------\n",
    "# 시리즈의 데이터타입\n",
    "# --------------------\n",
    "\n",
    "print(s.dtype)"
   ]
  },
  {
   "cell_type": "code",
   "execution_count": 11,
   "metadata": {},
   "outputs": [
    {
     "name": "stdout",
     "output_type": "stream",
     "text": [
      "혈액형별 수량\n"
     ]
    }
   ],
   "source": [
    "# --------------------\n",
    "# 시리즈의 이름\n",
    "# --------------------\n",
    "\n",
    "print(s.name)"
   ]
  },
  {
   "cell_type": "code",
   "execution_count": 12,
   "metadata": {},
   "outputs": [
    {
     "name": "stdout",
     "output_type": "stream",
     "text": [
      "(4,)\n"
     ]
    }
   ],
   "source": [
    "# ---------------\n",
    "# 시리즈의 형태(shape)\n",
    "# ---------------\n",
    "\n",
    "print(s.shape)"
   ]
  },
  {
   "cell_type": "markdown",
   "metadata": {},
   "source": [
    "### Series 객체의 주요 메서드\n",
    "* `info()` \n",
    "    * Series 객체의 정보  \n",
    "* `value_counts()`\n",
    "    * 빈도수\n",
    "* `sort_values()`\n",
    "    * 값으로 정렬\n",
    "* `sort_index()` \n",
    "    * 인덱스로 정렬\n",
    "* `isnull()`\n",
    "    * null 여부\n",
    "    * null이면 True\n",
    "* `notnull()`\n",
    "    * null 여부\n",
    "    * null이 아니면 True\n",
    "* `dropna()`\n",
    "    * null값 삭제\n",
    "* `fillna()`\n",
    "    * null 채우기\n",
    "* `astype()`  \n",
    "    * 자료형 변경\n",
    "* 집계함수\n",
    "    * `mean()`, `sum()`, `min()`, `max()`, `std()` 등\n"
   ]
  },
  {
   "cell_type": "code",
   "execution_count": 13,
   "metadata": {},
   "outputs": [
    {
     "name": "stdout",
     "output_type": "stream",
     "text": [
      "<class 'pandas.core.series.Series'>\n",
      "Index: 4 entries, A to AB\n",
      "Series name: 혈액형별 수량\n",
      "Non-Null Count  Dtype\n",
      "--------------  -----\n",
      "4 non-null      int64\n",
      "dtypes: int64(1)\n",
      "memory usage: 64.0+ bytes\n"
     ]
    }
   ],
   "source": [
    "# -------------\n",
    "# info()\n",
    "# -------------\n",
    "\n",
    "s.info()"
   ]
  },
  {
   "cell_type": "code",
   "execution_count": 14,
   "metadata": {},
   "outputs": [
    {
     "data": {
      "text/plain": [
       "np.int64(190)"
      ]
     },
     "execution_count": 14,
     "metadata": {},
     "output_type": "execute_result"
    }
   ],
   "source": [
    "# ---------------------------------\n",
    "# 합계\n",
    "# ---------------------------------\n",
    "\n",
    "s.sum()"
   ]
  },
  {
   "cell_type": "code",
   "execution_count": 15,
   "metadata": {},
   "outputs": [
    {
     "data": {
      "text/plain": [
       "AB     10\n",
       "O      30\n",
       "B      50\n",
       "A     100\n",
       "Name: 혈액형별 수량, dtype: int64"
      ]
     },
     "execution_count": 15,
     "metadata": {},
     "output_type": "execute_result"
    }
   ],
   "source": [
    "# ---------------------------------\n",
    "# 값으로 정렬(오름차순)\n",
    "# ---------------------------------\n",
    "\n",
    "s.sort_values()"
   ]
  },
  {
   "cell_type": "code",
   "execution_count": 16,
   "metadata": {},
   "outputs": [
    {
     "data": {
      "text/plain": [
       "A     100\n",
       "B      50\n",
       "O      30\n",
       "AB     10\n",
       "Name: 혈액형별 수량, dtype: int64"
      ]
     },
     "execution_count": 16,
     "metadata": {},
     "output_type": "execute_result"
    }
   ],
   "source": [
    "# ---------------------------------\n",
    "# 값으로 정렬(내림차순)\n",
    "# ---------------------------------\n",
    "\n",
    "s.sort_values(ascending=False)"
   ]
  },
  {
   "cell_type": "code",
   "execution_count": 17,
   "metadata": {},
   "outputs": [
    {
     "data": {
      "text/plain": [
       "A     100\n",
       "AB     10\n",
       "B      50\n",
       "O      30\n",
       "Name: 혈액형별 수량, dtype: int64"
      ]
     },
     "execution_count": 17,
     "metadata": {},
     "output_type": "execute_result"
    }
   ],
   "source": [
    "# ---------------------------------\n",
    "# 인덱스라벨로 정렬(오름차순)\n",
    "# ---------------------------------\n",
    "\n",
    "s.sort_index()"
   ]
  },
  {
   "cell_type": "code",
   "execution_count": 18,
   "metadata": {},
   "outputs": [
    {
     "data": {
      "text/plain": [
       "O      30\n",
       "B      50\n",
       "AB     10\n",
       "A     100\n",
       "Name: 혈액형별 수량, dtype: int64"
      ]
     },
     "execution_count": 18,
     "metadata": {},
     "output_type": "execute_result"
    }
   ],
   "source": [
    "# ---------------------------------\n",
    "# 인덱스라벨로 정렬(내림차순)\n",
    "# ---------------------------------\n",
    "\n",
    "s.sort_index(ascending=False)"
   ]
  },
  {
   "cell_type": "code",
   "execution_count": 19,
   "metadata": {},
   "outputs": [
    {
     "data": {
      "text/plain": [
       "A     False\n",
       "B     False\n",
       "O     False\n",
       "AB    False\n",
       "Name: 혈액형별 수량, dtype: bool"
      ]
     },
     "execution_count": 19,
     "metadata": {},
     "output_type": "execute_result"
    }
   ],
   "source": [
    "# ---------------------------------\n",
    "# null 여부(null이면 True)\n",
    "# ---------------------------------\n",
    "\n",
    "s.isnull()"
   ]
  },
  {
   "cell_type": "code",
   "execution_count": 20,
   "metadata": {},
   "outputs": [
    {
     "data": {
      "text/plain": [
       "A     True\n",
       "B     True\n",
       "O     True\n",
       "AB    True\n",
       "Name: 혈액형별 수량, dtype: bool"
      ]
     },
     "execution_count": 20,
     "metadata": {},
     "output_type": "execute_result"
    }
   ],
   "source": [
    "# ---------------------------------\n",
    "# null 여부(null이 아니면 True)\n",
    "# ---------------------------------\n",
    "\n",
    "s.notnull()"
   ]
  },
  {
   "cell_type": "code",
   "execution_count": 21,
   "metadata": {},
   "outputs": [
    {
     "data": {
      "text/plain": [
       "A     100\n",
       "B      50\n",
       "O      30\n",
       "AB     10\n",
       "Name: 혈액형별 수량, dtype: object"
      ]
     },
     "execution_count": 21,
     "metadata": {},
     "output_type": "execute_result"
    }
   ],
   "source": [
    "# ---------------------------------\n",
    "# 데이터타입 변경\n",
    "# 문자열로 변경\n",
    "# ---------------------------------\n",
    "\n",
    "s.astype('str')"
   ]
  },
  {
   "cell_type": "markdown",
   "metadata": {
    "id": "RaNBeZ4-Et26"
   },
   "source": [
    "### Series 데이터 접근\n",
    "\n",
    "* 라벨 인덱스로 접근\n",
    "  * **`시리즈객체.loc[인덱스라벨]`**\n",
    "  * **`시리즈객체.loc[인덱스라벨 리스트]`** \n",
    "  * **`시리즈객체.loc[인덱스라벨 슬라이스]`** --> 끝인덱스의 데이터 포함\n",
    "* 정수형 인덱스로 접근\n",
    "  * **`시리즈객체.iloc[RangeIndex]`**\n",
    "  * **`시리즈객체.iloc[RangeIndex리스트]`** \n",
    "  * **`시리즈객체.iloc[RangeIndex슬라이스]`**"
   ]
  },
  {
   "cell_type": "code",
   "execution_count": 22,
   "metadata": {
    "colab": {
     "base_uri": "https://localhost:8080/"
    },
    "executionInfo": {
     "elapsed": 391,
     "status": "ok",
     "timestamp": 1659504520750,
     "user": {
      "displayName": "Jayoung Kim",
      "userId": "14447265827232008674"
     },
     "user_tz": -540
    },
    "id": "uTGn-OjTK5M5",
    "outputId": "1a3e48c2-cdb5-4d62-cab0-3e23045c6ba0"
   },
   "outputs": [
    {
     "data": {
      "text/plain": [
       "np.int64(100)"
      ]
     },
     "execution_count": 22,
     "metadata": {},
     "output_type": "execute_result"
    }
   ],
   "source": [
    "# ---------------------\n",
    "# A형은 몇명인가요?\n",
    "# 인덱스라벨 사용\n",
    "#\n",
    "# 결과\n",
    "# np.int64(100)\n",
    "# ---------------------\n",
    "\n",
    "s.loc['A']"
   ]
  },
  {
   "cell_type": "code",
   "execution_count": 23,
   "metadata": {
    "colab": {
     "base_uri": "https://localhost:8080/"
    },
    "executionInfo": {
     "elapsed": 404,
     "status": "ok",
     "timestamp": 1659504536275,
     "user": {
      "displayName": "Jayoung Kim",
      "userId": "14447265827232008674"
     },
     "user_tz": -540
    },
    "id": "5RSXAhghOH60",
    "outputId": "0b84307d-7c18-4348-8439-41a7bc7f69db"
   },
   "outputs": [
    {
     "data": {
      "text/plain": [
       "np.int64(100)"
      ]
     },
     "execution_count": 23,
     "metadata": {},
     "output_type": "execute_result"
    }
   ],
   "source": [
    "# ---------------------\n",
    "# A형은 몇명인가요?\n",
    "# RangeIndex 사용\n",
    "#\n",
    "# 결과\n",
    "# np.int64(100)\n",
    "# ---------------------\n",
    "\n",
    "s.iloc[0]"
   ]
  },
  {
   "cell_type": "code",
   "execution_count": 24,
   "metadata": {
    "colab": {
     "base_uri": "https://localhost:8080/"
    },
    "executionInfo": {
     "elapsed": 423,
     "status": "ok",
     "timestamp": 1659504573306,
     "user": {
      "displayName": "Jayoung Kim",
      "userId": "14447265827232008674"
     },
     "user_tz": -540
    },
    "id": "JPm3nRuvMCKO",
    "outputId": "de21b8fc-043b-4936-be0c-ded425189d8d"
   },
   "outputs": [
    {
     "data": {
      "text/plain": [
       "A    100\n",
       "O     30\n",
       "Name: 혈액형별 수량, dtype: int64"
      ]
     },
     "execution_count": 24,
     "metadata": {},
     "output_type": "execute_result"
    }
   ],
   "source": [
    "# ---------------------\n",
    "# A형, O형은 각각 몇명인가요?\n",
    "# 인덱스라벨리스트 사용\n",
    "# ---------------------\n",
    "\n",
    "s.loc[['A', 'O']]"
   ]
  },
  {
   "cell_type": "code",
   "execution_count": 25,
   "metadata": {
    "colab": {
     "base_uri": "https://localhost:8080/"
    },
    "executionInfo": {
     "elapsed": 401,
     "status": "ok",
     "timestamp": 1659504596076,
     "user": {
      "displayName": "Jayoung Kim",
      "userId": "14447265827232008674"
     },
     "user_tz": -540
    },
    "id": "t3l547GEBgWO",
    "outputId": "bc0d1c50-ec5e-488f-c431-d017bb5df792"
   },
   "outputs": [
    {
     "data": {
      "text/plain": [
       "A    100\n",
       "O     30\n",
       "Name: 혈액형별 수량, dtype: int64"
      ]
     },
     "execution_count": 25,
     "metadata": {},
     "output_type": "execute_result"
    }
   ],
   "source": [
    "# ---------------------\n",
    "# A형, O형은 각각 몇명인가요?\n",
    "# RangeIndex리스트 사용\n",
    "# ---------------------\n",
    "\n",
    "s.iloc[[0, 2]]"
   ]
  },
  {
   "cell_type": "code",
   "execution_count": 26,
   "metadata": {
    "colab": {
     "base_uri": "https://localhost:8080/"
    },
    "executionInfo": {
     "elapsed": 5,
     "status": "ok",
     "timestamp": 1659504626494,
     "user": {
      "displayName": "Jayoung Kim",
      "userId": "14447265827232008674"
     },
     "user_tz": -540
    },
    "id": "Nd96rj2dML7d",
    "outputId": "36121a74-fa36-4889-c9c5-7237c4522111"
   },
   "outputs": [
    {
     "data": {
      "text/plain": [
       "A    100\n",
       "B     50\n",
       "O     30\n",
       "Name: 혈액형별 수량, dtype: int64"
      ]
     },
     "execution_count": 26,
     "metadata": {},
     "output_type": "execute_result"
    }
   ],
   "source": [
    "# ---------------------\n",
    "# A형부터 O형까지 각각 몇명인가요?\n",
    "# 인덱스라벨슬라이스 사용\n",
    "# ---------------------\n",
    "\n",
    "s.loc['A':'O']"
   ]
  },
  {
   "cell_type": "code",
   "execution_count": 27,
   "metadata": {
    "colab": {
     "base_uri": "https://localhost:8080/"
    },
    "executionInfo": {
     "elapsed": 378,
     "status": "ok",
     "timestamp": 1659504673109,
     "user": {
      "displayName": "Jayoung Kim",
      "userId": "14447265827232008674"
     },
     "user_tz": -540
    },
    "id": "cxdoKGvrMOCg",
    "outputId": "8c3d1bdb-eaf7-41fb-f7bf-8dd78fff0641"
   },
   "outputs": [
    {
     "data": {
      "text/plain": [
       "A    100\n",
       "B     50\n",
       "O     30\n",
       "Name: 혈액형별 수량, dtype: int64"
      ]
     },
     "execution_count": 27,
     "metadata": {},
     "output_type": "execute_result"
    }
   ],
   "source": [
    "# ---------------------\n",
    "# A형부터 O형까지 각각 몇명인가요?\n",
    "# RangeIndex슬라이스 사용\n",
    "# ---------------------\n",
    "\n",
    "s.iloc[0:3]"
   ]
  },
  {
   "cell_type": "markdown",
   "metadata": {
    "id": "QwoR_Yh1Me6i"
   },
   "source": [
    "### Series 데이터 추가, 수정, 삭제\n",
    "* 데이터 추가/수정\n",
    "  * `시리즈객체[인덱스] = 데이터`\n",
    "* 데이터 삭제\n",
    "  * `del 시리즈객체[인덱스]`"
   ]
  },
  {
   "cell_type": "code",
   "execution_count": 28,
   "metadata": {
    "colab": {
     "base_uri": "https://localhost:8080/"
    },
    "executionInfo": {
     "elapsed": 365,
     "status": "ok",
     "timestamp": 1659504944471,
     "user": {
      "displayName": "Jayoung Kim",
      "userId": "14447265827232008674"
     },
     "user_tz": -540
    },
    "id": "TCVyPuc2Bq3D",
    "outputId": "73f84ccc-dcd4-4f5d-c85f-a65f24547071"
   },
   "outputs": [],
   "source": [
    "# ---------------------\n",
    "# 데이터 추가\n",
    "# 'A-'  3\n",
    "# ---------------------\n",
    "\n",
    "\n",
    "s['A-'] = 3"
   ]
  },
  {
   "cell_type": "code",
   "execution_count": 29,
   "metadata": {},
   "outputs": [],
   "source": [
    "# ---------------------\n",
    "# 데이터 수정\n",
    "# 'A-'  5\n",
    "# ---------------------\n",
    "\n",
    "s['A-'] = 5"
   ]
  },
  {
   "cell_type": "code",
   "execution_count": 30,
   "metadata": {
    "id": "9UdOpCygB_mU"
   },
   "outputs": [],
   "source": [
    "# ---------------------\n",
    "# 데이터 삭제\n",
    "# 'A-'  \n",
    "# ---------------------\n",
    "\n",
    "del s['A-']"
   ]
  },
  {
   "cell_type": "code",
   "execution_count": 31,
   "metadata": {},
   "outputs": [
    {
     "name": "stdout",
     "output_type": "stream",
     "text": [
      "A     100\n",
      "B      50\n",
      "O      30\n",
      "AB     10\n",
      "Name: 혈액형별 수량, dtype: int64\n"
     ]
    }
   ],
   "source": [
    "print(s)"
   ]
  }
 ],
 "metadata": {
  "colab": {
   "authorship_tag": "ABX9TyOGH4uAy+vGrtPYPntUI2p3",
   "provenance": [
    {
     "file_id": "19ubYY93AkknhIGTL7PyHjn_tqKOPzFW_",
     "timestamp": 1659501817487
    },
    {
     "file_id": "1t1tCxXbtNKSHIZ6zXQ-9SBWBzC-u3n8z",
     "timestamp": 1659142636466
    },
    {
     "file_id": "1gLjNcUZ1l5oXGDpYVmleIBKkLPQp0TEu",
     "timestamp": 1659019856864
    }
   ],
   "toc_visible": true
  },
  "kernelspec": {
   "display_name": "z_venv",
   "language": "python",
   "name": "python3"
  },
  "language_info": {
   "codemirror_mode": {
    "name": "ipython",
    "version": 3
   },
   "file_extension": ".py",
   "mimetype": "text/x-python",
   "name": "python",
   "nbconvert_exporter": "python",
   "pygments_lexer": "ipython3",
   "version": "3.13.3"
  }
 },
 "nbformat": 4,
 "nbformat_minor": 0
}
