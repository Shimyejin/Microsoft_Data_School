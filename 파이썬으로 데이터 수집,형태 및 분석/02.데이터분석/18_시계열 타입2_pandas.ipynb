{
 "cells": [
  {
   "cell_type": "code",
   "execution_count": 2,
   "metadata": {},
   "outputs": [],
   "source": [
    "import numpy as np\n",
    "import pandas as pd"
   ]
  },
  {
   "cell_type": "markdown",
   "metadata": {},
   "source": [
    "## Timestamp \n",
    "* 단일 시점의 날짜와 시간을 나타내는 객체\n",
    "* python의 기본 datetime 객체를 확장한 것\n",
    "* `pd.to_datetime(문자열)`"
   ]
  },
  {
   "cell_type": "code",
   "execution_count": 3,
   "metadata": {},
   "outputs": [
    {
     "name": "stdout",
     "output_type": "stream",
     "text": [
      "2025-01-01 00:00:00\n",
      "<class 'pandas._libs.tslibs.timestamps.Timestamp'>\n"
     ]
    }
   ],
   "source": [
    "datetime_obj = pd.to_datetime('2025')\n",
    "print(datetime_obj)\n",
    "print(type(datetime_obj))"
   ]
  },
  {
   "cell_type": "code",
   "execution_count": 4,
   "metadata": {},
   "outputs": [
    {
     "name": "stdout",
     "output_type": "stream",
     "text": [
      "2025-03-01 00:00:00\n",
      "<class 'pandas._libs.tslibs.timestamps.Timestamp'>\n"
     ]
    }
   ],
   "source": [
    "datetime_obj = pd.to_datetime('2025-03')\n",
    "print(datetime_obj)\n",
    "print(type(datetime_obj))"
   ]
  },
  {
   "cell_type": "code",
   "execution_count": 5,
   "metadata": {},
   "outputs": [
    {
     "name": "stdout",
     "output_type": "stream",
     "text": [
      "2025-03-15 00:00:00\n",
      "<class 'pandas._libs.tslibs.timestamps.Timestamp'>\n"
     ]
    }
   ],
   "source": [
    "datetime_obj = pd.to_datetime('2025-03-15')\n",
    "print(datetime_obj)\n",
    "print(type(datetime_obj))"
   ]
  },
  {
   "cell_type": "code",
   "execution_count": 6,
   "metadata": {},
   "outputs": [
    {
     "name": "stdout",
     "output_type": "stream",
     "text": [
      "2025-03-15 13:00:00\n",
      "<class 'pandas._libs.tslibs.timestamps.Timestamp'>\n"
     ]
    }
   ],
   "source": [
    "datetime_obj = pd.to_datetime('2025-03-15 13')\n",
    "print(datetime_obj)\n",
    "print(type(datetime_obj))"
   ]
  },
  {
   "cell_type": "code",
   "execution_count": 60,
   "metadata": {},
   "outputs": [
    {
     "name": "stdout",
     "output_type": "stream",
     "text": [
      "2025-03-15 13:15:00\n",
      "<class 'pandas._libs.tslibs.timestamps.Timestamp'>\n"
     ]
    }
   ],
   "source": [
    "datetime_obj = pd.to_datetime('2025-03-15 13:15')\n",
    "print(datetime_obj)\n",
    "print(type(datetime_obj))"
   ]
  },
  {
   "cell_type": "code",
   "execution_count": 12,
   "metadata": {},
   "outputs": [
    {
     "name": "stdout",
     "output_type": "stream",
     "text": [
      "2025-03-15 13:15:20\n",
      "<class 'pandas._libs.tslibs.timestamps.Timestamp'>\n"
     ]
    }
   ],
   "source": [
    "datetime_obj = pd.to_datetime('2025-03-15 13:15:20')\n",
    "print(datetime_obj)\n",
    "print(type(datetime_obj))"
   ]
  },
  {
   "cell_type": "code",
   "execution_count": 7,
   "metadata": {},
   "outputs": [
    {
     "name": "stdout",
     "output_type": "stream",
     "text": [
      "2025-03-15 13:15:20\n",
      "<class 'pandas._libs.tslibs.timestamps.Timestamp'>\n"
     ]
    }
   ],
   "source": [
    "datetime_obj = pd.to_datetime('2025년 03월 15일 13시 15분 20초', \n",
    "                               format = '%Y년 %m월 %d일 %H시 %M분 %S초')\n",
    "print(datetime_obj)\n",
    "print(type(datetime_obj))"
   ]
  },
  {
   "cell_type": "markdown",
   "metadata": {},
   "source": [
    "## 일정한 간격의 DateTimeIndex 생성\n",
    "* `pd.date_range()`\n",
    ">* 주요 파라미터 \n",
    ">    * `start` : 시작일\n",
    ">    * `end` : 종료일\n",
    ">    * `periods` : 생성할 날짜/시간 개수\n",
    ">    * `freq` : 날짜/시간 간격(frequency)\n",
    ">* 주요 freq 옵션\n",
    ">    * **YS/YE : 연초/연말**\n",
    ">    * QS/QE : 분기초/분기말\n",
    ">    * **MS/ME : 월초/월말**\n",
    ">    * W : 주별(일요일 기준)\n",
    ">    * W-MON : 주별(월요일 기준)\n",
    ">    * **D : 일별**\n",
    ">    * **B : 영업일(비즈니스데이, 주말 제외)**\n",
    ">    * h : 시간별\n",
    ">    * min : 분단위\n",
    ">    * S : 초단위\n",
    ">    * ms : 밀리초단위\n",
    ">    * us : 마이크로초단위\n",
    ">    * ns : 나노초 단위\n",
    "\n",
    "\n",
    "\n",
    "\n"
   ]
  },
  {
   "cell_type": "code",
   "execution_count": 87,
   "metadata": {},
   "outputs": [
    {
     "name": "stdout",
     "output_type": "stream",
     "text": [
      "\u001b[1;31mSignature:\u001b[0m\n",
      "\u001b[0mpd\u001b[0m\u001b[1;33m.\u001b[0m\u001b[0mdate_range\u001b[0m\u001b[1;33m(\u001b[0m\u001b[1;33m\n",
      "\u001b[0m    \u001b[0mstart\u001b[0m\u001b[1;33m=\u001b[0m\u001b[1;32mNone\u001b[0m\u001b[1;33m,\u001b[0m\u001b[1;33m\n",
      "\u001b[0m    \u001b[0mend\u001b[0m\u001b[1;33m=\u001b[0m\u001b[1;32mNone\u001b[0m\u001b[1;33m,\u001b[0m\u001b[1;33m\n",
      "\u001b[0m    \u001b[0mperiods\u001b[0m\u001b[1;33m=\u001b[0m\u001b[1;32mNone\u001b[0m\u001b[1;33m,\u001b[0m\u001b[1;33m\n",
      "\u001b[0m    \u001b[0mfreq\u001b[0m\u001b[1;33m=\u001b[0m\u001b[1;32mNone\u001b[0m\u001b[1;33m,\u001b[0m\u001b[1;33m\n",
      "\u001b[0m    \u001b[0mtz\u001b[0m\u001b[1;33m=\u001b[0m\u001b[1;32mNone\u001b[0m\u001b[1;33m,\u001b[0m\u001b[1;33m\n",
      "\u001b[0m    \u001b[0mnormalize\u001b[0m\u001b[1;33m:\u001b[0m \u001b[1;34m'bool'\u001b[0m \u001b[1;33m=\u001b[0m \u001b[1;32mFalse\u001b[0m\u001b[1;33m,\u001b[0m\u001b[1;33m\n",
      "\u001b[0m    \u001b[0mname\u001b[0m\u001b[1;33m:\u001b[0m \u001b[1;34m'Hashable | None'\u001b[0m \u001b[1;33m=\u001b[0m \u001b[1;32mNone\u001b[0m\u001b[1;33m,\u001b[0m\u001b[1;33m\n",
      "\u001b[0m    \u001b[0minclusive\u001b[0m\u001b[1;33m:\u001b[0m \u001b[1;34m'IntervalClosedType'\u001b[0m \u001b[1;33m=\u001b[0m \u001b[1;34m'both'\u001b[0m\u001b[1;33m,\u001b[0m\u001b[1;33m\n",
      "\u001b[0m    \u001b[1;33m*\u001b[0m\u001b[1;33m,\u001b[0m\u001b[1;33m\n",
      "\u001b[0m    \u001b[0munit\u001b[0m\u001b[1;33m:\u001b[0m \u001b[1;34m'str | None'\u001b[0m \u001b[1;33m=\u001b[0m \u001b[1;32mNone\u001b[0m\u001b[1;33m,\u001b[0m\u001b[1;33m\n",
      "\u001b[0m    \u001b[1;33m**\u001b[0m\u001b[0mkwargs\u001b[0m\u001b[1;33m,\u001b[0m\u001b[1;33m\n",
      "\u001b[0m\u001b[1;33m)\u001b[0m \u001b[1;33m->\u001b[0m \u001b[1;34m'DatetimeIndex'\u001b[0m\u001b[1;33m\u001b[0m\u001b[1;33m\u001b[0m\u001b[0m\n",
      "\u001b[1;31mDocstring:\u001b[0m\n",
      "Return a fixed frequency DatetimeIndex.\n",
      "\n",
      "Returns the range of equally spaced time points (where the difference between any\n",
      "two adjacent points is specified by the given frequency) such that they all\n",
      "satisfy `start <[=] x <[=] end`, where the first one and the last one are, resp.,\n",
      "the first and last time points in that range that fall on the boundary of ``freq``\n",
      "(if given as a frequency string) or that are valid for ``freq`` (if given as a\n",
      ":class:`pandas.tseries.offsets.DateOffset`). (If exactly one of ``start``,\n",
      "``end``, or ``freq`` is *not* specified, this missing parameter can be computed\n",
      "given ``periods``, the number of timesteps in the range. See the note below.)\n",
      "\n",
      "Parameters\n",
      "----------\n",
      "start : str or datetime-like, optional\n",
      "    Left bound for generating dates.\n",
      "end : str or datetime-like, optional\n",
      "    Right bound for generating dates.\n",
      "periods : int, optional\n",
      "    Number of periods to generate.\n",
      "freq : str, Timedelta, datetime.timedelta, or DateOffset, default 'D'\n",
      "    Frequency strings can have multiples, e.g. '5h'. See\n",
      "    :ref:`here <timeseries.offset_aliases>` for a list of\n",
      "    frequency aliases.\n",
      "tz : str or tzinfo, optional\n",
      "    Time zone name for returning localized DatetimeIndex, for example\n",
      "    'Asia/Hong_Kong'. By default, the resulting DatetimeIndex is\n",
      "    timezone-naive unless timezone-aware datetime-likes are passed.\n",
      "normalize : bool, default False\n",
      "    Normalize start/end dates to midnight before generating date range.\n",
      "name : str, default None\n",
      "    Name of the resulting DatetimeIndex.\n",
      "inclusive : {\"both\", \"neither\", \"left\", \"right\"}, default \"both\"\n",
      "    Include boundaries; Whether to set each bound as closed or open.\n",
      "\n",
      "    .. versionadded:: 1.4.0\n",
      "unit : str, default None\n",
      "    Specify the desired resolution of the result.\n",
      "\n",
      "    .. versionadded:: 2.0.0\n",
      "**kwargs\n",
      "    For compatibility. Has no effect on the result.\n",
      "\n",
      "Returns\n",
      "-------\n",
      "DatetimeIndex\n",
      "\n",
      "See Also\n",
      "--------\n",
      "DatetimeIndex : An immutable container for datetimes.\n",
      "timedelta_range : Return a fixed frequency TimedeltaIndex.\n",
      "period_range : Return a fixed frequency PeriodIndex.\n",
      "interval_range : Return a fixed frequency IntervalIndex.\n",
      "\n",
      "Notes\n",
      "-----\n",
      "Of the four parameters ``start``, ``end``, ``periods``, and ``freq``,\n",
      "exactly three must be specified. If ``freq`` is omitted, the resulting\n",
      "``DatetimeIndex`` will have ``periods`` linearly spaced elements between\n",
      "``start`` and ``end`` (closed on both sides).\n",
      "\n",
      "To learn more about the frequency strings, please see `this link\n",
      "<https://pandas.pydata.org/pandas-docs/stable/user_guide/timeseries.html#offset-aliases>`__.\n",
      "\n",
      "Examples\n",
      "--------\n",
      "**Specifying the values**\n",
      "\n",
      "The next four examples generate the same `DatetimeIndex`, but vary\n",
      "the combination of `start`, `end` and `periods`.\n",
      "\n",
      "Specify `start` and `end`, with the default daily frequency.\n",
      "\n",
      ">>> pd.date_range(start='1/1/2018', end='1/08/2018')\n",
      "DatetimeIndex(['2018-01-01', '2018-01-02', '2018-01-03', '2018-01-04',\n",
      "               '2018-01-05', '2018-01-06', '2018-01-07', '2018-01-08'],\n",
      "              dtype='datetime64[ns]', freq='D')\n",
      "\n",
      "Specify timezone-aware `start` and `end`, with the default daily frequency.\n",
      "\n",
      ">>> pd.date_range(\n",
      "...     start=pd.to_datetime(\"1/1/2018\").tz_localize(\"Europe/Berlin\"),\n",
      "...     end=pd.to_datetime(\"1/08/2018\").tz_localize(\"Europe/Berlin\"),\n",
      "... )\n",
      "DatetimeIndex(['2018-01-01 00:00:00+01:00', '2018-01-02 00:00:00+01:00',\n",
      "               '2018-01-03 00:00:00+01:00', '2018-01-04 00:00:00+01:00',\n",
      "               '2018-01-05 00:00:00+01:00', '2018-01-06 00:00:00+01:00',\n",
      "               '2018-01-07 00:00:00+01:00', '2018-01-08 00:00:00+01:00'],\n",
      "              dtype='datetime64[ns, Europe/Berlin]', freq='D')\n",
      "\n",
      "Specify `start` and `periods`, the number of periods (days).\n",
      "\n",
      ">>> pd.date_range(start='1/1/2018', periods=8)\n",
      "DatetimeIndex(['2018-01-01', '2018-01-02', '2018-01-03', '2018-01-04',\n",
      "               '2018-01-05', '2018-01-06', '2018-01-07', '2018-01-08'],\n",
      "              dtype='datetime64[ns]', freq='D')\n",
      "\n",
      "Specify `end` and `periods`, the number of periods (days).\n",
      "\n",
      ">>> pd.date_range(end='1/1/2018', periods=8)\n",
      "DatetimeIndex(['2017-12-25', '2017-12-26', '2017-12-27', '2017-12-28',\n",
      "               '2017-12-29', '2017-12-30', '2017-12-31', '2018-01-01'],\n",
      "              dtype='datetime64[ns]', freq='D')\n",
      "\n",
      "Specify `start`, `end`, and `periods`; the frequency is generated\n",
      "automatically (linearly spaced).\n",
      "\n",
      ">>> pd.date_range(start='2018-04-24', end='2018-04-27', periods=3)\n",
      "DatetimeIndex(['2018-04-24 00:00:00', '2018-04-25 12:00:00',\n",
      "               '2018-04-27 00:00:00'],\n",
      "              dtype='datetime64[ns]', freq=None)\n",
      "\n",
      "**Other Parameters**\n",
      "\n",
      "Changed the `freq` (frequency) to ``'ME'`` (month end frequency).\n",
      "\n",
      ">>> pd.date_range(start='1/1/2018', periods=5, freq='ME')\n",
      "DatetimeIndex(['2018-01-31', '2018-02-28', '2018-03-31', '2018-04-30',\n",
      "               '2018-05-31'],\n",
      "              dtype='datetime64[ns]', freq='ME')\n",
      "\n",
      "Multiples are allowed\n",
      "\n",
      ">>> pd.date_range(start='1/1/2018', periods=5, freq='3ME')\n",
      "DatetimeIndex(['2018-01-31', '2018-04-30', '2018-07-31', '2018-10-31',\n",
      "               '2019-01-31'],\n",
      "              dtype='datetime64[ns]', freq='3ME')\n",
      "\n",
      "`freq` can also be specified as an Offset object.\n",
      "\n",
      ">>> pd.date_range(start='1/1/2018', periods=5, freq=pd.offsets.MonthEnd(3))\n",
      "DatetimeIndex(['2018-01-31', '2018-04-30', '2018-07-31', '2018-10-31',\n",
      "               '2019-01-31'],\n",
      "              dtype='datetime64[ns]', freq='3ME')\n",
      "\n",
      "Specify `tz` to set the timezone.\n",
      "\n",
      ">>> pd.date_range(start='1/1/2018', periods=5, tz='Asia/Tokyo')\n",
      "DatetimeIndex(['2018-01-01 00:00:00+09:00', '2018-01-02 00:00:00+09:00',\n",
      "               '2018-01-03 00:00:00+09:00', '2018-01-04 00:00:00+09:00',\n",
      "               '2018-01-05 00:00:00+09:00'],\n",
      "              dtype='datetime64[ns, Asia/Tokyo]', freq='D')\n",
      "\n",
      "`inclusive` controls whether to include `start` and `end` that are on the\n",
      "boundary. The default, \"both\", includes boundary points on either end.\n",
      "\n",
      ">>> pd.date_range(start='2017-01-01', end='2017-01-04', inclusive=\"both\")\n",
      "DatetimeIndex(['2017-01-01', '2017-01-02', '2017-01-03', '2017-01-04'],\n",
      "              dtype='datetime64[ns]', freq='D')\n",
      "\n",
      "Use ``inclusive='left'`` to exclude `end` if it falls on the boundary.\n",
      "\n",
      ">>> pd.date_range(start='2017-01-01', end='2017-01-04', inclusive='left')\n",
      "DatetimeIndex(['2017-01-01', '2017-01-02', '2017-01-03'],\n",
      "              dtype='datetime64[ns]', freq='D')\n",
      "\n",
      "Use ``inclusive='right'`` to exclude `start` if it falls on the boundary, and\n",
      "similarly ``inclusive='neither'`` will exclude both `start` and `end`.\n",
      "\n",
      ">>> pd.date_range(start='2017-01-01', end='2017-01-04', inclusive='right')\n",
      "DatetimeIndex(['2017-01-02', '2017-01-03', '2017-01-04'],\n",
      "              dtype='datetime64[ns]', freq='D')\n",
      "\n",
      "**Specify a unit**\n",
      "\n",
      ">>> pd.date_range(start=\"2017-01-01\", periods=10, freq=\"100YS\", unit=\"s\")\n",
      "DatetimeIndex(['2017-01-01', '2117-01-01', '2217-01-01', '2317-01-01',\n",
      "               '2417-01-01', '2517-01-01', '2617-01-01', '2717-01-01',\n",
      "               '2817-01-01', '2917-01-01'],\n",
      "              dtype='datetime64[s]', freq='100YS-JAN')\n",
      "\u001b[1;31mFile:\u001b[0m      c:\\users\\chopi\\appdata\\local\\programs\\python\\python313\\lib\\site-packages\\pandas\\core\\indexes\\datetimes.py\n",
      "\u001b[1;31mType:\u001b[0m      function"
     ]
    }
   ],
   "source": [
    "pd.date_range?"
   ]
  },
  {
   "cell_type": "code",
   "execution_count": 10,
   "metadata": {},
   "outputs": [
    {
     "data": {
      "text/plain": [
       "DatetimeIndex(['2020-01-01', '2021-01-01', '2022-01-01', '2023-01-01',\n",
       "               '2024-01-01', '2025-01-01', '2026-01-01'],\n",
       "              dtype='datetime64[ns]', freq='YS-JAN')"
      ]
     },
     "execution_count": 10,
     "metadata": {},
     "output_type": "execute_result"
    }
   ],
   "source": [
    "# ---------------------------\n",
    "# 2020년부터 연단위 7개의 데이터 생성(YS)\n",
    "# ---------------------------\n",
    "\n",
    "pd.date_range('2020', periods=7, freq='YS')"
   ]
  },
  {
   "cell_type": "code",
   "execution_count": 11,
   "metadata": {},
   "outputs": [
    {
     "data": {
      "text/plain": [
       "DatetimeIndex(['2020-12-31', '2021-12-31', '2022-12-31', '2023-12-31',\n",
       "               '2024-12-31', '2025-12-31', '2026-12-31'],\n",
       "              dtype='datetime64[ns]', freq='YE-DEC')"
      ]
     },
     "execution_count": 11,
     "metadata": {},
     "output_type": "execute_result"
    }
   ],
   "source": [
    "# ---------------------------\n",
    "# 2020년부터 연단위 7개의 데이터 생성(YE)\n",
    "# ---------------------------\n",
    "\n",
    "pd.date_range('2020', periods=7, freq='YE')"
   ]
  },
  {
   "cell_type": "code",
   "execution_count": 12,
   "metadata": {},
   "outputs": [
    {
     "data": {
      "text/plain": [
       "DatetimeIndex(['2020-01-01', '2020-02-01', '2020-03-01', '2020-04-01',\n",
       "               '2020-05-01', '2020-06-01', '2020-07-01'],\n",
       "              dtype='datetime64[ns]', freq='MS')"
      ]
     },
     "execution_count": 12,
     "metadata": {},
     "output_type": "execute_result"
    }
   ],
   "source": [
    "# ---------------------------\n",
    "# 2020년 1월부터 월단위 7개의 데이터 생성(MS)\n",
    "# ---------------------------\n",
    "pd.date_range('2020-01', periods=7, freq='MS')"
   ]
  },
  {
   "cell_type": "code",
   "execution_count": 13,
   "metadata": {},
   "outputs": [
    {
     "data": {
      "text/plain": [
       "DatetimeIndex(['2020-01-31', '2020-02-29', '2020-03-31', '2020-04-30',\n",
       "               '2020-05-31', '2020-06-30', '2020-07-31'],\n",
       "              dtype='datetime64[ns]', freq='ME')"
      ]
     },
     "execution_count": 13,
     "metadata": {},
     "output_type": "execute_result"
    }
   ],
   "source": [
    "# ---------------------------\n",
    "# 2020년 1월부터 월단위 7개의 데이터 생성(ME)\n",
    "# ---------------------------\n",
    "pd.date_range('2020-01', periods=7, freq='ME')"
   ]
  },
  {
   "cell_type": "code",
   "execution_count": 14,
   "metadata": {},
   "outputs": [
    {
     "data": {
      "text/plain": [
       "DatetimeIndex(['2020-01-01', '2020-04-01', '2020-07-01', '2020-10-01',\n",
       "               '2021-01-01', '2021-04-01', '2021-07-01'],\n",
       "              dtype='datetime64[ns]', freq='QS-JAN')"
      ]
     },
     "execution_count": 14,
     "metadata": {},
     "output_type": "execute_result"
    }
   ],
   "source": [
    "# ---------------------------\n",
    "# 2020년 1월부터 분기단위 7개의 데이터 생성(QS)\n",
    "# ---------------------------\n",
    "pd.date_range('2020-01', periods=7, freq='QS')"
   ]
  },
  {
   "cell_type": "code",
   "execution_count": 15,
   "metadata": {},
   "outputs": [
    {
     "data": {
      "text/plain": [
       "DatetimeIndex(['2020-03-31', '2020-06-30', '2020-09-30', '2020-12-31',\n",
       "               '2021-03-31', '2021-06-30', '2021-09-30'],\n",
       "              dtype='datetime64[ns]', freq='QE-DEC')"
      ]
     },
     "execution_count": 15,
     "metadata": {},
     "output_type": "execute_result"
    }
   ],
   "source": [
    "# ---------------------------\n",
    "# 2020년 1월부터 분기단위 7개의 데이터 생성(QE)\n",
    "# ---------------------------\n",
    "pd.date_range('2020-01', periods=7, freq='QE')"
   ]
  },
  {
   "cell_type": "code",
   "execution_count": 16,
   "metadata": {},
   "outputs": [
    {
     "data": {
      "text/plain": [
       "DatetimeIndex(['2020-01-05 15:00:00', '2020-01-12 15:00:00',\n",
       "               '2020-01-19 15:00:00', '2020-01-26 15:00:00',\n",
       "               '2020-02-02 15:00:00', '2020-02-09 15:00:00',\n",
       "               '2020-02-16 15:00:00'],\n",
       "              dtype='datetime64[ns]', freq='W-SUN')"
      ]
     },
     "execution_count": 16,
     "metadata": {},
     "output_type": "execute_result"
    }
   ],
   "source": [
    "# ---------------------------\n",
    "# 2020년 1월 1일 15시부터 주단위 7개의 데이터 생성(W)\n",
    "# ---------------------------\n",
    "pd.date_range(start = '2020-01-01 15', periods=7, freq='W')"
   ]
  },
  {
   "cell_type": "code",
   "execution_count": 17,
   "metadata": {},
   "outputs": [
    {
     "data": {
      "text/plain": [
       "DatetimeIndex(['2020-01-06 15:00:00', '2020-01-13 15:00:00',\n",
       "               '2020-01-20 15:00:00', '2020-01-27 15:00:00',\n",
       "               '2020-02-03 15:00:00', '2020-02-10 15:00:00',\n",
       "               '2020-02-17 15:00:00'],\n",
       "              dtype='datetime64[ns]', freq='W-MON')"
      ]
     },
     "execution_count": 17,
     "metadata": {},
     "output_type": "execute_result"
    }
   ],
   "source": [
    "# ---------------------------\n",
    "# 2020년 1월 1일 15시부터 주단위 7개의 데이터 생성(W-MON)\n",
    "# ---------------------------\n",
    "pd.date_range(start = '2020-01-01 15', periods=7, freq='W-MON')"
   ]
  },
  {
   "cell_type": "code",
   "execution_count": 18,
   "metadata": {},
   "outputs": [
    {
     "data": {
      "text/plain": [
       "DatetimeIndex(['2020-01-07 15:00:00', '2020-01-14 15:00:00',\n",
       "               '2020-01-21 15:00:00', '2020-01-28 15:00:00',\n",
       "               '2020-02-04 15:00:00', '2020-02-11 15:00:00',\n",
       "               '2020-02-18 15:00:00'],\n",
       "              dtype='datetime64[ns]', freq='W-TUE')"
      ]
     },
     "execution_count": 18,
     "metadata": {},
     "output_type": "execute_result"
    }
   ],
   "source": [
    "# ---------------------------\n",
    "# 2020년 1월 1일 15시부터 주단위 7개의 데이터 생성(W-TUE)\n",
    "# ---------------------------\n",
    "pd.date_range(start = '2020-01-01 15', periods=7, freq='W-TUE')"
   ]
  },
  {
   "cell_type": "code",
   "execution_count": 19,
   "metadata": {},
   "outputs": [
    {
     "data": {
      "text/plain": [
       "DatetimeIndex(['2020-01-01 15:00:00', '2020-01-02 15:00:00',\n",
       "               '2020-01-03 15:00:00', '2020-01-04 15:00:00',\n",
       "               '2020-01-05 15:00:00', '2020-01-06 15:00:00',\n",
       "               '2020-01-07 15:00:00'],\n",
       "              dtype='datetime64[ns]', freq='D')"
      ]
     },
     "execution_count": 19,
     "metadata": {},
     "output_type": "execute_result"
    }
   ],
   "source": [
    "# ---------------------------\n",
    "# 2020년 1월 1일 15시부터 일단위 7개의 데이터 생성(D)\n",
    "# ---------------------------\n",
    "pd.date_range(start = '2020-01-01 15', periods=7, freq='D')"
   ]
  },
  {
   "cell_type": "code",
   "execution_count": 113,
   "metadata": {},
   "outputs": [
    {
     "data": {
      "text/plain": [
       "DatetimeIndex(['2020-01-01 15:00:00', '2020-01-02 15:00:00',\n",
       "               '2020-01-03 15:00:00', '2020-01-06 15:00:00',\n",
       "               '2020-01-07 15:00:00', '2020-01-08 15:00:00',\n",
       "               '2020-01-09 15:00:00'],\n",
       "              dtype='datetime64[ns]', freq='B')"
      ]
     },
     "execution_count": 113,
     "metadata": {},
     "output_type": "execute_result"
    }
   ],
   "source": [
    "# ---------------------------\n",
    "# 2020년 1월 1일 15시부터 비즈니스 데이 7개의 데이터 생성(B)\n",
    "# ---------------------------\n",
    "pd.date_range(start = '2020-01-01 15', periods=7, freq='B')"
   ]
  },
  {
   "cell_type": "code",
   "execution_count": 114,
   "metadata": {},
   "outputs": [
    {
     "data": {
      "text/plain": [
       "DatetimeIndex(['2020-01-01 15:00:00', '2020-01-01 16:00:00',\n",
       "               '2020-01-01 17:00:00', '2020-01-01 18:00:00',\n",
       "               '2020-01-01 19:00:00', '2020-01-01 20:00:00',\n",
       "               '2020-01-01 21:00:00'],\n",
       "              dtype='datetime64[ns]', freq='h')"
      ]
     },
     "execution_count": 114,
     "metadata": {},
     "output_type": "execute_result"
    }
   ],
   "source": [
    "# ---------------------------\n",
    "# 2020년 1월 1일 15시부터 시간단위 7개의 데이터 생성(h)\n",
    "# ---------------------------\n",
    "pd.date_range(start = '2020-01-01 15', periods=7, freq='h')"
   ]
  },
  {
   "cell_type": "code",
   "execution_count": 72,
   "metadata": {},
   "outputs": [
    {
     "data": {
      "text/plain": [
       "DatetimeIndex(['2020-01-01 15:00:00', '2020-01-01 15:01:00',\n",
       "               '2020-01-01 15:02:00', '2020-01-01 15:03:00',\n",
       "               '2020-01-01 15:04:00', '2020-01-01 15:05:00',\n",
       "               '2020-01-01 15:06:00'],\n",
       "              dtype='datetime64[ns]', freq='min')"
      ]
     },
     "execution_count": 72,
     "metadata": {},
     "output_type": "execute_result"
    }
   ],
   "source": [
    "# ---------------------------\n",
    "# 2020년 1월 1일 15시부터 분단위 7개의 데이터 생성(min)\n",
    "# ---------------------------\n",
    "pd.date_range(start = '2020-01-01 15', periods=7, freq='min')"
   ]
  },
  {
   "cell_type": "code",
   "execution_count": 115,
   "metadata": {},
   "outputs": [
    {
     "data": {
      "text/plain": [
       "DatetimeIndex(['2020-01-01 15:00:00', '2020-01-01 15:00:01',\n",
       "               '2020-01-01 15:00:02', '2020-01-01 15:00:03',\n",
       "               '2020-01-01 15:00:04', '2020-01-01 15:00:05',\n",
       "               '2020-01-01 15:00:06'],\n",
       "              dtype='datetime64[ns]', freq='s')"
      ]
     },
     "execution_count": 115,
     "metadata": {},
     "output_type": "execute_result"
    }
   ],
   "source": [
    "# ---------------------------\n",
    "# 2020년 1월 1일 15시부터 초단위 7개의 데이터 생성(s)\n",
    "# ---------------------------\n",
    "pd.date_range(start = '2020-01-01 15', periods=7, freq='s')"
   ]
  },
  {
   "cell_type": "code",
   "execution_count": 120,
   "metadata": {},
   "outputs": [
    {
     "data": {
      "text/plain": [
       "DatetimeIndex([       '2020-01-01 15:00:00', '2020-01-01 15:00:00.001000',\n",
       "               '2020-01-01 15:00:00.002000', '2020-01-01 15:00:00.003000',\n",
       "               '2020-01-01 15:00:00.004000', '2020-01-01 15:00:00.005000',\n",
       "               '2020-01-01 15:00:00.006000'],\n",
       "              dtype='datetime64[ns]', freq='ms')"
      ]
     },
     "execution_count": 120,
     "metadata": {},
     "output_type": "execute_result"
    }
   ],
   "source": [
    "# ---------------------------\n",
    "# 2020년 1월 1일 15시부터 밀리초단위 7개의 데이터 생성(ms)\n",
    "# ---------------------------\n",
    "pd.date_range(start = '2020-01-01 15', periods=7, freq='ms')"
   ]
  },
  {
   "cell_type": "code",
   "execution_count": 118,
   "metadata": {},
   "outputs": [
    {
     "data": {
      "text/plain": [
       "DatetimeIndex([       '2020-01-01 15:00:00', '2020-01-01 15:00:00.000001',\n",
       "               '2020-01-01 15:00:00.000002', '2020-01-01 15:00:00.000003',\n",
       "               '2020-01-01 15:00:00.000004', '2020-01-01 15:00:00.000005',\n",
       "               '2020-01-01 15:00:00.000006'],\n",
       "              dtype='datetime64[ns]', freq='us')"
      ]
     },
     "execution_count": 118,
     "metadata": {},
     "output_type": "execute_result"
    }
   ],
   "source": [
    "# ---------------------------\n",
    "# 2020년 1월 1일 15시부터 마이크로초단위 7개의 데이터 생성(ms)\n",
    "# ---------------------------\n",
    "pd.date_range(start = '2020-01-01 15', periods=7, freq='us')"
   ]
  },
  {
   "cell_type": "code",
   "execution_count": 121,
   "metadata": {},
   "outputs": [
    {
     "data": {
      "text/plain": [
       "DatetimeIndex([          '2020-01-01 15:00:00',\n",
       "               '2020-01-01 15:00:00.000000001',\n",
       "               '2020-01-01 15:00:00.000000002',\n",
       "               '2020-01-01 15:00:00.000000003',\n",
       "               '2020-01-01 15:00:00.000000004',\n",
       "               '2020-01-01 15:00:00.000000005',\n",
       "               '2020-01-01 15:00:00.000000006'],\n",
       "              dtype='datetime64[ns]', freq='ns')"
      ]
     },
     "execution_count": 121,
     "metadata": {},
     "output_type": "execute_result"
    }
   ],
   "source": [
    "# ---------------------------\n",
    "# 2020년 1월 1일 15시부터 나노초단위 7개의 데이터 생성(ns)\n",
    "# ---------------------------\n",
    "pd.date_range(start = '2020-01-01 15', periods=7, freq='ns')"
   ]
  }
 ],
 "metadata": {
  "kernelspec": {
   "display_name": "zz-dataenv",
   "language": "python",
   "name": "python3"
  },
  "language_info": {
   "codemirror_mode": {
    "name": "ipython",
    "version": 3
   },
   "file_extension": ".py",
   "mimetype": "text/x-python",
   "name": "python",
   "nbconvert_exporter": "python",
   "pygments_lexer": "ipython3",
   "version": "3.13.1"
  }
 },
 "nbformat": 4,
 "nbformat_minor": 2
}
