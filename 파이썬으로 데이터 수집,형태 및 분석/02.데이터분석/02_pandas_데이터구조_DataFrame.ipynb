{
 "cells": [
  {
   "cell_type": "markdown",
   "metadata": {
    "id": "cWwyjm596e4s"
   },
   "source": [
    "## 패키지 import"
   ]
  },
  {
   "cell_type": "code",
   "execution_count": 1,
   "metadata": {
    "id": "7pcoG_gl0_dK"
   },
   "outputs": [],
   "source": [
    "import pandas as pd"
   ]
  },
  {
   "cell_type": "markdown",
   "metadata": {
    "id": "MOVp1iIrG7eY"
   },
   "source": [
    "## DataFrame 객체 생성\n",
    "* **`pd.DataFrame()`**\n",
    ">* 주요 파라미터\n",
    ">    * data\n",
    ">        * 데이터프레임에 저장할 데이터\n",
    ">        * list, dict, numpy배열, Series객체 등으로 생성\n",
    ">    * index \n",
    ">        * 인덱스 라벨 지정\n",
    ">        * 생략 시 RangeIndex(0, 1, 2, ...)\n",
    ">    * columns\n",
    ">        * 컬럼 라벨 지정\n",
    ">        * 생략 시 RangeIndex(0, 1, 2, ...)\n",
    ">    * dtype\n",
    ">        * 데이터의 자료형 지정(전체 컬럼에 적용됨)\n",
    ">        * 지정하지 않으면 자동 판단\n",
    ">    * copy\n",
    ">        * 원본 데이터 복사할지 여부 지정\n",
    "        "
   ]
  },
  {
   "cell_type": "code",
   "execution_count": 2,
   "metadata": {},
   "outputs": [
    {
     "data": {
      "text/plain": [
       "A     100\n",
       "B      50\n",
       "O      30\n",
       "AB     10\n",
       "Name: 혈액형별인원수, dtype: int64"
      ]
     },
     "metadata": {},
     "output_type": "display_data"
    },
    {
     "name": "stdout",
     "output_type": "stream",
     "text": [
      "type: <class 'pandas.core.series.Series'>\n",
      "shape: (4,)\n"
     ]
    }
   ],
   "source": [
    "data = [100,50,30,10]\n",
    "idx = ['A', 'B', 'O', 'AB']\n",
    "s = pd.Series(data, \n",
    "              index = idx,\n",
    "              name='혈액형별인원수')\n",
    "display(s)\n",
    "print('type:', type(s))\n",
    "print('shape:', s.shape)\n",
    "\n",
    "\n",
    "# ------------------------------------\n",
    "# Series로 데이터프레임 생성\n",
    "# diaplsy\n",
    "# type 확인\n",
    "# shape 확인\n",
    "# ------------------------------------\n"
   ]
  },
  {
   "cell_type": "code",
   "execution_count": 3,
   "metadata": {},
   "outputs": [
    {
     "data": {
      "text/html": [
       "<div>\n",
       "<style scoped>\n",
       "    .dataframe tbody tr th:only-of-type {\n",
       "        vertical-align: middle;\n",
       "    }\n",
       "\n",
       "    .dataframe tbody tr th {\n",
       "        vertical-align: top;\n",
       "    }\n",
       "\n",
       "    .dataframe thead th {\n",
       "        text-align: right;\n",
       "    }\n",
       "</style>\n",
       "<table border=\"1\" class=\"dataframe\">\n",
       "  <thead>\n",
       "    <tr style=\"text-align: right;\">\n",
       "      <th></th>\n",
       "      <th>혈액형별 인원수</th>\n",
       "    </tr>\n",
       "  </thead>\n",
       "  <tbody>\n",
       "    <tr>\n",
       "      <th>A</th>\n",
       "      <td>100</td>\n",
       "    </tr>\n",
       "    <tr>\n",
       "      <th>B</th>\n",
       "      <td>50</td>\n",
       "    </tr>\n",
       "    <tr>\n",
       "      <th>O</th>\n",
       "      <td>30</td>\n",
       "    </tr>\n",
       "    <tr>\n",
       "      <th>AB</th>\n",
       "      <td>10</td>\n",
       "    </tr>\n",
       "  </tbody>\n",
       "</table>\n",
       "</div>"
      ],
      "text/plain": [
       "    혈액형별 인원수\n",
       "A        100\n",
       "B         50\n",
       "O         30\n",
       "AB        10"
      ]
     },
     "metadata": {},
     "output_type": "display_data"
    }
   ],
   "source": [
    "# ------------------\n",
    "# 리스트로 데이터프레임 생성\n",
    "# index=['A', 'B', 'O', 'AB']\n",
    "# columns=['혈액형별 인원수']\n",
    "# ------------------\n",
    "\n",
    "data = [100,50,30,10]\n",
    "index = ['A', 'B', 'O', 'AB']\n",
    "columns = ['혈액형별 인원수']\n",
    "\n",
    "df = pd.DataFrame(data, index=index, columns=columns)\n",
    "display(df)"
   ]
  },
  {
   "cell_type": "code",
   "execution_count": 4,
   "metadata": {},
   "outputs": [
    {
     "data": {
      "text/html": [
       "<div>\n",
       "<style scoped>\n",
       "    .dataframe tbody tr th:only-of-type {\n",
       "        vertical-align: middle;\n",
       "    }\n",
       "\n",
       "    .dataframe tbody tr th {\n",
       "        vertical-align: top;\n",
       "    }\n",
       "\n",
       "    .dataframe thead th {\n",
       "        text-align: right;\n",
       "    }\n",
       "</style>\n",
       "<table border=\"1\" class=\"dataframe\">\n",
       "  <thead>\n",
       "    <tr style=\"text-align: right;\">\n",
       "      <th></th>\n",
       "      <th>이름</th>\n",
       "      <th>나이</th>\n",
       "      <th>성별</th>\n",
       "      <th>키</th>\n",
       "      <th>혈액형</th>\n",
       "    </tr>\n",
       "  </thead>\n",
       "  <tbody>\n",
       "    <tr>\n",
       "      <th>아빠</th>\n",
       "      <td>김철수</td>\n",
       "      <td>45</td>\n",
       "      <td>남</td>\n",
       "      <td>175</td>\n",
       "      <td>A</td>\n",
       "    </tr>\n",
       "    <tr>\n",
       "      <th>엄마</th>\n",
       "      <td>이영희</td>\n",
       "      <td>43</td>\n",
       "      <td>여</td>\n",
       "      <td>168</td>\n",
       "      <td>B</td>\n",
       "    </tr>\n",
       "    <tr>\n",
       "      <th>첫째</th>\n",
       "      <td>김선우</td>\n",
       "      <td>13</td>\n",
       "      <td>남</td>\n",
       "      <td>160</td>\n",
       "      <td>A</td>\n",
       "    </tr>\n",
       "    <tr>\n",
       "      <th>둘째</th>\n",
       "      <td>김지우</td>\n",
       "      <td>10</td>\n",
       "      <td>여</td>\n",
       "      <td>140</td>\n",
       "      <td>O</td>\n",
       "    </tr>\n",
       "    <tr>\n",
       "      <th>셋째</th>\n",
       "      <td>김현우</td>\n",
       "      <td>7</td>\n",
       "      <td>남</td>\n",
       "      <td>125</td>\n",
       "      <td>AB</td>\n",
       "    </tr>\n",
       "  </tbody>\n",
       "</table>\n",
       "</div>"
      ],
      "text/plain": [
       "     이름  나이 성별    키 혈액형\n",
       "아빠  김철수  45  남  175   A\n",
       "엄마  이영희  43  여  168   B\n",
       "첫째  김선우  13  남  160   A\n",
       "둘째  김지우  10  여  140   O\n",
       "셋째  김현우   7  남  125  AB"
      ]
     },
     "metadata": {},
     "output_type": "display_data"
    }
   ],
   "source": [
    "# ------------------\n",
    "# 중첩 리스트로 데이터프레임 생성\n",
    "# ------------------\n",
    "\n",
    "data = [['김철수',45,'남',175,'A'],\n",
    "        ['이영희',43,'여',168,'B'],\n",
    "        ['김선우',13,'남',160,'A'],\n",
    "        ['김지우',10,'여',140,'O'],\n",
    "        ['김현우',7,'남',125,'AB'] \n",
    "        ]\n",
    "\n",
    "idx = ['아빠', '엄마', '첫째', '둘째', '셋째']\n",
    "col_names = ['이름', '나이', '성별', '키', '혈액형']\n",
    "\n",
    "df1 = pd.DataFrame(data, index=idx, columns=col_names)\n",
    "display(df1)"
   ]
  },
  {
   "cell_type": "code",
   "execution_count": 19,
   "metadata": {
    "colab": {
     "base_uri": "https://localhost:8080/",
     "height": 206
    },
    "executionInfo": {
     "elapsed": 20,
     "status": "ok",
     "timestamp": 1659505174383,
     "user": {
      "displayName": "Jayoung Kim",
      "userId": "14447265827232008674"
     },
     "user_tz": -540
    },
    "id": "LskIsh8uG6Xk",
    "outputId": "270d6ba6-f04e-4bdf-f6cf-dfb638dfa404"
   },
   "outputs": [
    {
     "data": {
      "text/html": [
       "<div>\n",
       "<style scoped>\n",
       "    .dataframe tbody tr th:only-of-type {\n",
       "        vertical-align: middle;\n",
       "    }\n",
       "\n",
       "    .dataframe tbody tr th {\n",
       "        vertical-align: top;\n",
       "    }\n",
       "\n",
       "    .dataframe thead th {\n",
       "        text-align: right;\n",
       "    }\n",
       "</style>\n",
       "<table border=\"1\" class=\"dataframe\">\n",
       "  <thead>\n",
       "    <tr style=\"text-align: right;\">\n",
       "      <th></th>\n",
       "      <th>이름</th>\n",
       "      <th>나이</th>\n",
       "      <th>성별</th>\n",
       "      <th>키</th>\n",
       "      <th>혈액형</th>\n",
       "    </tr>\n",
       "  </thead>\n",
       "  <tbody>\n",
       "    <tr>\n",
       "      <th>아빠</th>\n",
       "      <td>김철수</td>\n",
       "      <td>45</td>\n",
       "      <td>남</td>\n",
       "      <td>175</td>\n",
       "      <td>A</td>\n",
       "    </tr>\n",
       "    <tr>\n",
       "      <th>엄마</th>\n",
       "      <td>이영희</td>\n",
       "      <td>43</td>\n",
       "      <td>여</td>\n",
       "      <td>168</td>\n",
       "      <td>B</td>\n",
       "    </tr>\n",
       "    <tr>\n",
       "      <th>첫째</th>\n",
       "      <td>김선우</td>\n",
       "      <td>13</td>\n",
       "      <td>남</td>\n",
       "      <td>160</td>\n",
       "      <td>A</td>\n",
       "    </tr>\n",
       "    <tr>\n",
       "      <th>둘째</th>\n",
       "      <td>김지우</td>\n",
       "      <td>10</td>\n",
       "      <td>여</td>\n",
       "      <td>140</td>\n",
       "      <td>O</td>\n",
       "    </tr>\n",
       "    <tr>\n",
       "      <th>셋째</th>\n",
       "      <td>김현우</td>\n",
       "      <td>7</td>\n",
       "      <td>남</td>\n",
       "      <td>125</td>\n",
       "      <td>AB</td>\n",
       "    </tr>\n",
       "  </tbody>\n",
       "</table>\n",
       "</div>"
      ],
      "text/plain": [
       "     이름  나이 성별    키 혈액형\n",
       "아빠  김철수  45  남  175   A\n",
       "엄마  이영희  43  여  168   B\n",
       "첫째  김선우  13  남  160   A\n",
       "둘째  김지우  10  여  140   O\n",
       "셋째  김현우   7  남  125  AB"
      ]
     },
     "metadata": {},
     "output_type": "display_data"
    }
   ],
   "source": [
    "# ------------------\n",
    "# 딕셔너리로 데이터프레임 생성\n",
    "# ------------------\n",
    "\n",
    "data = {'이름':['김철수', '이영희', '김선우', '김지우', '김현우'],\n",
    "     '나이':[45, 43, 13, 10, 7],\n",
    "     '성별':['남', '여', '남', '여', '남'],\n",
    "     '키':[175,168,160,140,125],\n",
    "     '혈액형':['A', 'B', 'A', 'O', 'AB']}\n",
    "\n",
    "idx = ['아빠', '엄마', '첫째', '둘째', '셋째']\n",
    "\n",
    "df2 = pd.DataFrame(data, index=idx)\n",
    "display(df2)"
   ]
  },
  {
   "cell_type": "markdown",
   "metadata": {
    "id": "b_MMpEgqHNTz"
   },
   "source": [
    "## index 재설정\n",
    "* `df.reset_index()`\n",
    "    * 인덱스라벨을 RangeIndex로 초기화 \n",
    "* `df.set_index('컬럼')`\n",
    "    * 특정 컬럼을 인덱스라벨로 지정"
   ]
  },
  {
   "cell_type": "code",
   "execution_count": 20,
   "metadata": {},
   "outputs": [
    {
     "data": {
      "text/html": [
       "<div>\n",
       "<style scoped>\n",
       "    .dataframe tbody tr th:only-of-type {\n",
       "        vertical-align: middle;\n",
       "    }\n",
       "\n",
       "    .dataframe tbody tr th {\n",
       "        vertical-align: top;\n",
       "    }\n",
       "\n",
       "    .dataframe thead th {\n",
       "        text-align: right;\n",
       "    }\n",
       "</style>\n",
       "<table border=\"1\" class=\"dataframe\">\n",
       "  <thead>\n",
       "    <tr style=\"text-align: right;\">\n",
       "      <th></th>\n",
       "      <th>index</th>\n",
       "      <th>이름</th>\n",
       "      <th>나이</th>\n",
       "      <th>성별</th>\n",
       "      <th>키</th>\n",
       "      <th>혈액형</th>\n",
       "    </tr>\n",
       "  </thead>\n",
       "  <tbody>\n",
       "    <tr>\n",
       "      <th>0</th>\n",
       "      <td>아빠</td>\n",
       "      <td>김철수</td>\n",
       "      <td>45</td>\n",
       "      <td>남</td>\n",
       "      <td>175</td>\n",
       "      <td>A</td>\n",
       "    </tr>\n",
       "    <tr>\n",
       "      <th>1</th>\n",
       "      <td>엄마</td>\n",
       "      <td>이영희</td>\n",
       "      <td>43</td>\n",
       "      <td>여</td>\n",
       "      <td>168</td>\n",
       "      <td>B</td>\n",
       "    </tr>\n",
       "    <tr>\n",
       "      <th>2</th>\n",
       "      <td>첫째</td>\n",
       "      <td>김선우</td>\n",
       "      <td>13</td>\n",
       "      <td>남</td>\n",
       "      <td>160</td>\n",
       "      <td>A</td>\n",
       "    </tr>\n",
       "    <tr>\n",
       "      <th>3</th>\n",
       "      <td>둘째</td>\n",
       "      <td>김지우</td>\n",
       "      <td>10</td>\n",
       "      <td>여</td>\n",
       "      <td>140</td>\n",
       "      <td>O</td>\n",
       "    </tr>\n",
       "    <tr>\n",
       "      <th>4</th>\n",
       "      <td>셋째</td>\n",
       "      <td>김현우</td>\n",
       "      <td>7</td>\n",
       "      <td>남</td>\n",
       "      <td>125</td>\n",
       "      <td>AB</td>\n",
       "    </tr>\n",
       "  </tbody>\n",
       "</table>\n",
       "</div>"
      ],
      "text/plain": [
       "  index   이름  나이 성별    키 혈액형\n",
       "0    아빠  김철수  45  남  175   A\n",
       "1    엄마  이영희  43  여  168   B\n",
       "2    첫째  김선우  13  남  160   A\n",
       "3    둘째  김지우  10  여  140   O\n",
       "4    셋째  김현우   7  남  125  AB"
      ]
     },
     "execution_count": 20,
     "metadata": {},
     "output_type": "execute_result"
    }
   ],
   "source": [
    "# ------------------------------------\n",
    "#  인덱스라벨을 RangeIndex로 초기화\n",
    "# ------------------------------------\n",
    "\n",
    "df2.reset_index()"
   ]
  },
  {
   "cell_type": "code",
   "execution_count": 14,
   "metadata": {},
   "outputs": [
    {
     "data": {
      "text/html": [
       "<div>\n",
       "<style scoped>\n",
       "    .dataframe tbody tr th:only-of-type {\n",
       "        vertical-align: middle;\n",
       "    }\n",
       "\n",
       "    .dataframe tbody tr th {\n",
       "        vertical-align: top;\n",
       "    }\n",
       "\n",
       "    .dataframe thead th {\n",
       "        text-align: right;\n",
       "    }\n",
       "</style>\n",
       "<table border=\"1\" class=\"dataframe\">\n",
       "  <thead>\n",
       "    <tr style=\"text-align: right;\">\n",
       "      <th></th>\n",
       "      <th>이름</th>\n",
       "      <th>나이</th>\n",
       "      <th>성별</th>\n",
       "      <th>키</th>\n",
       "      <th>혈액형</th>\n",
       "    </tr>\n",
       "  </thead>\n",
       "  <tbody>\n",
       "    <tr>\n",
       "      <th>0</th>\n",
       "      <td>김철수</td>\n",
       "      <td>45</td>\n",
       "      <td>남</td>\n",
       "      <td>175</td>\n",
       "      <td>A</td>\n",
       "    </tr>\n",
       "    <tr>\n",
       "      <th>1</th>\n",
       "      <td>이영희</td>\n",
       "      <td>43</td>\n",
       "      <td>여</td>\n",
       "      <td>168</td>\n",
       "      <td>B</td>\n",
       "    </tr>\n",
       "    <tr>\n",
       "      <th>2</th>\n",
       "      <td>김선우</td>\n",
       "      <td>13</td>\n",
       "      <td>남</td>\n",
       "      <td>160</td>\n",
       "      <td>A</td>\n",
       "    </tr>\n",
       "    <tr>\n",
       "      <th>3</th>\n",
       "      <td>김지우</td>\n",
       "      <td>10</td>\n",
       "      <td>여</td>\n",
       "      <td>140</td>\n",
       "      <td>O</td>\n",
       "    </tr>\n",
       "    <tr>\n",
       "      <th>4</th>\n",
       "      <td>김현우</td>\n",
       "      <td>7</td>\n",
       "      <td>남</td>\n",
       "      <td>125</td>\n",
       "      <td>AB</td>\n",
       "    </tr>\n",
       "  </tbody>\n",
       "</table>\n",
       "</div>"
      ],
      "text/plain": [
       "    이름  나이 성별    키 혈액형\n",
       "0  김철수  45  남  175   A\n",
       "1  이영희  43  여  168   B\n",
       "2  김선우  13  남  160   A\n",
       "3  김지우  10  여  140   O\n",
       "4  김현우   7  남  125  AB"
      ]
     },
     "execution_count": 14,
     "metadata": {},
     "output_type": "execute_result"
    }
   ],
   "source": [
    "# ------------------------------------\n",
    "# 인덱스라벨을 RangeIndex로 초기화\n",
    "# 기존 인덱스라벨은 제거\n",
    "# ------------------------------------\n",
    "\n",
    "df2.reset_index(drop=True)"
   ]
  },
  {
   "cell_type": "code",
   "execution_count": 21,
   "metadata": {
    "colab": {
     "base_uri": "https://localhost:8080/",
     "height": 206
    },
    "executionInfo": {
     "elapsed": 483,
     "status": "ok",
     "timestamp": 1659505477383,
     "user": {
      "displayName": "Jayoung Kim",
      "userId": "14447265827232008674"
     },
     "user_tz": -540
    },
    "id": "qjxS-LVsH_XO",
    "outputId": "d6072b21-b67c-4263-96c1-c6cca72e32bd"
   },
   "outputs": [
    {
     "data": {
      "text/html": [
       "<div>\n",
       "<style scoped>\n",
       "    .dataframe tbody tr th:only-of-type {\n",
       "        vertical-align: middle;\n",
       "    }\n",
       "\n",
       "    .dataframe tbody tr th {\n",
       "        vertical-align: top;\n",
       "    }\n",
       "\n",
       "    .dataframe thead th {\n",
       "        text-align: right;\n",
       "    }\n",
       "</style>\n",
       "<table border=\"1\" class=\"dataframe\">\n",
       "  <thead>\n",
       "    <tr style=\"text-align: right;\">\n",
       "      <th></th>\n",
       "      <th>나이</th>\n",
       "      <th>성별</th>\n",
       "      <th>키</th>\n",
       "      <th>혈액형</th>\n",
       "    </tr>\n",
       "    <tr>\n",
       "      <th>이름</th>\n",
       "      <th></th>\n",
       "      <th></th>\n",
       "      <th></th>\n",
       "      <th></th>\n",
       "    </tr>\n",
       "  </thead>\n",
       "  <tbody>\n",
       "    <tr>\n",
       "      <th>김철수</th>\n",
       "      <td>45</td>\n",
       "      <td>남</td>\n",
       "      <td>175</td>\n",
       "      <td>A</td>\n",
       "    </tr>\n",
       "    <tr>\n",
       "      <th>이영희</th>\n",
       "      <td>43</td>\n",
       "      <td>여</td>\n",
       "      <td>168</td>\n",
       "      <td>B</td>\n",
       "    </tr>\n",
       "    <tr>\n",
       "      <th>김선우</th>\n",
       "      <td>13</td>\n",
       "      <td>남</td>\n",
       "      <td>160</td>\n",
       "      <td>A</td>\n",
       "    </tr>\n",
       "    <tr>\n",
       "      <th>김지우</th>\n",
       "      <td>10</td>\n",
       "      <td>여</td>\n",
       "      <td>140</td>\n",
       "      <td>O</td>\n",
       "    </tr>\n",
       "    <tr>\n",
       "      <th>김현우</th>\n",
       "      <td>7</td>\n",
       "      <td>남</td>\n",
       "      <td>125</td>\n",
       "      <td>AB</td>\n",
       "    </tr>\n",
       "  </tbody>\n",
       "</table>\n",
       "</div>"
      ],
      "text/plain": [
       "     나이 성별    키 혈액형\n",
       "이름                 \n",
       "김철수  45  남  175   A\n",
       "이영희  43  여  168   B\n",
       "김선우  13  남  160   A\n",
       "김지우  10  여  140   O\n",
       "김현우   7  남  125  AB"
      ]
     },
     "execution_count": 21,
     "metadata": {},
     "output_type": "execute_result"
    }
   ],
   "source": [
    "# ------------------------------------\n",
    "# '이름'컬럼을 인덱스로 지정\n",
    "# ------------------------------------\n",
    "\n",
    "df2.set_index('이름')"
   ]
  },
  {
   "cell_type": "code",
   "execution_count": 22,
   "metadata": {},
   "outputs": [],
   "source": [
    "# ------------------------------------\n",
    "# 중첩인덱스 지정\n",
    "# 역할, 이름\n",
    "# ------------------------------------\n",
    "\n",
    "df2['역할'] = ['아빠', '엄마', '첫째', '둘째', '셋째']\n",
    "\n",
    "df2.set_index(['역할', '이름'], inplace=True)"
   ]
  },
  {
   "cell_type": "code",
   "execution_count": 23,
   "metadata": {},
   "outputs": [
    {
     "name": "stdout",
     "output_type": "stream",
     "text": [
      "MultiIndex([('아빠', '김철수'),\n",
      "            ('엄마', '이영희'),\n",
      "            ('첫째', '김선우'),\n",
      "            ('둘째', '김지우'),\n",
      "            ('셋째', '김현우')],\n",
      "           names=['역할', '이름'])\n"
     ]
    }
   ],
   "source": [
    "# ------------------------------------\n",
    "# 중첩인덱스 확인\n",
    "# - 튜플로 지정됨\n",
    "# ------------------------------------\n",
    "\n",
    "print(df2.index)"
   ]
  },
  {
   "cell_type": "code",
   "execution_count": 24,
   "metadata": {},
   "outputs": [
    {
     "name": "stdout",
     "output_type": "stream",
     "text": [
      "나이      13\n",
      "성별       남\n",
      "키      160\n",
      "혈액형      A\n",
      "Name: (첫째, 김선우), dtype: object\n"
     ]
    }
   ],
   "source": [
    "# ------------------------------------\n",
    "# 중첩인덱스 접근\n",
    "# - 튜플로 접근\n",
    "# ------------------------------------\n",
    "\n",
    "print(df2.loc[('첫째', '김선우')])"
   ]
  },
  {
   "cell_type": "markdown",
   "metadata": {},
   "source": [
    "## 인덱스라벨, 라벨컬럼라벨 변경\n",
    "* `데이터프레임.rename({현재라벨:변경할라벨, ...})`\n",
    "    * `axis=0` >>> 인덱스라벨 변경\n",
    "    * `axis=1` >>> 컬럼라벨 변경"
   ]
  },
  {
   "cell_type": "code",
   "execution_count": 25,
   "metadata": {},
   "outputs": [],
   "source": [
    "# ------------------\n",
    "# 인덱스라벨 변경\n",
    "# 아빠 --> 아버지\n",
    "# 엄마 --> 어머니\n",
    "# ------------------\n",
    "\n",
    "df2.rename(index={'아빠': '아버지', '엄마': '어머니'}, inplace=True)"
   ]
  },
  {
   "cell_type": "code",
   "execution_count": 26,
   "metadata": {},
   "outputs": [
    {
     "data": {
      "text/html": [
       "<div>\n",
       "<style scoped>\n",
       "    .dataframe tbody tr th:only-of-type {\n",
       "        vertical-align: middle;\n",
       "    }\n",
       "\n",
       "    .dataframe tbody tr th {\n",
       "        vertical-align: top;\n",
       "    }\n",
       "\n",
       "    .dataframe thead th {\n",
       "        text-align: right;\n",
       "    }\n",
       "</style>\n",
       "<table border=\"1\" class=\"dataframe\">\n",
       "  <thead>\n",
       "    <tr style=\"text-align: right;\">\n",
       "      <th></th>\n",
       "      <th></th>\n",
       "      <th>연령</th>\n",
       "      <th>성별</th>\n",
       "      <th>키</th>\n",
       "      <th>혈액형</th>\n",
       "    </tr>\n",
       "    <tr>\n",
       "      <th>역할</th>\n",
       "      <th>이름</th>\n",
       "      <th></th>\n",
       "      <th></th>\n",
       "      <th></th>\n",
       "      <th></th>\n",
       "    </tr>\n",
       "  </thead>\n",
       "  <tbody>\n",
       "    <tr>\n",
       "      <th>아버지</th>\n",
       "      <th>김철수</th>\n",
       "      <td>45</td>\n",
       "      <td>남</td>\n",
       "      <td>175</td>\n",
       "      <td>A</td>\n",
       "    </tr>\n",
       "    <tr>\n",
       "      <th>어머니</th>\n",
       "      <th>이영희</th>\n",
       "      <td>43</td>\n",
       "      <td>여</td>\n",
       "      <td>168</td>\n",
       "      <td>B</td>\n",
       "    </tr>\n",
       "    <tr>\n",
       "      <th>첫째</th>\n",
       "      <th>김선우</th>\n",
       "      <td>13</td>\n",
       "      <td>남</td>\n",
       "      <td>160</td>\n",
       "      <td>A</td>\n",
       "    </tr>\n",
       "    <tr>\n",
       "      <th>둘째</th>\n",
       "      <th>김지우</th>\n",
       "      <td>10</td>\n",
       "      <td>여</td>\n",
       "      <td>140</td>\n",
       "      <td>O</td>\n",
       "    </tr>\n",
       "    <tr>\n",
       "      <th>셋째</th>\n",
       "      <th>김현우</th>\n",
       "      <td>7</td>\n",
       "      <td>남</td>\n",
       "      <td>125</td>\n",
       "      <td>AB</td>\n",
       "    </tr>\n",
       "  </tbody>\n",
       "</table>\n",
       "</div>"
      ],
      "text/plain": [
       "         연령 성별    키 혈액형\n",
       "역할  이름                 \n",
       "아버지 김철수  45  남  175   A\n",
       "어머니 이영희  43  여  168   B\n",
       "첫째  김선우  13  남  160   A\n",
       "둘째  김지우  10  여  140   O\n",
       "셋째  김현우   7  남  125  AB"
      ]
     },
     "metadata": {},
     "output_type": "display_data"
    }
   ],
   "source": [
    "# ------------------\n",
    "# 컬럼라벨 변경\n",
    "# 나이 --> 연령\n",
    "# ------------------\n",
    "\n",
    "df2.rename(columns={'나이': '연령'}, inplace=True)\n",
    "display(df2)"
   ]
  }
 ],
 "metadata": {
  "colab": {
   "authorship_tag": "ABX9TyOGH4uAy+vGrtPYPntUI2p3",
   "provenance": [
    {
     "file_id": "19ubYY93AkknhIGTL7PyHjn_tqKOPzFW_",
     "timestamp": 1659501817487
    },
    {
     "file_id": "1t1tCxXbtNKSHIZ6zXQ-9SBWBzC-u3n8z",
     "timestamp": 1659142636466
    },
    {
     "file_id": "1gLjNcUZ1l5oXGDpYVmleIBKkLPQp0TEu",
     "timestamp": 1659019856864
    }
   ],
   "toc_visible": true
  },
  "kernelspec": {
   "display_name": "z_venv",
   "language": "python",
   "name": "python3"
  },
  "language_info": {
   "codemirror_mode": {
    "name": "ipython",
    "version": 3
   },
   "file_extension": ".py",
   "mimetype": "text/x-python",
   "name": "python",
   "nbconvert_exporter": "python",
   "pygments_lexer": "ipython3",
   "version": "3.13.3"
  }
 },
 "nbformat": 4,
 "nbformat_minor": 0
}
