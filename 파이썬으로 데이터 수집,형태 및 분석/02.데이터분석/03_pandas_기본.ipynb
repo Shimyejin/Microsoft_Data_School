{
 "cells": [
  {
   "cell_type": "markdown",
   "metadata": {
    "id": "cWwyjm596e4s"
   },
   "source": [
    "## 패키지 import"
   ]
  },
  {
   "cell_type": "code",
   "execution_count": 1,
   "metadata": {
    "id": "7pcoG_gl0_dK"
   },
   "outputs": [],
   "source": [
    "import pandas as pd"
   ]
  },
  {
   "cell_type": "markdown",
   "metadata": {
    "id": "8WaHiFWgMQxH"
   },
   "source": [
    "## csv 파일로 데이터프레임 생성\n",
    "* `pd.read_csv(파일경로)`\n",
    "  * 인덱스라벨 디폴트 : RangeIndex와 동일하게 디폴트 지정\n",
    "  * 컬럼라벨 디폴트: csv 파일의 첫번째 행\n",
    "  * 컬럼의 자료형 : 자동 지정\n"
   ]
  },
  {
   "cell_type": "code",
   "execution_count": 3,
   "metadata": {
    "colab": {
     "base_uri": "https://localhost:8080/",
     "height": 363
    },
    "executionInfo": {
     "elapsed": 398,
     "status": "ok",
     "timestamp": 1659507105203,
     "user": {
      "displayName": "Jayoung Kim",
      "userId": "14447265827232008674"
     },
     "user_tz": -540
    },
    "id": "b-jytOwSOymb",
    "outputId": "52ac6b74-0784-4bcb-b80c-b346e4de1ac9"
   },
   "outputs": [
    {
     "data": {
      "text/html": [
       "<div>\n",
       "<style scoped>\n",
       "    .dataframe tbody tr th:only-of-type {\n",
       "        vertical-align: middle;\n",
       "    }\n",
       "\n",
       "    .dataframe tbody tr th {\n",
       "        vertical-align: top;\n",
       "    }\n",
       "\n",
       "    .dataframe thead th {\n",
       "        text-align: right;\n",
       "    }\n",
       "</style>\n",
       "<table border=\"1\" class=\"dataframe\">\n",
       "  <thead>\n",
       "    <tr style=\"text-align: right;\">\n",
       "      <th></th>\n",
       "      <th>학번</th>\n",
       "      <th>이름</th>\n",
       "      <th>성별</th>\n",
       "      <th>국어</th>\n",
       "      <th>영어</th>\n",
       "      <th>수학</th>\n",
       "    </tr>\n",
       "  </thead>\n",
       "  <tbody>\n",
       "    <tr>\n",
       "      <th>0</th>\n",
       "      <td>1</td>\n",
       "      <td>kate</td>\n",
       "      <td>f</td>\n",
       "      <td>100.0</td>\n",
       "      <td>90</td>\n",
       "      <td>95.0</td>\n",
       "    </tr>\n",
       "    <tr>\n",
       "      <th>1</th>\n",
       "      <td>2</td>\n",
       "      <td>olivia</td>\n",
       "      <td>f</td>\n",
       "      <td>90.0</td>\n",
       "      <td>80</td>\n",
       "      <td>75.0</td>\n",
       "    </tr>\n",
       "    <tr>\n",
       "      <th>2</th>\n",
       "      <td>3</td>\n",
       "      <td>emma</td>\n",
       "      <td>f</td>\n",
       "      <td>95.0</td>\n",
       "      <td>100</td>\n",
       "      <td>100.0</td>\n",
       "    </tr>\n",
       "    <tr>\n",
       "      <th>3</th>\n",
       "      <td>4</td>\n",
       "      <td>sophia</td>\n",
       "      <td>f</td>\n",
       "      <td>100.0</td>\n",
       "      <td>100</td>\n",
       "      <td>100.0</td>\n",
       "    </tr>\n",
       "    <tr>\n",
       "      <th>4</th>\n",
       "      <td>5</td>\n",
       "      <td>amy</td>\n",
       "      <td>f</td>\n",
       "      <td>NaN</td>\n",
       "      <td>35</td>\n",
       "      <td>60.0</td>\n",
       "    </tr>\n",
       "    <tr>\n",
       "      <th>5</th>\n",
       "      <td>6</td>\n",
       "      <td>james</td>\n",
       "      <td>m</td>\n",
       "      <td>70.0</td>\n",
       "      <td>75</td>\n",
       "      <td>65.0</td>\n",
       "    </tr>\n",
       "    <tr>\n",
       "      <th>6</th>\n",
       "      <td>7</td>\n",
       "      <td>daniel</td>\n",
       "      <td>m</td>\n",
       "      <td>80.0</td>\n",
       "      <td>90</td>\n",
       "      <td>55.0</td>\n",
       "    </tr>\n",
       "    <tr>\n",
       "      <th>7</th>\n",
       "      <td>8</td>\n",
       "      <td>peter</td>\n",
       "      <td>m</td>\n",
       "      <td>50.0</td>\n",
       "      <td>60</td>\n",
       "      <td>NaN</td>\n",
       "    </tr>\n",
       "    <tr>\n",
       "      <th>8</th>\n",
       "      <td>9</td>\n",
       "      <td>kevin</td>\n",
       "      <td>m</td>\n",
       "      <td>100.0</td>\n",
       "      <td>100</td>\n",
       "      <td>90.0</td>\n",
       "    </tr>\n",
       "    <tr>\n",
       "      <th>9</th>\n",
       "      <td>10</td>\n",
       "      <td>jack</td>\n",
       "      <td>m</td>\n",
       "      <td>90.0</td>\n",
       "      <td>95</td>\n",
       "      <td>70.0</td>\n",
       "    </tr>\n",
       "    <tr>\n",
       "      <th>10</th>\n",
       "      <td>11</td>\n",
       "      <td>james</td>\n",
       "      <td>m</td>\n",
       "      <td>70.0</td>\n",
       "      <td>75</td>\n",
       "      <td>65.0</td>\n",
       "    </tr>\n",
       "  </tbody>\n",
       "</table>\n",
       "</div>"
      ],
      "text/plain": [
       "    학번      이름 성별     국어   영어     수학\n",
       "0    1    kate  f  100.0   90   95.0\n",
       "1    2  olivia  f   90.0   80   75.0\n",
       "2    3    emma  f   95.0  100  100.0\n",
       "3    4  sophia  f  100.0  100  100.0\n",
       "4    5     amy  f    NaN   35   60.0\n",
       "5    6   james  m   70.0   75   65.0\n",
       "6    7  daniel  m   80.0   90   55.0\n",
       "7    8   peter  m   50.0   60    NaN\n",
       "8    9   kevin  m  100.0  100   90.0\n",
       "9   10    jack  m   90.0   95   70.0\n",
       "10  11   james  m   70.0   75   65.0"
      ]
     },
     "execution_count": 3,
     "metadata": {},
     "output_type": "execute_result"
    }
   ],
   "source": [
    "# ----------------------------------------------------------\n",
    "# csv파일에서 데이터를 읽어와 데이터프레임객체 df_scores 만들기\n",
    "# ----------------------------------------------------------\n",
    "\n",
    "df_scores = pd.read_csv('C:\\\\Users\\\\User\\\\Documents\\\\VSCode\\\\Data School\\\\data school\\\\00.data\\\\scores.csv')\n",
    "df_scores"
   ]
  },
  {
   "cell_type": "code",
   "execution_count": 5,
   "metadata": {},
   "outputs": [
    {
     "data": {
      "text/html": [
       "<div>\n",
       "<style scoped>\n",
       "    .dataframe tbody tr th:only-of-type {\n",
       "        vertical-align: middle;\n",
       "    }\n",
       "\n",
       "    .dataframe tbody tr th {\n",
       "        vertical-align: top;\n",
       "    }\n",
       "\n",
       "    .dataframe thead th {\n",
       "        text-align: right;\n",
       "    }\n",
       "</style>\n",
       "<table border=\"1\" class=\"dataframe\">\n",
       "  <thead>\n",
       "    <tr style=\"text-align: right;\">\n",
       "      <th></th>\n",
       "      <th>이름</th>\n",
       "      <th>성별</th>\n",
       "      <th>국어</th>\n",
       "      <th>영어</th>\n",
       "      <th>수학</th>\n",
       "    </tr>\n",
       "    <tr>\n",
       "      <th>학번</th>\n",
       "      <th></th>\n",
       "      <th></th>\n",
       "      <th></th>\n",
       "      <th></th>\n",
       "      <th></th>\n",
       "    </tr>\n",
       "  </thead>\n",
       "  <tbody>\n",
       "    <tr>\n",
       "      <th>0001</th>\n",
       "      <td>kate</td>\n",
       "      <td>f</td>\n",
       "      <td>100.0</td>\n",
       "      <td>90</td>\n",
       "      <td>95.0</td>\n",
       "    </tr>\n",
       "    <tr>\n",
       "      <th>0002</th>\n",
       "      <td>olivia</td>\n",
       "      <td>f</td>\n",
       "      <td>90.0</td>\n",
       "      <td>80</td>\n",
       "      <td>75.0</td>\n",
       "    </tr>\n",
       "    <tr>\n",
       "      <th>0003</th>\n",
       "      <td>emma</td>\n",
       "      <td>f</td>\n",
       "      <td>95.0</td>\n",
       "      <td>100</td>\n",
       "      <td>100.0</td>\n",
       "    </tr>\n",
       "    <tr>\n",
       "      <th>0004</th>\n",
       "      <td>sophia</td>\n",
       "      <td>f</td>\n",
       "      <td>100.0</td>\n",
       "      <td>100</td>\n",
       "      <td>100.0</td>\n",
       "    </tr>\n",
       "    <tr>\n",
       "      <th>0005</th>\n",
       "      <td>amy</td>\n",
       "      <td>f</td>\n",
       "      <td>NaN</td>\n",
       "      <td>35</td>\n",
       "      <td>60.0</td>\n",
       "    </tr>\n",
       "    <tr>\n",
       "      <th>0006</th>\n",
       "      <td>james</td>\n",
       "      <td>m</td>\n",
       "      <td>70.0</td>\n",
       "      <td>75</td>\n",
       "      <td>65.0</td>\n",
       "    </tr>\n",
       "    <tr>\n",
       "      <th>0007</th>\n",
       "      <td>daniel</td>\n",
       "      <td>m</td>\n",
       "      <td>80.0</td>\n",
       "      <td>90</td>\n",
       "      <td>55.0</td>\n",
       "    </tr>\n",
       "    <tr>\n",
       "      <th>0008</th>\n",
       "      <td>peter</td>\n",
       "      <td>m</td>\n",
       "      <td>50.0</td>\n",
       "      <td>60</td>\n",
       "      <td>NaN</td>\n",
       "    </tr>\n",
       "    <tr>\n",
       "      <th>0009</th>\n",
       "      <td>kevin</td>\n",
       "      <td>m</td>\n",
       "      <td>100.0</td>\n",
       "      <td>100</td>\n",
       "      <td>90.0</td>\n",
       "    </tr>\n",
       "    <tr>\n",
       "      <th>0010</th>\n",
       "      <td>jack</td>\n",
       "      <td>m</td>\n",
       "      <td>90.0</td>\n",
       "      <td>95</td>\n",
       "      <td>70.0</td>\n",
       "    </tr>\n",
       "    <tr>\n",
       "      <th>0011</th>\n",
       "      <td>james</td>\n",
       "      <td>m</td>\n",
       "      <td>70.0</td>\n",
       "      <td>75</td>\n",
       "      <td>65.0</td>\n",
       "    </tr>\n",
       "  </tbody>\n",
       "</table>\n",
       "</div>"
      ],
      "text/plain": [
       "          이름 성별     국어   영어     수학\n",
       "학번                                \n",
       "0001    kate  f  100.0   90   95.0\n",
       "0002  olivia  f   90.0   80   75.0\n",
       "0003    emma  f   95.0  100  100.0\n",
       "0004  sophia  f  100.0  100  100.0\n",
       "0005     amy  f    NaN   35   60.0\n",
       "0006   james  m   70.0   75   65.0\n",
       "0007  daniel  m   80.0   90   55.0\n",
       "0008   peter  m   50.0   60    NaN\n",
       "0009   kevin  m  100.0  100   90.0\n",
       "0010    jack  m   90.0   95   70.0\n",
       "0011   james  m   70.0   75   65.0"
      ]
     },
     "execution_count": 5,
     "metadata": {},
     "output_type": "execute_result"
    }
   ],
   "source": [
    "# ----------------------------------------------------------\n",
    "# csv파일에서 데이터를 읽어와 데이터프레임객체 df_scores 만들기\n",
    "#   - dtype : 컬럼의 데이터 타입 지정\n",
    "#   - index_col : 인덱스 라벨로 사용할 컬럼 지정\n",
    "# ----------------------------------------------------------\n",
    "\n",
    "df_scores = pd.read_csv('C:\\\\Users\\\\User\\\\Documents\\\\VSCode\\\\Data School\\\\data school\\\\00.data\\\\scores.csv', dtype={'학번': str}, index_col='학번')\n",
    "df_scores"
   ]
  },
  {
   "cell_type": "markdown",
   "metadata": {},
   "source": [
    "## 데이터프레임 확인"
   ]
  },
  {
   "cell_type": "markdown",
   "metadata": {},
   "source": [
    "#### 데이터프레임 미리보기\n",
    "* 상위 n개 행 보기(n의 초기값:5)\n",
    "  * **`데이터프레임.head(n)`** \n",
    "* 하위 n개 행 보기(n의 초기값:5)\n",
    "  * **`데이터프레임.tail(n)`** \n",
    "* 랜덤 n개 행 보기(n의 초기값:1)\n",
    "  * **`데이터프레임.sample(n)`** \n"
   ]
  },
  {
   "cell_type": "code",
   "execution_count": 6,
   "metadata": {},
   "outputs": [
    {
     "data": {
      "text/html": [
       "<div>\n",
       "<style scoped>\n",
       "    .dataframe tbody tr th:only-of-type {\n",
       "        vertical-align: middle;\n",
       "    }\n",
       "\n",
       "    .dataframe tbody tr th {\n",
       "        vertical-align: top;\n",
       "    }\n",
       "\n",
       "    .dataframe thead th {\n",
       "        text-align: right;\n",
       "    }\n",
       "</style>\n",
       "<table border=\"1\" class=\"dataframe\">\n",
       "  <thead>\n",
       "    <tr style=\"text-align: right;\">\n",
       "      <th></th>\n",
       "      <th>이름</th>\n",
       "      <th>성별</th>\n",
       "      <th>국어</th>\n",
       "      <th>영어</th>\n",
       "      <th>수학</th>\n",
       "    </tr>\n",
       "    <tr>\n",
       "      <th>학번</th>\n",
       "      <th></th>\n",
       "      <th></th>\n",
       "      <th></th>\n",
       "      <th></th>\n",
       "      <th></th>\n",
       "    </tr>\n",
       "  </thead>\n",
       "  <tbody>\n",
       "    <tr>\n",
       "      <th>0001</th>\n",
       "      <td>kate</td>\n",
       "      <td>f</td>\n",
       "      <td>100.0</td>\n",
       "      <td>90</td>\n",
       "      <td>95.0</td>\n",
       "    </tr>\n",
       "    <tr>\n",
       "      <th>0002</th>\n",
       "      <td>olivia</td>\n",
       "      <td>f</td>\n",
       "      <td>90.0</td>\n",
       "      <td>80</td>\n",
       "      <td>75.0</td>\n",
       "    </tr>\n",
       "    <tr>\n",
       "      <th>0003</th>\n",
       "      <td>emma</td>\n",
       "      <td>f</td>\n",
       "      <td>95.0</td>\n",
       "      <td>100</td>\n",
       "      <td>100.0</td>\n",
       "    </tr>\n",
       "  </tbody>\n",
       "</table>\n",
       "</div>"
      ],
      "text/plain": [
       "          이름 성별     국어   영어     수학\n",
       "학번                                \n",
       "0001    kate  f  100.0   90   95.0\n",
       "0002  olivia  f   90.0   80   75.0\n",
       "0003    emma  f   95.0  100  100.0"
      ]
     },
     "execution_count": 6,
     "metadata": {},
     "output_type": "execute_result"
    }
   ],
   "source": [
    "# -----------------------\n",
    "# 상위 3개행 미리보기\n",
    "# -----------------------\n",
    "\n",
    "df_scores.head(3)"
   ]
  },
  {
   "cell_type": "code",
   "execution_count": 7,
   "metadata": {},
   "outputs": [
    {
     "data": {
      "text/html": [
       "<div>\n",
       "<style scoped>\n",
       "    .dataframe tbody tr th:only-of-type {\n",
       "        vertical-align: middle;\n",
       "    }\n",
       "\n",
       "    .dataframe tbody tr th {\n",
       "        vertical-align: top;\n",
       "    }\n",
       "\n",
       "    .dataframe thead th {\n",
       "        text-align: right;\n",
       "    }\n",
       "</style>\n",
       "<table border=\"1\" class=\"dataframe\">\n",
       "  <thead>\n",
       "    <tr style=\"text-align: right;\">\n",
       "      <th></th>\n",
       "      <th>이름</th>\n",
       "      <th>성별</th>\n",
       "      <th>국어</th>\n",
       "      <th>영어</th>\n",
       "      <th>수학</th>\n",
       "    </tr>\n",
       "    <tr>\n",
       "      <th>학번</th>\n",
       "      <th></th>\n",
       "      <th></th>\n",
       "      <th></th>\n",
       "      <th></th>\n",
       "      <th></th>\n",
       "    </tr>\n",
       "  </thead>\n",
       "  <tbody>\n",
       "    <tr>\n",
       "      <th>0009</th>\n",
       "      <td>kevin</td>\n",
       "      <td>m</td>\n",
       "      <td>100.0</td>\n",
       "      <td>100</td>\n",
       "      <td>90.0</td>\n",
       "    </tr>\n",
       "    <tr>\n",
       "      <th>0010</th>\n",
       "      <td>jack</td>\n",
       "      <td>m</td>\n",
       "      <td>90.0</td>\n",
       "      <td>95</td>\n",
       "      <td>70.0</td>\n",
       "    </tr>\n",
       "    <tr>\n",
       "      <th>0011</th>\n",
       "      <td>james</td>\n",
       "      <td>m</td>\n",
       "      <td>70.0</td>\n",
       "      <td>75</td>\n",
       "      <td>65.0</td>\n",
       "    </tr>\n",
       "  </tbody>\n",
       "</table>\n",
       "</div>"
      ],
      "text/plain": [
       "         이름 성별     국어   영어    수학\n",
       "학번                              \n",
       "0009  kevin  m  100.0  100  90.0\n",
       "0010   jack  m   90.0   95  70.0\n",
       "0011  james  m   70.0   75  65.0"
      ]
     },
     "execution_count": 7,
     "metadata": {},
     "output_type": "execute_result"
    }
   ],
   "source": [
    "# -----------------------\n",
    "# 하위 3개행 미리보기\n",
    "# -----------------------\n",
    "\n",
    "df_scores.tail(3)"
   ]
  },
  {
   "cell_type": "code",
   "execution_count": 9,
   "metadata": {},
   "outputs": [
    {
     "data": {
      "text/html": [
       "<div>\n",
       "<style scoped>\n",
       "    .dataframe tbody tr th:only-of-type {\n",
       "        vertical-align: middle;\n",
       "    }\n",
       "\n",
       "    .dataframe tbody tr th {\n",
       "        vertical-align: top;\n",
       "    }\n",
       "\n",
       "    .dataframe thead th {\n",
       "        text-align: right;\n",
       "    }\n",
       "</style>\n",
       "<table border=\"1\" class=\"dataframe\">\n",
       "  <thead>\n",
       "    <tr style=\"text-align: right;\">\n",
       "      <th></th>\n",
       "      <th>이름</th>\n",
       "      <th>성별</th>\n",
       "      <th>국어</th>\n",
       "      <th>영어</th>\n",
       "      <th>수학</th>\n",
       "    </tr>\n",
       "    <tr>\n",
       "      <th>학번</th>\n",
       "      <th></th>\n",
       "      <th></th>\n",
       "      <th></th>\n",
       "      <th></th>\n",
       "      <th></th>\n",
       "    </tr>\n",
       "  </thead>\n",
       "  <tbody>\n",
       "    <tr>\n",
       "      <th>0007</th>\n",
       "      <td>daniel</td>\n",
       "      <td>m</td>\n",
       "      <td>80.0</td>\n",
       "      <td>90</td>\n",
       "      <td>55.0</td>\n",
       "    </tr>\n",
       "    <tr>\n",
       "      <th>0010</th>\n",
       "      <td>jack</td>\n",
       "      <td>m</td>\n",
       "      <td>90.0</td>\n",
       "      <td>95</td>\n",
       "      <td>70.0</td>\n",
       "    </tr>\n",
       "    <tr>\n",
       "      <th>0009</th>\n",
       "      <td>kevin</td>\n",
       "      <td>m</td>\n",
       "      <td>100.0</td>\n",
       "      <td>100</td>\n",
       "      <td>90.0</td>\n",
       "    </tr>\n",
       "  </tbody>\n",
       "</table>\n",
       "</div>"
      ],
      "text/plain": [
       "          이름 성별     국어   영어    수학\n",
       "학번                               \n",
       "0007  daniel  m   80.0   90  55.0\n",
       "0010    jack  m   90.0   95  70.0\n",
       "0009   kevin  m  100.0  100  90.0"
      ]
     },
     "execution_count": 9,
     "metadata": {},
     "output_type": "execute_result"
    }
   ],
   "source": [
    "# -----------------------\n",
    "# 랜덤 3개행 미리보기\n",
    "# -----------------------\n",
    "\n",
    "df_scores.sample(3)"
   ]
  },
  {
   "cell_type": "markdown",
   "metadata": {},
   "source": [
    "#### 데이터프레임 정보 확인\n",
    "* **`데이터프레임.info()`**\n",
    "    * 인덱스의 종류 및 범위 확인\n",
    "    * 컬럼의 종류 및 갯수 확인\n",
    "    * Null 여부 확인\n",
    "    * 컬럼별 데이터 타입 확인\n",
    "    * 메모리 사용량 확인"
   ]
  },
  {
   "cell_type": "code",
   "execution_count": 10,
   "metadata": {},
   "outputs": [
    {
     "name": "stdout",
     "output_type": "stream",
     "text": [
      "<class 'pandas.core.frame.DataFrame'>\n",
      "Index: 11 entries, 0001 to 0011\n",
      "Data columns (total 5 columns):\n",
      " #   Column  Non-Null Count  Dtype  \n",
      "---  ------  --------------  -----  \n",
      " 0   이름      11 non-null     object \n",
      " 1   성별      11 non-null     object \n",
      " 2   국어      10 non-null     float64\n",
      " 3   영어      11 non-null     int64  \n",
      " 4   수학      10 non-null     float64\n",
      "dtypes: float64(2), int64(1), object(2)\n",
      "memory usage: 828.0+ bytes\n"
     ]
    }
   ],
   "source": [
    "# -----------------------\n",
    "# info()\n",
    "# -----------------------\n",
    "\n",
    "df_scores.info()"
   ]
  },
  {
   "cell_type": "markdown",
   "metadata": {},
   "source": [
    "#### 데이터프레임 주요 속성\n",
    "* `데이터프레임.shape` \n",
    "    * (행,열)의 튜플. \n",
    "* `데이터프레임.columns` \n",
    "    * 컬럼라벨\n",
    "* `데이터프레임.index` \n",
    "    * 라벨인덱스\n",
    "* `데이터프레임.dtypes` \n",
    "    * 각 열의 데이터 타입\n",
    "* `데이터프레임.values` \n",
    "    * 모든 값은 넘파이 배열(ndarray)로 반환\n",
    "* `데이터프레임.size` \n",
    "    * 전체 원소 수(행*열)\n",
    "* `데이터프레임.T` \n",
    "    * 전치(transpose). 행과 열을 바꾼 결과"
   ]
  },
  {
   "cell_type": "code",
   "execution_count": 11,
   "metadata": {},
   "outputs": [
    {
     "data": {
      "text/plain": [
       "(11, 5)"
      ]
     },
     "execution_count": 11,
     "metadata": {},
     "output_type": "execute_result"
    }
   ],
   "source": [
    "# -----------------------\n",
    "# shape\n",
    "# -----------------------\n",
    "\n",
    "df_scores.shape"
   ]
  },
  {
   "cell_type": "code",
   "execution_count": 12,
   "metadata": {},
   "outputs": [
    {
     "data": {
      "text/plain": [
       "Index(['이름', '성별', '국어', '영어', '수학'], dtype='object')"
      ]
     },
     "execution_count": 12,
     "metadata": {},
     "output_type": "execute_result"
    }
   ],
   "source": [
    "# -----------------------\n",
    "# 컬럼라벨 확인\n",
    "# -----------------------\n",
    "\n",
    "df_scores.columns"
   ]
  },
  {
   "cell_type": "code",
   "execution_count": 13,
   "metadata": {},
   "outputs": [
    {
     "data": {
      "text/plain": [
       "Index(['0001', '0002', '0003', '0004', '0005', '0006', '0007', '0008', '0009',\n",
       "       '0010', '0011'],\n",
       "      dtype='object', name='학번')"
      ]
     },
     "execution_count": 13,
     "metadata": {},
     "output_type": "execute_result"
    }
   ],
   "source": [
    "# -----------------------\n",
    "# 인덱스라벨 확인\n",
    "# -----------------------\n",
    "\n",
    "df_scores.index"
   ]
  },
  {
   "cell_type": "code",
   "execution_count": 14,
   "metadata": {},
   "outputs": [
    {
     "data": {
      "text/plain": [
       "이름     object\n",
       "성별     object\n",
       "국어    float64\n",
       "영어      int64\n",
       "수학    float64\n",
       "dtype: object"
      ]
     },
     "execution_count": 14,
     "metadata": {},
     "output_type": "execute_result"
    }
   ],
   "source": [
    "# -----------------------\n",
    "# 컬럼별 데이터 타입 확인\n",
    "# -----------------------\n",
    "\n",
    "df_scores.dtypes"
   ]
  },
  {
   "cell_type": "code",
   "execution_count": 15,
   "metadata": {},
   "outputs": [
    {
     "data": {
      "text/html": [
       "<div>\n",
       "<style scoped>\n",
       "    .dataframe tbody tr th:only-of-type {\n",
       "        vertical-align: middle;\n",
       "    }\n",
       "\n",
       "    .dataframe tbody tr th {\n",
       "        vertical-align: top;\n",
       "    }\n",
       "\n",
       "    .dataframe thead th {\n",
       "        text-align: right;\n",
       "    }\n",
       "</style>\n",
       "<table border=\"1\" class=\"dataframe\">\n",
       "  <thead>\n",
       "    <tr style=\"text-align: right;\">\n",
       "      <th>학번</th>\n",
       "      <th>0001</th>\n",
       "      <th>0002</th>\n",
       "      <th>0003</th>\n",
       "      <th>0004</th>\n",
       "      <th>0005</th>\n",
       "      <th>0006</th>\n",
       "      <th>0007</th>\n",
       "      <th>0008</th>\n",
       "      <th>0009</th>\n",
       "      <th>0010</th>\n",
       "      <th>0011</th>\n",
       "    </tr>\n",
       "  </thead>\n",
       "  <tbody>\n",
       "    <tr>\n",
       "      <th>이름</th>\n",
       "      <td>kate</td>\n",
       "      <td>olivia</td>\n",
       "      <td>emma</td>\n",
       "      <td>sophia</td>\n",
       "      <td>amy</td>\n",
       "      <td>james</td>\n",
       "      <td>daniel</td>\n",
       "      <td>peter</td>\n",
       "      <td>kevin</td>\n",
       "      <td>jack</td>\n",
       "      <td>james</td>\n",
       "    </tr>\n",
       "    <tr>\n",
       "      <th>성별</th>\n",
       "      <td>f</td>\n",
       "      <td>f</td>\n",
       "      <td>f</td>\n",
       "      <td>f</td>\n",
       "      <td>f</td>\n",
       "      <td>m</td>\n",
       "      <td>m</td>\n",
       "      <td>m</td>\n",
       "      <td>m</td>\n",
       "      <td>m</td>\n",
       "      <td>m</td>\n",
       "    </tr>\n",
       "    <tr>\n",
       "      <th>국어</th>\n",
       "      <td>100.0</td>\n",
       "      <td>90.0</td>\n",
       "      <td>95.0</td>\n",
       "      <td>100.0</td>\n",
       "      <td>NaN</td>\n",
       "      <td>70.0</td>\n",
       "      <td>80.0</td>\n",
       "      <td>50.0</td>\n",
       "      <td>100.0</td>\n",
       "      <td>90.0</td>\n",
       "      <td>70.0</td>\n",
       "    </tr>\n",
       "    <tr>\n",
       "      <th>영어</th>\n",
       "      <td>90</td>\n",
       "      <td>80</td>\n",
       "      <td>100</td>\n",
       "      <td>100</td>\n",
       "      <td>35</td>\n",
       "      <td>75</td>\n",
       "      <td>90</td>\n",
       "      <td>60</td>\n",
       "      <td>100</td>\n",
       "      <td>95</td>\n",
       "      <td>75</td>\n",
       "    </tr>\n",
       "    <tr>\n",
       "      <th>수학</th>\n",
       "      <td>95.0</td>\n",
       "      <td>75.0</td>\n",
       "      <td>100.0</td>\n",
       "      <td>100.0</td>\n",
       "      <td>60.0</td>\n",
       "      <td>65.0</td>\n",
       "      <td>55.0</td>\n",
       "      <td>NaN</td>\n",
       "      <td>90.0</td>\n",
       "      <td>70.0</td>\n",
       "      <td>65.0</td>\n",
       "    </tr>\n",
       "  </tbody>\n",
       "</table>\n",
       "</div>"
      ],
      "text/plain": [
       "학번   0001    0002   0003    0004  0005   0006    0007   0008   0009  0010  \\\n",
       "이름   kate  olivia   emma  sophia   amy  james  daniel  peter  kevin  jack   \n",
       "성별      f       f      f       f     f      m       m      m      m     m   \n",
       "국어  100.0    90.0   95.0   100.0   NaN   70.0    80.0   50.0  100.0  90.0   \n",
       "영어     90      80    100     100    35     75      90     60    100    95   \n",
       "수학   95.0    75.0  100.0   100.0  60.0   65.0    55.0    NaN   90.0  70.0   \n",
       "\n",
       "학번   0011  \n",
       "이름  james  \n",
       "성별      m  \n",
       "국어   70.0  \n",
       "영어     75  \n",
       "수학   65.0  "
      ]
     },
     "execution_count": 15,
     "metadata": {},
     "output_type": "execute_result"
    }
   ],
   "source": [
    "# -----------------------\n",
    "# 행, 열 전치\n",
    "# -----------------------\n",
    "\n",
    "df_scores.T"
   ]
  },
  {
   "cell_type": "markdown",
   "metadata": {
    "id": "agObOlWeKbkZ"
   },
   "source": [
    "## 데이터 통계\n",
    "* 숫자형 데이터에 대한 통계\n",
    "* 전체 요약통계\n",
    "  * **`데이터프레임객체.describe()`**\n",
    "  * **`시리즈객체.describe()`**\n",
    "* 컬럼별 통계\n",
    "  * **`컬럼.통계함수()`**\n",
    "  * 통계함수 \n",
    "    * `mean()`, `min()`, `max()`, `median()`, `std()` 등\n",
    "* 컬럼에 NaN이 존재하는 경우 해당 데이터는 무시됨\n"
   ]
  },
  {
   "cell_type": "code",
   "execution_count": 16,
   "metadata": {
    "colab": {
     "base_uri": "https://localhost:8080/",
     "height": 300
    },
    "executionInfo": {
     "elapsed": 4,
     "status": "ok",
     "timestamp": 1659507781838,
     "user": {
      "displayName": "Jayoung Kim",
      "userId": "14447265827232008674"
     },
     "user_tz": -540
    },
    "id": "YwfnsohMK6gb",
    "outputId": "643a53cc-d80a-4fb1-9a7d-09440d9149b3"
   },
   "outputs": [
    {
     "data": {
      "text/html": [
       "<div>\n",
       "<style scoped>\n",
       "    .dataframe tbody tr th:only-of-type {\n",
       "        vertical-align: middle;\n",
       "    }\n",
       "\n",
       "    .dataframe tbody tr th {\n",
       "        vertical-align: top;\n",
       "    }\n",
       "\n",
       "    .dataframe thead th {\n",
       "        text-align: right;\n",
       "    }\n",
       "</style>\n",
       "<table border=\"1\" class=\"dataframe\">\n",
       "  <thead>\n",
       "    <tr style=\"text-align: right;\">\n",
       "      <th></th>\n",
       "      <th>국어</th>\n",
       "      <th>영어</th>\n",
       "      <th>수학</th>\n",
       "    </tr>\n",
       "  </thead>\n",
       "  <tbody>\n",
       "    <tr>\n",
       "      <th>count</th>\n",
       "      <td>10.000000</td>\n",
       "      <td>11.000000</td>\n",
       "      <td>10.000000</td>\n",
       "    </tr>\n",
       "    <tr>\n",
       "      <th>mean</th>\n",
       "      <td>84.500000</td>\n",
       "      <td>81.818182</td>\n",
       "      <td>77.500000</td>\n",
       "    </tr>\n",
       "    <tr>\n",
       "      <th>std</th>\n",
       "      <td>16.741499</td>\n",
       "      <td>20.158463</td>\n",
       "      <td>17.199806</td>\n",
       "    </tr>\n",
       "    <tr>\n",
       "      <th>min</th>\n",
       "      <td>50.000000</td>\n",
       "      <td>35.000000</td>\n",
       "      <td>55.000000</td>\n",
       "    </tr>\n",
       "    <tr>\n",
       "      <th>25%</th>\n",
       "      <td>72.500000</td>\n",
       "      <td>75.000000</td>\n",
       "      <td>65.000000</td>\n",
       "    </tr>\n",
       "    <tr>\n",
       "      <th>50%</th>\n",
       "      <td>90.000000</td>\n",
       "      <td>90.000000</td>\n",
       "      <td>72.500000</td>\n",
       "    </tr>\n",
       "    <tr>\n",
       "      <th>75%</th>\n",
       "      <td>98.750000</td>\n",
       "      <td>97.500000</td>\n",
       "      <td>93.750000</td>\n",
       "    </tr>\n",
       "    <tr>\n",
       "      <th>max</th>\n",
       "      <td>100.000000</td>\n",
       "      <td>100.000000</td>\n",
       "      <td>100.000000</td>\n",
       "    </tr>\n",
       "  </tbody>\n",
       "</table>\n",
       "</div>"
      ],
      "text/plain": [
       "               국어          영어          수학\n",
       "count   10.000000   11.000000   10.000000\n",
       "mean    84.500000   81.818182   77.500000\n",
       "std     16.741499   20.158463   17.199806\n",
       "min     50.000000   35.000000   55.000000\n",
       "25%     72.500000   75.000000   65.000000\n",
       "50%     90.000000   90.000000   72.500000\n",
       "75%     98.750000   97.500000   93.750000\n",
       "max    100.000000  100.000000  100.000000"
      ]
     },
     "execution_count": 16,
     "metadata": {},
     "output_type": "execute_result"
    }
   ],
   "source": [
    "# --------------\n",
    "# 요약통계\n",
    "# --------------\n",
    "\n",
    "df_scores.describe()"
   ]
  },
  {
   "cell_type": "code",
   "execution_count": 18,
   "metadata": {
    "colab": {
     "base_uri": "https://localhost:8080/"
    },
    "executionInfo": {
     "elapsed": 368,
     "status": "ok",
     "timestamp": 1659507847725,
     "user": {
      "displayName": "Jayoung Kim",
      "userId": "14447265827232008674"
     },
     "user_tz": -540
    },
    "id": "4N_5IZV9C0zZ",
    "outputId": "68deb7b5-3392-4c54-ec73-bdd0a94f0417"
   },
   "outputs": [
    {
     "data": {
      "text/plain": [
       "np.float64(84.5)"
      ]
     },
     "execution_count": 18,
     "metadata": {},
     "output_type": "execute_result"
    }
   ],
   "source": [
    "# --------------\n",
    "# 개별통계\n",
    "# 국어점수의 평균\n",
    "# --------------\n",
    "\n",
    "df_scores['국어'].mean()"
   ]
  },
  {
   "cell_type": "code",
   "execution_count": 19,
   "metadata": {},
   "outputs": [
    {
     "data": {
      "text/plain": [
       "np.float64(77.5)"
      ]
     },
     "execution_count": 19,
     "metadata": {},
     "output_type": "execute_result"
    }
   ],
   "source": [
    "# --------------\n",
    "# 개별통계\n",
    "# 수학점수의 평균\n",
    "# --------------\n",
    "\n",
    "df_scores['수학'].mean()"
   ]
  },
  {
   "cell_type": "markdown",
   "metadata": {
    "id": "xKd8Mx3pLH4C"
   },
   "source": [
    "## 빈도수\n",
    "* 범주형 데이터의 범주별 데이터 갯수를 구하는 데 활용\n",
    "* `컬럼.value_counts()`"
   ]
  },
  {
   "cell_type": "code",
   "execution_count": 20,
   "metadata": {
    "colab": {
     "base_uri": "https://localhost:8080/"
    },
    "executionInfo": {
     "elapsed": 381,
     "status": "ok",
     "timestamp": 1659507999704,
     "user": {
      "displayName": "Jayoung Kim",
      "userId": "14447265827232008674"
     },
     "user_tz": -540
    },
    "id": "iCntqcqsC4M0",
    "outputId": "6ef116fb-a9d1-496d-f005-4511c4de4a33"
   },
   "outputs": [
    {
     "data": {
      "text/plain": [
       "성별\n",
       "m    6\n",
       "f    5\n",
       "Name: count, dtype: int64"
      ]
     },
     "execution_count": 20,
     "metadata": {},
     "output_type": "execute_result"
    }
   ],
   "source": [
    "# --------------\n",
    "# 성별의 빈도수\n",
    "# --------------\n",
    "\n",
    "df_scores['성별'].value_counts()"
   ]
  },
  {
   "cell_type": "markdown",
   "metadata": {
    "id": "aW3nWKGBLPgH"
   },
   "source": [
    "## 정렬\n",
    "* `데이터프레임.sort_values(by=정렬기준컬럼)`\n",
    "    * 값으로 정렬\n",
    "* `데이터프레임.sort_index()`\n",
    "    * 인덱스로 정렬\n",
    "* 정렬방법 옵션\n",
    "    * `ascending`"
   ]
  },
  {
   "cell_type": "code",
   "execution_count": 21,
   "metadata": {
    "colab": {
     "base_uri": "https://localhost:8080/"
    },
    "executionInfo": {
     "elapsed": 374,
     "status": "ok",
     "timestamp": 1659508125479,
     "user": {
      "displayName": "Jayoung Kim",
      "userId": "14447265827232008674"
     },
     "user_tz": -540
    },
    "id": "E_77VSLbC44G",
    "outputId": "56e1495d-9f6b-4704-ff62-41387ff32868"
   },
   "outputs": [
    {
     "data": {
      "text/html": [
       "<div>\n",
       "<style scoped>\n",
       "    .dataframe tbody tr th:only-of-type {\n",
       "        vertical-align: middle;\n",
       "    }\n",
       "\n",
       "    .dataframe tbody tr th {\n",
       "        vertical-align: top;\n",
       "    }\n",
       "\n",
       "    .dataframe thead th {\n",
       "        text-align: right;\n",
       "    }\n",
       "</style>\n",
       "<table border=\"1\" class=\"dataframe\">\n",
       "  <thead>\n",
       "    <tr style=\"text-align: right;\">\n",
       "      <th></th>\n",
       "      <th>이름</th>\n",
       "      <th>성별</th>\n",
       "      <th>국어</th>\n",
       "      <th>영어</th>\n",
       "      <th>수학</th>\n",
       "    </tr>\n",
       "    <tr>\n",
       "      <th>학번</th>\n",
       "      <th></th>\n",
       "      <th></th>\n",
       "      <th></th>\n",
       "      <th></th>\n",
       "      <th></th>\n",
       "    </tr>\n",
       "  </thead>\n",
       "  <tbody>\n",
       "    <tr>\n",
       "      <th>0008</th>\n",
       "      <td>peter</td>\n",
       "      <td>m</td>\n",
       "      <td>50.0</td>\n",
       "      <td>60</td>\n",
       "      <td>NaN</td>\n",
       "    </tr>\n",
       "    <tr>\n",
       "      <th>0006</th>\n",
       "      <td>james</td>\n",
       "      <td>m</td>\n",
       "      <td>70.0</td>\n",
       "      <td>75</td>\n",
       "      <td>65.0</td>\n",
       "    </tr>\n",
       "    <tr>\n",
       "      <th>0011</th>\n",
       "      <td>james</td>\n",
       "      <td>m</td>\n",
       "      <td>70.0</td>\n",
       "      <td>75</td>\n",
       "      <td>65.0</td>\n",
       "    </tr>\n",
       "    <tr>\n",
       "      <th>0007</th>\n",
       "      <td>daniel</td>\n",
       "      <td>m</td>\n",
       "      <td>80.0</td>\n",
       "      <td>90</td>\n",
       "      <td>55.0</td>\n",
       "    </tr>\n",
       "    <tr>\n",
       "      <th>0010</th>\n",
       "      <td>jack</td>\n",
       "      <td>m</td>\n",
       "      <td>90.0</td>\n",
       "      <td>95</td>\n",
       "      <td>70.0</td>\n",
       "    </tr>\n",
       "    <tr>\n",
       "      <th>0002</th>\n",
       "      <td>olivia</td>\n",
       "      <td>f</td>\n",
       "      <td>90.0</td>\n",
       "      <td>80</td>\n",
       "      <td>75.0</td>\n",
       "    </tr>\n",
       "    <tr>\n",
       "      <th>0003</th>\n",
       "      <td>emma</td>\n",
       "      <td>f</td>\n",
       "      <td>95.0</td>\n",
       "      <td>100</td>\n",
       "      <td>100.0</td>\n",
       "    </tr>\n",
       "    <tr>\n",
       "      <th>0001</th>\n",
       "      <td>kate</td>\n",
       "      <td>f</td>\n",
       "      <td>100.0</td>\n",
       "      <td>90</td>\n",
       "      <td>95.0</td>\n",
       "    </tr>\n",
       "    <tr>\n",
       "      <th>0009</th>\n",
       "      <td>kevin</td>\n",
       "      <td>m</td>\n",
       "      <td>100.0</td>\n",
       "      <td>100</td>\n",
       "      <td>90.0</td>\n",
       "    </tr>\n",
       "    <tr>\n",
       "      <th>0004</th>\n",
       "      <td>sophia</td>\n",
       "      <td>f</td>\n",
       "      <td>100.0</td>\n",
       "      <td>100</td>\n",
       "      <td>100.0</td>\n",
       "    </tr>\n",
       "    <tr>\n",
       "      <th>0005</th>\n",
       "      <td>amy</td>\n",
       "      <td>f</td>\n",
       "      <td>NaN</td>\n",
       "      <td>35</td>\n",
       "      <td>60.0</td>\n",
       "    </tr>\n",
       "  </tbody>\n",
       "</table>\n",
       "</div>"
      ],
      "text/plain": [
       "          이름 성별     국어   영어     수학\n",
       "학번                                \n",
       "0008   peter  m   50.0   60    NaN\n",
       "0006   james  m   70.0   75   65.0\n",
       "0011   james  m   70.0   75   65.0\n",
       "0007  daniel  m   80.0   90   55.0\n",
       "0010    jack  m   90.0   95   70.0\n",
       "0002  olivia  f   90.0   80   75.0\n",
       "0003    emma  f   95.0  100  100.0\n",
       "0001    kate  f  100.0   90   95.0\n",
       "0009   kevin  m  100.0  100   90.0\n",
       "0004  sophia  f  100.0  100  100.0\n",
       "0005     amy  f    NaN   35   60.0"
      ]
     },
     "execution_count": 21,
     "metadata": {},
     "output_type": "execute_result"
    }
   ],
   "source": [
    "# ------------------------------------\n",
    "# 국어 기준으로 오름차순 정렬\n",
    "# ------------------------------------\n",
    "\n",
    "df_scores.sort_values(by='국어', ascending=True)"
   ]
  },
  {
   "cell_type": "code",
   "execution_count": 23,
   "metadata": {},
   "outputs": [
    {
     "data": {
      "text/html": [
       "<div>\n",
       "<style scoped>\n",
       "    .dataframe tbody tr th:only-of-type {\n",
       "        vertical-align: middle;\n",
       "    }\n",
       "\n",
       "    .dataframe tbody tr th {\n",
       "        vertical-align: top;\n",
       "    }\n",
       "\n",
       "    .dataframe thead th {\n",
       "        text-align: right;\n",
       "    }\n",
       "</style>\n",
       "<table border=\"1\" class=\"dataframe\">\n",
       "  <thead>\n",
       "    <tr style=\"text-align: right;\">\n",
       "      <th></th>\n",
       "      <th>이름</th>\n",
       "      <th>성별</th>\n",
       "      <th>국어</th>\n",
       "      <th>영어</th>\n",
       "      <th>수학</th>\n",
       "    </tr>\n",
       "    <tr>\n",
       "      <th>학번</th>\n",
       "      <th></th>\n",
       "      <th></th>\n",
       "      <th></th>\n",
       "      <th></th>\n",
       "      <th></th>\n",
       "    </tr>\n",
       "  </thead>\n",
       "  <tbody>\n",
       "    <tr>\n",
       "      <th>0001</th>\n",
       "      <td>kate</td>\n",
       "      <td>f</td>\n",
       "      <td>100.0</td>\n",
       "      <td>90</td>\n",
       "      <td>95.0</td>\n",
       "    </tr>\n",
       "    <tr>\n",
       "      <th>0004</th>\n",
       "      <td>sophia</td>\n",
       "      <td>f</td>\n",
       "      <td>100.0</td>\n",
       "      <td>100</td>\n",
       "      <td>100.0</td>\n",
       "    </tr>\n",
       "    <tr>\n",
       "      <th>0009</th>\n",
       "      <td>kevin</td>\n",
       "      <td>m</td>\n",
       "      <td>100.0</td>\n",
       "      <td>100</td>\n",
       "      <td>90.0</td>\n",
       "    </tr>\n",
       "    <tr>\n",
       "      <th>0003</th>\n",
       "      <td>emma</td>\n",
       "      <td>f</td>\n",
       "      <td>95.0</td>\n",
       "      <td>100</td>\n",
       "      <td>100.0</td>\n",
       "    </tr>\n",
       "    <tr>\n",
       "      <th>0002</th>\n",
       "      <td>olivia</td>\n",
       "      <td>f</td>\n",
       "      <td>90.0</td>\n",
       "      <td>80</td>\n",
       "      <td>75.0</td>\n",
       "    </tr>\n",
       "    <tr>\n",
       "      <th>0010</th>\n",
       "      <td>jack</td>\n",
       "      <td>m</td>\n",
       "      <td>90.0</td>\n",
       "      <td>95</td>\n",
       "      <td>70.0</td>\n",
       "    </tr>\n",
       "    <tr>\n",
       "      <th>0007</th>\n",
       "      <td>daniel</td>\n",
       "      <td>m</td>\n",
       "      <td>80.0</td>\n",
       "      <td>90</td>\n",
       "      <td>55.0</td>\n",
       "    </tr>\n",
       "    <tr>\n",
       "      <th>0006</th>\n",
       "      <td>james</td>\n",
       "      <td>m</td>\n",
       "      <td>70.0</td>\n",
       "      <td>75</td>\n",
       "      <td>65.0</td>\n",
       "    </tr>\n",
       "    <tr>\n",
       "      <th>0011</th>\n",
       "      <td>james</td>\n",
       "      <td>m</td>\n",
       "      <td>70.0</td>\n",
       "      <td>75</td>\n",
       "      <td>65.0</td>\n",
       "    </tr>\n",
       "    <tr>\n",
       "      <th>0008</th>\n",
       "      <td>peter</td>\n",
       "      <td>m</td>\n",
       "      <td>50.0</td>\n",
       "      <td>60</td>\n",
       "      <td>NaN</td>\n",
       "    </tr>\n",
       "    <tr>\n",
       "      <th>0005</th>\n",
       "      <td>amy</td>\n",
       "      <td>f</td>\n",
       "      <td>NaN</td>\n",
       "      <td>35</td>\n",
       "      <td>60.0</td>\n",
       "    </tr>\n",
       "  </tbody>\n",
       "</table>\n",
       "</div>"
      ],
      "text/plain": [
       "          이름 성별     국어   영어     수학\n",
       "학번                                \n",
       "0001    kate  f  100.0   90   95.0\n",
       "0004  sophia  f  100.0  100  100.0\n",
       "0009   kevin  m  100.0  100   90.0\n",
       "0003    emma  f   95.0  100  100.0\n",
       "0002  olivia  f   90.0   80   75.0\n",
       "0010    jack  m   90.0   95   70.0\n",
       "0007  daniel  m   80.0   90   55.0\n",
       "0006   james  m   70.0   75   65.0\n",
       "0011   james  m   70.0   75   65.0\n",
       "0008   peter  m   50.0   60    NaN\n",
       "0005     amy  f    NaN   35   60.0"
      ]
     },
     "execution_count": 23,
     "metadata": {},
     "output_type": "execute_result"
    }
   ],
   "source": [
    "# ------------------------------------\n",
    "# 국어 기준으로 내림차순 정렬\n",
    "# ------------------------------------\n",
    "\n",
    "df_scores.sort_values(by='국어', ascending=False)"
   ]
  },
  {
   "cell_type": "code",
   "execution_count": 24,
   "metadata": {},
   "outputs": [
    {
     "data": {
      "text/html": [
       "<div>\n",
       "<style scoped>\n",
       "    .dataframe tbody tr th:only-of-type {\n",
       "        vertical-align: middle;\n",
       "    }\n",
       "\n",
       "    .dataframe tbody tr th {\n",
       "        vertical-align: top;\n",
       "    }\n",
       "\n",
       "    .dataframe thead th {\n",
       "        text-align: right;\n",
       "    }\n",
       "</style>\n",
       "<table border=\"1\" class=\"dataframe\">\n",
       "  <thead>\n",
       "    <tr style=\"text-align: right;\">\n",
       "      <th></th>\n",
       "      <th>이름</th>\n",
       "      <th>성별</th>\n",
       "      <th>국어</th>\n",
       "      <th>영어</th>\n",
       "      <th>수학</th>\n",
       "    </tr>\n",
       "    <tr>\n",
       "      <th>학번</th>\n",
       "      <th></th>\n",
       "      <th></th>\n",
       "      <th></th>\n",
       "      <th></th>\n",
       "      <th></th>\n",
       "    </tr>\n",
       "  </thead>\n",
       "  <tbody>\n",
       "    <tr>\n",
       "      <th>0005</th>\n",
       "      <td>amy</td>\n",
       "      <td>f</td>\n",
       "      <td>NaN</td>\n",
       "      <td>35</td>\n",
       "      <td>60.0</td>\n",
       "    </tr>\n",
       "    <tr>\n",
       "      <th>0007</th>\n",
       "      <td>daniel</td>\n",
       "      <td>m</td>\n",
       "      <td>80.0</td>\n",
       "      <td>90</td>\n",
       "      <td>55.0</td>\n",
       "    </tr>\n",
       "    <tr>\n",
       "      <th>0003</th>\n",
       "      <td>emma</td>\n",
       "      <td>f</td>\n",
       "      <td>95.0</td>\n",
       "      <td>100</td>\n",
       "      <td>100.0</td>\n",
       "    </tr>\n",
       "    <tr>\n",
       "      <th>0010</th>\n",
       "      <td>jack</td>\n",
       "      <td>m</td>\n",
       "      <td>90.0</td>\n",
       "      <td>95</td>\n",
       "      <td>70.0</td>\n",
       "    </tr>\n",
       "    <tr>\n",
       "      <th>0006</th>\n",
       "      <td>james</td>\n",
       "      <td>m</td>\n",
       "      <td>70.0</td>\n",
       "      <td>75</td>\n",
       "      <td>65.0</td>\n",
       "    </tr>\n",
       "    <tr>\n",
       "      <th>0011</th>\n",
       "      <td>james</td>\n",
       "      <td>m</td>\n",
       "      <td>70.0</td>\n",
       "      <td>75</td>\n",
       "      <td>65.0</td>\n",
       "    </tr>\n",
       "    <tr>\n",
       "      <th>0001</th>\n",
       "      <td>kate</td>\n",
       "      <td>f</td>\n",
       "      <td>100.0</td>\n",
       "      <td>90</td>\n",
       "      <td>95.0</td>\n",
       "    </tr>\n",
       "    <tr>\n",
       "      <th>0009</th>\n",
       "      <td>kevin</td>\n",
       "      <td>m</td>\n",
       "      <td>100.0</td>\n",
       "      <td>100</td>\n",
       "      <td>90.0</td>\n",
       "    </tr>\n",
       "    <tr>\n",
       "      <th>0002</th>\n",
       "      <td>olivia</td>\n",
       "      <td>f</td>\n",
       "      <td>90.0</td>\n",
       "      <td>80</td>\n",
       "      <td>75.0</td>\n",
       "    </tr>\n",
       "    <tr>\n",
       "      <th>0008</th>\n",
       "      <td>peter</td>\n",
       "      <td>m</td>\n",
       "      <td>50.0</td>\n",
       "      <td>60</td>\n",
       "      <td>NaN</td>\n",
       "    </tr>\n",
       "    <tr>\n",
       "      <th>0004</th>\n",
       "      <td>sophia</td>\n",
       "      <td>f</td>\n",
       "      <td>100.0</td>\n",
       "      <td>100</td>\n",
       "      <td>100.0</td>\n",
       "    </tr>\n",
       "  </tbody>\n",
       "</table>\n",
       "</div>"
      ],
      "text/plain": [
       "          이름 성별     국어   영어     수학\n",
       "학번                                \n",
       "0005     amy  f    NaN   35   60.0\n",
       "0007  daniel  m   80.0   90   55.0\n",
       "0003    emma  f   95.0  100  100.0\n",
       "0010    jack  m   90.0   95   70.0\n",
       "0006   james  m   70.0   75   65.0\n",
       "0011   james  m   70.0   75   65.0\n",
       "0001    kate  f  100.0   90   95.0\n",
       "0009   kevin  m  100.0  100   90.0\n",
       "0002  olivia  f   90.0   80   75.0\n",
       "0008   peter  m   50.0   60    NaN\n",
       "0004  sophia  f  100.0  100  100.0"
      ]
     },
     "execution_count": 24,
     "metadata": {},
     "output_type": "execute_result"
    }
   ],
   "source": [
    "# ------------------------------------\n",
    "# 이름 기준으로 오름차순 정렬\n",
    "# ------------------------------------\n",
    "\n",
    "df_scores.sort_values(by='이름', ascending=True)"
   ]
  },
  {
   "cell_type": "code",
   "execution_count": 25,
   "metadata": {},
   "outputs": [
    {
     "data": {
      "text/html": [
       "<div>\n",
       "<style scoped>\n",
       "    .dataframe tbody tr th:only-of-type {\n",
       "        vertical-align: middle;\n",
       "    }\n",
       "\n",
       "    .dataframe tbody tr th {\n",
       "        vertical-align: top;\n",
       "    }\n",
       "\n",
       "    .dataframe thead th {\n",
       "        text-align: right;\n",
       "    }\n",
       "</style>\n",
       "<table border=\"1\" class=\"dataframe\">\n",
       "  <thead>\n",
       "    <tr style=\"text-align: right;\">\n",
       "      <th></th>\n",
       "      <th>이름</th>\n",
       "      <th>성별</th>\n",
       "      <th>국어</th>\n",
       "      <th>영어</th>\n",
       "      <th>수학</th>\n",
       "    </tr>\n",
       "    <tr>\n",
       "      <th>학번</th>\n",
       "      <th></th>\n",
       "      <th></th>\n",
       "      <th></th>\n",
       "      <th></th>\n",
       "      <th></th>\n",
       "    </tr>\n",
       "  </thead>\n",
       "  <tbody>\n",
       "    <tr>\n",
       "      <th>0011</th>\n",
       "      <td>james</td>\n",
       "      <td>m</td>\n",
       "      <td>70.0</td>\n",
       "      <td>75</td>\n",
       "      <td>65.0</td>\n",
       "    </tr>\n",
       "    <tr>\n",
       "      <th>0010</th>\n",
       "      <td>jack</td>\n",
       "      <td>m</td>\n",
       "      <td>90.0</td>\n",
       "      <td>95</td>\n",
       "      <td>70.0</td>\n",
       "    </tr>\n",
       "    <tr>\n",
       "      <th>0009</th>\n",
       "      <td>kevin</td>\n",
       "      <td>m</td>\n",
       "      <td>100.0</td>\n",
       "      <td>100</td>\n",
       "      <td>90.0</td>\n",
       "    </tr>\n",
       "    <tr>\n",
       "      <th>0008</th>\n",
       "      <td>peter</td>\n",
       "      <td>m</td>\n",
       "      <td>50.0</td>\n",
       "      <td>60</td>\n",
       "      <td>NaN</td>\n",
       "    </tr>\n",
       "    <tr>\n",
       "      <th>0007</th>\n",
       "      <td>daniel</td>\n",
       "      <td>m</td>\n",
       "      <td>80.0</td>\n",
       "      <td>90</td>\n",
       "      <td>55.0</td>\n",
       "    </tr>\n",
       "    <tr>\n",
       "      <th>0006</th>\n",
       "      <td>james</td>\n",
       "      <td>m</td>\n",
       "      <td>70.0</td>\n",
       "      <td>75</td>\n",
       "      <td>65.0</td>\n",
       "    </tr>\n",
       "    <tr>\n",
       "      <th>0005</th>\n",
       "      <td>amy</td>\n",
       "      <td>f</td>\n",
       "      <td>NaN</td>\n",
       "      <td>35</td>\n",
       "      <td>60.0</td>\n",
       "    </tr>\n",
       "    <tr>\n",
       "      <th>0004</th>\n",
       "      <td>sophia</td>\n",
       "      <td>f</td>\n",
       "      <td>100.0</td>\n",
       "      <td>100</td>\n",
       "      <td>100.0</td>\n",
       "    </tr>\n",
       "    <tr>\n",
       "      <th>0003</th>\n",
       "      <td>emma</td>\n",
       "      <td>f</td>\n",
       "      <td>95.0</td>\n",
       "      <td>100</td>\n",
       "      <td>100.0</td>\n",
       "    </tr>\n",
       "    <tr>\n",
       "      <th>0002</th>\n",
       "      <td>olivia</td>\n",
       "      <td>f</td>\n",
       "      <td>90.0</td>\n",
       "      <td>80</td>\n",
       "      <td>75.0</td>\n",
       "    </tr>\n",
       "    <tr>\n",
       "      <th>0001</th>\n",
       "      <td>kate</td>\n",
       "      <td>f</td>\n",
       "      <td>100.0</td>\n",
       "      <td>90</td>\n",
       "      <td>95.0</td>\n",
       "    </tr>\n",
       "  </tbody>\n",
       "</table>\n",
       "</div>"
      ],
      "text/plain": [
       "          이름 성별     국어   영어     수학\n",
       "학번                                \n",
       "0011   james  m   70.0   75   65.0\n",
       "0010    jack  m   90.0   95   70.0\n",
       "0009   kevin  m  100.0  100   90.0\n",
       "0008   peter  m   50.0   60    NaN\n",
       "0007  daniel  m   80.0   90   55.0\n",
       "0006   james  m   70.0   75   65.0\n",
       "0005     amy  f    NaN   35   60.0\n",
       "0004  sophia  f  100.0  100  100.0\n",
       "0003    emma  f   95.0  100  100.0\n",
       "0002  olivia  f   90.0   80   75.0\n",
       "0001    kate  f  100.0   90   95.0"
      ]
     },
     "execution_count": 25,
     "metadata": {},
     "output_type": "execute_result"
    }
   ],
   "source": [
    "# ------------------------------------\n",
    "# 학번 기준으로 내림차순 정렬\n",
    "# ------------------------------------\n",
    "\n",
    "df_scores.sort_values(by='학번', ascending=False)"
   ]
  },
  {
   "cell_type": "markdown",
   "metadata": {
    "id": "uR1966QYxqNm"
   },
   "source": [
    "## 데이터 선택"
   ]
  },
  {
   "cell_type": "markdown",
   "metadata": {
    "id": "zuVgQdnT0iEe"
   },
   "source": [
    "### 컬럼의 데이터 선택\n",
    "* `데이터프레임객체['컬럼명']` -> Series \n",
    "* `데이터프레임객체[['컬럼명']]` -> DataFrame\n",
    "* `데이터프레임객체[컬럼명리스트]`"
   ]
  },
  {
   "cell_type": "code",
   "execution_count": 28,
   "metadata": {
    "colab": {
     "base_uri": "https://localhost:8080/"
    },
    "executionInfo": {
     "elapsed": 425,
     "status": "ok",
     "timestamp": 1659508542708,
     "user": {
      "displayName": "Jayoung Kim",
      "userId": "14447265827232008674"
     },
     "user_tz": -540
    },
    "id": "R3rS8BaW01LS",
    "outputId": "b233a943-5673-4097-bef2-440bf9a7d5b0"
   },
   "outputs": [
    {
     "data": {
      "text/plain": [
       "학번\n",
       "0001      kate\n",
       "0002    olivia\n",
       "0003      emma\n",
       "0004    sophia\n",
       "0005       amy\n",
       "0006     james\n",
       "0007    daniel\n",
       "0008     peter\n",
       "0009     kevin\n",
       "0010      jack\n",
       "0011     james\n",
       "Name: 이름, dtype: object"
      ]
     },
     "execution_count": 28,
     "metadata": {},
     "output_type": "execute_result"
    }
   ],
   "source": [
    "# ------------------------------------------\n",
    "# '이름' 컬럼의 데이터 선택 (-> Series)\n",
    "# ------------------------------------------\n",
    "\n",
    "df_scores['이름']"
   ]
  },
  {
   "cell_type": "code",
   "execution_count": 29,
   "metadata": {
    "colab": {
     "base_uri": "https://localhost:8080/",
     "height": 394
    },
    "executionInfo": {
     "elapsed": 507,
     "status": "ok",
     "timestamp": 1659508612137,
     "user": {
      "displayName": "Jayoung Kim",
      "userId": "14447265827232008674"
     },
     "user_tz": -540
    },
    "id": "YqIvhMOAa2xM",
    "outputId": "52b84cc3-644c-4637-ed64-44c25a388ee8"
   },
   "outputs": [
    {
     "data": {
      "text/html": [
       "<div>\n",
       "<style scoped>\n",
       "    .dataframe tbody tr th:only-of-type {\n",
       "        vertical-align: middle;\n",
       "    }\n",
       "\n",
       "    .dataframe tbody tr th {\n",
       "        vertical-align: top;\n",
       "    }\n",
       "\n",
       "    .dataframe thead th {\n",
       "        text-align: right;\n",
       "    }\n",
       "</style>\n",
       "<table border=\"1\" class=\"dataframe\">\n",
       "  <thead>\n",
       "    <tr style=\"text-align: right;\">\n",
       "      <th></th>\n",
       "      <th>이름</th>\n",
       "    </tr>\n",
       "    <tr>\n",
       "      <th>학번</th>\n",
       "      <th></th>\n",
       "    </tr>\n",
       "  </thead>\n",
       "  <tbody>\n",
       "    <tr>\n",
       "      <th>0001</th>\n",
       "      <td>kate</td>\n",
       "    </tr>\n",
       "    <tr>\n",
       "      <th>0002</th>\n",
       "      <td>olivia</td>\n",
       "    </tr>\n",
       "    <tr>\n",
       "      <th>0003</th>\n",
       "      <td>emma</td>\n",
       "    </tr>\n",
       "    <tr>\n",
       "      <th>0004</th>\n",
       "      <td>sophia</td>\n",
       "    </tr>\n",
       "    <tr>\n",
       "      <th>0005</th>\n",
       "      <td>amy</td>\n",
       "    </tr>\n",
       "    <tr>\n",
       "      <th>0006</th>\n",
       "      <td>james</td>\n",
       "    </tr>\n",
       "    <tr>\n",
       "      <th>0007</th>\n",
       "      <td>daniel</td>\n",
       "    </tr>\n",
       "    <tr>\n",
       "      <th>0008</th>\n",
       "      <td>peter</td>\n",
       "    </tr>\n",
       "    <tr>\n",
       "      <th>0009</th>\n",
       "      <td>kevin</td>\n",
       "    </tr>\n",
       "    <tr>\n",
       "      <th>0010</th>\n",
       "      <td>jack</td>\n",
       "    </tr>\n",
       "    <tr>\n",
       "      <th>0011</th>\n",
       "      <td>james</td>\n",
       "    </tr>\n",
       "  </tbody>\n",
       "</table>\n",
       "</div>"
      ],
      "text/plain": [
       "          이름\n",
       "학번          \n",
       "0001    kate\n",
       "0002  olivia\n",
       "0003    emma\n",
       "0004  sophia\n",
       "0005     amy\n",
       "0006   james\n",
       "0007  daniel\n",
       "0008   peter\n",
       "0009   kevin\n",
       "0010    jack\n",
       "0011   james"
      ]
     },
     "execution_count": 29,
     "metadata": {},
     "output_type": "execute_result"
    }
   ],
   "source": [
    "# ------------------------------------------\n",
    "# '이름' 컬럼의 데이터 선택  (-> DataFrame)\n",
    "# ------------------------------------------\n",
    "\n",
    "df_scores[['이름']]"
   ]
  },
  {
   "cell_type": "code",
   "execution_count": 30,
   "metadata": {
    "colab": {
     "base_uri": "https://localhost:8080/",
     "height": 394
    },
    "executionInfo": {
     "elapsed": 384,
     "status": "ok",
     "timestamp": 1659508661553,
     "user": {
      "displayName": "Jayoung Kim",
      "userId": "14447265827232008674"
     },
     "user_tz": -540
    },
    "id": "KCHFnI1v05uM",
    "outputId": "61ade669-aa71-4f53-a2b0-88d28686b85e"
   },
   "outputs": [
    {
     "data": {
      "text/html": [
       "<div>\n",
       "<style scoped>\n",
       "    .dataframe tbody tr th:only-of-type {\n",
       "        vertical-align: middle;\n",
       "    }\n",
       "\n",
       "    .dataframe tbody tr th {\n",
       "        vertical-align: top;\n",
       "    }\n",
       "\n",
       "    .dataframe thead th {\n",
       "        text-align: right;\n",
       "    }\n",
       "</style>\n",
       "<table border=\"1\" class=\"dataframe\">\n",
       "  <thead>\n",
       "    <tr style=\"text-align: right;\">\n",
       "      <th></th>\n",
       "      <th>이름</th>\n",
       "      <th>국어</th>\n",
       "    </tr>\n",
       "    <tr>\n",
       "      <th>학번</th>\n",
       "      <th></th>\n",
       "      <th></th>\n",
       "    </tr>\n",
       "  </thead>\n",
       "  <tbody>\n",
       "    <tr>\n",
       "      <th>0001</th>\n",
       "      <td>kate</td>\n",
       "      <td>100.0</td>\n",
       "    </tr>\n",
       "    <tr>\n",
       "      <th>0002</th>\n",
       "      <td>olivia</td>\n",
       "      <td>90.0</td>\n",
       "    </tr>\n",
       "    <tr>\n",
       "      <th>0003</th>\n",
       "      <td>emma</td>\n",
       "      <td>95.0</td>\n",
       "    </tr>\n",
       "    <tr>\n",
       "      <th>0004</th>\n",
       "      <td>sophia</td>\n",
       "      <td>100.0</td>\n",
       "    </tr>\n",
       "    <tr>\n",
       "      <th>0005</th>\n",
       "      <td>amy</td>\n",
       "      <td>NaN</td>\n",
       "    </tr>\n",
       "    <tr>\n",
       "      <th>0006</th>\n",
       "      <td>james</td>\n",
       "      <td>70.0</td>\n",
       "    </tr>\n",
       "    <tr>\n",
       "      <th>0007</th>\n",
       "      <td>daniel</td>\n",
       "      <td>80.0</td>\n",
       "    </tr>\n",
       "    <tr>\n",
       "      <th>0008</th>\n",
       "      <td>peter</td>\n",
       "      <td>50.0</td>\n",
       "    </tr>\n",
       "    <tr>\n",
       "      <th>0009</th>\n",
       "      <td>kevin</td>\n",
       "      <td>100.0</td>\n",
       "    </tr>\n",
       "    <tr>\n",
       "      <th>0010</th>\n",
       "      <td>jack</td>\n",
       "      <td>90.0</td>\n",
       "    </tr>\n",
       "    <tr>\n",
       "      <th>0011</th>\n",
       "      <td>james</td>\n",
       "      <td>70.0</td>\n",
       "    </tr>\n",
       "  </tbody>\n",
       "</table>\n",
       "</div>"
      ],
      "text/plain": [
       "          이름     국어\n",
       "학번                 \n",
       "0001    kate  100.0\n",
       "0002  olivia   90.0\n",
       "0003    emma   95.0\n",
       "0004  sophia  100.0\n",
       "0005     amy    NaN\n",
       "0006   james   70.0\n",
       "0007  daniel   80.0\n",
       "0008   peter   50.0\n",
       "0009   kevin  100.0\n",
       "0010    jack   90.0\n",
       "0011   james   70.0"
      ]
     },
     "execution_count": 30,
     "metadata": {},
     "output_type": "execute_result"
    }
   ],
   "source": [
    "# ------------------------------------------\n",
    "# '이름','국어' 컬럼의 데이터 선택  \n",
    "# ------------------------------------------\n",
    "\n",
    "df_scores[['이름','국어']]"
   ]
  },
  {
   "cell_type": "code",
   "execution_count": 31,
   "metadata": {
    "colab": {
     "base_uri": "https://localhost:8080/",
     "height": 394
    },
    "executionInfo": {
     "elapsed": 629,
     "status": "ok",
     "timestamp": 1659508763221,
     "user": {
      "displayName": "Jayoung Kim",
      "userId": "14447265827232008674"
     },
     "user_tz": -540
    },
    "id": "Ak7rNZvKd7Nu",
    "outputId": "34b15d87-756e-4288-de9f-c0c9d1f202f1"
   },
   "outputs": [
    {
     "data": {
      "text/html": [
       "<div>\n",
       "<style scoped>\n",
       "    .dataframe tbody tr th:only-of-type {\n",
       "        vertical-align: middle;\n",
       "    }\n",
       "\n",
       "    .dataframe tbody tr th {\n",
       "        vertical-align: top;\n",
       "    }\n",
       "\n",
       "    .dataframe thead th {\n",
       "        text-align: right;\n",
       "    }\n",
       "</style>\n",
       "<table border=\"1\" class=\"dataframe\">\n",
       "  <thead>\n",
       "    <tr style=\"text-align: right;\">\n",
       "      <th></th>\n",
       "      <th>이름</th>\n",
       "      <th>성별</th>\n",
       "    </tr>\n",
       "    <tr>\n",
       "      <th>학번</th>\n",
       "      <th></th>\n",
       "      <th></th>\n",
       "    </tr>\n",
       "  </thead>\n",
       "  <tbody>\n",
       "    <tr>\n",
       "      <th>0001</th>\n",
       "      <td>kate</td>\n",
       "      <td>f</td>\n",
       "    </tr>\n",
       "    <tr>\n",
       "      <th>0002</th>\n",
       "      <td>olivia</td>\n",
       "      <td>f</td>\n",
       "    </tr>\n",
       "    <tr>\n",
       "      <th>0003</th>\n",
       "      <td>emma</td>\n",
       "      <td>f</td>\n",
       "    </tr>\n",
       "    <tr>\n",
       "      <th>0004</th>\n",
       "      <td>sophia</td>\n",
       "      <td>f</td>\n",
       "    </tr>\n",
       "    <tr>\n",
       "      <th>0005</th>\n",
       "      <td>amy</td>\n",
       "      <td>f</td>\n",
       "    </tr>\n",
       "    <tr>\n",
       "      <th>0006</th>\n",
       "      <td>james</td>\n",
       "      <td>m</td>\n",
       "    </tr>\n",
       "    <tr>\n",
       "      <th>0007</th>\n",
       "      <td>daniel</td>\n",
       "      <td>m</td>\n",
       "    </tr>\n",
       "    <tr>\n",
       "      <th>0008</th>\n",
       "      <td>peter</td>\n",
       "      <td>m</td>\n",
       "    </tr>\n",
       "    <tr>\n",
       "      <th>0009</th>\n",
       "      <td>kevin</td>\n",
       "      <td>m</td>\n",
       "    </tr>\n",
       "    <tr>\n",
       "      <th>0010</th>\n",
       "      <td>jack</td>\n",
       "      <td>m</td>\n",
       "    </tr>\n",
       "    <tr>\n",
       "      <th>0011</th>\n",
       "      <td>james</td>\n",
       "      <td>m</td>\n",
       "    </tr>\n",
       "  </tbody>\n",
       "</table>\n",
       "</div>"
      ],
      "text/plain": [
       "          이름 성별\n",
       "학번             \n",
       "0001    kate  f\n",
       "0002  olivia  f\n",
       "0003    emma  f\n",
       "0004  sophia  f\n",
       "0005     amy  f\n",
       "0006   james  m\n",
       "0007  daniel  m\n",
       "0008   peter  m\n",
       "0009   kevin  m\n",
       "0010    jack  m\n",
       "0011   james  m"
      ]
     },
     "execution_count": 31,
     "metadata": {},
     "output_type": "execute_result"
    }
   ],
   "source": [
    "# ------------------------------------------\n",
    "# '이름','성별' 컬럼의 데이터 선택  \n",
    "# ------------------------------------------\n",
    "\n",
    "df_scores[['이름','성별']]"
   ]
  },
  {
   "cell_type": "markdown",
   "metadata": {
    "id": "rUtcidyi0kgP"
   },
   "source": [
    "### 라벨인덱스, 컬럼라벨로 선택\n",
    "* `데이터프레임.loc[,]` "
   ]
  },
  {
   "cell_type": "code",
   "execution_count": 33,
   "metadata": {
    "id": "8BnHI5vWD1la"
   },
   "outputs": [
    {
     "data": {
      "text/plain": [
       "이름     kate\n",
       "성별        f\n",
       "국어    100.0\n",
       "영어       90\n",
       "수학     95.0\n",
       "Name: 0001, dtype: object"
      ]
     },
     "execution_count": 33,
     "metadata": {},
     "output_type": "execute_result"
    }
   ],
   "source": [
    "# ------------------------------------------\n",
    "# 학번이 0001인 학생의 데이터 선택\n",
    "# ------------------------------------------\n",
    "\n",
    "df_scores.loc['0001']"
   ]
  },
  {
   "cell_type": "code",
   "execution_count": 34,
   "metadata": {
    "id": "ta4bdNWgFA72"
   },
   "outputs": [
    {
     "data": {
      "text/html": [
       "<div>\n",
       "<style scoped>\n",
       "    .dataframe tbody tr th:only-of-type {\n",
       "        vertical-align: middle;\n",
       "    }\n",
       "\n",
       "    .dataframe tbody tr th {\n",
       "        vertical-align: top;\n",
       "    }\n",
       "\n",
       "    .dataframe thead th {\n",
       "        text-align: right;\n",
       "    }\n",
       "</style>\n",
       "<table border=\"1\" class=\"dataframe\">\n",
       "  <thead>\n",
       "    <tr style=\"text-align: right;\">\n",
       "      <th></th>\n",
       "      <th>이름</th>\n",
       "      <th>성별</th>\n",
       "      <th>국어</th>\n",
       "      <th>영어</th>\n",
       "      <th>수학</th>\n",
       "    </tr>\n",
       "    <tr>\n",
       "      <th>학번</th>\n",
       "      <th></th>\n",
       "      <th></th>\n",
       "      <th></th>\n",
       "      <th></th>\n",
       "      <th></th>\n",
       "    </tr>\n",
       "  </thead>\n",
       "  <tbody>\n",
       "    <tr>\n",
       "      <th>0001</th>\n",
       "      <td>kate</td>\n",
       "      <td>f</td>\n",
       "      <td>100.0</td>\n",
       "      <td>90</td>\n",
       "      <td>95.0</td>\n",
       "    </tr>\n",
       "    <tr>\n",
       "      <th>0005</th>\n",
       "      <td>amy</td>\n",
       "      <td>f</td>\n",
       "      <td>NaN</td>\n",
       "      <td>35</td>\n",
       "      <td>60.0</td>\n",
       "    </tr>\n",
       "  </tbody>\n",
       "</table>\n",
       "</div>"
      ],
      "text/plain": [
       "        이름 성별     국어  영어    수학\n",
       "학번                            \n",
       "0001  kate  f  100.0  90  95.0\n",
       "0005   amy  f    NaN  35  60.0"
      ]
     },
     "execution_count": 34,
     "metadata": {},
     "output_type": "execute_result"
    }
   ],
   "source": [
    "# ------------------------------------------\n",
    "# 학번이 0001,0005인 학생의 데이터 선택\n",
    "# ------------------------------------------\n",
    "\n",
    "df_scores.loc[['0001', '0005']]"
   ]
  },
  {
   "cell_type": "code",
   "execution_count": 35,
   "metadata": {
    "id": "8f_jcstIFHmX"
   },
   "outputs": [
    {
     "data": {
      "text/html": [
       "<div>\n",
       "<style scoped>\n",
       "    .dataframe tbody tr th:only-of-type {\n",
       "        vertical-align: middle;\n",
       "    }\n",
       "\n",
       "    .dataframe tbody tr th {\n",
       "        vertical-align: top;\n",
       "    }\n",
       "\n",
       "    .dataframe thead th {\n",
       "        text-align: right;\n",
       "    }\n",
       "</style>\n",
       "<table border=\"1\" class=\"dataframe\">\n",
       "  <thead>\n",
       "    <tr style=\"text-align: right;\">\n",
       "      <th></th>\n",
       "      <th>이름</th>\n",
       "      <th>성별</th>\n",
       "      <th>국어</th>\n",
       "      <th>영어</th>\n",
       "      <th>수학</th>\n",
       "    </tr>\n",
       "    <tr>\n",
       "      <th>학번</th>\n",
       "      <th></th>\n",
       "      <th></th>\n",
       "      <th></th>\n",
       "      <th></th>\n",
       "      <th></th>\n",
       "    </tr>\n",
       "  </thead>\n",
       "  <tbody>\n",
       "    <tr>\n",
       "      <th>0001</th>\n",
       "      <td>kate</td>\n",
       "      <td>f</td>\n",
       "      <td>100.0</td>\n",
       "      <td>90</td>\n",
       "      <td>95.0</td>\n",
       "    </tr>\n",
       "    <tr>\n",
       "      <th>0002</th>\n",
       "      <td>olivia</td>\n",
       "      <td>f</td>\n",
       "      <td>90.0</td>\n",
       "      <td>80</td>\n",
       "      <td>75.0</td>\n",
       "    </tr>\n",
       "    <tr>\n",
       "      <th>0003</th>\n",
       "      <td>emma</td>\n",
       "      <td>f</td>\n",
       "      <td>95.0</td>\n",
       "      <td>100</td>\n",
       "      <td>100.0</td>\n",
       "    </tr>\n",
       "  </tbody>\n",
       "</table>\n",
       "</div>"
      ],
      "text/plain": [
       "          이름 성별     국어   영어     수학\n",
       "학번                                \n",
       "0001    kate  f  100.0   90   95.0\n",
       "0002  olivia  f   90.0   80   75.0\n",
       "0003    emma  f   95.0  100  100.0"
      ]
     },
     "execution_count": 35,
     "metadata": {},
     "output_type": "execute_result"
    }
   ],
   "source": [
    "# ------------------------------------------\n",
    "# 학번 0001부터 0003까지 선택\n",
    "# ------------------------------------------\n",
    "\n",
    "df_scores.loc['0001':'0003']"
   ]
  },
  {
   "cell_type": "code",
   "execution_count": 36,
   "metadata": {
    "id": "wkgx-KhPFOWB"
   },
   "outputs": [
    {
     "data": {
      "text/plain": [
       "'emma'"
      ]
     },
     "execution_count": 36,
     "metadata": {},
     "output_type": "execute_result"
    }
   ],
   "source": [
    "# ------------------------------------------\n",
    "# 학번 0003인 학생의 '이름'을 선택\n",
    "# ------------------------------------------\n",
    "\n",
    "df_scores.loc['0003', '이름']"
   ]
  },
  {
   "cell_type": "code",
   "execution_count": 37,
   "metadata": {
    "id": "zhYaQlGCDyMR"
   },
   "outputs": [
    {
     "data": {
      "text/plain": [
       "이름     emma\n",
       "수학    100.0\n",
       "Name: 0003, dtype: object"
      ]
     },
     "execution_count": 37,
     "metadata": {},
     "output_type": "execute_result"
    }
   ],
   "source": [
    "# ------------------------------------------\n",
    "# 학번 0003인 학생의 '이름'과 '수학'점수를 선택\n",
    "# ------------------------------------------\n",
    "\n",
    "df_scores.loc['0003', ['이름', '수학']]"
   ]
  },
  {
   "cell_type": "code",
   "execution_count": 38,
   "metadata": {
    "id": "b48EZwnnF-SS"
   },
   "outputs": [
    {
     "data": {
      "text/plain": [
       "국어     95.0\n",
       "영어      100\n",
       "수학    100.0\n",
       "Name: 0003, dtype: object"
      ]
     },
     "execution_count": 38,
     "metadata": {},
     "output_type": "execute_result"
    }
   ],
   "source": [
    "# ------------------------------------------\n",
    "# 학번 0003인 학생의 '국어'~'수학'점수를 선택\n",
    "# ------------------------------------------\n",
    "\n",
    "df_scores.loc['0003', '국어':'수학']"
   ]
  },
  {
   "cell_type": "code",
   "execution_count": 39,
   "metadata": {
    "id": "R2QFlR8gGJzA"
   },
   "outputs": [
    {
     "data": {
      "text/plain": [
       "학번\n",
       "0001    kate\n",
       "0005     amy\n",
       "Name: 이름, dtype: object"
      ]
     },
     "execution_count": 39,
     "metadata": {},
     "output_type": "execute_result"
    }
   ],
   "source": [
    "# ------------------------------------------\n",
    "# 학번 0001, 0005인 학생의 '이름'을 선택\n",
    "# ------------------------------------------\n",
    "\n",
    "df_scores.loc[['0001', '0005'], '이름']"
   ]
  },
  {
   "cell_type": "code",
   "execution_count": 40,
   "metadata": {
    "id": "kwiSq_b3GR36"
   },
   "outputs": [
    {
     "data": {
      "text/html": [
       "<div>\n",
       "<style scoped>\n",
       "    .dataframe tbody tr th:only-of-type {\n",
       "        vertical-align: middle;\n",
       "    }\n",
       "\n",
       "    .dataframe tbody tr th {\n",
       "        vertical-align: top;\n",
       "    }\n",
       "\n",
       "    .dataframe thead th {\n",
       "        text-align: right;\n",
       "    }\n",
       "</style>\n",
       "<table border=\"1\" class=\"dataframe\">\n",
       "  <thead>\n",
       "    <tr style=\"text-align: right;\">\n",
       "      <th></th>\n",
       "      <th>이름</th>\n",
       "      <th>수학</th>\n",
       "    </tr>\n",
       "    <tr>\n",
       "      <th>학번</th>\n",
       "      <th></th>\n",
       "      <th></th>\n",
       "    </tr>\n",
       "  </thead>\n",
       "  <tbody>\n",
       "    <tr>\n",
       "      <th>0001</th>\n",
       "      <td>kate</td>\n",
       "      <td>95.0</td>\n",
       "    </tr>\n",
       "    <tr>\n",
       "      <th>0005</th>\n",
       "      <td>amy</td>\n",
       "      <td>60.0</td>\n",
       "    </tr>\n",
       "  </tbody>\n",
       "</table>\n",
       "</div>"
      ],
      "text/plain": [
       "        이름    수학\n",
       "학번              \n",
       "0001  kate  95.0\n",
       "0005   amy  60.0"
      ]
     },
     "execution_count": 40,
     "metadata": {},
     "output_type": "execute_result"
    }
   ],
   "source": [
    "# ------------------------------------------\n",
    "# 학번 0001, 0005인 학생의 '이름','수학'점수를 선택\n",
    "# ------------------------------------------\n",
    "\n",
    "df_scores.loc[['0001', '0005'], ['이름', '수학']]"
   ]
  },
  {
   "cell_type": "code",
   "execution_count": 41,
   "metadata": {
    "id": "BLklceXzGbu3"
   },
   "outputs": [
    {
     "data": {
      "text/html": [
       "<div>\n",
       "<style scoped>\n",
       "    .dataframe tbody tr th:only-of-type {\n",
       "        vertical-align: middle;\n",
       "    }\n",
       "\n",
       "    .dataframe tbody tr th {\n",
       "        vertical-align: top;\n",
       "    }\n",
       "\n",
       "    .dataframe thead th {\n",
       "        text-align: right;\n",
       "    }\n",
       "</style>\n",
       "<table border=\"1\" class=\"dataframe\">\n",
       "  <thead>\n",
       "    <tr style=\"text-align: right;\">\n",
       "      <th></th>\n",
       "      <th>국어</th>\n",
       "      <th>영어</th>\n",
       "      <th>수학</th>\n",
       "    </tr>\n",
       "    <tr>\n",
       "      <th>학번</th>\n",
       "      <th></th>\n",
       "      <th></th>\n",
       "      <th></th>\n",
       "    </tr>\n",
       "  </thead>\n",
       "  <tbody>\n",
       "    <tr>\n",
       "      <th>0001</th>\n",
       "      <td>100.0</td>\n",
       "      <td>90</td>\n",
       "      <td>95.0</td>\n",
       "    </tr>\n",
       "    <tr>\n",
       "      <th>0005</th>\n",
       "      <td>NaN</td>\n",
       "      <td>35</td>\n",
       "      <td>60.0</td>\n",
       "    </tr>\n",
       "  </tbody>\n",
       "</table>\n",
       "</div>"
      ],
      "text/plain": [
       "         국어  영어    수학\n",
       "학번                   \n",
       "0001  100.0  90  95.0\n",
       "0005    NaN  35  60.0"
      ]
     },
     "execution_count": 41,
     "metadata": {},
     "output_type": "execute_result"
    }
   ],
   "source": [
    "# ------------------------------------------\n",
    "# 학번 0001, 0005인 학생의 '국어'~'수학' 점수를 선택\n",
    "# ------------------------------------------\n",
    "\n",
    "df_scores.loc[['0001', '0005'], '국어':'수학']"
   ]
  },
  {
   "cell_type": "code",
   "execution_count": 42,
   "metadata": {
    "id": "KArLljxqG2Gu"
   },
   "outputs": [
    {
     "data": {
      "text/plain": [
       "학번\n",
       "0001    100.0\n",
       "0002     90.0\n",
       "0003     95.0\n",
       "Name: 국어, dtype: float64"
      ]
     },
     "execution_count": 42,
     "metadata": {},
     "output_type": "execute_result"
    }
   ],
   "source": [
    "# ------------------------------------------\n",
    "# 학번 0001~0003인 학생의 '국어'점수를 선택\n",
    "# ------------------------------------------\n",
    "\n",
    "df_scores.loc['0001':'0003', '국어']"
   ]
  },
  {
   "cell_type": "code",
   "execution_count": 43,
   "metadata": {
    "id": "j_u_p6lDG6xQ"
   },
   "outputs": [
    {
     "data": {
      "text/html": [
       "<div>\n",
       "<style scoped>\n",
       "    .dataframe tbody tr th:only-of-type {\n",
       "        vertical-align: middle;\n",
       "    }\n",
       "\n",
       "    .dataframe tbody tr th {\n",
       "        vertical-align: top;\n",
       "    }\n",
       "\n",
       "    .dataframe thead th {\n",
       "        text-align: right;\n",
       "    }\n",
       "</style>\n",
       "<table border=\"1\" class=\"dataframe\">\n",
       "  <thead>\n",
       "    <tr style=\"text-align: right;\">\n",
       "      <th></th>\n",
       "      <th>국어</th>\n",
       "      <th>수학</th>\n",
       "    </tr>\n",
       "    <tr>\n",
       "      <th>학번</th>\n",
       "      <th></th>\n",
       "      <th></th>\n",
       "    </tr>\n",
       "  </thead>\n",
       "  <tbody>\n",
       "    <tr>\n",
       "      <th>0001</th>\n",
       "      <td>100.0</td>\n",
       "      <td>95.0</td>\n",
       "    </tr>\n",
       "    <tr>\n",
       "      <th>0002</th>\n",
       "      <td>90.0</td>\n",
       "      <td>75.0</td>\n",
       "    </tr>\n",
       "    <tr>\n",
       "      <th>0003</th>\n",
       "      <td>95.0</td>\n",
       "      <td>100.0</td>\n",
       "    </tr>\n",
       "  </tbody>\n",
       "</table>\n",
       "</div>"
      ],
      "text/plain": [
       "         국어     수학\n",
       "학번                \n",
       "0001  100.0   95.0\n",
       "0002   90.0   75.0\n",
       "0003   95.0  100.0"
      ]
     },
     "execution_count": 43,
     "metadata": {},
     "output_type": "execute_result"
    }
   ],
   "source": [
    "# ------------------------------------------\n",
    "# 학번 0001~0003인 학생의 '국어','수학'점수를 선택\n",
    "# ------------------------------------------\n",
    "\n",
    "df_scores.loc['0001':'0003', ['국어', '수학']]"
   ]
  },
  {
   "cell_type": "code",
   "execution_count": 44,
   "metadata": {
    "id": "GdCiyrSNGoI8"
   },
   "outputs": [
    {
     "data": {
      "text/html": [
       "<div>\n",
       "<style scoped>\n",
       "    .dataframe tbody tr th:only-of-type {\n",
       "        vertical-align: middle;\n",
       "    }\n",
       "\n",
       "    .dataframe tbody tr th {\n",
       "        vertical-align: top;\n",
       "    }\n",
       "\n",
       "    .dataframe thead th {\n",
       "        text-align: right;\n",
       "    }\n",
       "</style>\n",
       "<table border=\"1\" class=\"dataframe\">\n",
       "  <thead>\n",
       "    <tr style=\"text-align: right;\">\n",
       "      <th></th>\n",
       "      <th>국어</th>\n",
       "      <th>영어</th>\n",
       "      <th>수학</th>\n",
       "    </tr>\n",
       "    <tr>\n",
       "      <th>학번</th>\n",
       "      <th></th>\n",
       "      <th></th>\n",
       "      <th></th>\n",
       "    </tr>\n",
       "  </thead>\n",
       "  <tbody>\n",
       "    <tr>\n",
       "      <th>0001</th>\n",
       "      <td>100.0</td>\n",
       "      <td>90</td>\n",
       "      <td>95.0</td>\n",
       "    </tr>\n",
       "    <tr>\n",
       "      <th>0002</th>\n",
       "      <td>90.0</td>\n",
       "      <td>80</td>\n",
       "      <td>75.0</td>\n",
       "    </tr>\n",
       "    <tr>\n",
       "      <th>0003</th>\n",
       "      <td>95.0</td>\n",
       "      <td>100</td>\n",
       "      <td>100.0</td>\n",
       "    </tr>\n",
       "  </tbody>\n",
       "</table>\n",
       "</div>"
      ],
      "text/plain": [
       "         국어   영어     수학\n",
       "학번                     \n",
       "0001  100.0   90   95.0\n",
       "0002   90.0   80   75.0\n",
       "0003   95.0  100  100.0"
      ]
     },
     "execution_count": 44,
     "metadata": {},
     "output_type": "execute_result"
    }
   ],
   "source": [
    "# ------------------------------------------\n",
    "# 학번 0001~0003인 학생의 '국어'~'수학' 점수를 선택\n",
    "# ------------------------------------------\n",
    "\n",
    "df_scores.loc['0001':'0003', '국어':'수학']"
   ]
  },
  {
   "cell_type": "markdown",
   "metadata": {
    "id": "BIddY6nT1hMY"
   },
   "source": [
    "### 정수형인덱스, 컬럼번호로 선택\n",
    "* `데이터프레임.iloc[]` "
   ]
  },
  {
   "cell_type": "code",
   "execution_count": 45,
   "metadata": {
    "id": "b14WxP7x0gu2"
   },
   "outputs": [
    {
     "data": {
      "text/plain": [
       "이름     kate\n",
       "성별        f\n",
       "국어    100.0\n",
       "영어       90\n",
       "수학     95.0\n",
       "Name: 0001, dtype: object"
      ]
     },
     "execution_count": 45,
     "metadata": {},
     "output_type": "execute_result"
    }
   ],
   "source": [
    "# ------------------------------------------\n",
    "# 0번 행의 학생 데이터 선택\n",
    "# ------------------------------------------\n",
    "\n",
    "df_scores.iloc[0]"
   ]
  },
  {
   "cell_type": "code",
   "execution_count": 46,
   "metadata": {
    "id": "22mPbn3yIxo7"
   },
   "outputs": [
    {
     "data": {
      "text/plain": [
       "학번\n",
       "0001     95.0\n",
       "0002     75.0\n",
       "0003    100.0\n",
       "Name: 수학, dtype: float64"
      ]
     },
     "execution_count": 46,
     "metadata": {},
     "output_type": "execute_result"
    }
   ],
   "source": [
    "# ------------------------------------------\n",
    "# 0~2번 행의 마지막 열 데이터 선택\n",
    "# ------------------------------------------\n",
    "\n",
    "df_scores.iloc[0:3, -1]"
   ]
  },
  {
   "cell_type": "code",
   "execution_count": 47,
   "metadata": {
    "id": "TDZvU-brJCCw"
   },
   "outputs": [
    {
     "data": {
      "text/html": [
       "<div>\n",
       "<style scoped>\n",
       "    .dataframe tbody tr th:only-of-type {\n",
       "        vertical-align: middle;\n",
       "    }\n",
       "\n",
       "    .dataframe tbody tr th {\n",
       "        vertical-align: top;\n",
       "    }\n",
       "\n",
       "    .dataframe thead th {\n",
       "        text-align: right;\n",
       "    }\n",
       "</style>\n",
       "<table border=\"1\" class=\"dataframe\">\n",
       "  <thead>\n",
       "    <tr style=\"text-align: right;\">\n",
       "      <th></th>\n",
       "      <th>성별</th>\n",
       "      <th>국어</th>\n",
       "      <th>수학</th>\n",
       "    </tr>\n",
       "    <tr>\n",
       "      <th>학번</th>\n",
       "      <th></th>\n",
       "      <th></th>\n",
       "      <th></th>\n",
       "    </tr>\n",
       "  </thead>\n",
       "  <tbody>\n",
       "    <tr>\n",
       "      <th>0001</th>\n",
       "      <td>f</td>\n",
       "      <td>100.0</td>\n",
       "      <td>95.0</td>\n",
       "    </tr>\n",
       "    <tr>\n",
       "      <th>0002</th>\n",
       "      <td>f</td>\n",
       "      <td>90.0</td>\n",
       "      <td>75.0</td>\n",
       "    </tr>\n",
       "    <tr>\n",
       "      <th>0003</th>\n",
       "      <td>f</td>\n",
       "      <td>95.0</td>\n",
       "      <td>100.0</td>\n",
       "    </tr>\n",
       "    <tr>\n",
       "      <th>0004</th>\n",
       "      <td>f</td>\n",
       "      <td>100.0</td>\n",
       "      <td>100.0</td>\n",
       "    </tr>\n",
       "    <tr>\n",
       "      <th>0005</th>\n",
       "      <td>f</td>\n",
       "      <td>NaN</td>\n",
       "      <td>60.0</td>\n",
       "    </tr>\n",
       "    <tr>\n",
       "      <th>0006</th>\n",
       "      <td>m</td>\n",
       "      <td>70.0</td>\n",
       "      <td>65.0</td>\n",
       "    </tr>\n",
       "    <tr>\n",
       "      <th>0007</th>\n",
       "      <td>m</td>\n",
       "      <td>80.0</td>\n",
       "      <td>55.0</td>\n",
       "    </tr>\n",
       "    <tr>\n",
       "      <th>0008</th>\n",
       "      <td>m</td>\n",
       "      <td>50.0</td>\n",
       "      <td>NaN</td>\n",
       "    </tr>\n",
       "    <tr>\n",
       "      <th>0009</th>\n",
       "      <td>m</td>\n",
       "      <td>100.0</td>\n",
       "      <td>90.0</td>\n",
       "    </tr>\n",
       "    <tr>\n",
       "      <th>0010</th>\n",
       "      <td>m</td>\n",
       "      <td>90.0</td>\n",
       "      <td>70.0</td>\n",
       "    </tr>\n",
       "    <tr>\n",
       "      <th>0011</th>\n",
       "      <td>m</td>\n",
       "      <td>70.0</td>\n",
       "      <td>65.0</td>\n",
       "    </tr>\n",
       "  </tbody>\n",
       "</table>\n",
       "</div>"
      ],
      "text/plain": [
       "     성별     국어     수학\n",
       "학번                   \n",
       "0001  f  100.0   95.0\n",
       "0002  f   90.0   75.0\n",
       "0003  f   95.0  100.0\n",
       "0004  f  100.0  100.0\n",
       "0005  f    NaN   60.0\n",
       "0006  m   70.0   65.0\n",
       "0007  m   80.0   55.0\n",
       "0008  m   50.0    NaN\n",
       "0009  m  100.0   90.0\n",
       "0010  m   90.0   70.0\n",
       "0011  m   70.0   65.0"
      ]
     },
     "execution_count": 47,
     "metadata": {},
     "output_type": "execute_result"
    }
   ],
   "source": [
    "# ------------------------------------------\n",
    "# 1,2,4번 열의 모든 행을 선택\n",
    "# ------------------------------------------\n",
    "\n",
    "df_scores.iloc[:, [1, 2, 4]]"
   ]
  },
  {
   "cell_type": "markdown",
   "metadata": {
    "id": "w0RZXjgoJ_QZ"
   },
   "source": [
    "### 조건으로 데이터 선택\n",
    "* `데이터프레임.loc[조건]`\n",
    "* 비교연산\n",
    "  * 비교연산자는 기본 파이썬의 비교연산자와 동일하다 \n",
    "    * `>`, `<`, `>=`, `<=`, `==`, `!=`\n",
    "* 논리연산\n",
    "  * 여러 조건을 결합하는 경우 각 조건은 소괄호로 묶는다.\n",
    "  * 논리연산자는 기호를 사용한다.\n",
    "    * `&` (and)\n",
    "    * `|` (or)\n",
    "    * `~` (not)\n",
    "* 멤버연산\n",
    "  * `.isin(value리스트)`\n",
    "* null여부\n",
    "   * `.isnull()`\n",
    "   * `.notnull()`"
   ]
  },
  {
   "cell_type": "code",
   "execution_count": 48,
   "metadata": {
    "colab": {
     "base_uri": "https://localhost:8080/",
     "height": 175
    },
    "executionInfo": {
     "elapsed": 374,
     "status": "ok",
     "timestamp": 1659510562166,
     "user": {
      "displayName": "Jayoung Kim",
      "userId": "14447265827232008674"
     },
     "user_tz": -540
    },
    "id": "cJIcOI0-KCiO",
    "outputId": "796b4f7b-5b96-46df-bf0b-c4b2437e7032"
   },
   "outputs": [
    {
     "data": {
      "text/html": [
       "<div>\n",
       "<style scoped>\n",
       "    .dataframe tbody tr th:only-of-type {\n",
       "        vertical-align: middle;\n",
       "    }\n",
       "\n",
       "    .dataframe tbody tr th {\n",
       "        vertical-align: top;\n",
       "    }\n",
       "\n",
       "    .dataframe thead th {\n",
       "        text-align: right;\n",
       "    }\n",
       "</style>\n",
       "<table border=\"1\" class=\"dataframe\">\n",
       "  <thead>\n",
       "    <tr style=\"text-align: right;\">\n",
       "      <th></th>\n",
       "      <th>이름</th>\n",
       "      <th>성별</th>\n",
       "      <th>국어</th>\n",
       "      <th>영어</th>\n",
       "      <th>수학</th>\n",
       "    </tr>\n",
       "    <tr>\n",
       "      <th>학번</th>\n",
       "      <th></th>\n",
       "      <th></th>\n",
       "      <th></th>\n",
       "      <th></th>\n",
       "      <th></th>\n",
       "    </tr>\n",
       "  </thead>\n",
       "  <tbody>\n",
       "    <tr>\n",
       "      <th>0001</th>\n",
       "      <td>kate</td>\n",
       "      <td>f</td>\n",
       "      <td>100.0</td>\n",
       "      <td>90</td>\n",
       "      <td>95.0</td>\n",
       "    </tr>\n",
       "    <tr>\n",
       "      <th>0004</th>\n",
       "      <td>sophia</td>\n",
       "      <td>f</td>\n",
       "      <td>100.0</td>\n",
       "      <td>100</td>\n",
       "      <td>100.0</td>\n",
       "    </tr>\n",
       "    <tr>\n",
       "      <th>0009</th>\n",
       "      <td>kevin</td>\n",
       "      <td>m</td>\n",
       "      <td>100.0</td>\n",
       "      <td>100</td>\n",
       "      <td>90.0</td>\n",
       "    </tr>\n",
       "  </tbody>\n",
       "</table>\n",
       "</div>"
      ],
      "text/plain": [
       "          이름 성별     국어   영어     수학\n",
       "학번                                \n",
       "0001    kate  f  100.0   90   95.0\n",
       "0004  sophia  f  100.0  100  100.0\n",
       "0009   kevin  m  100.0  100   90.0"
      ]
     },
     "execution_count": 48,
     "metadata": {},
     "output_type": "execute_result"
    }
   ],
   "source": [
    "# ------------------------------------\n",
    "# 국어점수가 100점인 학생의 모든 데이터 \n",
    "# ------------------------------------\n",
    "\n",
    "df_scores[df_scores['국어'] == 100]"
   ]
  },
  {
   "cell_type": "code",
   "execution_count": 49,
   "metadata": {
    "colab": {
     "base_uri": "https://localhost:8080/",
     "height": 175
    },
    "executionInfo": {
     "elapsed": 388,
     "status": "ok",
     "timestamp": 1659510957294,
     "user": {
      "displayName": "Jayoung Kim",
      "userId": "14447265827232008674"
     },
     "user_tz": -540
    },
    "id": "mcvskbS4pBUA",
    "outputId": "b1e97845-e5bc-4ea9-b10e-373a2f99fae3"
   },
   "outputs": [
    {
     "data": {
      "text/html": [
       "<div>\n",
       "<style scoped>\n",
       "    .dataframe tbody tr th:only-of-type {\n",
       "        vertical-align: middle;\n",
       "    }\n",
       "\n",
       "    .dataframe tbody tr th {\n",
       "        vertical-align: top;\n",
       "    }\n",
       "\n",
       "    .dataframe thead th {\n",
       "        text-align: right;\n",
       "    }\n",
       "</style>\n",
       "<table border=\"1\" class=\"dataframe\">\n",
       "  <thead>\n",
       "    <tr style=\"text-align: right;\">\n",
       "      <th></th>\n",
       "      <th>이름</th>\n",
       "      <th>성별</th>\n",
       "      <th>국어</th>\n",
       "    </tr>\n",
       "    <tr>\n",
       "      <th>학번</th>\n",
       "      <th></th>\n",
       "      <th></th>\n",
       "      <th></th>\n",
       "    </tr>\n",
       "  </thead>\n",
       "  <tbody>\n",
       "    <tr>\n",
       "      <th>0001</th>\n",
       "      <td>kate</td>\n",
       "      <td>f</td>\n",
       "      <td>100.0</td>\n",
       "    </tr>\n",
       "    <tr>\n",
       "      <th>0004</th>\n",
       "      <td>sophia</td>\n",
       "      <td>f</td>\n",
       "      <td>100.0</td>\n",
       "    </tr>\n",
       "    <tr>\n",
       "      <th>0009</th>\n",
       "      <td>kevin</td>\n",
       "      <td>m</td>\n",
       "      <td>100.0</td>\n",
       "    </tr>\n",
       "  </tbody>\n",
       "</table>\n",
       "</div>"
      ],
      "text/plain": [
       "          이름 성별     국어\n",
       "학번                    \n",
       "0001    kate  f  100.0\n",
       "0004  sophia  f  100.0\n",
       "0009   kevin  m  100.0"
      ]
     },
     "execution_count": 49,
     "metadata": {},
     "output_type": "execute_result"
    }
   ],
   "source": [
    "# ------------------------------------\n",
    "# 국어점수가 100점인 학생의 이름, 성별, 국어 \n",
    "# ------------------------------------\n",
    "\n",
    "df_scores[df_scores['국어'] == 100][['이름', '성별', '국어']]"
   ]
  },
  {
   "cell_type": "code",
   "execution_count": 50,
   "metadata": {
    "colab": {
     "base_uri": "https://localhost:8080/",
     "height": 112
    },
    "executionInfo": {
     "elapsed": 390,
     "status": "ok",
     "timestamp": 1659510806493,
     "user": {
      "displayName": "Jayoung Kim",
      "userId": "14447265827232008674"
     },
     "user_tz": -540
    },
    "id": "JAvZ9c0PKYDs",
    "outputId": "dfcca9b0-47f5-4ebb-d313-3d2cda418b02"
   },
   "outputs": [
    {
     "data": {
      "text/html": [
       "<div>\n",
       "<style scoped>\n",
       "    .dataframe tbody tr th:only-of-type {\n",
       "        vertical-align: middle;\n",
       "    }\n",
       "\n",
       "    .dataframe tbody tr th {\n",
       "        vertical-align: top;\n",
       "    }\n",
       "\n",
       "    .dataframe thead th {\n",
       "        text-align: right;\n",
       "    }\n",
       "</style>\n",
       "<table border=\"1\" class=\"dataframe\">\n",
       "  <thead>\n",
       "    <tr style=\"text-align: right;\">\n",
       "      <th></th>\n",
       "      <th>이름</th>\n",
       "      <th>성별</th>\n",
       "      <th>국어</th>\n",
       "      <th>영어</th>\n",
       "      <th>수학</th>\n",
       "    </tr>\n",
       "    <tr>\n",
       "      <th>학번</th>\n",
       "      <th></th>\n",
       "      <th></th>\n",
       "      <th></th>\n",
       "      <th></th>\n",
       "      <th></th>\n",
       "    </tr>\n",
       "  </thead>\n",
       "  <tbody>\n",
       "    <tr>\n",
       "      <th>0004</th>\n",
       "      <td>sophia</td>\n",
       "      <td>f</td>\n",
       "      <td>100.0</td>\n",
       "      <td>100</td>\n",
       "      <td>100.0</td>\n",
       "    </tr>\n",
       "  </tbody>\n",
       "</table>\n",
       "</div>"
      ],
      "text/plain": [
       "          이름 성별     국어   영어     수학\n",
       "학번                                \n",
       "0004  sophia  f  100.0  100  100.0"
      ]
     },
     "execution_count": 50,
     "metadata": {},
     "output_type": "execute_result"
    }
   ],
   "source": [
    "# ------------------------------------\n",
    "# 국어,영어,수학 모두 100점인 학생의 데이터\n",
    "# -------------------------------------\n",
    "\n",
    "df_scores[(df_scores['국어'] == 100) &\n",
    "          (df_scores['영어'] == 100) &\n",
    "          (df_scores['수학'] == 100)]"
   ]
  },
  {
   "cell_type": "code",
   "execution_count": 51,
   "metadata": {
    "id": "kKNdK-ByKmJe"
   },
   "outputs": [
    {
     "data": {
      "text/html": [
       "<div>\n",
       "<style scoped>\n",
       "    .dataframe tbody tr th:only-of-type {\n",
       "        vertical-align: middle;\n",
       "    }\n",
       "\n",
       "    .dataframe tbody tr th {\n",
       "        vertical-align: top;\n",
       "    }\n",
       "\n",
       "    .dataframe thead th {\n",
       "        text-align: right;\n",
       "    }\n",
       "</style>\n",
       "<table border=\"1\" class=\"dataframe\">\n",
       "  <thead>\n",
       "    <tr style=\"text-align: right;\">\n",
       "      <th></th>\n",
       "      <th>이름</th>\n",
       "      <th>성별</th>\n",
       "      <th>국어</th>\n",
       "      <th>영어</th>\n",
       "      <th>수학</th>\n",
       "    </tr>\n",
       "    <tr>\n",
       "      <th>학번</th>\n",
       "      <th></th>\n",
       "      <th></th>\n",
       "      <th></th>\n",
       "      <th></th>\n",
       "      <th></th>\n",
       "    </tr>\n",
       "  </thead>\n",
       "  <tbody>\n",
       "    <tr>\n",
       "      <th>0001</th>\n",
       "      <td>kate</td>\n",
       "      <td>f</td>\n",
       "      <td>100.0</td>\n",
       "      <td>90</td>\n",
       "      <td>95.0</td>\n",
       "    </tr>\n",
       "    <tr>\n",
       "      <th>0003</th>\n",
       "      <td>emma</td>\n",
       "      <td>f</td>\n",
       "      <td>95.0</td>\n",
       "      <td>100</td>\n",
       "      <td>100.0</td>\n",
       "    </tr>\n",
       "    <tr>\n",
       "      <th>0004</th>\n",
       "      <td>sophia</td>\n",
       "      <td>f</td>\n",
       "      <td>100.0</td>\n",
       "      <td>100</td>\n",
       "      <td>100.0</td>\n",
       "    </tr>\n",
       "    <tr>\n",
       "      <th>0009</th>\n",
       "      <td>kevin</td>\n",
       "      <td>m</td>\n",
       "      <td>100.0</td>\n",
       "      <td>100</td>\n",
       "      <td>90.0</td>\n",
       "    </tr>\n",
       "  </tbody>\n",
       "</table>\n",
       "</div>"
      ],
      "text/plain": [
       "          이름 성별     국어   영어     수학\n",
       "학번                                \n",
       "0001    kate  f  100.0   90   95.0\n",
       "0003    emma  f   95.0  100  100.0\n",
       "0004  sophia  f  100.0  100  100.0\n",
       "0009   kevin  m  100.0  100   90.0"
      ]
     },
     "execution_count": 51,
     "metadata": {},
     "output_type": "execute_result"
    }
   ],
   "source": [
    "# ------------------------------------\n",
    "# 국어,영어,수학 중 100점이 하나라도 있는 학생의 데이터\n",
    "# ------------------------------------\n",
    "\n",
    "df_scores[(df_scores['국어'] == 100) | \n",
    "          (df_scores['영어'] == 100) | \n",
    "          (df_scores['수학'] == 100)]"
   ]
  },
  {
   "cell_type": "code",
   "execution_count": 52,
   "metadata": {
    "id": "NX0UDgJ9MMVf"
   },
   "outputs": [
    {
     "data": {
      "text/html": [
       "<div>\n",
       "<style scoped>\n",
       "    .dataframe tbody tr th:only-of-type {\n",
       "        vertical-align: middle;\n",
       "    }\n",
       "\n",
       "    .dataframe tbody tr th {\n",
       "        vertical-align: top;\n",
       "    }\n",
       "\n",
       "    .dataframe thead th {\n",
       "        text-align: right;\n",
       "    }\n",
       "</style>\n",
       "<table border=\"1\" class=\"dataframe\">\n",
       "  <thead>\n",
       "    <tr style=\"text-align: right;\">\n",
       "      <th></th>\n",
       "      <th>이름</th>\n",
       "      <th>성별</th>\n",
       "      <th>국어</th>\n",
       "      <th>영어</th>\n",
       "      <th>수학</th>\n",
       "    </tr>\n",
       "    <tr>\n",
       "      <th>학번</th>\n",
       "      <th></th>\n",
       "      <th></th>\n",
       "      <th></th>\n",
       "      <th></th>\n",
       "      <th></th>\n",
       "    </tr>\n",
       "  </thead>\n",
       "  <tbody>\n",
       "    <tr>\n",
       "      <th>0001</th>\n",
       "      <td>kate</td>\n",
       "      <td>f</td>\n",
       "      <td>100.0</td>\n",
       "      <td>90</td>\n",
       "      <td>95.0</td>\n",
       "    </tr>\n",
       "    <tr>\n",
       "      <th>0004</th>\n",
       "      <td>sophia</td>\n",
       "      <td>f</td>\n",
       "      <td>100.0</td>\n",
       "      <td>100</td>\n",
       "      <td>100.0</td>\n",
       "    </tr>\n",
       "    <tr>\n",
       "      <th>0008</th>\n",
       "      <td>peter</td>\n",
       "      <td>m</td>\n",
       "      <td>50.0</td>\n",
       "      <td>60</td>\n",
       "      <td>NaN</td>\n",
       "    </tr>\n",
       "    <tr>\n",
       "      <th>0009</th>\n",
       "      <td>kevin</td>\n",
       "      <td>m</td>\n",
       "      <td>100.0</td>\n",
       "      <td>100</td>\n",
       "      <td>90.0</td>\n",
       "    </tr>\n",
       "  </tbody>\n",
       "</table>\n",
       "</div>"
      ],
      "text/plain": [
       "          이름 성별     국어   영어     수학\n",
       "학번                                \n",
       "0001    kate  f  100.0   90   95.0\n",
       "0004  sophia  f  100.0  100  100.0\n",
       "0008   peter  m   50.0   60    NaN\n",
       "0009   kevin  m  100.0  100   90.0"
      ]
     },
     "execution_count": 52,
     "metadata": {},
     "output_type": "execute_result"
    }
   ],
   "source": [
    "# ------------------------------------\n",
    "# 국어점수가 50점, 100점인 학생의 데이터\n",
    "# ------------------------------------\n",
    "\n",
    "df_scores[df_scores['국어'].isin([50, 100])]"
   ]
  },
  {
   "cell_type": "code",
   "execution_count": 53,
   "metadata": {
    "colab": {
     "base_uri": "https://localhost:8080/",
     "height": 112
    },
    "executionInfo": {
     "elapsed": 7,
     "status": "ok",
     "timestamp": 1659511107885,
     "user": {
      "displayName": "Jayoung Kim",
      "userId": "14447265827232008674"
     },
     "user_tz": -540
    },
    "id": "iDoP08vlMRh7",
    "outputId": "0928980a-6b9d-4127-c7e9-0e65e0b8c50a"
   },
   "outputs": [
    {
     "data": {
      "text/html": [
       "<div>\n",
       "<style scoped>\n",
       "    .dataframe tbody tr th:only-of-type {\n",
       "        vertical-align: middle;\n",
       "    }\n",
       "\n",
       "    .dataframe tbody tr th {\n",
       "        vertical-align: top;\n",
       "    }\n",
       "\n",
       "    .dataframe thead th {\n",
       "        text-align: right;\n",
       "    }\n",
       "</style>\n",
       "<table border=\"1\" class=\"dataframe\">\n",
       "  <thead>\n",
       "    <tr style=\"text-align: right;\">\n",
       "      <th></th>\n",
       "      <th>이름</th>\n",
       "      <th>성별</th>\n",
       "      <th>국어</th>\n",
       "      <th>영어</th>\n",
       "      <th>수학</th>\n",
       "    </tr>\n",
       "    <tr>\n",
       "      <th>학번</th>\n",
       "      <th></th>\n",
       "      <th></th>\n",
       "      <th></th>\n",
       "      <th></th>\n",
       "      <th></th>\n",
       "    </tr>\n",
       "  </thead>\n",
       "  <tbody>\n",
       "    <tr>\n",
       "      <th>0005</th>\n",
       "      <td>amy</td>\n",
       "      <td>f</td>\n",
       "      <td>NaN</td>\n",
       "      <td>35</td>\n",
       "      <td>60.0</td>\n",
       "    </tr>\n",
       "  </tbody>\n",
       "</table>\n",
       "</div>"
      ],
      "text/plain": [
       "       이름 성별  국어  영어    수학\n",
       "학번                        \n",
       "0005  amy  f NaN  35  60.0"
      ]
     },
     "execution_count": 53,
     "metadata": {},
     "output_type": "execute_result"
    }
   ],
   "source": [
    "# ------------------------------------\n",
    "# 국어점수가 null인 학생의 데이터\n",
    "# ------------------------------------\n",
    "\n",
    "df_scores[df_scores['국어'].isnull()]"
   ]
  },
  {
   "cell_type": "code",
   "execution_count": 54,
   "metadata": {
    "id": "gam97CueMUej"
   },
   "outputs": [
    {
     "data": {
      "text/html": [
       "<div>\n",
       "<style scoped>\n",
       "    .dataframe tbody tr th:only-of-type {\n",
       "        vertical-align: middle;\n",
       "    }\n",
       "\n",
       "    .dataframe tbody tr th {\n",
       "        vertical-align: top;\n",
       "    }\n",
       "\n",
       "    .dataframe thead th {\n",
       "        text-align: right;\n",
       "    }\n",
       "</style>\n",
       "<table border=\"1\" class=\"dataframe\">\n",
       "  <thead>\n",
       "    <tr style=\"text-align: right;\">\n",
       "      <th></th>\n",
       "      <th>이름</th>\n",
       "      <th>성별</th>\n",
       "      <th>국어</th>\n",
       "      <th>영어</th>\n",
       "      <th>수학</th>\n",
       "    </tr>\n",
       "    <tr>\n",
       "      <th>학번</th>\n",
       "      <th></th>\n",
       "      <th></th>\n",
       "      <th></th>\n",
       "      <th></th>\n",
       "      <th></th>\n",
       "    </tr>\n",
       "  </thead>\n",
       "  <tbody>\n",
       "    <tr>\n",
       "      <th>0001</th>\n",
       "      <td>kate</td>\n",
       "      <td>f</td>\n",
       "      <td>100.0</td>\n",
       "      <td>90</td>\n",
       "      <td>95.0</td>\n",
       "    </tr>\n",
       "    <tr>\n",
       "      <th>0002</th>\n",
       "      <td>olivia</td>\n",
       "      <td>f</td>\n",
       "      <td>90.0</td>\n",
       "      <td>80</td>\n",
       "      <td>75.0</td>\n",
       "    </tr>\n",
       "    <tr>\n",
       "      <th>0003</th>\n",
       "      <td>emma</td>\n",
       "      <td>f</td>\n",
       "      <td>95.0</td>\n",
       "      <td>100</td>\n",
       "      <td>100.0</td>\n",
       "    </tr>\n",
       "    <tr>\n",
       "      <th>0004</th>\n",
       "      <td>sophia</td>\n",
       "      <td>f</td>\n",
       "      <td>100.0</td>\n",
       "      <td>100</td>\n",
       "      <td>100.0</td>\n",
       "    </tr>\n",
       "    <tr>\n",
       "      <th>0006</th>\n",
       "      <td>james</td>\n",
       "      <td>m</td>\n",
       "      <td>70.0</td>\n",
       "      <td>75</td>\n",
       "      <td>65.0</td>\n",
       "    </tr>\n",
       "    <tr>\n",
       "      <th>0007</th>\n",
       "      <td>daniel</td>\n",
       "      <td>m</td>\n",
       "      <td>80.0</td>\n",
       "      <td>90</td>\n",
       "      <td>55.0</td>\n",
       "    </tr>\n",
       "    <tr>\n",
       "      <th>0008</th>\n",
       "      <td>peter</td>\n",
       "      <td>m</td>\n",
       "      <td>50.0</td>\n",
       "      <td>60</td>\n",
       "      <td>NaN</td>\n",
       "    </tr>\n",
       "    <tr>\n",
       "      <th>0009</th>\n",
       "      <td>kevin</td>\n",
       "      <td>m</td>\n",
       "      <td>100.0</td>\n",
       "      <td>100</td>\n",
       "      <td>90.0</td>\n",
       "    </tr>\n",
       "    <tr>\n",
       "      <th>0010</th>\n",
       "      <td>jack</td>\n",
       "      <td>m</td>\n",
       "      <td>90.0</td>\n",
       "      <td>95</td>\n",
       "      <td>70.0</td>\n",
       "    </tr>\n",
       "    <tr>\n",
       "      <th>0011</th>\n",
       "      <td>james</td>\n",
       "      <td>m</td>\n",
       "      <td>70.0</td>\n",
       "      <td>75</td>\n",
       "      <td>65.0</td>\n",
       "    </tr>\n",
       "  </tbody>\n",
       "</table>\n",
       "</div>"
      ],
      "text/plain": [
       "          이름 성별     국어   영어     수학\n",
       "학번                                \n",
       "0001    kate  f  100.0   90   95.0\n",
       "0002  olivia  f   90.0   80   75.0\n",
       "0003    emma  f   95.0  100  100.0\n",
       "0004  sophia  f  100.0  100  100.0\n",
       "0006   james  m   70.0   75   65.0\n",
       "0007  daniel  m   80.0   90   55.0\n",
       "0008   peter  m   50.0   60    NaN\n",
       "0009   kevin  m  100.0  100   90.0\n",
       "0010    jack  m   90.0   95   70.0\n",
       "0011   james  m   70.0   75   65.0"
      ]
     },
     "execution_count": 54,
     "metadata": {},
     "output_type": "execute_result"
    }
   ],
   "source": [
    "# ------------------------------------\n",
    "# 국어점수가 null이 아닌 학생의 데이터\n",
    "# ------------------------------------\n",
    "\n",
    "df_scores[df_scores['국어'].notnull()]"
   ]
  },
  {
   "cell_type": "markdown",
   "metadata": {},
   "source": [
    "## 열 추가/삭제"
   ]
  },
  {
   "cell_type": "markdown",
   "metadata": {
    "id": "hZuAzuZ8NAIw"
   },
   "source": [
    "#### 파생컬럼 추가\n",
    "* **`데이터프레임[컬럼] = 추가할데이터`**  \n",
    "* **`데이터프레임[컬럼] = 수정할데이터`**  \n",
    "* 컬럼이 존재하면 수정, 존재하지 않으면 추가된다.\n",
    "* 컬럼 간 연산 시 NaN이 존재하는 경우 NaN이 전파된다.\n"
   ]
  },
  {
   "cell_type": "code",
   "execution_count": 56,
   "metadata": {
    "colab": {
     "base_uri": "https://localhost:8080/",
     "height": 394
    },
    "executionInfo": {
     "elapsed": 385,
     "status": "ok",
     "timestamp": 1659511318433,
     "user": {
      "displayName": "Jayoung Kim",
      "userId": "14447265827232008674"
     },
     "user_tz": -540
    },
    "id": "K0I2hjIDDC9m",
    "outputId": "e13f2aa7-2e41-49b9-dc2c-6d57ffac844f"
   },
   "outputs": [
    {
     "data": {
      "text/html": [
       "<div>\n",
       "<style scoped>\n",
       "    .dataframe tbody tr th:only-of-type {\n",
       "        vertical-align: middle;\n",
       "    }\n",
       "\n",
       "    .dataframe tbody tr th {\n",
       "        vertical-align: top;\n",
       "    }\n",
       "\n",
       "    .dataframe thead th {\n",
       "        text-align: right;\n",
       "    }\n",
       "</style>\n",
       "<table border=\"1\" class=\"dataframe\">\n",
       "  <thead>\n",
       "    <tr style=\"text-align: right;\">\n",
       "      <th></th>\n",
       "      <th>이름</th>\n",
       "      <th>성별</th>\n",
       "      <th>국어</th>\n",
       "      <th>영어</th>\n",
       "      <th>수학</th>\n",
       "      <th>평균</th>\n",
       "    </tr>\n",
       "    <tr>\n",
       "      <th>학번</th>\n",
       "      <th></th>\n",
       "      <th></th>\n",
       "      <th></th>\n",
       "      <th></th>\n",
       "      <th></th>\n",
       "      <th></th>\n",
       "    </tr>\n",
       "  </thead>\n",
       "  <tbody>\n",
       "    <tr>\n",
       "      <th>0001</th>\n",
       "      <td>kate</td>\n",
       "      <td>f</td>\n",
       "      <td>100.0</td>\n",
       "      <td>90</td>\n",
       "      <td>95.0</td>\n",
       "      <td>95.000000</td>\n",
       "    </tr>\n",
       "    <tr>\n",
       "      <th>0002</th>\n",
       "      <td>olivia</td>\n",
       "      <td>f</td>\n",
       "      <td>90.0</td>\n",
       "      <td>80</td>\n",
       "      <td>75.0</td>\n",
       "      <td>81.666667</td>\n",
       "    </tr>\n",
       "    <tr>\n",
       "      <th>0003</th>\n",
       "      <td>emma</td>\n",
       "      <td>f</td>\n",
       "      <td>95.0</td>\n",
       "      <td>100</td>\n",
       "      <td>100.0</td>\n",
       "      <td>98.333333</td>\n",
       "    </tr>\n",
       "    <tr>\n",
       "      <th>0004</th>\n",
       "      <td>sophia</td>\n",
       "      <td>f</td>\n",
       "      <td>100.0</td>\n",
       "      <td>100</td>\n",
       "      <td>100.0</td>\n",
       "      <td>100.000000</td>\n",
       "    </tr>\n",
       "    <tr>\n",
       "      <th>0005</th>\n",
       "      <td>amy</td>\n",
       "      <td>f</td>\n",
       "      <td>NaN</td>\n",
       "      <td>35</td>\n",
       "      <td>60.0</td>\n",
       "      <td>47.500000</td>\n",
       "    </tr>\n",
       "    <tr>\n",
       "      <th>0006</th>\n",
       "      <td>james</td>\n",
       "      <td>m</td>\n",
       "      <td>70.0</td>\n",
       "      <td>75</td>\n",
       "      <td>65.0</td>\n",
       "      <td>70.000000</td>\n",
       "    </tr>\n",
       "    <tr>\n",
       "      <th>0007</th>\n",
       "      <td>daniel</td>\n",
       "      <td>m</td>\n",
       "      <td>80.0</td>\n",
       "      <td>90</td>\n",
       "      <td>55.0</td>\n",
       "      <td>75.000000</td>\n",
       "    </tr>\n",
       "    <tr>\n",
       "      <th>0008</th>\n",
       "      <td>peter</td>\n",
       "      <td>m</td>\n",
       "      <td>50.0</td>\n",
       "      <td>60</td>\n",
       "      <td>NaN</td>\n",
       "      <td>55.000000</td>\n",
       "    </tr>\n",
       "    <tr>\n",
       "      <th>0009</th>\n",
       "      <td>kevin</td>\n",
       "      <td>m</td>\n",
       "      <td>100.0</td>\n",
       "      <td>100</td>\n",
       "      <td>90.0</td>\n",
       "      <td>96.666667</td>\n",
       "    </tr>\n",
       "    <tr>\n",
       "      <th>0010</th>\n",
       "      <td>jack</td>\n",
       "      <td>m</td>\n",
       "      <td>90.0</td>\n",
       "      <td>95</td>\n",
       "      <td>70.0</td>\n",
       "      <td>85.000000</td>\n",
       "    </tr>\n",
       "    <tr>\n",
       "      <th>0011</th>\n",
       "      <td>james</td>\n",
       "      <td>m</td>\n",
       "      <td>70.0</td>\n",
       "      <td>75</td>\n",
       "      <td>65.0</td>\n",
       "      <td>70.000000</td>\n",
       "    </tr>\n",
       "  </tbody>\n",
       "</table>\n",
       "</div>"
      ],
      "text/plain": [
       "          이름 성별     국어   영어     수학          평균\n",
       "학번                                            \n",
       "0001    kate  f  100.0   90   95.0   95.000000\n",
       "0002  olivia  f   90.0   80   75.0   81.666667\n",
       "0003    emma  f   95.0  100  100.0   98.333333\n",
       "0004  sophia  f  100.0  100  100.0  100.000000\n",
       "0005     amy  f    NaN   35   60.0   47.500000\n",
       "0006   james  m   70.0   75   65.0   70.000000\n",
       "0007  daniel  m   80.0   90   55.0   75.000000\n",
       "0008   peter  m   50.0   60    NaN   55.000000\n",
       "0009   kevin  m  100.0  100   90.0   96.666667\n",
       "0010    jack  m   90.0   95   70.0   85.000000\n",
       "0011   james  m   70.0   75   65.0   70.000000"
      ]
     },
     "execution_count": 56,
     "metadata": {},
     "output_type": "execute_result"
    }
   ],
   "source": [
    "# --------------------------------------\n",
    "# 평균 칼럼 추가 \n",
    "# --------------------------------------\n",
    "\n",
    "df_scores['평균'] = df_scores[['국어', '영어', '수학']].mean(axis=1)\n",
    "df_scores"
   ]
  },
  {
   "cell_type": "markdown",
   "metadata": {
    "id": "Y-HuPvoyNM5A"
   },
   "source": [
    "#### 열 삭제\n",
    "* `데이터프레임.drop(컬럼라벨, axis=1)`"
   ]
  },
  {
   "cell_type": "code",
   "execution_count": null,
   "metadata": {
    "id": "-8EaYfJ-DDoW"
   },
   "outputs": [],
   "source": [
    "# --------------------------------------\n",
    "# 평균 칼럼 삭제 \n",
    "# --------------------------------------\n",
    "\n",
    "df_scores = df_scores.drop('평균', axis=1)"
   ]
  },
  {
   "cell_type": "markdown",
   "metadata": {},
   "source": [
    "## 결측치 처리"
   ]
  },
  {
   "cell_type": "markdown",
   "metadata": {
    "id": "Vg03xFtsrJPU"
   },
   "source": [
    "#### 결측치 확인\n",
    "* 컬럼 별 결측치 갯수 보기\n",
    "  * **`데이터프레임객체.isnull().sum()`**"
   ]
  },
  {
   "cell_type": "code",
   "execution_count": 58,
   "metadata": {
    "colab": {
     "base_uri": "https://localhost:8080/"
    },
    "executionInfo": {
     "elapsed": 365,
     "status": "ok",
     "timestamp": 1659512094289,
     "user": {
      "displayName": "Jayoung Kim",
      "userId": "14447265827232008674"
     },
     "user_tz": -540
    },
    "id": "qLuVVhnzfYWp",
    "outputId": "e1e74b81-44e6-4a6a-9779-fcbd47749d0b"
   },
   "outputs": [
    {
     "data": {
      "text/plain": [
       "이름    0\n",
       "성별    0\n",
       "국어    1\n",
       "영어    0\n",
       "수학    1\n",
       "dtype: int64"
      ]
     },
     "execution_count": 58,
     "metadata": {},
     "output_type": "execute_result"
    }
   ],
   "source": [
    "# --------------------------------------\n",
    "# 컬럼별 결측치 갯수 확인\n",
    "# --------------------------------------\n",
    "\n",
    "df_scores.isnull().sum()"
   ]
  },
  {
   "cell_type": "markdown",
   "metadata": {
    "id": "ielioz0erQpC"
   },
   "source": [
    "#### 결측치 처리\n",
    "* 결측치가 포함된 행 삭제\n",
    "  * **`데이터프레임객체.dropna()`**  : 모두 삭제\n",
    "  * **`데이터프레임객체.dropna (subset=컬럼리스트)`** : 해당 컬럼만 삭제\n",
    "* 결측치를 다른 값으로 채우기\n",
    "  * **`데이터프레임객체.fillna(값)`** 채우기\n",
    "  * **`데이터프레임객체[컬럼].fillna(값)`**\n",
    "  * **`데이터프레임.ffill()`** : 이전값으로 채우기\n",
    "  * **`데이터프레임.bfill()`** : 다음값으로 채우기 \n",
    "  * **`데이터프레임.fillna({'컬럼명1':값1, '컬럼명2':값2,...})`** : 컬럼별로 값을 지정하여 채우기"
   ]
  },
  {
   "cell_type": "code",
   "execution_count": 67,
   "metadata": {
    "id": "xXL87c4bOS_T"
   },
   "outputs": [
    {
     "data": {
      "text/html": [
       "<div>\n",
       "<style scoped>\n",
       "    .dataframe tbody tr th:only-of-type {\n",
       "        vertical-align: middle;\n",
       "    }\n",
       "\n",
       "    .dataframe tbody tr th {\n",
       "        vertical-align: top;\n",
       "    }\n",
       "\n",
       "    .dataframe thead th {\n",
       "        text-align: right;\n",
       "    }\n",
       "</style>\n",
       "<table border=\"1\" class=\"dataframe\">\n",
       "  <thead>\n",
       "    <tr style=\"text-align: right;\">\n",
       "      <th></th>\n",
       "      <th>이름</th>\n",
       "      <th>성별</th>\n",
       "      <th>국어</th>\n",
       "      <th>영어</th>\n",
       "      <th>수학</th>\n",
       "      <th>평균</th>\n",
       "    </tr>\n",
       "    <tr>\n",
       "      <th>학번</th>\n",
       "      <th></th>\n",
       "      <th></th>\n",
       "      <th></th>\n",
       "      <th></th>\n",
       "      <th></th>\n",
       "      <th></th>\n",
       "    </tr>\n",
       "  </thead>\n",
       "  <tbody>\n",
       "    <tr>\n",
       "      <th>0001</th>\n",
       "      <td>kate</td>\n",
       "      <td>f</td>\n",
       "      <td>100.0</td>\n",
       "      <td>90</td>\n",
       "      <td>95.0</td>\n",
       "      <td>95.00</td>\n",
       "    </tr>\n",
       "    <tr>\n",
       "      <th>0002</th>\n",
       "      <td>olivia</td>\n",
       "      <td>f</td>\n",
       "      <td>90.0</td>\n",
       "      <td>80</td>\n",
       "      <td>75.0</td>\n",
       "      <td>81.67</td>\n",
       "    </tr>\n",
       "    <tr>\n",
       "      <th>0003</th>\n",
       "      <td>emma</td>\n",
       "      <td>f</td>\n",
       "      <td>95.0</td>\n",
       "      <td>100</td>\n",
       "      <td>100.0</td>\n",
       "      <td>98.33</td>\n",
       "    </tr>\n",
       "    <tr>\n",
       "      <th>0004</th>\n",
       "      <td>sophia</td>\n",
       "      <td>f</td>\n",
       "      <td>100.0</td>\n",
       "      <td>100</td>\n",
       "      <td>100.0</td>\n",
       "      <td>100.00</td>\n",
       "    </tr>\n",
       "    <tr>\n",
       "      <th>0005</th>\n",
       "      <td>amy</td>\n",
       "      <td>f</td>\n",
       "      <td>0.0</td>\n",
       "      <td>35</td>\n",
       "      <td>60.0</td>\n",
       "      <td>47.50</td>\n",
       "    </tr>\n",
       "    <tr>\n",
       "      <th>0006</th>\n",
       "      <td>james</td>\n",
       "      <td>m</td>\n",
       "      <td>70.0</td>\n",
       "      <td>75</td>\n",
       "      <td>65.0</td>\n",
       "      <td>70.00</td>\n",
       "    </tr>\n",
       "    <tr>\n",
       "      <th>0007</th>\n",
       "      <td>daniel</td>\n",
       "      <td>m</td>\n",
       "      <td>80.0</td>\n",
       "      <td>90</td>\n",
       "      <td>55.0</td>\n",
       "      <td>75.00</td>\n",
       "    </tr>\n",
       "    <tr>\n",
       "      <th>0008</th>\n",
       "      <td>peter</td>\n",
       "      <td>m</td>\n",
       "      <td>50.0</td>\n",
       "      <td>60</td>\n",
       "      <td>0.0</td>\n",
       "      <td>55.00</td>\n",
       "    </tr>\n",
       "    <tr>\n",
       "      <th>0009</th>\n",
       "      <td>kevin</td>\n",
       "      <td>m</td>\n",
       "      <td>100.0</td>\n",
       "      <td>100</td>\n",
       "      <td>90.0</td>\n",
       "      <td>96.67</td>\n",
       "    </tr>\n",
       "    <tr>\n",
       "      <th>0010</th>\n",
       "      <td>jack</td>\n",
       "      <td>m</td>\n",
       "      <td>90.0</td>\n",
       "      <td>95</td>\n",
       "      <td>70.0</td>\n",
       "      <td>85.00</td>\n",
       "    </tr>\n",
       "    <tr>\n",
       "      <th>0011</th>\n",
       "      <td>james</td>\n",
       "      <td>m</td>\n",
       "      <td>70.0</td>\n",
       "      <td>75</td>\n",
       "      <td>65.0</td>\n",
       "      <td>70.00</td>\n",
       "    </tr>\n",
       "  </tbody>\n",
       "</table>\n",
       "</div>"
      ],
      "text/plain": [
       "          이름 성별     국어   영어     수학      평균\n",
       "학번                                        \n",
       "0001    kate  f  100.0   90   95.0   95.00\n",
       "0002  olivia  f   90.0   80   75.0   81.67\n",
       "0003    emma  f   95.0  100  100.0   98.33\n",
       "0004  sophia  f  100.0  100  100.0  100.00\n",
       "0005     amy  f    0.0   35   60.0   47.50\n",
       "0006   james  m   70.0   75   65.0   70.00\n",
       "0007  daniel  m   80.0   90   55.0   75.00\n",
       "0008   peter  m   50.0   60    0.0   55.00\n",
       "0009   kevin  m  100.0  100   90.0   96.67\n",
       "0010    jack  m   90.0   95   70.0   85.00\n",
       "0011   james  m   70.0   75   65.0   70.00"
      ]
     },
     "execution_count": 67,
     "metadata": {},
     "output_type": "execute_result"
    }
   ],
   "source": [
    "# --------------------------------------\n",
    "# 결측치를 0으로 채우기\n",
    "# --------------------------------------\n",
    "\n",
    "df_scores = df_scores.fillna(0)\n",
    "df_scores"
   ]
  },
  {
   "cell_type": "code",
   "execution_count": 63,
   "metadata": {},
   "outputs": [],
   "source": [
    "# ---------------------------\n",
    "# 파생컬럼 추가\n",
    "# 평균 (소수점 2째까리까지 표현)\n",
    "# ---------------------------\n",
    "\n",
    "df_scores['평균'] = df_scores[['국어', '영어', '수학']].mean(axis=1).round(2)"
   ]
  },
  {
   "cell_type": "markdown",
   "metadata": {},
   "source": [
    "## 자료형 변경\n",
    "* `데이터프레임.astype({'컬럼라벨':자료형, ...})`\n",
    "* `컬럼.astype('자료형')`"
   ]
  },
  {
   "cell_type": "code",
   "execution_count": 68,
   "metadata": {},
   "outputs": [
    {
     "data": {
      "text/html": [
       "<div>\n",
       "<style scoped>\n",
       "    .dataframe tbody tr th:only-of-type {\n",
       "        vertical-align: middle;\n",
       "    }\n",
       "\n",
       "    .dataframe tbody tr th {\n",
       "        vertical-align: top;\n",
       "    }\n",
       "\n",
       "    .dataframe thead th {\n",
       "        text-align: right;\n",
       "    }\n",
       "</style>\n",
       "<table border=\"1\" class=\"dataframe\">\n",
       "  <thead>\n",
       "    <tr style=\"text-align: right;\">\n",
       "      <th></th>\n",
       "      <th>이름</th>\n",
       "      <th>성별</th>\n",
       "      <th>국어</th>\n",
       "      <th>영어</th>\n",
       "      <th>수학</th>\n",
       "      <th>평균</th>\n",
       "    </tr>\n",
       "    <tr>\n",
       "      <th>학번</th>\n",
       "      <th></th>\n",
       "      <th></th>\n",
       "      <th></th>\n",
       "      <th></th>\n",
       "      <th></th>\n",
       "      <th></th>\n",
       "    </tr>\n",
       "  </thead>\n",
       "  <tbody>\n",
       "    <tr>\n",
       "      <th>0001</th>\n",
       "      <td>kate</td>\n",
       "      <td>f</td>\n",
       "      <td>100</td>\n",
       "      <td>90</td>\n",
       "      <td>95</td>\n",
       "      <td>95.00</td>\n",
       "    </tr>\n",
       "    <tr>\n",
       "      <th>0002</th>\n",
       "      <td>olivia</td>\n",
       "      <td>f</td>\n",
       "      <td>90</td>\n",
       "      <td>80</td>\n",
       "      <td>75</td>\n",
       "      <td>81.67</td>\n",
       "    </tr>\n",
       "    <tr>\n",
       "      <th>0003</th>\n",
       "      <td>emma</td>\n",
       "      <td>f</td>\n",
       "      <td>95</td>\n",
       "      <td>100</td>\n",
       "      <td>100</td>\n",
       "      <td>98.33</td>\n",
       "    </tr>\n",
       "    <tr>\n",
       "      <th>0004</th>\n",
       "      <td>sophia</td>\n",
       "      <td>f</td>\n",
       "      <td>100</td>\n",
       "      <td>100</td>\n",
       "      <td>100</td>\n",
       "      <td>100.00</td>\n",
       "    </tr>\n",
       "    <tr>\n",
       "      <th>0005</th>\n",
       "      <td>amy</td>\n",
       "      <td>f</td>\n",
       "      <td>0</td>\n",
       "      <td>35</td>\n",
       "      <td>60</td>\n",
       "      <td>47.50</td>\n",
       "    </tr>\n",
       "    <tr>\n",
       "      <th>0006</th>\n",
       "      <td>james</td>\n",
       "      <td>m</td>\n",
       "      <td>70</td>\n",
       "      <td>75</td>\n",
       "      <td>65</td>\n",
       "      <td>70.00</td>\n",
       "    </tr>\n",
       "    <tr>\n",
       "      <th>0007</th>\n",
       "      <td>daniel</td>\n",
       "      <td>m</td>\n",
       "      <td>80</td>\n",
       "      <td>90</td>\n",
       "      <td>55</td>\n",
       "      <td>75.00</td>\n",
       "    </tr>\n",
       "    <tr>\n",
       "      <th>0008</th>\n",
       "      <td>peter</td>\n",
       "      <td>m</td>\n",
       "      <td>50</td>\n",
       "      <td>60</td>\n",
       "      <td>0</td>\n",
       "      <td>55.00</td>\n",
       "    </tr>\n",
       "    <tr>\n",
       "      <th>0009</th>\n",
       "      <td>kevin</td>\n",
       "      <td>m</td>\n",
       "      <td>100</td>\n",
       "      <td>100</td>\n",
       "      <td>90</td>\n",
       "      <td>96.67</td>\n",
       "    </tr>\n",
       "    <tr>\n",
       "      <th>0010</th>\n",
       "      <td>jack</td>\n",
       "      <td>m</td>\n",
       "      <td>90</td>\n",
       "      <td>95</td>\n",
       "      <td>70</td>\n",
       "      <td>85.00</td>\n",
       "    </tr>\n",
       "    <tr>\n",
       "      <th>0011</th>\n",
       "      <td>james</td>\n",
       "      <td>m</td>\n",
       "      <td>70</td>\n",
       "      <td>75</td>\n",
       "      <td>65</td>\n",
       "      <td>70.00</td>\n",
       "    </tr>\n",
       "  </tbody>\n",
       "</table>\n",
       "</div>"
      ],
      "text/plain": [
       "          이름 성별   국어   영어   수학      평균\n",
       "학번                                    \n",
       "0001    kate  f  100   90   95   95.00\n",
       "0002  olivia  f   90   80   75   81.67\n",
       "0003    emma  f   95  100  100   98.33\n",
       "0004  sophia  f  100  100  100  100.00\n",
       "0005     amy  f    0   35   60   47.50\n",
       "0006   james  m   70   75   65   70.00\n",
       "0007  daniel  m   80   90   55   75.00\n",
       "0008   peter  m   50   60    0   55.00\n",
       "0009   kevin  m  100  100   90   96.67\n",
       "0010    jack  m   90   95   70   85.00\n",
       "0011   james  m   70   75   65   70.00"
      ]
     },
     "execution_count": 68,
     "metadata": {},
     "output_type": "execute_result"
    }
   ],
   "source": [
    "# -------------------\n",
    "# 국어, 수학 컬럼을 int형으로 변경\n",
    "# -------------------\n",
    "\n",
    "df_scores[['국어', '수학']] = df_scores[['국어', '수학']].astype('int')\n",
    "df_scores"
   ]
  },
  {
   "cell_type": "markdown",
   "metadata": {},
   "source": [
    "## 시각화\n",
    "* `데이터프레임.plot()`\n",
    "    * 그래프 종류 디폴트 : 선그래프\n",
    "    * x축 디폴트데이터 : 데이터프레임의 인덱스라벨\n",
    "    * y축 디폴트데이터 : 숫자형 컬럼 모두\n",
    "\n",
    ">* 주요 옵션\n",
    ">    * `kind` : 그래프 종류\n",
    ">    * `x` : x축 데이터\n",
    ">    * `y` : y축 데이터\n",
    ">    * `figsize` : 그래프 크기\n",
    ">    * `title` : 그래프 제목\n",
    ">    * `color` : 그래프 색상\n",
    "    "
   ]
  },
  {
   "cell_type": "code",
   "execution_count": 69,
   "metadata": {},
   "outputs": [
    {
     "data": {
      "image/png": "[encoded data removed]",
      "text/plain": [
       "<Figure size 300x200 with 1 Axes>"
      ]
     },
     "metadata": {},
     "output_type": "display_data"
    }
   ],
   "source": [
    "# ---------------\n",
    "# 한글폰트 설정\n",
    "# ---------------\n",
    "\n",
    "import matplotlib.pyplot as plt\n",
    "plt.rc('font', family='Malgun Gothic')\n",
    "plt.rc('axes', unicode_minus=False)\n",
    "\n",
    "pd.Series([-1,2,3]).plot(title='테스트', figsize=(3,2))\n",
    "pass"
   ]
  },
  {
   "cell_type": "code",
   "execution_count": 70,
   "metadata": {},
   "outputs": [
    {
     "data": {
      "image/png": "[encoded data removed]",
      "text/plain": [
       "<Figure size 400x300 with 1 Axes>"
      ]
     },
     "metadata": {},
     "output_type": "display_data"
    }
   ],
   "source": [
    "#------------------------\n",
    "# 국어점수 막대그래프 시각화\n",
    "#  - 그래프 종류 : bar\n",
    "#  - x축 : 학번\n",
    "#  - y축 : 국어\n",
    "#  - 그래프 크기 : (4,3)\n",
    "#  - color : red\n",
    "#  - title : 국어점수\n",
    "#------------------------\n",
    "\n",
    "plt.figure(figsize=(4, 3))\n",
    "plt.bar(df_scores.index, df_scores['국어'], color='red', label='국어')\n",
    "plt.title('국어점수')\n",
    "plt.xlabel('학번')\n",
    "plt.ylabel('점수')\n",
    "plt.legend()\n",
    "plt.show()"
   ]
  },
  {
   "cell_type": "code",
   "execution_count": 71,
   "metadata": {},
   "outputs": [
    {
     "data": {
      "image/png": "[encoded data removed]",
      "text/plain": [
       "<Figure size 400x300 with 1 Axes>"
      ]
     },
     "metadata": {},
     "output_type": "display_data"
    }
   ],
   "source": [
    "#------------------------\n",
    "# 국어점수 막대그래프 시각화\n",
    "#  - 그래프 종류 : bar\n",
    "#  - x축 : 이름\n",
    "#  - y축 : 국어, 영어, 수학\n",
    "#  - 그래프 크기 : (4,3)\n",
    "#  - color : ['#D62728','#FFD700','#17BECF']\n",
    "#  - title : 점수\n",
    "#------------------------\n",
    "\n",
    "import numpy as np\n",
    "\n",
    "# 막대 그래프\n",
    "x = np.arange(len(df_scores['이름']))  # x 좌표\n",
    "bar_width = 0.25\n",
    "\n",
    "plt.figure(figsize=(4, 3))\n",
    "plt.bar(x - bar_width, df_scores['국어'], width=bar_width, color='#D62728', label='국어')\n",
    "plt.bar(x, df_scores['영어'], width=bar_width, color='#FFD700', label='영어')\n",
    "plt.bar(x + bar_width, df_scores['수학'], width=bar_width, color='#17BECF', label='수학')\n",
    "\n",
    "plt.xticks(x, df_scores['이름'], rotation=45)\n",
    "plt.title('학생별 점수')\n",
    "plt.legend()\n",
    "plt.tight_layout()\n",
    "plt.show()"
   ]
  }
 ],
 "metadata": {
  "colab": {
   "authorship_tag": "ABX9TyOGH4uAy+vGrtPYPntUI2p3",
   "provenance": [
    {
     "file_id": "19ubYY93AkknhIGTL7PyHjn_tqKOPzFW_",
     "timestamp": 1659501817487
    },
    {
     "file_id": "1t1tCxXbtNKSHIZ6zXQ-9SBWBzC-u3n8z",
     "timestamp": 1659142636466
    },
    {
     "file_id": "1gLjNcUZ1l5oXGDpYVmleIBKkLPQp0TEu",
     "timestamp": 1659019856864
    }
   ],
   "toc_visible": true
  },
  "kernelspec": {
   "display_name": "z_venv",
   "language": "python",
   "name": "python3"
  },
  "language_info": {
   "codemirror_mode": {
    "name": "ipython",
    "version": 3
   },
   "file_extension": ".py",
   "mimetype": "text/x-python",
   "name": "python",
   "nbconvert_exporter": "python",
   "pygments_lexer": "ipython3",
   "version": "3.13.3"
  }
 },
 "nbformat": 4,
 "nbformat_minor": 0
}
