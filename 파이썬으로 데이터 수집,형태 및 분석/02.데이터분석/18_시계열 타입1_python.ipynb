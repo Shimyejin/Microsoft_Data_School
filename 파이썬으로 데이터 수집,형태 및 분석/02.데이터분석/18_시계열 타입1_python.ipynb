{
 "cells": [
  {
   "cell_type": "markdown",
   "metadata": {},
   "source": [
    "pandas의 시계열 데이터 타입 다루기"
   ]
  },
  {
   "cell_type": "markdown",
   "metadata": {},
   "source": [
    "## datetime 객체 생성\n",
    "* datetime 모듈의 datetime 클래스를 이용하여 생성\n",
    "* `datetime.datetime()`"
   ]
  },
  {
   "cell_type": "code",
   "execution_count": 50,
   "metadata": {},
   "outputs": [],
   "source": [
    "from datetime import datetime"
   ]
  },
  {
   "cell_type": "code",
   "execution_count": 51,
   "metadata": {},
   "outputs": [
    {
     "data": {
      "text/plain": [
       "datetime.datetime(2000, 1, 31, 0, 0)"
      ]
     },
     "execution_count": 51,
     "metadata": {},
     "output_type": "execute_result"
    }
   ],
   "source": [
    "# -----------------------------\n",
    "# datetime(year, month, day)\n",
    "# -----------------------------\n",
    "datetime(2000,1,31)"
   ]
  },
  {
   "cell_type": "code",
   "execution_count": 52,
   "metadata": {},
   "outputs": [
    {
     "name": "stdout",
     "output_type": "stream",
     "text": [
      "2000-01-31 00:00:00\n"
     ]
    }
   ],
   "source": [
    "# -----------------------------\n",
    "# datetime(year, month, day)\n",
    "# -----------------------------\n",
    "print(datetime(2000,1,31))"
   ]
  },
  {
   "cell_type": "code",
   "execution_count": 53,
   "metadata": {},
   "outputs": [
    {
     "data": {
      "text/plain": [
       "datetime.datetime(2000, 1, 31, 13, 0)"
      ]
     },
     "execution_count": 53,
     "metadata": {},
     "output_type": "execute_result"
    }
   ],
   "source": [
    "# -----------------------------\n",
    "# datetime(year, month, day, hour)\n",
    "# -----------------------------\n",
    "datetime(2000,1,31,13)"
   ]
  },
  {
   "cell_type": "code",
   "execution_count": 54,
   "metadata": {},
   "outputs": [
    {
     "data": {
      "text/plain": [
       "datetime.datetime(2000, 1, 31, 13, 15)"
      ]
     },
     "execution_count": 54,
     "metadata": {},
     "output_type": "execute_result"
    }
   ],
   "source": [
    "# -----------------------------\n",
    "# datetime(year, month, day, hour, minute)\n",
    "# -----------------------------\n",
    "datetime(2000,1,31,13,15)"
   ]
  },
  {
   "cell_type": "code",
   "execution_count": 55,
   "metadata": {},
   "outputs": [
    {
     "data": {
      "text/plain": [
       "datetime.datetime(2000, 1, 31, 13, 15, 59)"
      ]
     },
     "execution_count": 55,
     "metadata": {},
     "output_type": "execute_result"
    }
   ],
   "source": [
    "# -----------------------------\n",
    "# datetime(year, month, day, hour, minute, second)\n",
    "# -----------------------------\n",
    "datetime(2000,1,31,13,15,59)"
   ]
  },
  {
   "cell_type": "markdown",
   "metadata": {},
   "source": [
    "## datetime 객체의 주요 프로퍼티\n",
    "* `year`\n",
    "* `month`\n",
    "* `day`\n",
    "* `hour`\n",
    "* `minute`\n",
    "* `second`"
   ]
  },
  {
   "cell_type": "code",
   "execution_count": 56,
   "metadata": {},
   "outputs": [
    {
     "name": "stdout",
     "output_type": "stream",
     "text": [
      "2025\n",
      "4\n",
      "17\n",
      "22\n",
      "33\n",
      "44\n"
     ]
    }
   ],
   "source": [
    "# -----------------------------\n",
    "# datetime 객체의 주요 프로퍼티\n",
    "# -----------------------------\n",
    "now = datetime.now()\n",
    "\n",
    "print(now.year)             # 연도\n",
    "print(now.month)            # 월(1~12)\n",
    "print(now.day)              # 일(1~31)\n",
    "print(now.hour)             # 시(0~23)\n",
    "print(now.minute)           # 분(0~58)\n",
    "print(now.second)           # 초(0~59)"
   ]
  },
  {
   "cell_type": "markdown",
   "metadata": {},
   "source": [
    "## datetime 객체의 주요 메서드\n",
    "* `now()` : 현재 날짜와 시간\n",
    "* `date()` : 현재 날짜\n",
    "* `time()` : 현재 시간\n",
    "* `weekday()` : 요일(0:월요일~)\n",
    "* `strftime(format)` : 지정된 형식의 문자열로 변환\n",
    "* `strptime(date_string, format)` : 문자열을 datetime 객체로 변환\n"
   ]
  },
  {
   "cell_type": "code",
   "execution_count": 57,
   "metadata": {},
   "outputs": [
    {
     "data": {
      "text/plain": [
       "datetime.datetime(2025, 4, 17, 22, 33, 44, 976743)"
      ]
     },
     "execution_count": 57,
     "metadata": {},
     "output_type": "execute_result"
    }
   ],
   "source": [
    "# -----------------------------\n",
    "# 현재 날짜와 시간\n",
    "# -----------------------------\n",
    "datetime.now()"
   ]
  },
  {
   "cell_type": "code",
   "execution_count": 58,
   "metadata": {},
   "outputs": [
    {
     "name": "stdout",
     "output_type": "stream",
     "text": [
      "2010-01-25 02:10:00\n",
      "2010-01-25\n",
      "02:10:00\n",
      "0\n"
     ]
    }
   ],
   "source": [
    "# -----------------------------\n",
    "# 날짜, 시간, 요일\n",
    "# -----------------------------\n",
    "\n",
    "my_date = datetime(2010,1,25,2,10)\n",
    "\n",
    "print(my_date)\n",
    "print(my_date.date())\n",
    "print(my_date.time())\n",
    "print(my_date.weekday())\n"
   ]
  },
  {
   "cell_type": "markdown",
   "metadata": {},
   "source": [
    "## 날짜 시간 포메팅\n",
    "* `datetime.datetime.strftime(포멧)`\n",
    "    - string format time\n",
    "    - 지정한 포멧의 **문자열로** 반환\n",
    "    - https://strftime.org/"
   ]
  },
  {
   "cell_type": "code",
   "execution_count": 59,
   "metadata": {},
   "outputs": [
    {
     "name": "stdout",
     "output_type": "stream",
     "text": [
      "두자리 연도\t('%y') : 25\n",
      "네자리 연도\t('%Y') : 2025\n",
      "월이름 FULL\t('%B') : April\n",
      "월이름 약자\t('%b') : Apr\n",
      "월 zero padding\t('%m') : 04\n",
      "일 zero padding\t('%d') : 17\n",
      "시 00~23 \t('%H') : 22\n",
      "시 00~12 \t('%I') : 10\n",
      "AM, PM \t\t('%p') : PM\n",
      "요일명 FULL\t('%A') : Thursday\n",
      "요일명 약자\t('%a') : Thu\n",
      "요일번호(0:Sun~)\t('%w') : 4\n"
     ]
    }
   ],
   "source": [
    "print(\"두자리 연도\\t('%y') :\" , now.strftime('%y'))      \n",
    "print(\"네자리 연도\\t('%Y') :\" , now.strftime('%Y'))\n",
    "print(\"월이름 FULL\\t('%B') :\" , now.strftime('%B'))\n",
    "print(\"월이름 약자\\t('%b') :\" , now.strftime('%b'))\n",
    "print(\"월 zero padding\\t('%m') :\" , now.strftime('%m'))\n",
    "print(\"일 zero padding\\t('%d') :\" , now.strftime('%d'))\n",
    "print(\"시 00~23 \\t('%H') :\" , now.strftime('%H'))\n",
    "print(\"시 00~12 \\t('%I') :\" , now.strftime('%I'))\n",
    "print(\"AM, PM \\t\\t('%p') :\" , now.strftime('%p'))\n",
    "print(\"요일명 FULL\\t('%A') :\" , now.strftime('%A'))\n",
    "print(\"요일명 약자\\t('%a') :\" , now.strftime('%a'))\n",
    "print(\"요일번호(0:Sun~)\\t('%w') :\" , now.strftime('%w'))\n"
   ]
  },
  {
   "cell_type": "code",
   "execution_count": 60,
   "metadata": {},
   "outputs": [
    {
     "name": "stdout",
     "output_type": "stream",
     "text": [
      "2025년 04월 17일 목요일\n"
     ]
    }
   ],
   "source": [
    "# -------------------------------------------\n",
    "# 연습문제1\n",
    "# 현재 날짜를 다음과 형색으로 포메팅하세요\n",
    "# (예) 2025년 04월 09일 수요일\n",
    "# -------------------------------------------\n",
    "\n",
    "weekname = {\"Sun\":\"일\", \"Mon\":\"월\", \"Tue\":\"화\", \"Wed\":\"수\", \"Thu\":\"목\", \"Fri\":\"금\", \"Sat\":\"토\"}\n",
    "\n",
    "now = datetime.now()\n",
    "y = now.strftime('%Y')\n",
    "m = now.strftime('%m')\n",
    "d = now.strftime('%d')\n",
    "w = now.strftime('%a')\n",
    "print(f'{y}년 {m}월 {d}일 {weekname[w]}요일')"
   ]
  },
  {
   "cell_type": "code",
   "execution_count": 61,
   "metadata": {},
   "outputs": [
    {
     "name": "stdout",
     "output_type": "stream",
     "text": [
      "PM 10:33:45\n"
     ]
    }
   ],
   "source": [
    "# -------------------------------------------\n",
    "# 연습문제2\n",
    "# 현재 시간을 다음과 형색으로 포메팅하세요\n",
    "# (예) PM 05:15:25\n",
    "# -------------------------------------------\n",
    "\n",
    "now = datetime.now()\n",
    "ap = now.strftime('%p')\n",
    "hh = now.strftime('%I')\n",
    "mm = now.strftime('%M')\n",
    "ss = now.strftime('%S')\n",
    "print(f'{ap} {hh}:{mm}:{ss}')\n"
   ]
  },
  {
   "cell_type": "markdown",
   "metadata": {},
   "source": [
    "## timedelta\n",
    "* 날짜 시간 간격을 다루기 위한 클래스"
   ]
  },
  {
   "cell_type": "code",
   "execution_count": 62,
   "metadata": {},
   "outputs": [],
   "source": [
    "from datetime import timedelta"
   ]
  },
  {
   "cell_type": "markdown",
   "metadata": {},
   "source": [
    "### timedelta 객체 생성"
   ]
  },
  {
   "cell_type": "code",
   "execution_count": 63,
   "metadata": {},
   "outputs": [
    {
     "data": {
      "text/plain": [
       "datetime.timedelta(days=7)"
      ]
     },
     "execution_count": 63,
     "metadata": {},
     "output_type": "execute_result"
    }
   ],
   "source": [
    "timedelta(weeks=1)"
   ]
  },
  {
   "cell_type": "code",
   "execution_count": 64,
   "metadata": {},
   "outputs": [
    {
     "name": "stdout",
     "output_type": "stream",
     "text": [
      "7 days, 0:00:00\n"
     ]
    }
   ],
   "source": [
    "print(timedelta(weeks=1))"
   ]
  },
  {
   "cell_type": "code",
   "execution_count": 65,
   "metadata": {},
   "outputs": [
    {
     "data": {
      "text/plain": [
       "datetime.timedelta(days=9)"
      ]
     },
     "execution_count": 65,
     "metadata": {},
     "output_type": "execute_result"
    }
   ],
   "source": [
    "\n",
    "timedelta(weeks=1, days=2)"
   ]
  },
  {
   "cell_type": "code",
   "execution_count": 66,
   "metadata": {},
   "outputs": [
    {
     "data": {
      "text/plain": [
       "datetime.timedelta(days=9, seconds=10800)"
      ]
     },
     "execution_count": 66,
     "metadata": {},
     "output_type": "execute_result"
    }
   ],
   "source": [
    "timedelta(weeks=1, days=2, hours=3)"
   ]
  },
  {
   "cell_type": "code",
   "execution_count": 67,
   "metadata": {},
   "outputs": [
    {
     "data": {
      "text/plain": [
       "datetime.timedelta(days=9, seconds=12600)"
      ]
     },
     "execution_count": 67,
     "metadata": {},
     "output_type": "execute_result"
    }
   ],
   "source": [
    "timedelta(weeks=1, days=2, hours=3, minutes=30)"
   ]
  },
  {
   "cell_type": "code",
   "execution_count": 68,
   "metadata": {},
   "outputs": [
    {
     "data": {
      "text/plain": [
       "datetime.timedelta(days=9, seconds=12630)"
      ]
     },
     "execution_count": 68,
     "metadata": {},
     "output_type": "execute_result"
    }
   ],
   "source": [
    "timedelta(weeks=1, days=2, hours=3, minutes=30, seconds=30)"
   ]
  },
  {
   "cell_type": "code",
   "execution_count": 69,
   "metadata": {},
   "outputs": [
    {
     "name": "stdout",
     "output_type": "stream",
     "text": [
      "9 days, 3:30:10.333333\n"
     ]
    },
    {
     "data": {
      "text/plain": [
       "datetime.timedelta(days=9, seconds=12610, microseconds=333333)"
      ]
     },
     "execution_count": 69,
     "metadata": {},
     "output_type": "execute_result"
    }
   ],
   "source": [
    "delta = timedelta(weeks=1, days=2, hours=3, minutes=30, \\\n",
    "                           seconds=10, microseconds=333333)\n",
    "print(delta)\n",
    "delta"
   ]
  },
  {
   "cell_type": "code",
   "execution_count": 70,
   "metadata": {},
   "outputs": [
    {
     "name": "stdout",
     "output_type": "stream",
     "text": [
      "9 days, 3:30:10.333333\n",
      "9\n",
      "12610\n",
      "333333\n",
      "790210.333333\n"
     ]
    }
   ],
   "source": [
    "# -----------------------------------\n",
    "# timedelta의 주요 속성 및 메서드\n",
    "# -----------------------------------\n",
    "\n",
    "print(delta)                    # 279 days, 10:17:48.947387\n",
    "print(delta.days)               # 일 수\n",
    "print(delta.seconds)            # 일 단위를 제외한 초\n",
    "print(delta.microseconds)       # 마이크로 초\n",
    "print(delta.total_seconds())    # 전체 기간을 초 단위로 반환"
   ]
  },
  {
   "cell_type": "markdown",
   "metadata": {},
   "source": [
    "### timedelta 날짜시간 연산"
   ]
  },
  {
   "cell_type": "code",
   "execution_count": 71,
   "metadata": {},
   "outputs": [
    {
     "name": "stdout",
     "output_type": "stream",
     "text": [
      "2025-07-26\n"
     ]
    }
   ],
   "source": [
    "# -----------------------------------\n",
    "# 현재 기준 100일 뒤의 날짜\n",
    "# 출력예시 ) 2020-01-25\n",
    "# -----------------------------------\n",
    "\n",
    "now = datetime.now()\n",
    "delta = timedelta(days=100)\n",
    "afterday = now + delta\n",
    "print(afterday.date()) "
   ]
  },
  {
   "cell_type": "code",
   "execution_count": 72,
   "metadata": {},
   "outputs": [
    {
     "name": "stdout",
     "output_type": "stream",
     "text": [
      "257일 남았습니다.\n"
     ]
    }
   ],
   "source": [
    "# -----------------------------------\n",
    "# 두 날짜 간의 차이 계산\n",
    "# - 올해 남은 날짜\n",
    "# - 출력 예시 : 100일 남았습니다.\n",
    "# -----------------------------------\n",
    "\n",
    "lastday = datetime(2025,12,31) \n",
    "now = datetime.now()\n",
    "\n",
    "delta = lastday - now\n",
    "print(f'{delta.days}일 남았습니다.')"
   ]
  },
  {
   "cell_type": "code",
   "execution_count": 73,
   "metadata": {},
   "outputs": [
    {
     "data": {
      "text/plain": [
       "['2025년 01월 01일',\n",
       " '2025년 01월 02일',\n",
       " '2025년 01월 03일',\n",
       " '2025년 01월 04일',\n",
       " '2025년 01월 05일',\n",
       " '2025년 01월 06일',\n",
       " '2025년 01월 07일',\n",
       " '2025년 01월 08일',\n",
       " '2025년 01월 09일',\n",
       " '2025년 01월 10일',\n",
       " '2025년 01월 11일',\n",
       " '2025년 01월 12일',\n",
       " '2025년 01월 13일',\n",
       " '2025년 01월 14일',\n",
       " '2025년 01월 15일',\n",
       " '2025년 01월 16일',\n",
       " '2025년 01월 17일',\n",
       " '2025년 01월 18일',\n",
       " '2025년 01월 19일',\n",
       " '2025년 01월 20일',\n",
       " '2025년 01월 21일',\n",
       " '2025년 01월 22일',\n",
       " '2025년 01월 23일',\n",
       " '2025년 01월 24일',\n",
       " '2025년 01월 25일',\n",
       " '2025년 01월 26일',\n",
       " '2025년 01월 27일',\n",
       " '2025년 01월 28일',\n",
       " '2025년 01월 29일',\n",
       " '2025년 01월 30일',\n",
       " '2025년 01월 31일',\n",
       " '2025년 02월 01일',\n",
       " '2025년 02월 02일',\n",
       " '2025년 02월 03일',\n",
       " '2025년 02월 04일',\n",
       " '2025년 02월 05일',\n",
       " '2025년 02월 06일',\n",
       " '2025년 02월 07일',\n",
       " '2025년 02월 08일',\n",
       " '2025년 02월 09일',\n",
       " '2025년 02월 10일',\n",
       " '2025년 02월 11일',\n",
       " '2025년 02월 12일',\n",
       " '2025년 02월 13일',\n",
       " '2025년 02월 14일',\n",
       " '2025년 02월 15일',\n",
       " '2025년 02월 16일',\n",
       " '2025년 02월 17일',\n",
       " '2025년 02월 18일',\n",
       " '2025년 02월 19일']"
      ]
     },
     "execution_count": 73,
     "metadata": {},
     "output_type": "execute_result"
    }
   ],
   "source": [
    "# -----------------------------------\n",
    "# 2025년 1월 1일부터 50일간의 날짜 리스트 생성하기\n",
    "# -----------------------------------\n",
    "\n",
    "delta = timedelta(days=1)\n",
    "date = datetime(2025,1,1)\n",
    "date_list = []\n",
    "\n",
    "for i in range(50):\n",
    "    if i>0: date += delta\n",
    "    date_str = date.strftime(f'{\"%Y\"}년 {\"%m\"}월 {\"%d\"}일')\n",
    "    date_list.append(date_str)\n",
    "\n",
    "\n",
    "date_list\n"
   ]
  },
  {
   "cell_type": "markdown",
   "metadata": {},
   "source": [
    "## relativedelta\n",
    "* dateutil.relativedelta.relativedelta\n",
    "    * datetime 객체간의 날짜 및 시간 계산을 위한 클래스\n",
    "    * timedelta와 비교하여 연, 월 단위의 시간 단위를 다룰 수 있음"
   ]
  },
  {
   "cell_type": "code",
   "execution_count": 74,
   "metadata": {},
   "outputs": [],
   "source": [
    "from dateutil.relativedelta import relativedelta\n",
    "# help(relativedelta)"
   ]
  },
  {
   "cell_type": "markdown",
   "metadata": {},
   "source": [
    "### relativedelta 객체 생성"
   ]
  },
  {
   "cell_type": "code",
   "execution_count": 75,
   "metadata": {},
   "outputs": [
    {
     "data": {
      "text/plain": [
       "relativedelta(years=+10, months=+1, days=+1)"
      ]
     },
     "execution_count": 75,
     "metadata": {},
     "output_type": "execute_result"
    }
   ],
   "source": [
    "# -------------------------------\n",
    "# relativedelta 객체 생성\n",
    "# -------------------------------\n",
    "relativedelta(years=10, months=1, days=1)"
   ]
  },
  {
   "cell_type": "markdown",
   "metadata": {},
   "source": [
    "### relativedelta 날짜시간 연산"
   ]
  },
  {
   "cell_type": "code",
   "execution_count": 88,
   "metadata": {},
   "outputs": [
    {
     "data": {
      "text/plain": [
       "relativedelta(years=+1, months=+11, days=+21, hours=+23)"
      ]
     },
     "execution_count": 88,
     "metadata": {},
     "output_type": "execute_result"
    }
   ],
   "source": [
    "# -------------------------------\n",
    "# 두 날짜 사이의 간격 \n",
    "# -------------------------------\n",
    "date1 = datetime(2025,1,1,10)\n",
    "date2 = datetime(2023,1,10,11)\n",
    "\n",
    "relativedelta(date1, date2)"
   ]
  },
  {
   "cell_type": "code",
   "execution_count": 90,
   "metadata": {},
   "outputs": [
    {
     "data": {
      "text/plain": [
       "datetime.datetime(2015, 4, 10, 17, 55, 25, 333389)"
      ]
     },
     "execution_count": 90,
     "metadata": {},
     "output_type": "execute_result"
    }
   ],
   "source": [
    "# ------------------------------\n",
    "# 현재 기준 10년 전 datetime\n",
    "# ------------------------------\n",
    "\n",
    "datetime.now() - relativedelta(years=10)\n",
    "# datetime.now() + relativedelta(years=-10)\n"
   ]
  },
  {
   "cell_type": "code",
   "execution_count": 79,
   "metadata": {},
   "outputs": [
    {
     "data": {
      "text/plain": [
       "datetime.datetime(2025, 7, 10, 17, 52, 7, 713570)"
      ]
     },
     "execution_count": 79,
     "metadata": {},
     "output_type": "execute_result"
    }
   ],
   "source": [
    "# ------------------------------\n",
    "# 현재 기준 3개월 후 datetime\n",
    "# ------------------------------\n",
    "datetime.now() + relativedelta(months=3)"
   ]
  },
  {
   "cell_type": "code",
   "execution_count": 93,
   "metadata": {},
   "outputs": [
    {
     "data": {
      "text/plain": [
       "datetime.datetime(2026, 5, 11, 19, 1, 3, 42843)"
      ]
     },
     "execution_count": 93,
     "metadata": {},
     "output_type": "execute_result"
    }
   ],
   "source": [
    "# ------------------------------\n",
    "# 현재 기준 1년 1개월 1일 1시간 후 datetime\n",
    "# ------------------------------\n",
    "datetime.now() + relativedelta(years=1, months=1, days=1, hours=1)"
   ]
  }
 ],
 "metadata": {
  "kernelspec": {
   "display_name": "Python 3",
   "language": "python",
   "name": "python3"
  },
  "language_info": {
   "codemirror_mode": {
    "name": "ipython",
    "version": 3
   },
   "file_extension": ".py",
   "mimetype": "text/x-python",
   "name": "python",
   "nbconvert_exporter": "python",
   "pygments_lexer": "ipython3",
   "version": "3.13.1"
  }
 },
 "nbformat": 4,
 "nbformat_minor": 2
}
